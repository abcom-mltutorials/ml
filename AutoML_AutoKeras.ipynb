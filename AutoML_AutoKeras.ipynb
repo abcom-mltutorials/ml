{
  "cells": [
    {
      "cell_type": "markdown",
      "metadata": {
        "id": "luwaQPzXNYrw"
      },
      "source": [
        "# AutoKeras:"
      ]
    },
    {
      "cell_type": "code",
      "execution_count": null,
      "metadata": {
        "colab": {
          "base_uri": "https://localhost:8080/"
        },
        "id": "8m3v9TZdRfM-",
        "outputId": "588f910c-41af-40b0-d6e4-b09590cc570e"
      },
      "outputs": [
        {
          "output_type": "stream",
          "name": "stdout",
          "text": [
            "Collecting git+https://github.com/keras-team/keras-tuner.git@1.0.2rc1\n",
            "  Cloning https://github.com/keras-team/keras-tuner.git (to revision 1.0.2rc1) to /tmp/pip-req-build-ezfpdk2_\n",
            "  Running command git clone -q https://github.com/keras-team/keras-tuner.git /tmp/pip-req-build-ezfpdk2_\n",
            "  Running command git checkout -q 0fb69434a132093518e0e53d40020145ae192629\n",
            "Requirement already satisfied: packaging in /usr/local/lib/python3.7/dist-packages (from keras-tuner==1.0.2rc1) (21.3)\n",
            "Requirement already satisfied: future in /usr/local/lib/python3.7/dist-packages (from keras-tuner==1.0.2rc1) (0.16.0)\n",
            "Requirement already satisfied: numpy in /usr/local/lib/python3.7/dist-packages (from keras-tuner==1.0.2rc1) (1.19.5)\n",
            "Requirement already satisfied: tabulate in /usr/local/lib/python3.7/dist-packages (from keras-tuner==1.0.2rc1) (0.8.9)\n",
            "Collecting terminaltables\n",
            "  Downloading terminaltables-3.1.10-py2.py3-none-any.whl (15 kB)\n",
            "Collecting colorama\n",
            "  Downloading colorama-0.4.4-py2.py3-none-any.whl (16 kB)\n",
            "Requirement already satisfied: tqdm in /usr/local/lib/python3.7/dist-packages (from keras-tuner==1.0.2rc1) (4.62.3)\n",
            "Requirement already satisfied: requests in /usr/local/lib/python3.7/dist-packages (from keras-tuner==1.0.2rc1) (2.23.0)\n",
            "Requirement already satisfied: scipy in /usr/local/lib/python3.7/dist-packages (from keras-tuner==1.0.2rc1) (1.4.1)\n",
            "Requirement already satisfied: scikit-learn in /usr/local/lib/python3.7/dist-packages (from keras-tuner==1.0.2rc1) (1.0.2)\n",
            "Requirement already satisfied: pyparsing!=3.0.5,>=2.0.2 in /usr/local/lib/python3.7/dist-packages (from packaging->keras-tuner==1.0.2rc1) (3.0.7)\n",
            "Requirement already satisfied: chardet<4,>=3.0.2 in /usr/local/lib/python3.7/dist-packages (from requests->keras-tuner==1.0.2rc1) (3.0.4)\n",
            "Requirement already satisfied: certifi>=2017.4.17 in /usr/local/lib/python3.7/dist-packages (from requests->keras-tuner==1.0.2rc1) (2021.10.8)\n",
            "Requirement already satisfied: idna<3,>=2.5 in /usr/local/lib/python3.7/dist-packages (from requests->keras-tuner==1.0.2rc1) (2.10)\n",
            "Requirement already satisfied: urllib3!=1.25.0,!=1.25.1,<1.26,>=1.21.1 in /usr/local/lib/python3.7/dist-packages (from requests->keras-tuner==1.0.2rc1) (1.24.3)\n",
            "Requirement already satisfied: threadpoolctl>=2.0.0 in /usr/local/lib/python3.7/dist-packages (from scikit-learn->keras-tuner==1.0.2rc1) (3.0.0)\n",
            "Requirement already satisfied: joblib>=0.11 in /usr/local/lib/python3.7/dist-packages (from scikit-learn->keras-tuner==1.0.2rc1) (1.1.0)\n",
            "Building wheels for collected packages: keras-tuner\n",
            "  Building wheel for keras-tuner (setup.py) ... \u001b[?25l\u001b[?25hdone\n",
            "  Created wheel for keras-tuner: filename=keras_tuner-1.0.2rc1-py3-none-any.whl size=85445 sha256=0bc7aee55157b01dece36f1eaa2e0374efd0d087a30c985d61e521353cb34d5f\n",
            "  Stored in directory: /tmp/pip-ephem-wheel-cache-6eob4ltv/wheels/44/e5/92/e83049ca00432aec622a4fa0200e254d88aefae9d74aa86941\n",
            "Successfully built keras-tuner\n",
            "Installing collected packages: terminaltables, colorama, keras-tuner\n",
            "Successfully installed colorama-0.4.4 keras-tuner-1.0.2rc1 terminaltables-3.1.10\n"
          ]
        }
      ],
      "source": [
        "!sudo pip install git+https://github.com/keras-team/keras-tuner.git@1.0.2rc1"
      ]
    },
    {
      "cell_type": "code",
      "execution_count": null,
      "metadata": {
        "colab": {
          "base_uri": "https://localhost:8080/"
        },
        "id": "jBZiQayMRnRZ",
        "outputId": "d4581b01-c571-4be4-f228-d0baf06dd2bb"
      },
      "outputs": [
        {
          "output_type": "stream",
          "name": "stdout",
          "text": [
            "Collecting autokeras\n",
            "  Downloading autokeras-1.0.16.post1-py3-none-any.whl (166 kB)\n",
            "\u001b[K     |████████████████████████████████| 166 kB 5.2 MB/s \n",
            "\u001b[?25hRequirement already satisfied: packaging in /usr/local/lib/python3.7/dist-packages (from autokeras) (21.3)\n",
            "Collecting tensorflow<2.6,>=2.3.0\n",
            "  Downloading tensorflow-2.5.2-cp37-cp37m-manylinux2010_x86_64.whl (454.4 MB)\n",
            "\u001b[K     |████████████████████████████████| 454.4 MB 21 kB/s \n",
            "\u001b[?25hCollecting keras-tuner<1.1,>=1.0.2\n",
            "  Downloading keras_tuner-1.0.4-py3-none-any.whl (97 kB)\n",
            "\u001b[K     |████████████████████████████████| 97 kB 6.1 MB/s \n",
            "\u001b[?25hRequirement already satisfied: scikit-learn in /usr/local/lib/python3.7/dist-packages (from autokeras) (1.0.2)\n",
            "Requirement already satisfied: pandas in /usr/local/lib/python3.7/dist-packages (from autokeras) (1.3.5)\n",
            "Requirement already satisfied: numpy in /usr/local/lib/python3.7/dist-packages (from keras-tuner<1.1,>=1.0.2->autokeras) (1.19.5)\n",
            "Requirement already satisfied: requests in /usr/local/lib/python3.7/dist-packages (from keras-tuner<1.1,>=1.0.2->autokeras) (2.23.0)\n",
            "Requirement already satisfied: ipython in /usr/local/lib/python3.7/dist-packages (from keras-tuner<1.1,>=1.0.2->autokeras) (5.5.0)\n",
            "Collecting kt-legacy\n",
            "  Downloading kt_legacy-1.0.4-py3-none-any.whl (9.6 kB)\n",
            "Requirement already satisfied: tensorboard in /usr/local/lib/python3.7/dist-packages (from keras-tuner<1.1,>=1.0.2->autokeras) (2.7.0)\n",
            "Requirement already satisfied: scipy in /usr/local/lib/python3.7/dist-packages (from keras-tuner<1.1,>=1.0.2->autokeras) (1.4.1)\n",
            "Requirement already satisfied: termcolor~=1.1.0 in /usr/local/lib/python3.7/dist-packages (from tensorflow<2.6,>=2.3.0->autokeras) (1.1.0)\n",
            "Collecting wrapt~=1.12.1\n",
            "  Downloading wrapt-1.12.1.tar.gz (27 kB)\n",
            "Collecting grpcio~=1.34.0\n",
            "  Downloading grpcio-1.34.1-cp37-cp37m-manylinux2014_x86_64.whl (4.0 MB)\n",
            "\u001b[K     |████████████████████████████████| 4.0 MB 38.2 MB/s \n",
            "\u001b[?25hRequirement already satisfied: keras-preprocessing~=1.1.2 in /usr/local/lib/python3.7/dist-packages (from tensorflow<2.6,>=2.3.0->autokeras) (1.1.2)\n",
            "Collecting absl-py~=0.10\n",
            "  Downloading absl_py-0.15.0-py3-none-any.whl (132 kB)\n",
            "\u001b[K     |████████████████████████████████| 132 kB 59.8 MB/s \n",
            "\u001b[?25hRequirement already satisfied: six~=1.15.0 in /usr/local/lib/python3.7/dist-packages (from tensorflow<2.6,>=2.3.0->autokeras) (1.15.0)\n",
            "Requirement already satisfied: h5py~=3.1.0 in /usr/local/lib/python3.7/dist-packages (from tensorflow<2.6,>=2.3.0->autokeras) (3.1.0)\n",
            "Collecting flatbuffers~=1.12.0\n",
            "  Downloading flatbuffers-1.12-py2.py3-none-any.whl (15 kB)\n",
            "Requirement already satisfied: astunparse~=1.6.3 in /usr/local/lib/python3.7/dist-packages (from tensorflow<2.6,>=2.3.0->autokeras) (1.6.3)\n",
            "Requirement already satisfied: protobuf>=3.9.2 in /usr/local/lib/python3.7/dist-packages (from tensorflow<2.6,>=2.3.0->autokeras) (3.17.3)\n",
            "Collecting keras-nightly~=2.5.0.dev\n",
            "  Downloading keras_nightly-2.5.0.dev2021032900-py2.py3-none-any.whl (1.2 MB)\n",
            "\u001b[K     |████████████████████████████████| 1.2 MB 62.5 MB/s \n",
            "\u001b[?25hCollecting tensorflow-estimator<2.6.0,>=2.5.0\n",
            "  Downloading tensorflow_estimator-2.5.0-py2.py3-none-any.whl (462 kB)\n",
            "\u001b[K     |████████████████████████████████| 462 kB 68.5 MB/s \n",
            "\u001b[?25hRequirement already satisfied: gast==0.4.0 in /usr/local/lib/python3.7/dist-packages (from tensorflow<2.6,>=2.3.0->autokeras) (0.4.0)\n",
            "Collecting typing-extensions~=3.7.4\n",
            "  Downloading typing_extensions-3.7.4.3-py3-none-any.whl (22 kB)\n",
            "Requirement already satisfied: opt-einsum~=3.3.0 in /usr/local/lib/python3.7/dist-packages (from tensorflow<2.6,>=2.3.0->autokeras) (3.3.0)\n",
            "Requirement already satisfied: google-pasta~=0.2 in /usr/local/lib/python3.7/dist-packages (from tensorflow<2.6,>=2.3.0->autokeras) (0.2.0)\n",
            "Requirement already satisfied: wheel~=0.35 in /usr/local/lib/python3.7/dist-packages (from tensorflow<2.6,>=2.3.0->autokeras) (0.37.1)\n",
            "Requirement already satisfied: cached-property in /usr/local/lib/python3.7/dist-packages (from h5py~=3.1.0->tensorflow<2.6,>=2.3.0->autokeras) (1.5.2)\n",
            "Requirement already satisfied: google-auth<3,>=1.6.3 in /usr/local/lib/python3.7/dist-packages (from tensorboard->keras-tuner<1.1,>=1.0.2->autokeras) (1.35.0)\n",
            "Requirement already satisfied: werkzeug>=0.11.15 in /usr/local/lib/python3.7/dist-packages (from tensorboard->keras-tuner<1.1,>=1.0.2->autokeras) (1.0.1)\n",
            "Requirement already satisfied: setuptools>=41.0.0 in /usr/local/lib/python3.7/dist-packages (from tensorboard->keras-tuner<1.1,>=1.0.2->autokeras) (57.4.0)\n",
            "Requirement already satisfied: markdown>=2.6.8 in /usr/local/lib/python3.7/dist-packages (from tensorboard->keras-tuner<1.1,>=1.0.2->autokeras) (3.3.6)\n",
            "Requirement already satisfied: tensorboard-data-server<0.7.0,>=0.6.0 in /usr/local/lib/python3.7/dist-packages (from tensorboard->keras-tuner<1.1,>=1.0.2->autokeras) (0.6.1)\n",
            "Requirement already satisfied: tensorboard-plugin-wit>=1.6.0 in /usr/local/lib/python3.7/dist-packages (from tensorboard->keras-tuner<1.1,>=1.0.2->autokeras) (1.8.1)\n",
            "Requirement already satisfied: google-auth-oauthlib<0.5,>=0.4.1 in /usr/local/lib/python3.7/dist-packages (from tensorboard->keras-tuner<1.1,>=1.0.2->autokeras) (0.4.6)\n",
            "Requirement already satisfied: rsa<5,>=3.1.4 in /usr/local/lib/python3.7/dist-packages (from google-auth<3,>=1.6.3->tensorboard->keras-tuner<1.1,>=1.0.2->autokeras) (4.8)\n",
            "Requirement already satisfied: pyasn1-modules>=0.2.1 in /usr/local/lib/python3.7/dist-packages (from google-auth<3,>=1.6.3->tensorboard->keras-tuner<1.1,>=1.0.2->autokeras) (0.2.8)\n",
            "Requirement already satisfied: cachetools<5.0,>=2.0.0 in /usr/local/lib/python3.7/dist-packages (from google-auth<3,>=1.6.3->tensorboard->keras-tuner<1.1,>=1.0.2->autokeras) (4.2.4)\n",
            "Requirement already satisfied: requests-oauthlib>=0.7.0 in /usr/local/lib/python3.7/dist-packages (from google-auth-oauthlib<0.5,>=0.4.1->tensorboard->keras-tuner<1.1,>=1.0.2->autokeras) (1.3.0)\n",
            "Requirement already satisfied: importlib-metadata>=4.4 in /usr/local/lib/python3.7/dist-packages (from markdown>=2.6.8->tensorboard->keras-tuner<1.1,>=1.0.2->autokeras) (4.10.1)\n",
            "Requirement already satisfied: zipp>=0.5 in /usr/local/lib/python3.7/dist-packages (from importlib-metadata>=4.4->markdown>=2.6.8->tensorboard->keras-tuner<1.1,>=1.0.2->autokeras) (3.7.0)\n",
            "Requirement already satisfied: pyasn1<0.5.0,>=0.4.6 in /usr/local/lib/python3.7/dist-packages (from pyasn1-modules>=0.2.1->google-auth<3,>=1.6.3->tensorboard->keras-tuner<1.1,>=1.0.2->autokeras) (0.4.8)\n",
            "Requirement already satisfied: urllib3!=1.25.0,!=1.25.1,<1.26,>=1.21.1 in /usr/local/lib/python3.7/dist-packages (from requests->keras-tuner<1.1,>=1.0.2->autokeras) (1.24.3)\n",
            "Requirement already satisfied: chardet<4,>=3.0.2 in /usr/local/lib/python3.7/dist-packages (from requests->keras-tuner<1.1,>=1.0.2->autokeras) (3.0.4)\n",
            "Requirement already satisfied: certifi>=2017.4.17 in /usr/local/lib/python3.7/dist-packages (from requests->keras-tuner<1.1,>=1.0.2->autokeras) (2021.10.8)\n",
            "Requirement already satisfied: idna<3,>=2.5 in /usr/local/lib/python3.7/dist-packages (from requests->keras-tuner<1.1,>=1.0.2->autokeras) (2.10)\n",
            "Requirement already satisfied: oauthlib>=3.0.0 in /usr/local/lib/python3.7/dist-packages (from requests-oauthlib>=0.7.0->google-auth-oauthlib<0.5,>=0.4.1->tensorboard->keras-tuner<1.1,>=1.0.2->autokeras) (3.1.1)\n",
            "Requirement already satisfied: prompt-toolkit<2.0.0,>=1.0.4 in /usr/local/lib/python3.7/dist-packages (from ipython->keras-tuner<1.1,>=1.0.2->autokeras) (1.0.18)\n",
            "Requirement already satisfied: pickleshare in /usr/local/lib/python3.7/dist-packages (from ipython->keras-tuner<1.1,>=1.0.2->autokeras) (0.7.5)\n",
            "Requirement already satisfied: simplegeneric>0.8 in /usr/local/lib/python3.7/dist-packages (from ipython->keras-tuner<1.1,>=1.0.2->autokeras) (0.8.1)\n",
            "Requirement already satisfied: decorator in /usr/local/lib/python3.7/dist-packages (from ipython->keras-tuner<1.1,>=1.0.2->autokeras) (4.4.2)\n",
            "Requirement already satisfied: pexpect in /usr/local/lib/python3.7/dist-packages (from ipython->keras-tuner<1.1,>=1.0.2->autokeras) (4.8.0)\n",
            "Requirement already satisfied: traitlets>=4.2 in /usr/local/lib/python3.7/dist-packages (from ipython->keras-tuner<1.1,>=1.0.2->autokeras) (5.1.1)\n",
            "Requirement already satisfied: pygments in /usr/local/lib/python3.7/dist-packages (from ipython->keras-tuner<1.1,>=1.0.2->autokeras) (2.6.1)\n",
            "Requirement already satisfied: wcwidth in /usr/local/lib/python3.7/dist-packages (from prompt-toolkit<2.0.0,>=1.0.4->ipython->keras-tuner<1.1,>=1.0.2->autokeras) (0.2.5)\n",
            "Requirement already satisfied: pyparsing!=3.0.5,>=2.0.2 in /usr/local/lib/python3.7/dist-packages (from packaging->autokeras) (3.0.7)\n",
            "Requirement already satisfied: python-dateutil>=2.7.3 in /usr/local/lib/python3.7/dist-packages (from pandas->autokeras) (2.8.2)\n",
            "Requirement already satisfied: pytz>=2017.3 in /usr/local/lib/python3.7/dist-packages (from pandas->autokeras) (2018.9)\n",
            "Requirement already satisfied: ptyprocess>=0.5 in /usr/local/lib/python3.7/dist-packages (from pexpect->ipython->keras-tuner<1.1,>=1.0.2->autokeras) (0.7.0)\n",
            "Requirement already satisfied: joblib>=0.11 in /usr/local/lib/python3.7/dist-packages (from scikit-learn->autokeras) (1.1.0)\n",
            "Requirement already satisfied: threadpoolctl>=2.0.0 in /usr/local/lib/python3.7/dist-packages (from scikit-learn->autokeras) (3.0.0)\n",
            "Building wheels for collected packages: wrapt\n",
            "  Building wheel for wrapt (setup.py) ... \u001b[?25l\u001b[?25hdone\n",
            "  Created wheel for wrapt: filename=wrapt-1.12.1-cp37-cp37m-linux_x86_64.whl size=68717 sha256=143e91e2bf0ae3bbc232ef7c54f7bf3a4fe1dfe6044b7615bafea6f137497083\n",
            "  Stored in directory: /root/.cache/pip/wheels/62/76/4c/aa25851149f3f6d9785f6c869387ad82b3fd37582fa8147ac6\n",
            "Successfully built wrapt\n",
            "Installing collected packages: typing-extensions, grpcio, absl-py, wrapt, tensorflow-estimator, kt-legacy, keras-nightly, flatbuffers, tensorflow, keras-tuner, autokeras\n",
            "  Attempting uninstall: typing-extensions\n",
            "    Found existing installation: typing-extensions 3.10.0.2\n",
            "    Uninstalling typing-extensions-3.10.0.2:\n",
            "      Successfully uninstalled typing-extensions-3.10.0.2\n",
            "  Attempting uninstall: grpcio\n",
            "    Found existing installation: grpcio 1.43.0\n",
            "    Uninstalling grpcio-1.43.0:\n",
            "      Successfully uninstalled grpcio-1.43.0\n",
            "  Attempting uninstall: absl-py\n",
            "    Found existing installation: absl-py 1.0.0\n",
            "    Uninstalling absl-py-1.0.0:\n",
            "      Successfully uninstalled absl-py-1.0.0\n",
            "  Attempting uninstall: wrapt\n",
            "    Found existing installation: wrapt 1.13.3\n",
            "    Uninstalling wrapt-1.13.3:\n",
            "      Successfully uninstalled wrapt-1.13.3\n",
            "  Attempting uninstall: tensorflow-estimator\n",
            "    Found existing installation: tensorflow-estimator 2.7.0\n",
            "    Uninstalling tensorflow-estimator-2.7.0:\n",
            "      Successfully uninstalled tensorflow-estimator-2.7.0\n",
            "  Attempting uninstall: flatbuffers\n",
            "    Found existing installation: flatbuffers 2.0\n",
            "    Uninstalling flatbuffers-2.0:\n",
            "      Successfully uninstalled flatbuffers-2.0\n",
            "  Attempting uninstall: tensorflow\n",
            "    Found existing installation: tensorflow 2.7.0\n",
            "    Uninstalling tensorflow-2.7.0:\n",
            "      Successfully uninstalled tensorflow-2.7.0\n",
            "  Attempting uninstall: keras-tuner\n",
            "    Found existing installation: keras-tuner 1.0.2rc1\n",
            "    Uninstalling keras-tuner-1.0.2rc1:\n",
            "      Successfully uninstalled keras-tuner-1.0.2rc1\n",
            "Successfully installed absl-py-0.15.0 autokeras-1.0.16.post1 flatbuffers-1.12 grpcio-1.34.1 keras-nightly-2.5.0.dev2021032900 keras-tuner-1.0.4 kt-legacy-1.0.4 tensorflow-2.5.2 tensorflow-estimator-2.5.0 typing-extensions-3.7.4.3 wrapt-1.12.1\n"
          ]
        }
      ],
      "source": [
        "!pip install autokeras"
      ]
    },
    {
      "cell_type": "code",
      "execution_count": null,
      "metadata": {
        "colab": {
          "base_uri": "https://localhost:8080/"
        },
        "id": "SFiJKsr0Roz_",
        "outputId": "91bfce5f-d9e3-4b7f-e724-a7302e6353eb"
      },
      "outputs": [
        {
          "output_type": "stream",
          "name": "stdout",
          "text": [
            "Name: autokeras\n",
            "Version: 1.0.16.post1\n",
            "Summary: AutoML for deep learning\n",
            "Home-page: http://autokeras.com\n",
            "Author: Data Analytics at Texas A&M (DATA) Lab, Keras Team\n",
            "Author-email: jhfjhfj1@gmail.com\n",
            "License: MIT\n",
            "Location: /usr/local/lib/python3.7/dist-packages\n",
            "Requires: packaging, scikit-learn, keras-tuner, pandas, tensorflow\n",
            "Required-by: \n"
          ]
        }
      ],
      "source": [
        "!pip show autokeras"
      ]
    },
    {
      "cell_type": "markdown",
      "source": [
        "***Restart the runtime before proceeding***"
      ],
      "metadata": {
        "id": "YTcErH-fd5vU"
      }
    },
    {
      "cell_type": "code",
      "execution_count": null,
      "metadata": {
        "id": "l3ByD-eKrA4K"
      },
      "outputs": [],
      "source": [
        "import tensorflow.keras"
      ]
    },
    {
      "cell_type": "code",
      "execution_count": null,
      "metadata": {
        "id": "vQ515fsGlNV2"
      },
      "outputs": [],
      "source": [
        "import pandas as pd\n",
        "import matplotlib.pyplot as plt\n",
        "import numpy as np\n",
        "import seaborn as sns\n",
        "from tensorflow.keras.utils import plot_model"
      ]
    },
    {
      "cell_type": "markdown",
      "metadata": {
        "id": "80C643inHKNz"
      },
      "source": [
        "## Setting up dataset"
      ]
    },
    {
      "cell_type": "markdown",
      "metadata": {
        "id": "H9hztLXKv2Kn"
      },
      "source": [
        "## Superconductors dataset (regression task)\n",
        "\n",
        "Source: https://archive.ics.uci.edu/ml/datasets/Superconductivty+Data\n",
        "\n",
        "\n",
        "The dataset contains 81 numerical features of 21263 superconductors. The label corresponds to their critical temperature measured in Kelvin."
      ]
    },
    {
      "cell_type": "code",
      "execution_count": null,
      "metadata": {
        "colab": {
          "base_uri": "https://localhost:8080/"
        },
        "id": "qTDrL4iwv2Kq",
        "outputId": "b7acc33e-0e46-4f92-ceda-472c1f319934"
      },
      "outputs": [
        {
          "output_type": "stream",
          "name": "stdout",
          "text": [
            "--2022-02-02 12:17:37--  https://raw.githubusercontent.com/abcom-mltutorials/automl/main/superconductors.csv\n",
            "Resolving raw.githubusercontent.com (raw.githubusercontent.com)... 185.199.108.133, 185.199.109.133, 185.199.111.133, ...\n",
            "Connecting to raw.githubusercontent.com (raw.githubusercontent.com)|185.199.108.133|:443... connected.\n",
            "HTTP request sent, awaiting response... 200 OK\n",
            "Length: 23859780 (23M) [text/plain]\n",
            "Saving to: ‘superconductors.csv’\n",
            "\n",
            "superconductors.csv 100%[===================>]  22.75M  --.-KB/s    in 0.1s    \n",
            "\n",
            "2022-02-02 12:17:37 (159 MB/s) - ‘superconductors.csv’ saved [23859780/23859780]\n",
            "\n"
          ]
        }
      ],
      "source": [
        "!wget 'https://raw.githubusercontent.com/abcom-mltutorials/automl/main/superconductors.csv'"
      ]
    },
    {
      "cell_type": "code",
      "execution_count": null,
      "metadata": {
        "id": "Y__xwS0D7eHC"
      },
      "outputs": [],
      "source": [
        "regressor_df=pd.read_csv('/content/superconductors.csv')"
      ]
    },
    {
      "cell_type": "code",
      "execution_count": null,
      "metadata": {
        "colab": {
          "base_uri": "https://localhost:8080/"
        },
        "id": "rqedHGLCtCh9",
        "outputId": "c6509c55-79eb-42ab-8685-99b197af9a40"
      },
      "outputs": [
        {
          "output_type": "execute_result",
          "data": {
            "text/plain": [
              "(21263, 82)"
            ]
          },
          "metadata": {},
          "execution_count": 8
        }
      ],
      "source": [
        "regressor_df.shape"
      ]
    },
    {
      "cell_type": "code",
      "execution_count": null,
      "metadata": {
        "id": "a41vlLivv2K7"
      },
      "outputs": [],
      "source": [
        "features_regressor = regressor_df.iloc[:,:-1]\n",
        "label_regressor = regressor_df.iloc[:,-1]"
      ]
    },
    {
      "cell_type": "code",
      "execution_count": null,
      "metadata": {
        "id": "pxQwzGxUwEfA"
      },
      "outputs": [],
      "source": [
        "from sklearn.model_selection import train_test_split"
      ]
    },
    {
      "cell_type": "code",
      "execution_count": null,
      "metadata": {
        "id": "JKhmEiOGv2K-"
      },
      "outputs": [],
      "source": [
        "X_train_regressor, X_val_regressor, label_train_regressor, label_val_regressor = train_test_split(features_regressor, label_regressor, test_size=0.2, random_state=42)"
      ]
    },
    {
      "cell_type": "code",
      "execution_count": null,
      "metadata": {
        "id": "Q9BMsYBa76gQ"
      },
      "outputs": [],
      "source": [
        "from sklearn.metrics import mean_squared_error\n",
        "from sklearn.metrics import r2_score\n",
        "\n",
        "def error_metrics(y_pred,y_val):\n",
        "  print('MSE: ',mean_squared_error(y_pred,y_val))\n",
        "  print('RMSE: ',np.sqrt(mean_squared_error(y_pred,y_val)))\n",
        "  print('Coefficient of determination: ',r2_score(y_pred,y_val))"
      ]
    },
    {
      "cell_type": "markdown",
      "metadata": {
        "id": "mTAdjpi-N2fR"
      },
      "source": [
        "### Regressor"
      ]
    },
    {
      "cell_type": "code",
      "execution_count": null,
      "metadata": {
        "id": "feZ8gupeo1qV"
      },
      "outputs": [],
      "source": [
        "from tensorflow.keras.callbacks import ReduceLROnPlateau\n",
        "lr_reduction = ReduceLROnPlateau(monitor='mean_squared_error',\n",
        "                                 patience=1, \n",
        "                                 verbose=1, \n",
        "                                 factor=0.5, \n",
        "                                 min_lr=0.000001)"
      ]
    },
    {
      "cell_type": "code",
      "source": [
        "import time\n",
        "tic = time.perf_counter()"
      ],
      "metadata": {
        "id": "rz598-URULYi"
      },
      "execution_count": null,
      "outputs": []
    },
    {
      "cell_type": "code",
      "execution_count": null,
      "metadata": {
        "colab": {
          "base_uri": "https://localhost:8080/"
        },
        "id": "IkJUsRZnoH-a",
        "outputId": "2efd249e-03f0-4e91-ec53-ad18ea395db7"
      },
      "outputs": [
        {
          "output_type": "stream",
          "name": "stdout",
          "text": [
            "INFO:tensorflow:Oracle triggered exit\n",
            "Epoch 1/20\n",
            "532/532 [==============================] - 3s 4ms/step - loss: 12.8471 - mean_squared_error: 405.9883\n",
            "Epoch 2/20\n",
            "532/532 [==============================] - 2s 4ms/step - loss: 10.1817 - mean_squared_error: 260.6703\n",
            "Epoch 3/20\n",
            "532/532 [==============================] - 2s 4ms/step - loss: 9.6612 - mean_squared_error: 243.4573\n",
            "Epoch 4/20\n",
            "532/532 [==============================] - 2s 4ms/step - loss: 9.3314 - mean_squared_error: 231.2876\n",
            "Epoch 5/20\n",
            "532/532 [==============================] - 2s 4ms/step - loss: 9.0446 - mean_squared_error: 221.5139\n",
            "Epoch 6/20\n",
            "532/532 [==============================] - 2s 4ms/step - loss: 8.8641 - mean_squared_error: 214.7131\n",
            "Epoch 7/20\n",
            "532/532 [==============================] - 2s 4ms/step - loss: 8.6643 - mean_squared_error: 207.2985\n",
            "Epoch 8/20\n",
            "532/532 [==============================] - 2s 4ms/step - loss: 8.5083 - mean_squared_error: 202.9539\n",
            "Epoch 9/20\n",
            "532/532 [==============================] - 2s 3ms/step - loss: 8.3734 - mean_squared_error: 198.1412\n",
            "Epoch 10/20\n",
            "532/532 [==============================] - 2s 4ms/step - loss: 8.2530 - mean_squared_error: 193.4974\n",
            "Epoch 11/20\n",
            "532/532 [==============================] - 2s 4ms/step - loss: 8.1247 - mean_squared_error: 189.7624\n",
            "Epoch 12/20\n",
            "532/532 [==============================] - 3s 6ms/step - loss: 8.0471 - mean_squared_error: 187.2288\n",
            "Epoch 13/20\n",
            "532/532 [==============================] - 2s 4ms/step - loss: 7.9560 - mean_squared_error: 183.9077\n",
            "Epoch 14/20\n",
            "532/532 [==============================] - 2s 4ms/step - loss: 7.8564 - mean_squared_error: 182.2993\n",
            "Epoch 15/20\n",
            "532/532 [==============================] - 2s 4ms/step - loss: 7.8083 - mean_squared_error: 179.7092\n",
            "Epoch 16/20\n",
            "532/532 [==============================] - 2s 4ms/step - loss: 7.7172 - mean_squared_error: 176.8312\n",
            "Epoch 17/20\n",
            "532/532 [==============================] - 2s 4ms/step - loss: 7.6526 - mean_squared_error: 174.7768\n",
            "Epoch 18/20\n",
            "532/532 [==============================] - 2s 4ms/step - loss: 7.5792 - mean_squared_error: 172.6703\n",
            "Epoch 19/20\n",
            "532/532 [==============================] - 2s 4ms/step - loss: 7.5230 - mean_squared_error: 169.8624\n",
            "Epoch 20/20\n",
            "532/532 [==============================] - 2s 4ms/step - loss: 7.4800 - mean_squared_error: 169.4178\n",
            "INFO:tensorflow:Assets written to: ./structured_data_regressor/best_model/assets\n"
          ]
        },
        {
          "output_type": "execute_result",
          "data": {
            "text/plain": [
              "<tensorflow.python.keras.callbacks.History at 0x7f40445446d0>"
            ]
          },
          "metadata": {},
          "execution_count": 15
        }
      ],
      "source": [
        "from autokeras import StructuredDataRegressor\n",
        "\n",
        "regressor = StructuredDataRegressor(max_trials=3, loss='mean_absolute_error')\n",
        "regressor.fit(x=X_train_regressor, y=label_train_regressor,\n",
        "              callbacks=[lr_reduction],\n",
        "              verbose=0, epochs=20)"
      ]
    },
    {
      "cell_type": "code",
      "source": [
        "toc = time.perf_counter()\n",
        "print (f\"Elapsed time {toc - tic:0.4f} seconds\")"
      ],
      "metadata": {
        "colab": {
          "base_uri": "https://localhost:8080/"
        },
        "id": "XTA1VH-tURhY",
        "outputId": "c52ef37d-0b36-4dac-8620-fd1d4052d591"
      },
      "execution_count": null,
      "outputs": [
        {
          "output_type": "stream",
          "name": "stdout",
          "text": [
            "Elapsed time 180.1802 seconds\n"
          ]
        }
      ]
    },
    {
      "cell_type": "code",
      "execution_count": null,
      "metadata": {
        "id": "_5nlXwoepScm",
        "colab": {
          "base_uri": "https://localhost:8080/"
        },
        "outputId": "419349f1-7f64-4659-82c4-861b50e0580e"
      },
      "outputs": [
        {
          "output_type": "stream",
          "name": "stdout",
          "text": [
            "133/133 [==============================] - 0s 3ms/step\n"
          ]
        }
      ],
      "source": [
        "label_predicted1 = regressor.predict(X_val_regressor)"
      ]
    },
    {
      "cell_type": "code",
      "execution_count": null,
      "metadata": {
        "id": "i-817-wUpn4g",
        "colab": {
          "base_uri": "https://localhost:8080/"
        },
        "outputId": "e64f9d9d-51b9-423c-bfe7-58cd2b57e48e"
      },
      "outputs": [
        {
          "output_type": "stream",
          "name": "stdout",
          "text": [
            "MSE:  163.16712072898235\n",
            "RMSE:  12.7736886109292\n",
            "Coefficient of determination:  0.8515213997277571\n"
          ]
        }
      ],
      "source": [
        "error_metrics(label_predicted1,label_val_regressor)"
      ]
    },
    {
      "cell_type": "markdown",
      "metadata": {
        "id": "DmqZfAFCvL8W"
      },
      "source": [
        "## Biodegradation dataset (classification task)\n",
        "\n",
        "Source: https://archive.ics.uci.edu/ml/datasets/QSAR+biodegradation\n",
        "\n",
        "\n",
        "The dataset contains 21 numerical features (molecular attributes) of 1055 chemicals. The label corresponds to their experimental class (ready biodegradable \"RB\" or not ready biodegradable \"NRB\")"
      ]
    },
    {
      "cell_type": "code",
      "execution_count": null,
      "metadata": {
        "colab": {
          "base_uri": "https://localhost:8080/"
        },
        "id": "M-s3EL0vkrx6",
        "outputId": "22097a22-afd5-4c72-fae2-f4e13f3fc2ce"
      },
      "outputs": [
        {
          "output_type": "stream",
          "name": "stdout",
          "text": [
            "--2022-02-02 12:20:41--  https://raw.githubusercontent.com/abcom-mltutorials/automl/main/biodeg.csv\n",
            "Resolving raw.githubusercontent.com (raw.githubusercontent.com)... 185.199.108.133, 185.199.109.133, 185.199.110.133, ...\n",
            "Connecting to raw.githubusercontent.com (raw.githubusercontent.com)|185.199.108.133|:443... connected.\n",
            "HTTP request sent, awaiting response... 200 OK\n",
            "Length: 155987 (152K) [text/plain]\n",
            "Saving to: ‘biodeg.csv’\n",
            "\n",
            "biodeg.csv          100%[===================>] 152.33K  --.-KB/s    in 0.02s   \n",
            "\n",
            "2022-02-02 12:20:42 (6.54 MB/s) - ‘biodeg.csv’ saved [155987/155987]\n",
            "\n"
          ]
        }
      ],
      "source": [
        "!wget 'https://raw.githubusercontent.com/abcom-mltutorials/automl/main/biodeg.csv'"
      ]
    },
    {
      "cell_type": "code",
      "execution_count": null,
      "metadata": {
        "id": "w3z80TjM8kNb"
      },
      "outputs": [],
      "source": [
        "classifier_df=pd.read_csv('/content/biodeg.csv', delimiter=';', header=None)"
      ]
    },
    {
      "cell_type": "code",
      "execution_count": null,
      "metadata": {
        "colab": {
          "base_uri": "https://localhost:8080/"
        },
        "id": "IJPcV2Igtwlu",
        "outputId": "75824a92-ddd1-4b71-b515-db60f08a805d"
      },
      "outputs": [
        {
          "output_type": "execute_result",
          "data": {
            "text/plain": [
              "(1055, 42)"
            ]
          },
          "metadata": {},
          "execution_count": 21
        }
      ],
      "source": [
        "classifier_df.shape"
      ]
    },
    {
      "cell_type": "code",
      "execution_count": null,
      "metadata": {
        "id": "njCToUld8kNe"
      },
      "outputs": [],
      "source": [
        "classifier_df.rename(columns={41:'label'}, inplace=True)"
      ]
    },
    {
      "cell_type": "code",
      "execution_count": null,
      "metadata": {
        "id": "go8S2BJK8kNg"
      },
      "outputs": [],
      "source": [
        "classifier_df.columns = classifier_df.columns.astype(str)"
      ]
    },
    {
      "cell_type": "code",
      "execution_count": null,
      "metadata": {
        "id": "EJdaGiAK8kNi"
      },
      "outputs": [],
      "source": [
        "features_classifier = classifier_df.iloc[:,:-1]\n",
        "label_classifier = classifier_df.iloc[:,-1]"
      ]
    },
    {
      "cell_type": "code",
      "execution_count": null,
      "metadata": {
        "colab": {
          "base_uri": "https://localhost:8080/"
        },
        "id": "qWrZ70S8Wmsc",
        "outputId": "c923e648-2a21-4575-8e56-b6791899d173"
      },
      "outputs": [
        {
          "output_type": "stream",
          "name": "stdout",
          "text": [
            "Requirement already satisfied: imblearn in /usr/local/lib/python3.7/dist-packages (0.0)\n",
            "Requirement already satisfied: imbalanced-learn in /usr/local/lib/python3.7/dist-packages (from imblearn) (0.8.1)\n",
            "Requirement already satisfied: joblib>=0.11 in /usr/local/lib/python3.7/dist-packages (from imbalanced-learn->imblearn) (1.1.0)\n",
            "Requirement already satisfied: scikit-learn>=0.24 in /usr/local/lib/python3.7/dist-packages (from imbalanced-learn->imblearn) (1.0.2)\n",
            "Requirement already satisfied: scipy>=0.19.1 in /usr/local/lib/python3.7/dist-packages (from imbalanced-learn->imblearn) (1.4.1)\n",
            "Requirement already satisfied: numpy>=1.13.3 in /usr/local/lib/python3.7/dist-packages (from imbalanced-learn->imblearn) (1.19.5)\n",
            "Requirement already satisfied: threadpoolctl>=2.0.0 in /usr/local/lib/python3.7/dist-packages (from scikit-learn>=0.24->imbalanced-learn->imblearn) (3.0.0)\n"
          ]
        }
      ],
      "source": [
        "!pip install imblearn"
      ]
    },
    {
      "cell_type": "code",
      "execution_count": null,
      "metadata": {
        "id": "Kkk7_G-Z8kNl"
      },
      "outputs": [],
      "source": [
        "from imblearn.over_sampling import SMOTE"
      ]
    },
    {
      "cell_type": "code",
      "execution_count": null,
      "metadata": {
        "id": "ny7eshsU8kNn"
      },
      "outputs": [],
      "source": [
        "sm = SMOTE(random_state=42)\n",
        "X_classifier, y_classifier = sm.fit_resample(features_classifier, label_classifier)"
      ]
    },
    {
      "cell_type": "code",
      "execution_count": null,
      "metadata": {
        "colab": {
          "base_uri": "https://localhost:8080/"
        },
        "id": "EOZVdb5K8kNq",
        "outputId": "e38cf95e-f23b-4700-f939-991d5e314d0f"
      },
      "outputs": [
        {
          "output_type": "execute_result",
          "data": {
            "text/plain": [
              "RB     699\n",
              "NRB    699\n",
              "Name: label, dtype: int64"
            ]
          },
          "metadata": {},
          "execution_count": 28
        }
      ],
      "source": [
        "y_classifier.value_counts()"
      ]
    },
    {
      "cell_type": "code",
      "execution_count": null,
      "metadata": {
        "id": "PZyfq9x18kNs"
      },
      "outputs": [],
      "source": [
        "y_classifier = y_classifier.replace('NRB',0).replace('RB',1)"
      ]
    },
    {
      "cell_type": "code",
      "execution_count": null,
      "metadata": {
        "id": "kIoTX5cd8kNx"
      },
      "outputs": [],
      "source": [
        "X_train_classifier, X_val_classifier, label_train_classifier, label_val_classifier = train_test_split(X_classifier, y_classifier, random_state=42, test_size = 0.2)"
      ]
    },
    {
      "cell_type": "markdown",
      "metadata": {
        "id": "GTnXdH_bN59m"
      },
      "source": [
        "### Classifier"
      ]
    },
    {
      "cell_type": "code",
      "source": [
        "import time\n",
        "tic = time.perf_counter()"
      ],
      "metadata": {
        "id": "laCrQtnAUA1Z"
      },
      "execution_count": null,
      "outputs": []
    },
    {
      "cell_type": "code",
      "execution_count": null,
      "metadata": {
        "colab": {
          "base_uri": "https://localhost:8080/"
        },
        "id": "sXyE99_npSUI",
        "outputId": "a3c55d0a-dead-4443-fd5c-023a43d1731c"
      },
      "outputs": [
        {
          "output_type": "stream",
          "name": "stdout",
          "text": [
            "INFO:tensorflow:Oracle triggered exit\n",
            "Epoch 1/20\n",
            "35/35 [==============================] - 1s 4ms/step - loss: 0.6095 - accuracy: 0.6735\n",
            "Epoch 2/20\n",
            "35/35 [==============================] - 0s 3ms/step - loss: 0.4472 - accuracy: 0.8247\n",
            "Epoch 3/20\n",
            "35/35 [==============================] - 0s 3ms/step - loss: 0.3758 - accuracy: 0.8542\n",
            "Epoch 4/20\n",
            "35/35 [==============================] - 0s 3ms/step - loss: 0.3369 - accuracy: 0.8703\n",
            "Epoch 5/20\n",
            "35/35 [==============================] - 0s 3ms/step - loss: 0.3136 - accuracy: 0.8801\n",
            "Epoch 6/20\n",
            "35/35 [==============================] - 0s 3ms/step - loss: 0.2972 - accuracy: 0.8846\n",
            "Epoch 7/20\n",
            "35/35 [==============================] - 0s 3ms/step - loss: 0.2843 - accuracy: 0.8927\n",
            "Epoch 8/20\n",
            "35/35 [==============================] - 0s 3ms/step - loss: 0.2735 - accuracy: 0.8980\n",
            "Epoch 9/20\n",
            "35/35 [==============================] - 0s 3ms/step - loss: 0.2641 - accuracy: 0.8989\n",
            "Epoch 10/20\n",
            "35/35 [==============================] - 0s 3ms/step - loss: 0.2555 - accuracy: 0.9034\n",
            "Epoch 11/20\n",
            "35/35 [==============================] - 0s 3ms/step - loss: 0.2475 - accuracy: 0.9106\n",
            "Epoch 12/20\n",
            "35/35 [==============================] - 0s 3ms/step - loss: 0.2400 - accuracy: 0.9123\n",
            "Epoch 13/20\n",
            "35/35 [==============================] - 0s 3ms/step - loss: 0.2327 - accuracy: 0.9150\n",
            "Epoch 14/20\n",
            "35/35 [==============================] - 0s 3ms/step - loss: 0.2258 - accuracy: 0.9177\n",
            "Epoch 15/20\n",
            "35/35 [==============================] - 0s 3ms/step - loss: 0.2195 - accuracy: 0.9195\n",
            "Epoch 16/20\n",
            "35/35 [==============================] - 0s 3ms/step - loss: 0.2136 - accuracy: 0.9204\n",
            "Epoch 17/20\n",
            "35/35 [==============================] - 0s 3ms/step - loss: 0.2080 - accuracy: 0.9195\n",
            "Epoch 18/20\n",
            "35/35 [==============================] - 0s 3ms/step - loss: 0.2026 - accuracy: 0.9222\n",
            "Epoch 19/20\n",
            "35/35 [==============================] - 0s 3ms/step - loss: 0.1974 - accuracy: 0.9240\n",
            "Epoch 20/20\n",
            "35/35 [==============================] - 0s 3ms/step - loss: 0.1924 - accuracy: 0.9249\n",
            "INFO:tensorflow:Assets written to: ./structured_data_classifier/best_model/assets\n"
          ]
        },
        {
          "output_type": "execute_result",
          "data": {
            "text/plain": [
              "<tensorflow.python.keras.callbacks.History at 0x7f4041bb0b50>"
            ]
          },
          "metadata": {},
          "execution_count": 32
        }
      ],
      "source": [
        "from autokeras import StructuredDataClassifier\n",
        "\n",
        "classifier = StructuredDataClassifier(max_trials=5,num_classes=2)\n",
        "classifier.fit(x=X_train_classifier, y=label_train_classifier, verbose=0, epochs=20)"
      ]
    },
    {
      "cell_type": "code",
      "source": [
        "toc = time.perf_counter()\n",
        "print (f\"Elapsed time {toc - tic:0.4f} seconds\")"
      ],
      "metadata": {
        "colab": {
          "base_uri": "https://localhost:8080/"
        },
        "id": "aLuYDX_bUEuH",
        "outputId": "a6e76777-e2e7-40f6-c2b7-3eca3aa8c099"
      },
      "execution_count": null,
      "outputs": [
        {
          "output_type": "stream",
          "name": "stdout",
          "text": [
            "Elapsed time 76.0392 seconds\n"
          ]
        }
      ]
    },
    {
      "cell_type": "code",
      "execution_count": null,
      "metadata": {
        "colab": {
          "base_uri": "https://localhost:8080/"
        },
        "id": "Fbph1W3Ap330",
        "outputId": "1c597b77-c004-4761-fef3-cec5f7aa1bfc"
      },
      "outputs": [
        {
          "output_type": "stream",
          "name": "stdout",
          "text": [
            "9/9 [==============================] - 0s 3ms/step\n"
          ]
        }
      ],
      "source": [
        "label_predicted2 = classifier.predict(X_val_classifier)"
      ]
    },
    {
      "cell_type": "code",
      "execution_count": null,
      "metadata": {
        "id": "5Od0cB17TA4_"
      },
      "outputs": [],
      "source": [
        "from sklearn.metrics import classification_report"
      ]
    },
    {
      "cell_type": "code",
      "execution_count": null,
      "metadata": {
        "colab": {
          "base_uri": "https://localhost:8080/"
        },
        "id": "esvLR-iZp3vB",
        "outputId": "fedc3ace-551d-4c89-f186-fc82de1713a8"
      },
      "outputs": [
        {
          "output_type": "stream",
          "name": "stdout",
          "text": [
            "              precision    recall  f1-score   support\n",
            "\n",
            "           0       0.90      0.85      0.88       143\n",
            "           1       0.86      0.91      0.88       137\n",
            "\n",
            "    accuracy                           0.88       280\n",
            "   macro avg       0.88      0.88      0.88       280\n",
            "weighted avg       0.88      0.88      0.88       280\n",
            "\n"
          ]
        }
      ],
      "source": [
        "print(classification_report(label_val_classifier,label_predicted2))"
      ]
    }
  ],
  "metadata": {
    "accelerator": "GPU",
    "colab": {
      "collapsed_sections": [],
      "name": "AutoML_AutoKeras.ipynb",
      "provenance": [],
      "toc_visible": true
    },
    "kernelspec": {
      "display_name": "Python 3",
      "name": "python3"
    },
    "language_info": {
      "name": "python"
    }
  },
  "nbformat": 4,
  "nbformat_minor": 0
}