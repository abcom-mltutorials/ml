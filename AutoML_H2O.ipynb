{
  "cells": [
    {
      "cell_type": "markdown",
      "metadata": {
        "id": "6YdKQ4H9q5os"
      },
      "source": [
        "# H20\n",
        "Requires data in a specific format. Does not give out the details on the selected model\n",
        "\n",
        "https://docs.h2o.ai/h2o/latest-stable/h2o-docs/automl.html#"
      ]
    },
    {
      "cell_type": "code",
      "execution_count": null,
      "metadata": {
        "id": "HPHDYMU_Z7hT",
        "colab": {
          "base_uri": "https://localhost:8080/"
        },
        "outputId": "8054ddce-b325-4464-fe67-f438848768e4"
      },
      "outputs": [
        {
          "output_type": "stream",
          "name": "stdout",
          "text": [
            "Reading package lists... Done\n",
            "Building dependency tree       \n",
            "Reading state information... Done\n",
            "default-jre is already the newest version (2:1.11-68ubuntu1~18.04.1).\n",
            "default-jre set to manually installed.\n",
            "0 upgraded, 0 newly installed, 0 to remove and 37 not upgraded.\n",
            "openjdk version \"11.0.13\" 2021-10-19\n",
            "OpenJDK Runtime Environment (build 11.0.13+8-Ubuntu-0ubuntu1.18.04)\n",
            "OpenJDK 64-Bit Server VM (build 11.0.13+8-Ubuntu-0ubuntu1.18.04, mixed mode, sharing)\n"
          ]
        }
      ],
      "source": [
        "! apt-get install default-jre\n",
        "!java -version"
      ]
    },
    {
      "cell_type": "code",
      "execution_count": null,
      "metadata": {
        "id": "i0_UUg4qaAa8",
        "colab": {
          "base_uri": "https://localhost:8080/"
        },
        "outputId": "a0296851-88fa-427b-997b-3c0b7531f34b"
      },
      "outputs": [
        {
          "output_type": "stream",
          "name": "stdout",
          "text": [
            "Collecting h2o\n",
            "  Downloading h2o-3.36.0.2.tar.gz (176.0 MB)\n",
            "\u001b[K     |████████████████████████████████| 176.0 MB 4.8 kB/s \n",
            "\u001b[?25hRequirement already satisfied: requests in /usr/local/lib/python3.7/dist-packages (from h2o) (2.23.0)\n",
            "Requirement already satisfied: tabulate in /usr/local/lib/python3.7/dist-packages (from h2o) (0.8.9)\n",
            "Requirement already satisfied: future in /usr/local/lib/python3.7/dist-packages (from h2o) (0.16.0)\n",
            "Requirement already satisfied: chardet<4,>=3.0.2 in /usr/local/lib/python3.7/dist-packages (from requests->h2o) (3.0.4)\n",
            "Requirement already satisfied: certifi>=2017.4.17 in /usr/local/lib/python3.7/dist-packages (from requests->h2o) (2021.10.8)\n",
            "Requirement already satisfied: urllib3!=1.25.0,!=1.25.1,<1.26,>=1.21.1 in /usr/local/lib/python3.7/dist-packages (from requests->h2o) (1.24.3)\n",
            "Requirement already satisfied: idna<3,>=2.5 in /usr/local/lib/python3.7/dist-packages (from requests->h2o) (2.10)\n",
            "Building wheels for collected packages: h2o\n",
            "  Building wheel for h2o (setup.py) ... \u001b[?25l\u001b[?25hdone\n",
            "  Created wheel for h2o: filename=h2o-3.36.0.2-py2.py3-none-any.whl size=176112127 sha256=cdaa97b4226e64c2098485f0d5113c006f7a7b226ea1b47c608ad037103bbc86\n",
            "  Stored in directory: /root/.cache/pip/wheels/0b/83/bd/343a6140119b4098103e725e1cfe9f198568d13cf103acbc7c\n",
            "Successfully built h2o\n",
            "Installing collected packages: h2o\n",
            "Successfully installed h2o-3.36.0.2\n"
          ]
        }
      ],
      "source": [
        "!pip install h2o "
      ]
    },
    {
      "cell_type": "code",
      "execution_count": null,
      "metadata": {
        "id": "vSI8pdQPaC7e",
        "colab": {
          "base_uri": "https://localhost:8080/",
          "height": 554
        },
        "outputId": "dfdcdc9e-8c6d-436d-8a19-a3ee9760feaa"
      },
      "outputs": [
        {
          "output_type": "stream",
          "name": "stdout",
          "text": [
            "Checking whether there is an H2O instance running at http://localhost:54321 ..... not found.\n",
            "Attempting to start a local H2O server...\n",
            "  Java Version: openjdk version \"11.0.13\" 2021-10-19; OpenJDK Runtime Environment (build 11.0.13+8-Ubuntu-0ubuntu1.18.04); OpenJDK 64-Bit Server VM (build 11.0.13+8-Ubuntu-0ubuntu1.18.04, mixed mode, sharing)\n",
            "  Starting server from /usr/local/lib/python3.7/dist-packages/h2o/backend/bin/h2o.jar\n",
            "  Ice root: /tmp/tmpg5fx00bb\n",
            "  JVM stdout: /tmp/tmpg5fx00bb/h2o_unknownUser_started_from_python.out\n",
            "  JVM stderr: /tmp/tmpg5fx00bb/h2o_unknownUser_started_from_python.err\n",
            "  Server is running at http://127.0.0.1:54321\n",
            "Connecting to H2O server at http://127.0.0.1:54321 ... successful.\n"
          ]
        },
        {
          "output_type": "display_data",
          "data": {
            "text/html": [
              "<div style=\"overflow:auto\"><table style=\"width:50%\"><tr><td>H2O_cluster_uptime:</td>\n",
              "<td>02 secs</td></tr>\n",
              "<tr><td>H2O_cluster_timezone:</td>\n",
              "<td>Etc/UTC</td></tr>\n",
              "<tr><td>H2O_data_parsing_timezone:</td>\n",
              "<td>UTC</td></tr>\n",
              "<tr><td>H2O_cluster_version:</td>\n",
              "<td>3.36.0.2</td></tr>\n",
              "<tr><td>H2O_cluster_version_age:</td>\n",
              "<td>7 days, 16 hours and 47 minutes </td></tr>\n",
              "<tr><td>H2O_cluster_name:</td>\n",
              "<td>H2O_from_python_unknownUser_qjwuc5</td></tr>\n",
              "<tr><td>H2O_cluster_total_nodes:</td>\n",
              "<td>1</td></tr>\n",
              "<tr><td>H2O_cluster_free_memory:</td>\n",
              "<td>3.172 Gb</td></tr>\n",
              "<tr><td>H2O_cluster_total_cores:</td>\n",
              "<td>2</td></tr>\n",
              "<tr><td>H2O_cluster_allowed_cores:</td>\n",
              "<td>2</td></tr>\n",
              "<tr><td>H2O_cluster_status:</td>\n",
              "<td>locked, healthy</td></tr>\n",
              "<tr><td>H2O_connection_url:</td>\n",
              "<td>http://127.0.0.1:54321</td></tr>\n",
              "<tr><td>H2O_connection_proxy:</td>\n",
              "<td>{\"http\": null, \"https\": null}</td></tr>\n",
              "<tr><td>H2O_internal_security:</td>\n",
              "<td>False</td></tr>\n",
              "<tr><td>H2O_API_Extensions:</td>\n",
              "<td>Amazon S3, XGBoost, Algos, Infogram, AutoML, Core V3, TargetEncoder, Core V4</td></tr>\n",
              "<tr><td>Python_version:</td>\n",
              "<td>3.7.12 final</td></tr></table></div>"
            ],
            "text/plain": [
              "--------------------------  ----------------------------------------------------------------------------\n",
              "H2O_cluster_uptime:         02 secs\n",
              "H2O_cluster_timezone:       Etc/UTC\n",
              "H2O_data_parsing_timezone:  UTC\n",
              "H2O_cluster_version:        3.36.0.2\n",
              "H2O_cluster_version_age:    7 days, 16 hours and 47 minutes\n",
              "H2O_cluster_name:           H2O_from_python_unknownUser_qjwuc5\n",
              "H2O_cluster_total_nodes:    1\n",
              "H2O_cluster_free_memory:    3.172 Gb\n",
              "H2O_cluster_total_cores:    2\n",
              "H2O_cluster_allowed_cores:  2\n",
              "H2O_cluster_status:         locked, healthy\n",
              "H2O_connection_url:         http://127.0.0.1:54321\n",
              "H2O_connection_proxy:       {\"http\": null, \"https\": null}\n",
              "H2O_internal_security:      False\n",
              "H2O_API_Extensions:         Amazon S3, XGBoost, Algos, Infogram, AutoML, Core V3, TargetEncoder, Core V4\n",
              "Python_version:             3.7.12 final\n",
              "--------------------------  ----------------------------------------------------------------------------"
            ]
          },
          "metadata": {}
        }
      ],
      "source": [
        "import h2o\n",
        "from h2o.automl import H2OAutoML\n",
        "h2o.init()"
      ]
    },
    {
      "cell_type": "code",
      "execution_count": null,
      "metadata": {
        "id": "vQ515fsGlNV2"
      },
      "outputs": [],
      "source": [
        "import pandas as pd\n",
        "import matplotlib.pyplot as plt\n",
        "import numpy as np\n",
        "import seaborn as sns\n",
        "from tensorflow.keras.utils import plot_model"
      ]
    },
    {
      "cell_type": "markdown",
      "metadata": {
        "id": "80C643inHKNz"
      },
      "source": [
        "# Setting up dataset"
      ]
    },
    {
      "cell_type": "markdown",
      "metadata": {
        "id": "H9hztLXKv2Kn"
      },
      "source": [
        "## Superconductors dataset (regression task)\n",
        "\n",
        "Source: https://archive.ics.uci.edu/ml/datasets/Superconductivty+Data\n",
        "\n",
        "\n",
        "The dataset contains 81 numerical features of 21263 superconductors. The label corresponds to their critical temperature measured in Kelvin."
      ]
    },
    {
      "cell_type": "code",
      "execution_count": null,
      "metadata": {
        "colab": {
          "base_uri": "https://localhost:8080/"
        },
        "id": "qTDrL4iwv2Kq",
        "outputId": "c2525d5a-835b-4ddd-c7c5-a28b20b19e7c"
      },
      "outputs": [
        {
          "output_type": "stream",
          "name": "stdout",
          "text": [
            "--2022-02-02 12:59:18--  https://raw.githubusercontent.com/abcom-mltutorials/automl/main/superconductors.csv\n",
            "Resolving raw.githubusercontent.com (raw.githubusercontent.com)... 185.199.111.133, 185.199.110.133, 185.199.108.133, ...\n",
            "Connecting to raw.githubusercontent.com (raw.githubusercontent.com)|185.199.111.133|:443... connected.\n",
            "HTTP request sent, awaiting response... 200 OK\n",
            "Length: 23859780 (23M) [text/plain]\n",
            "Saving to: ‘superconductors.csv’\n",
            "\n",
            "superconductors.csv 100%[===================>]  22.75M  --.-KB/s    in 0.09s   \n",
            "\n",
            "2022-02-02 12:59:20 (264 MB/s) - ‘superconductors.csv’ saved [23859780/23859780]\n",
            "\n"
          ]
        }
      ],
      "source": [
        "!wget 'https://raw.githubusercontent.com/abcom-mltutorials/automl/main/superconductors.csv'"
      ]
    },
    {
      "cell_type": "code",
      "execution_count": null,
      "metadata": {
        "id": "Y__xwS0D7eHC"
      },
      "outputs": [],
      "source": [
        "regressor_df=pd.read_csv('/content/superconductors.csv')"
      ]
    },
    {
      "cell_type": "code",
      "source": [
        "regressor_df.shape"
      ],
      "metadata": {
        "colab": {
          "base_uri": "https://localhost:8080/"
        },
        "id": "rqedHGLCtCh9",
        "outputId": "8d1e7718-a45f-4b5a-a7d3-2e6105aa8ea6"
      },
      "execution_count": null,
      "outputs": [
        {
          "output_type": "execute_result",
          "data": {
            "text/plain": [
              "(21263, 82)"
            ]
          },
          "metadata": {},
          "execution_count": 7
        }
      ]
    },
    {
      "cell_type": "code",
      "execution_count": null,
      "metadata": {
        "id": "a41vlLivv2K7"
      },
      "outputs": [],
      "source": [
        "features_regressor = regressor_df.iloc[:,:-1]\n",
        "label_regressor = regressor_df.iloc[:,-1]"
      ]
    },
    {
      "cell_type": "code",
      "execution_count": null,
      "metadata": {
        "id": "pxQwzGxUwEfA"
      },
      "outputs": [],
      "source": [
        "from sklearn.model_selection import train_test_split"
      ]
    },
    {
      "cell_type": "code",
      "execution_count": null,
      "metadata": {
        "id": "JKhmEiOGv2K-"
      },
      "outputs": [],
      "source": [
        "X_train_regressor, X_test_regressor, label_train_regressor, label_test_regressor = train_test_split(features_regressor, label_regressor, test_size=0.2, random_state=42)"
      ]
    },
    {
      "cell_type": "code",
      "execution_count": null,
      "metadata": {
        "id": "Q9BMsYBa76gQ"
      },
      "outputs": [],
      "source": [
        "from sklearn.metrics import mean_squared_error\n",
        "from sklearn.metrics import r2_score\n",
        "\n",
        "def error_metrics(y_pred,y_val):\n",
        "  print('MSE: ',mean_squared_error(y_pred,y_val))\n",
        "  print('RMSE: ',np.sqrt(mean_squared_error(y_pred,y_val)))\n",
        "  print('Coefficient of determination: ',r2_score(y_pred,y_val))"
      ]
    },
    {
      "cell_type": "markdown",
      "metadata": {
        "id": "eQ4LVjdYbCYL"
      },
      "source": [
        "### Regressor"
      ]
    },
    {
      "cell_type": "markdown",
      "metadata": {
        "id": "mYt3reWqbSQU"
      },
      "source": [
        "Convert pandas dataframe to H2OFrame format"
      ]
    },
    {
      "cell_type": "code",
      "execution_count": null,
      "metadata": {
        "id": "SD1_8nBeaVW-",
        "colab": {
          "base_uri": "https://localhost:8080/"
        },
        "outputId": "3e639679-6c66-4d7a-cb83-d11a4f26c486"
      },
      "outputs": [
        {
          "output_type": "stream",
          "name": "stdout",
          "text": [
            "Parse progress: |████████████████████████████████████████████████████████████████| (done) 100%\n"
          ]
        }
      ],
      "source": [
        "h2o_train1=h2o.H2OFrame(pd.concat([X_train_regressor, label_train_regressor], axis=1))"
      ]
    },
    {
      "cell_type": "code",
      "execution_count": null,
      "metadata": {
        "id": "NRLz0kKraVLm",
        "colab": {
          "base_uri": "https://localhost:8080/"
        },
        "outputId": "e0b69fa8-9be5-4c52-faa8-0de264edd17f"
      },
      "outputs": [
        {
          "output_type": "execute_result",
          "data": {
            "text/plain": [
              "(17010, 82)"
            ]
          },
          "metadata": {},
          "execution_count": 13
        }
      ],
      "source": [
        "h2o_train1.shape"
      ]
    },
    {
      "cell_type": "code",
      "execution_count": null,
      "metadata": {
        "id": "-L_oY8XuaOvz",
        "colab": {
          "base_uri": "https://localhost:8080/",
          "height": 274
        },
        "outputId": "b34d0c30-440b-4596-d06e-576e12fa6aca"
      },
      "outputs": [
        {
          "output_type": "display_data",
          "data": {
            "text/html": [
              "<table>\n",
              "<thead>\n",
              "<tr><th style=\"text-align: right;\">  number_of_elements</th><th style=\"text-align: right;\">  mean_atomic_mass</th><th style=\"text-align: right;\">  wtd_mean_atomic_mass</th><th style=\"text-align: right;\">  gmean_atomic_mass</th><th style=\"text-align: right;\">  wtd_gmean_atomic_mass</th><th style=\"text-align: right;\">  entropy_atomic_mass</th><th style=\"text-align: right;\">  wtd_entropy_atomic_mass</th><th style=\"text-align: right;\">  range_atomic_mass</th><th style=\"text-align: right;\">  wtd_range_atomic_mass</th><th style=\"text-align: right;\">  std_atomic_mass</th><th style=\"text-align: right;\">  wtd_std_atomic_mass</th><th style=\"text-align: right;\">  mean_fie</th><th style=\"text-align: right;\">  wtd_mean_fie</th><th style=\"text-align: right;\">  gmean_fie</th><th style=\"text-align: right;\">  wtd_gmean_fie</th><th style=\"text-align: right;\">  entropy_fie</th><th style=\"text-align: right;\">  wtd_entropy_fie</th><th style=\"text-align: right;\">  range_fie</th><th style=\"text-align: right;\">  wtd_range_fie</th><th style=\"text-align: right;\">  std_fie</th><th style=\"text-align: right;\">  wtd_std_fie</th><th style=\"text-align: right;\">  mean_atomic_radius</th><th style=\"text-align: right;\">  wtd_mean_atomic_radius</th><th style=\"text-align: right;\">  gmean_atomic_radius</th><th style=\"text-align: right;\">  wtd_gmean_atomic_radius</th><th style=\"text-align: right;\">  entropy_atomic_radius</th><th style=\"text-align: right;\">  wtd_entropy_atomic_radius</th><th style=\"text-align: right;\">  range_atomic_radius</th><th style=\"text-align: right;\">  wtd_range_atomic_radius</th><th style=\"text-align: right;\">  std_atomic_radius</th><th style=\"text-align: right;\">  wtd_std_atomic_radius</th><th style=\"text-align: right;\">  mean_Density</th><th style=\"text-align: right;\">  wtd_mean_Density</th><th style=\"text-align: right;\">  gmean_Density</th><th style=\"text-align: right;\">  wtd_gmean_Density</th><th style=\"text-align: right;\">  entropy_Density</th><th style=\"text-align: right;\">  wtd_entropy_Density</th><th style=\"text-align: right;\">  range_Density</th><th style=\"text-align: right;\">  wtd_range_Density</th><th style=\"text-align: right;\">  std_Density</th><th style=\"text-align: right;\">  wtd_std_Density</th><th style=\"text-align: right;\">  mean_ElectronAffinity</th><th style=\"text-align: right;\">  wtd_mean_ElectronAffinity</th><th style=\"text-align: right;\">  gmean_ElectronAffinity</th><th style=\"text-align: right;\">  wtd_gmean_ElectronAffinity</th><th style=\"text-align: right;\">  entropy_ElectronAffinity</th><th style=\"text-align: right;\">  wtd_entropy_ElectronAffinity</th><th style=\"text-align: right;\">  range_ElectronAffinity</th><th style=\"text-align: right;\">  wtd_range_ElectronAffinity</th><th style=\"text-align: right;\">  std_ElectronAffinity</th><th style=\"text-align: right;\">  wtd_std_ElectronAffinity</th><th style=\"text-align: right;\">  mean_FusionHeat</th><th style=\"text-align: right;\">  wtd_mean_FusionHeat</th><th style=\"text-align: right;\">  gmean_FusionHeat</th><th style=\"text-align: right;\">  wtd_gmean_FusionHeat</th><th style=\"text-align: right;\">  entropy_FusionHeat</th><th style=\"text-align: right;\">  wtd_entropy_FusionHeat</th><th style=\"text-align: right;\">  range_FusionHeat</th><th style=\"text-align: right;\">  wtd_range_FusionHeat</th><th style=\"text-align: right;\">  std_FusionHeat</th><th style=\"text-align: right;\">  wtd_std_FusionHeat</th><th style=\"text-align: right;\">  mean_ThermalConductivity</th><th style=\"text-align: right;\">  wtd_mean_ThermalConductivity</th><th style=\"text-align: right;\">  gmean_ThermalConductivity</th><th style=\"text-align: right;\">  wtd_gmean_ThermalConductivity</th><th style=\"text-align: right;\">  entropy_ThermalConductivity</th><th style=\"text-align: right;\">  wtd_entropy_ThermalConductivity</th><th style=\"text-align: right;\">  range_ThermalConductivity</th><th style=\"text-align: right;\">  wtd_range_ThermalConductivity</th><th style=\"text-align: right;\">  std_ThermalConductivity</th><th style=\"text-align: right;\">  wtd_std_ThermalConductivity</th><th style=\"text-align: right;\">  mean_Valence</th><th style=\"text-align: right;\">  wtd_mean_Valence</th><th style=\"text-align: right;\">  gmean_Valence</th><th style=\"text-align: right;\">  wtd_gmean_Valence</th><th style=\"text-align: right;\">  entropy_Valence</th><th style=\"text-align: right;\">  wtd_entropy_Valence</th><th style=\"text-align: right;\">  range_Valence</th><th style=\"text-align: right;\">  wtd_range_Valence</th><th style=\"text-align: right;\">  std_Valence</th><th style=\"text-align: right;\">  wtd_std_Valence</th><th style=\"text-align: right;\">  critical_temp</th></tr>\n",
              "</thead>\n",
              "<tbody>\n",
              "<tr><td style=\"text-align: right;\">                   2</td><td style=\"text-align: right;\">           77.1435</td><td style=\"text-align: right;\">               53.7223</td><td style=\"text-align: right;\">            71.3723</td><td style=\"text-align: right;\">                51.8483</td><td style=\"text-align: right;\">             0.619298</td><td style=\"text-align: right;\">                 0.497747</td><td style=\"text-align: right;\">            58.553 </td><td style=\"text-align: right;\">                32.4383</td><td style=\"text-align: right;\">          29.2765</td><td style=\"text-align: right;\">              17.5659</td><td style=\"text-align: right;\">   730.65 </td><td style=\"text-align: right;\">       672.37 </td><td style=\"text-align: right;\">    727.009</td><td style=\"text-align: right;\">        671.094</td><td style=\"text-align: right;\">     0.688168</td><td style=\"text-align: right;\">         0.365933</td><td style=\"text-align: right;\">      145.7</td><td style=\"text-align: right;\">        511.67 </td><td style=\"text-align: right;\">   72.85 </td><td style=\"text-align: right;\">      43.71  </td><td style=\"text-align: right;\">             172.5  </td><td style=\"text-align: right;\">                 175.3  </td><td style=\"text-align: right;\">              172.464</td><td style=\"text-align: right;\">                 175.287 </td><td style=\"text-align: right;\">               0.692941</td><td style=\"text-align: right;\">                   0.317114</td><td style=\"text-align: right;\">                    7</td><td style=\"text-align: right;\">                 141.5   </td><td style=\"text-align: right;\">             3.5   </td><td style=\"text-align: right;\">                 2.1   </td><td style=\"text-align: right;\">       8265   </td><td style=\"text-align: right;\">           5258.6 </td><td style=\"text-align: right;\">       7361.23 </td><td style=\"text-align: right;\">          4971.64  </td><td style=\"text-align: right;\">         0.585882</td><td style=\"text-align: right;\">             0.537622</td><td style=\"text-align: right;\">        7516   </td><td style=\"text-align: right;\">            2854   </td><td style=\"text-align: right;\">      3758   </td><td style=\"text-align: right;\">          2254.8 </td><td style=\"text-align: right;\">                32.15  </td><td style=\"text-align: right;\">                    13.71  </td><td style=\"text-align: right;\">                 22.4125</td><td style=\"text-align: right;\">                     10.8976</td><td style=\"text-align: right;\">                  0.407721</td><td style=\"text-align: right;\">                      0.674062</td><td style=\"text-align: right;\">                   46.1 </td><td style=\"text-align: right;\">                      2.67  </td><td style=\"text-align: right;\">               23.05  </td><td style=\"text-align: right;\">                  13.83   </td><td style=\"text-align: right;\">         17.7    </td><td style=\"text-align: right;\">             18.5    </td><td style=\"text-align: right;\">          17.6717 </td><td style=\"text-align: right;\">              18.4897 </td><td style=\"text-align: right;\">            0.69155 </td><td style=\"text-align: right;\">                0.303163</td><td style=\"text-align: right;\">             2    </td><td style=\"text-align: right;\">              15.16   </td><td style=\"text-align: right;\">         1      </td><td style=\"text-align: right;\">            0.6     </td><td style=\"text-align: right;\">                   46.5   </td><td style=\"text-align: right;\">                       26.9   </td><td style=\"text-align: right;\">                   39.5221 </td><td style=\"text-align: right;\">                      24.7347  </td><td style=\"text-align: right;\">                     0.547081</td><td style=\"text-align: right;\">                         0.577138</td><td style=\"text-align: right;\">                    49     </td><td style=\"text-align: right;\">                        12.7   </td><td style=\"text-align: right;\">                  24.5   </td><td style=\"text-align: right;\">                     14.7    </td><td style=\"text-align: right;\">       4      </td><td style=\"text-align: right;\">           4      </td><td style=\"text-align: right;\">        4      </td><td style=\"text-align: right;\">            4      </td><td style=\"text-align: right;\">         0.693147</td><td style=\"text-align: right;\">             0.325083</td><td style=\"text-align: right;\">              0</td><td style=\"text-align: right;\">            3.2    </td><td style=\"text-align: right;\">     0       </td><td style=\"text-align: right;\">         0       </td><td style=\"text-align: right;\">           5   </td></tr>\n",
              "<tr><td style=\"text-align: right;\">                   4</td><td style=\"text-align: right;\">          104.366 </td><td style=\"text-align: right;\">               71.9223</td><td style=\"text-align: right;\">            72.7469</td><td style=\"text-align: right;\">                43.3696</td><td style=\"text-align: right;\">             1.12946 </td><td style=\"text-align: right;\">                 1.22124 </td><td style=\"text-align: right;\">           184.591 </td><td style=\"text-align: right;\">                26.332 </td><td style=\"text-align: right;\">          70.3925</td><td style=\"text-align: right;\">              65.5682</td><td style=\"text-align: right;\">   891.65 </td><td style=\"text-align: right;\">       994.525</td><td style=\"text-align: right;\">    838.585</td><td style=\"text-align: right;\">        923.669</td><td style=\"text-align: right;\">     1.32808 </td><td style=\"text-align: right;\">         1.01287 </td><td style=\"text-align: right;\">      810.6</td><td style=\"text-align: right;\">        555.95 </td><td style=\"text-align: right;\">  301.513</td><td style=\"text-align: right;\">     347.304 </td><td style=\"text-align: right;\">             154.25 </td><td style=\"text-align: right;\">                 126.1  </td><td style=\"text-align: right;\">              131.729</td><td style=\"text-align: right;\">                  97.4778</td><td style=\"text-align: right;\">               1.26018 </td><td style=\"text-align: right;\">                   1.23591 </td><td style=\"text-align: right;\">                  205</td><td style=\"text-align: right;\">                  46.15  </td><td style=\"text-align: right;\">            73.1552</td><td style=\"text-align: right;\">                85.6206</td><td style=\"text-align: right;\">       6501.36</td><td style=\"text-align: right;\">           3575.61</td><td style=\"text-align: right;\">        883.117</td><td style=\"text-align: right;\">            93.2893</td><td style=\"text-align: right;\">         0.977862</td><td style=\"text-align: right;\">             1.08198 </td><td style=\"text-align: right;\">       13532.6 </td><td style=\"text-align: right;\">            1352.69</td><td style=\"text-align: right;\">      5164.79</td><td style=\"text-align: right;\">          4544.69</td><td style=\"text-align: right;\">                69.8375</td><td style=\"text-align: right;\">                    93.2475</td><td style=\"text-align: right;\">                 25.085 </td><td style=\"text-align: right;\">                     50.5326</td><td style=\"text-align: right;\">                  0.894571</td><td style=\"text-align: right;\">                      0.665238</td><td style=\"text-align: right;\">                  141   </td><td style=\"text-align: right;\">                     71.1   </td><td style=\"text-align: right;\">               62.0768</td><td style=\"text-align: right;\">                  60.6163 </td><td style=\"text-align: right;\">          5.903  </td><td style=\"text-align: right;\">              4.305  </td><td style=\"text-align: right;\">           2.7017 </td><td style=\"text-align: right;\">               1.26626</td><td style=\"text-align: right;\">            0.96372 </td><td style=\"text-align: right;\">                0.96452 </td><td style=\"text-align: right;\">            12.878</td><td style=\"text-align: right;\">               1.889  </td><td style=\"text-align: right;\">         5.0379 </td><td style=\"text-align: right;\">            4.87417 </td><td style=\"text-align: right;\">                  106.582 </td><td style=\"text-align: right;\">                       65.3433</td><td style=\"text-align: right;\">                    6.31308</td><td style=\"text-align: right;\">                       1.01932 </td><td style=\"text-align: right;\">                     0.270718</td><td style=\"text-align: right;\">                         0.31978 </td><td style=\"text-align: right;\">                   399.973 </td><td style=\"text-align: right;\">                        59.9867</td><td style=\"text-align: right;\">                 169.525 </td><td style=\"text-align: right;\">                    140.777  </td><td style=\"text-align: right;\">       2      </td><td style=\"text-align: right;\">           2      </td><td style=\"text-align: right;\">        2      </td><td style=\"text-align: right;\">            2      </td><td style=\"text-align: right;\">         1.38629 </td><td style=\"text-align: right;\">             1.20797 </td><td style=\"text-align: right;\">              0</td><td style=\"text-align: right;\">            0.8    </td><td style=\"text-align: right;\">     0       </td><td style=\"text-align: right;\">         0       </td><td style=\"text-align: right;\">          97   </td></tr>\n",
              "<tr><td style=\"text-align: right;\">                   5</td><td style=\"text-align: right;\">           74.2317</td><td style=\"text-align: right;\">               51.257 </td><td style=\"text-align: right;\">            60.5152</td><td style=\"text-align: right;\">                34.9414</td><td style=\"text-align: right;\">             1.45375 </td><td style=\"text-align: right;\">                 1.32785 </td><td style=\"text-align: right;\">           121.328 </td><td style=\"text-align: right;\">                20.7249</td><td style=\"text-align: right;\">          39.4459</td><td style=\"text-align: right;\">              44.1955</td><td style=\"text-align: right;\">   816.36 </td><td style=\"text-align: right;\">      1004.61 </td><td style=\"text-align: right;\">    771.891</td><td style=\"text-align: right;\">        938.687</td><td style=\"text-align: right;\">     1.55251 </td><td style=\"text-align: right;\">         0.91589 </td><td style=\"text-align: right;\">      810.6</td><td style=\"text-align: right;\">        701.48 </td><td style=\"text-align: right;\">  282.395</td><td style=\"text-align: right;\">     341.879 </td><td style=\"text-align: right;\">             160    </td><td style=\"text-align: right;\">                 114.52 </td><td style=\"text-align: right;\">              139.595</td><td style=\"text-align: right;\">                  89.6737</td><td style=\"text-align: right;\">               1.50122 </td><td style=\"text-align: right;\">                   1.3751  </td><td style=\"text-align: right;\">                  205</td><td style=\"text-align: right;\">                  38.0492</td><td style=\"text-align: right;\">            69.9228</td><td style=\"text-align: right;\">                79.2286</td><td style=\"text-align: right;\">       4816.69</td><td style=\"text-align: right;\">           2941.26</td><td style=\"text-align: right;\">       1074.9  </td><td style=\"text-align: right;\">            66.2495</td><td style=\"text-align: right;\">         1.32221 </td><td style=\"text-align: right;\">             0.886765</td><td style=\"text-align: right;\">        8958.57</td><td style=\"text-align: right;\">            2011.78</td><td style=\"text-align: right;\">      3084.73</td><td style=\"text-align: right;\">          3623.39</td><td style=\"text-align: right;\">                62.09  </td><td style=\"text-align: right;\">                   108.441 </td><td style=\"text-align: right;\">                 26.1868</td><td style=\"text-align: right;\">                     84.2373</td><td style=\"text-align: right;\">                  1.13043 </td><td style=\"text-align: right;\">                      0.759361</td><td style=\"text-align: right;\">                  141   </td><td style=\"text-align: right;\">                     76.7215</td><td style=\"text-align: right;\">               57.6447</td><td style=\"text-align: right;\">                  50.1496 </td><td style=\"text-align: right;\">          8.0144 </td><td style=\"text-align: right;\">              5.21492</td><td style=\"text-align: right;\">           4.54968</td><td style=\"text-align: right;\">               1.33217</td><td style=\"text-align: right;\">            1.38466 </td><td style=\"text-align: right;\">                1.09119 </td><td style=\"text-align: right;\">            12.878</td><td style=\"text-align: right;\">               2.89723</td><td style=\"text-align: right;\">         4.43821</td><td style=\"text-align: right;\">            5.6172  </td><td style=\"text-align: right;\">                  111.005 </td><td style=\"text-align: right;\">                       94.6759</td><td style=\"text-align: right;\">                   13.1312 </td><td style=\"text-align: right;\">                       1.0882  </td><td style=\"text-align: right;\">                     0.785624</td><td style=\"text-align: right;\">                         0.25133 </td><td style=\"text-align: right;\">                   399.973 </td><td style=\"text-align: right;\">                        89.8318</td><td style=\"text-align: right;\">                 150.6   </td><td style=\"text-align: right;\">                    164.729  </td><td style=\"text-align: right;\">       2.2    </td><td style=\"text-align: right;\">           2.07692</td><td style=\"text-align: right;\">        2.16894</td><td style=\"text-align: right;\">            2.06336</td><td style=\"text-align: right;\">         1.59417 </td><td style=\"text-align: right;\">             1.22915 </td><td style=\"text-align: right;\">              1</td><td style=\"text-align: right;\">            1.06462</td><td style=\"text-align: right;\">     0.4     </td><td style=\"text-align: right;\">         0.266469</td><td style=\"text-align: right;\">          62.1 </td></tr>\n",
              "<tr><td style=\"text-align: right;\">                   7</td><td style=\"text-align: right;\">           88.3096</td><td style=\"text-align: right;\">               48.5869</td><td style=\"text-align: right;\">            69.1383</td><td style=\"text-align: right;\">                33.5429</td><td style=\"text-align: right;\">             1.7407  </td><td style=\"text-align: right;\">                 1.72444 </td><td style=\"text-align: right;\">           191.201 </td><td style=\"text-align: right;\">                11.9385</td><td style=\"text-align: right;\">          57.3296</td><td style=\"text-align: right;\">              45.1898</td><td style=\"text-align: right;\">   726.443</td><td style=\"text-align: right;\">      1005.64 </td><td style=\"text-align: right;\">    694.26 </td><td style=\"text-align: right;\">        942.996</td><td style=\"text-align: right;\">     1.89503 </td><td style=\"text-align: right;\">         1.0389  </td><td style=\"text-align: right;\">      764.1</td><td style=\"text-align: right;\">        698.469</td><td style=\"text-align: right;\">  249.459</td><td style=\"text-align: right;\">     337.508 </td><td style=\"text-align: right;\">             161.143</td><td style=\"text-align: right;\">                 109.165</td><td style=\"text-align: right;\">              147.32 </td><td style=\"text-align: right;\">                  87.7387</td><td style=\"text-align: right;\">               1.87866 </td><td style=\"text-align: right;\">                   1.67124 </td><td style=\"text-align: right;\">                  171</td><td style=\"text-align: right;\">                  31.2923</td><td style=\"text-align: right;\">            53.6561</td><td style=\"text-align: right;\">                69.9644</td><td style=\"text-align: right;\">       5180.49</td><td style=\"text-align: right;\">           2780   </td><td style=\"text-align: right;\">       1526.89 </td><td style=\"text-align: right;\">            61.3443</td><td style=\"text-align: right;\">         1.61534 </td><td style=\"text-align: right;\">             1.2959  </td><td style=\"text-align: right;\">       11338.6 </td><td style=\"text-align: right;\">            1550   </td><td style=\"text-align: right;\">      3850.22</td><td style=\"text-align: right;\">          3788.79</td><td style=\"text-align: right;\">                52.9857</td><td style=\"text-align: right;\">                   101.848 </td><td style=\"text-align: right;\">                 28.4107</td><td style=\"text-align: right;\">                     65.1467</td><td style=\"text-align: right;\">                  1.49271 </td><td style=\"text-align: right;\">                      0.733149</td><td style=\"text-align: right;\">                  138.63</td><td style=\"text-align: right;\">                     76.5819</td><td style=\"text-align: right;\">               51.1558</td><td style=\"text-align: right;\">                  56.2531 </td><td style=\"text-align: right;\">          7.04171</td><td style=\"text-align: right;\">              4.6365 </td><td style=\"text-align: right;\">           4.46216</td><td style=\"text-align: right;\">               1.24001</td><td style=\"text-align: right;\">            1.71958 </td><td style=\"text-align: right;\">                1.39218 </td><td style=\"text-align: right;\">            12.878</td><td style=\"text-align: right;\">               2.21715</td><td style=\"text-align: right;\">         4.22292</td><td style=\"text-align: right;\">            5.19682 </td><td style=\"text-align: right;\">                  109.861 </td><td style=\"text-align: right;\">                       85.7182</td><td style=\"text-align: right;\">                   23.2124 </td><td style=\"text-align: right;\">                       1.1754  </td><td style=\"text-align: right;\">                     1.2948  </td><td style=\"text-align: right;\">                         0.733572</td><td style=\"text-align: right;\">                   399.973 </td><td style=\"text-align: right;\">                        69.2165</td><td style=\"text-align: right;\">                 133.618 </td><td style=\"text-align: right;\">                    149.124  </td><td style=\"text-align: right;\">       2.57143</td><td style=\"text-align: right;\">           2.13846</td><td style=\"text-align: right;\">        2.4794 </td><td style=\"text-align: right;\">            2.10498</td><td style=\"text-align: right;\">         1.90804 </td><td style=\"text-align: right;\">             1.47983 </td><td style=\"text-align: right;\">              2</td><td style=\"text-align: right;\">            1.03077</td><td style=\"text-align: right;\">     0.728431</td><td style=\"text-align: right;\">         0.451559</td><td style=\"text-align: right;\">          60   </td></tr>\n",
              "<tr><td style=\"text-align: right;\">                   5</td><td style=\"text-align: right;\">           69.3214</td><td style=\"text-align: right;\">               72.15  </td><td style=\"text-align: right;\">            56.1045</td><td style=\"text-align: right;\">                55.643 </td><td style=\"text-align: right;\">             1.43438 </td><td style=\"text-align: right;\">                 1.30236 </td><td style=\"text-align: right;\">           124.908 </td><td style=\"text-align: right;\">                31.2271</td><td style=\"text-align: right;\">          40.7154</td><td style=\"text-align: right;\">              45.0741</td><td style=\"text-align: right;\">   860.62 </td><td style=\"text-align: right;\">       886.175</td><td style=\"text-align: right;\">    822.541</td><td style=\"text-align: right;\">        839.406</td><td style=\"text-align: right;\">     1.56427 </td><td style=\"text-align: right;\">         1.46439 </td><td style=\"text-align: right;\">      786.5</td><td style=\"text-align: right;\">        271.418</td><td style=\"text-align: right;\">  262.468</td><td style=\"text-align: right;\">     287.831 </td><td style=\"text-align: right;\">             143.4  </td><td style=\"text-align: right;\">                 140.95 </td><td style=\"text-align: right;\">              126.23 </td><td style=\"text-align: right;\">                 120.267 </td><td style=\"text-align: right;\">               1.5012  </td><td style=\"text-align: right;\">                   1.41585 </td><td style=\"text-align: right;\">                  199</td><td style=\"text-align: right;\">                  50.35  </td><td style=\"text-align: right;\">            64.7012</td><td style=\"text-align: right;\">                72.1245</td><td style=\"text-align: right;\">       5828.49</td><td style=\"text-align: right;\">           5137.56</td><td style=\"text-align: right;\">       1306.6  </td><td style=\"text-align: right;\">           816.245 </td><td style=\"text-align: right;\">         1.37305 </td><td style=\"text-align: right;\">             1.33988 </td><td style=\"text-align: right;\">        8898.57</td><td style=\"text-align: right;\">            1659.64</td><td style=\"text-align: right;\">      3106.18</td><td style=\"text-align: right;\">          3101.33</td><td style=\"text-align: right;\">                71.18  </td><td style=\"text-align: right;\">                    76.275 </td><td style=\"text-align: right;\">                 57.9633</td><td style=\"text-align: right;\">                     62.199 </td><td style=\"text-align: right;\">                  1.43837 </td><td style=\"text-align: right;\">                      1.30999 </td><td style=\"text-align: right;\">                  125.3 </td><td style=\"text-align: right;\">                     32.615 </td><td style=\"text-align: right;\">               41.2133</td><td style=\"text-align: right;\">                  43.2714 </td><td style=\"text-align: right;\">         12.9644 </td><td style=\"text-align: right;\">             12.3355 </td><td style=\"text-align: right;\">           6.24331</td><td style=\"text-align: right;\">               4.97867</td><td style=\"text-align: right;\">            1.29709 </td><td style=\"text-align: right;\">                1.17108 </td><td style=\"text-align: right;\">            27.478</td><td style=\"text-align: right;\">               6.8695 </td><td style=\"text-align: right;\">         9.24609</td><td style=\"text-align: right;\">           10.2266  </td><td style=\"text-align: right;\">                   48.4053</td><td style=\"text-align: right;\">                       37.0816</td><td style=\"text-align: right;\">                   10.6419 </td><td style=\"text-align: right;\">                       6.1866  </td><td style=\"text-align: right;\">                     1.21451 </td><td style=\"text-align: right;\">                         1.27256 </td><td style=\"text-align: right;\">                    99.9734</td><td style=\"text-align: right;\">                        13.8184</td><td style=\"text-align: right;\">                  37.9332</td><td style=\"text-align: right;\">                     33.6805 </td><td style=\"text-align: right;\">       3.6    </td><td style=\"text-align: right;\">           3.575  </td><td style=\"text-align: right;\">        3.43754</td><td style=\"text-align: right;\">            3.38194</td><td style=\"text-align: right;\">         1.56706 </td><td style=\"text-align: right;\">             1.48855 </td><td style=\"text-align: right;\">              3</td><td style=\"text-align: right;\">            0.95   </td><td style=\"text-align: right;\">     1.0198  </td><td style=\"text-align: right;\">         1.11552 </td><td style=\"text-align: right;\">           4   </td></tr>\n",
              "<tr><td style=\"text-align: right;\">                   4</td><td style=\"text-align: right;\">           57.4444</td><td style=\"text-align: right;\">               60.4458</td><td style=\"text-align: right;\">            56.0679</td><td style=\"text-align: right;\">                58.9051</td><td style=\"text-align: right;\">             1.36278 </td><td style=\"text-align: right;\">                 1.10841 </td><td style=\"text-align: right;\">            34.8436</td><td style=\"text-align: right;\">                27.6113</td><td style=\"text-align: right;\">          12.3675</td><td style=\"text-align: right;\">              13.2099</td><td style=\"text-align: right;\">   763.2  </td><td style=\"text-align: right;\">       799.96 </td><td style=\"text-align: right;\">    752.67 </td><td style=\"text-align: right;\">        788.083</td><td style=\"text-align: right;\">     1.37257 </td><td style=\"text-align: right;\">         1.12723 </td><td style=\"text-align: right;\">      356.8</td><td style=\"text-align: right;\">        348.156</td><td style=\"text-align: right;\">  126.232</td><td style=\"text-align: right;\">     134.509 </td><td style=\"text-align: right;\">             154    </td><td style=\"text-align: right;\">                 146.64 </td><td style=\"text-align: right;\">              151.328</td><td style=\"text-align: right;\">                 143.589 </td><td style=\"text-align: right;\">               1.36919 </td><td style=\"text-align: right;\">                   1.21457 </td><td style=\"text-align: right;\">                   80</td><td style=\"text-align: right;\">                  50.08  </td><td style=\"text-align: right;\">            28.3196</td><td style=\"text-align: right;\">                30.1236</td><td style=\"text-align: right;\">       6012.75</td><td style=\"text-align: right;\">           5791.44</td><td style=\"text-align: right;\">       4994.14 </td><td style=\"text-align: right;\">          5033.19  </td><td style=\"text-align: right;\">         1.25184 </td><td style=\"text-align: right;\">             1.04472 </td><td style=\"text-align: right;\">        7350   </td><td style=\"text-align: right;\">            2524.64</td><td style=\"text-align: right;\">      2819.5 </td><td style=\"text-align: right;\">          2355.31</td><td style=\"text-align: right;\">                41.4425</td><td style=\"text-align: right;\">                    41.374 </td><td style=\"text-align: right;\">                 24.2361</td><td style=\"text-align: right;\">                     24.8341</td><td style=\"text-align: right;\">                  1.04224 </td><td style=\"text-align: right;\">                      0.735213</td><td style=\"text-align: right;\">                   75.63</td><td style=\"text-align: right;\">                     31.026 </td><td style=\"text-align: right;\">               31.6709</td><td style=\"text-align: right;\">                  33.1033 </td><td style=\"text-align: right;\">         16.56   </td><td style=\"text-align: right;\">             18.404  </td><td style=\"text-align: right;\">          15.1647 </td><td style=\"text-align: right;\">              16.6733 </td><td style=\"text-align: right;\">            1.2999  </td><td style=\"text-align: right;\">                0.997444</td><td style=\"text-align: right;\">            19.16 </td><td style=\"text-align: right;\">              10.432  </td><td style=\"text-align: right;\">         7.00299</td><td style=\"text-align: right;\">            7.86455 </td><td style=\"text-align: right;\">                  107.25  </td><td style=\"text-align: right;\">                       92.44  </td><td style=\"text-align: right;\">                   94.2772 </td><td style=\"text-align: right;\">                      79.9723  </td><td style=\"text-align: right;\">                     1.25734 </td><td style=\"text-align: right;\">                         1.19222 </td><td style=\"text-align: right;\">                   150     </td><td style=\"text-align: right;\">                        36     </td><td style=\"text-align: right;\">                  56.4153</td><td style=\"text-align: right;\">                     55.6921 </td><td style=\"text-align: right;\">       3.5    </td><td style=\"text-align: right;\">           3.64   </td><td style=\"text-align: right;\">        3.30975</td><td style=\"text-align: right;\">            3.43273</td><td style=\"text-align: right;\">         1.33374 </td><td style=\"text-align: right;\">             1.06954 </td><td style=\"text-align: right;\">              3</td><td style=\"text-align: right;\">            1.84   </td><td style=\"text-align: right;\">     1.11803 </td><td style=\"text-align: right;\">         1.19599 </td><td style=\"text-align: right;\">          17.1 </td></tr>\n",
              "<tr><td style=\"text-align: right;\">                   4</td><td style=\"text-align: right;\">           76.5177</td><td style=\"text-align: right;\">               56.8601</td><td style=\"text-align: right;\">            59.3101</td><td style=\"text-align: right;\">                35.7899</td><td style=\"text-align: right;\">             1.19727 </td><td style=\"text-align: right;\">                 0.976766</td><td style=\"text-align: right;\">           122.906 </td><td style=\"text-align: right;\">                35.0597</td><td style=\"text-align: right;\">          44.2895</td><td style=\"text-align: right;\">              52.5883</td><td style=\"text-align: right;\">   787.05 </td><td style=\"text-align: right;\">      1011.53 </td><td style=\"text-align: right;\">    734.22 </td><td style=\"text-align: right;\">        940.281</td><td style=\"text-align: right;\">     1.31301 </td><td style=\"text-align: right;\">         0.785487</td><td style=\"text-align: right;\">      772  </td><td style=\"text-align: right;\">        739.128</td><td style=\"text-align: right;\">  314.506</td><td style=\"text-align: right;\">     353.83  </td><td style=\"text-align: right;\">             151.75 </td><td style=\"text-align: right;\">                 104.347</td><td style=\"text-align: right;\">              131.302</td><td style=\"text-align: right;\">                  84.1011</td><td style=\"text-align: right;\">               1.27527 </td><td style=\"text-align: right;\">                   1.15508 </td><td style=\"text-align: right;\">                  171</td><td style=\"text-align: right;\">                  47.2569</td><td style=\"text-align: right;\">            65.5796</td><td style=\"text-align: right;\">                67.0747</td><td style=\"text-align: right;\">       4434.36</td><td style=\"text-align: right;\">           2964.99</td><td style=\"text-align: right;\">        674.485</td><td style=\"text-align: right;\">            53.4724</td><td style=\"text-align: right;\">         0.995983</td><td style=\"text-align: right;\">             0.766422</td><td style=\"text-align: right;\">        8958.57</td><td style=\"text-align: right;\">            1629.63</td><td style=\"text-align: right;\">      3402.86</td><td style=\"text-align: right;\">          3583.25</td><td style=\"text-align: right;\">                79.6075</td><td style=\"text-align: right;\">                   111.822 </td><td style=\"text-align: right;\">                 48.4773</td><td style=\"text-align: right;\">                     98.6115</td><td style=\"text-align: right;\">                  1.09667 </td><td style=\"text-align: right;\">                      0.777916</td><td style=\"text-align: right;\">                  135.97</td><td style=\"text-align: right;\">                     81.2952</td><td style=\"text-align: right;\">               54.3731</td><td style=\"text-align: right;\">                  42.4732 </td><td style=\"text-align: right;\">          6.9055 </td><td style=\"text-align: right;\">              3.83301</td><td style=\"text-align: right;\">           3.47947</td><td style=\"text-align: right;\">               1.03896</td><td style=\"text-align: right;\">            1.08858 </td><td style=\"text-align: right;\">                0.959291</td><td style=\"text-align: right;\">            12.878</td><td style=\"text-align: right;\">               1.74457</td><td style=\"text-align: right;\">         4.59906</td><td style=\"text-align: right;\">            4.65709 </td><td style=\"text-align: right;\">                  112.007 </td><td style=\"text-align: right;\">                       61.3218</td><td style=\"text-align: right;\">                    8.33982</td><td style=\"text-align: right;\">                       0.628818</td><td style=\"text-align: right;\">                     0.403693</td><td style=\"text-align: right;\">                         0.281597</td><td style=\"text-align: right;\">                   399.973 </td><td style=\"text-align: right;\">                        57.1277</td><td style=\"text-align: right;\">                 166.742 </td><td style=\"text-align: right;\">                    138.444  </td><td style=\"text-align: right;\">       2.25   </td><td style=\"text-align: right;\">           2.26529</td><td style=\"text-align: right;\">        2.21336</td><td style=\"text-align: right;\">            2.22712</td><td style=\"text-align: right;\">         1.36892 </td><td style=\"text-align: right;\">             1.04624 </td><td style=\"text-align: right;\">              1</td><td style=\"text-align: right;\">            1.102  </td><td style=\"text-align: right;\">     0.433013</td><td style=\"text-align: right;\">         0.441485</td><td style=\"text-align: right;\">          36.6 </td></tr>\n",
              "<tr><td style=\"text-align: right;\">                   5</td><td style=\"text-align: right;\">           81.5399</td><td style=\"text-align: right;\">               52.9075</td><td style=\"text-align: right;\">            45.8481</td><td style=\"text-align: right;\">                30.4982</td><td style=\"text-align: right;\">             1.21189 </td><td style=\"text-align: right;\">                 1.17848 </td><td style=\"text-align: right;\">           156.448 </td><td style=\"text-align: right;\">                23.0871</td><td style=\"text-align: right;\">          68.8406</td><td style=\"text-align: right;\">              55.0399</td><td style=\"text-align: right;\">   754.42 </td><td style=\"text-align: right;\">       789.717</td><td style=\"text-align: right;\">    732.89 </td><td style=\"text-align: right;\">        776.059</td><td style=\"text-align: right;\">     1.57971 </td><td style=\"text-align: right;\">         1.36375 </td><td style=\"text-align: right;\">      516.7</td><td style=\"text-align: right;\">        257.25 </td><td style=\"text-align: right;\">  187.952</td><td style=\"text-align: right;\">     151.455 </td><td style=\"text-align: right;\">             150.8  </td><td style=\"text-align: right;\">                 127.483</td><td style=\"text-align: right;\">              134.59 </td><td style=\"text-align: right;\">                 116.833 </td><td style=\"text-align: right;\">               1.50669 </td><td style=\"text-align: right;\">                   1.37333 </td><td style=\"text-align: right;\">                  159</td><td style=\"text-align: right;\">                  45.9167</td><td style=\"text-align: right;\">            66.7185</td><td style=\"text-align: right;\">                54.08  </td><td style=\"text-align: right;\">       6182.6 </td><td style=\"text-align: right;\">           5662.88</td><td style=\"text-align: right;\">       5169.06 </td><td style=\"text-align: right;\">          4621.5   </td><td style=\"text-align: right;\">         1.46315 </td><td style=\"text-align: right;\">             1.23121 </td><td style=\"text-align: right;\">        6806   </td><td style=\"text-align: right;\">            2832.35</td><td style=\"text-align: right;\">      3134.75</td><td style=\"text-align: right;\">          3271.97</td><td style=\"text-align: right;\">                80.02  </td><td style=\"text-align: right;\">                    81.7167</td><td style=\"text-align: right;\">                 66.6902</td><td style=\"text-align: right;\">                     65.911 </td><td style=\"text-align: right;\">                  1.43945 </td><td style=\"text-align: right;\">                      1.24031 </td><td style=\"text-align: right;\">                  127.2 </td><td style=\"text-align: right;\">                     36.975 </td><td style=\"text-align: right;\">               47.149 </td><td style=\"text-align: right;\">                  48.4608 </td><td style=\"text-align: right;\">         40.58   </td><td style=\"text-align: right;\">             43.065  </td><td style=\"text-align: right;\">          28.6809 </td><td style=\"text-align: right;\">              33.6576 </td><td style=\"text-align: right;\">            1.27913 </td><td style=\"text-align: right;\">                1.20967 </td><td style=\"text-align: right;\">            94.2  </td><td style=\"text-align: right;\">              17.32   </td><td style=\"text-align: right;\">        34.9279 </td><td style=\"text-align: right;\">           31.2442  </td><td style=\"text-align: right;\">                   56.8   </td><td style=\"text-align: right;\">                       65.1   </td><td style=\"text-align: right;\">                   35.547  </td><td style=\"text-align: right;\">                      48.0389  </td><td style=\"text-align: right;\">                     1.21833 </td><td style=\"text-align: right;\">                         1.12998 </td><td style=\"text-align: right;\">                   129     </td><td style=\"text-align: right;\">                        30.15  </td><td style=\"text-align: right;\">                  50.6454</td><td style=\"text-align: right;\">                     45.4726 </td><td style=\"text-align: right;\">       3      </td><td style=\"text-align: right;\">           2.83333</td><td style=\"text-align: right;\">        2.93016</td><td style=\"text-align: right;\">            2.74946</td><td style=\"text-align: right;\">         1.58678 </td><td style=\"text-align: right;\">             1.41195 </td><td style=\"text-align: right;\">              2</td><td style=\"text-align: right;\">            0.95   </td><td style=\"text-align: right;\">     0.632456</td><td style=\"text-align: right;\">         0.687184</td><td style=\"text-align: right;\">           9.2 </td></tr>\n",
              "<tr><td style=\"text-align: right;\">                   4</td><td style=\"text-align: right;\">           68.2889</td><td style=\"text-align: right;\">               55.7084</td><td style=\"text-align: right;\">            49.9449</td><td style=\"text-align: right;\">                33.0954</td><td style=\"text-align: right;\">             1.15092 </td><td style=\"text-align: right;\">                 1.0434  </td><td style=\"text-align: right;\">           126.895 </td><td style=\"text-align: right;\">                30.7547</td><td style=\"text-align: right;\">          45.4657</td><td style=\"text-align: right;\">              51.8719</td><td style=\"text-align: right;\">   777    </td><td style=\"text-align: right;\">       862.725</td><td style=\"text-align: right;\">    753.416</td><td style=\"text-align: right;\">        828.411</td><td style=\"text-align: right;\">     1.35528 </td><td style=\"text-align: right;\">         1.03279 </td><td style=\"text-align: right;\">      544.6</td><td style=\"text-align: right;\">        496.288</td><td style=\"text-align: right;\">  195.98 </td><td style=\"text-align: right;\">     233.639 </td><td style=\"text-align: right;\">             139    </td><td style=\"text-align: right;\">                 119.25 </td><td style=\"text-align: right;\">              129.618</td><td style=\"text-align: right;\">                 106.685 </td><td style=\"text-align: right;\">               1.32587 </td><td style=\"text-align: right;\">                   1.25821 </td><td style=\"text-align: right;\">                  128</td><td style=\"text-align: right;\">                  39.6875</td><td style=\"text-align: right;\">            45.9783</td><td style=\"text-align: right;\">                54.8355</td><td style=\"text-align: right;\">       6568.5 </td><td style=\"text-align: right;\">           4896.75</td><td style=\"text-align: right;\">       5770.29 </td><td style=\"text-align: right;\">          4090.77  </td><td style=\"text-align: right;\">         1.28444 </td><td style=\"text-align: right;\">             1.31693 </td><td style=\"text-align: right;\">        6700   </td><td style=\"text-align: right;\">            1110.25</td><td style=\"text-align: right;\">      2735.61</td><td style=\"text-align: right;\">          2813.39</td><td style=\"text-align: right;\">               109.575 </td><td style=\"text-align: right;\">                   118.85  </td><td style=\"text-align: right;\">                101.15  </td><td style=\"text-align: right;\">                    108.297 </td><td style=\"text-align: right;\">                  1.31841 </td><td style=\"text-align: right;\">                      0.995652</td><td style=\"text-align: right;\">                  105.9 </td><td style=\"text-align: right;\">                     70.2062</td><td style=\"text-align: right;\">               38.1803</td><td style=\"text-align: right;\">                  43.3098 </td><td style=\"text-align: right;\">         35.4    </td><td style=\"text-align: right;\">             58.1187 </td><td style=\"text-align: right;\">          19.6486 </td><td style=\"text-align: right;\">              32.5028 </td><td style=\"text-align: right;\">            0.836516</td><td style=\"text-align: right;\">                0.410127</td><td style=\"text-align: right;\">            98.7  </td><td style=\"text-align: right;\">              51.6812 </td><td style=\"text-align: right;\">        40.3717 </td><td style=\"text-align: right;\">           47.0195  </td><td style=\"text-align: right;\">                  161     </td><td style=\"text-align: right;\">                      115.312 </td><td style=\"text-align: right;\">                   90.218  </td><td style=\"text-align: right;\">                      76.12    </td><td style=\"text-align: right;\">                     0.982841</td><td style=\"text-align: right;\">                         1.01777 </td><td style=\"text-align: right;\">                   387     </td><td style=\"text-align: right;\">                        66.75  </td><td style=\"text-align: right;\">                 145.229 </td><td style=\"text-align: right;\">                     89.9887 </td><td style=\"text-align: right;\">       2.75   </td><td style=\"text-align: right;\">           3.25   </td><td style=\"text-align: right;\">        2.63215</td><td style=\"text-align: right;\">            3.13017</td><td style=\"text-align: right;\">         1.34211 </td><td style=\"text-align: right;\">             1.01164 </td><td style=\"text-align: right;\">              2</td><td style=\"text-align: right;\">            1.875  </td><td style=\"text-align: right;\">     0.829156</td><td style=\"text-align: right;\">         0.829156</td><td style=\"text-align: right;\">           3.48</td></tr>\n",
              "<tr><td style=\"text-align: right;\">                   2</td><td style=\"text-align: right;\">          173.053 </td><td style=\"text-align: right;\">              190.126 </td><td style=\"text-align: right;\">           169.65  </td><td style=\"text-align: right;\">               187.487 </td><td style=\"text-align: right;\">             0.673551</td><td style=\"text-align: right;\">                 0.475386</td><td style=\"text-align: right;\">            68.2945</td><td style=\"text-align: right;\">               120.674 </td><td style=\"text-align: right;\">          34.1473</td><td style=\"text-align: right;\">              29.5724</td><td style=\"text-align: right;\">   628.15 </td><td style=\"text-align: right;\">       671.675</td><td style=\"text-align: right;\">    622.089</td><td style=\"text-align: right;\">        667.022</td><td style=\"text-align: right;\">     0.683514</td><td style=\"text-align: right;\">         0.502336</td><td style=\"text-align: right;\">      174.1</td><td style=\"text-align: right;\">        401.125</td><td style=\"text-align: right;\">   87.05 </td><td style=\"text-align: right;\">      75.3875</td><td style=\"text-align: right;\">             174.5  </td><td style=\"text-align: right;\">                 164.25 </td><td style=\"text-align: right;\">              173.292</td><td style=\"text-align: right;\">                 163.361 </td><td style=\"text-align: right;\">               0.686231</td><td style=\"text-align: right;\">                   0.608132</td><td style=\"text-align: right;\">                   41</td><td style=\"text-align: right;\">                  66.75  </td><td style=\"text-align: right;\">            20.5   </td><td style=\"text-align: right;\">                17.7535</td><td style=\"text-align: right;\">       8743   </td><td style=\"text-align: right;\">          10041.5 </td><td style=\"text-align: right;\">       8348.39 </td><td style=\"text-align: right;\">          9729.89  </td><td style=\"text-align: right;\">         0.648359</td><td style=\"text-align: right;\">             0.427903</td><td style=\"text-align: right;\">        5194   </td><td style=\"text-align: right;\">            6968.5 </td><td style=\"text-align: right;\">      2597   </td><td style=\"text-align: right;\">          2249.07</td><td style=\"text-align: right;\">                43.05  </td><td style=\"text-align: right;\">                    39.825 </td><td style=\"text-align: right;\">                 42.5641</td><td style=\"text-align: right;\">                     39.4695</td><td style=\"text-align: right;\">                  0.681881</td><td style=\"text-align: right;\">                      0.619687</td><td style=\"text-align: right;\">                   12.9 </td><td style=\"text-align: right;\">                     15.075 </td><td style=\"text-align: right;\">                6.45  </td><td style=\"text-align: right;\">                   5.58586</td><td style=\"text-align: right;\">          5.535  </td><td style=\"text-align: right;\">              5.1525 </td><td style=\"text-align: right;\">           5.48188</td><td style=\"text-align: right;\">               5.11357</td><td style=\"text-align: right;\">            0.683565</td><td style=\"text-align: right;\">                0.615598</td><td style=\"text-align: right;\">             1.53 </td><td style=\"text-align: right;\">               2.0025 </td><td style=\"text-align: right;\">         0.765  </td><td style=\"text-align: right;\">            0.662509</td><td style=\"text-align: right;\">                   24     </td><td style=\"text-align: right;\">                       29.5   </td><td style=\"text-align: right;\">                   21.3307 </td><td style=\"text-align: right;\">                      27.3235  </td><td style=\"text-align: right;\">                     0.584086</td><td style=\"text-align: right;\">                         0.34687 </td><td style=\"text-align: right;\">                    22     </td><td style=\"text-align: right;\">                        23     </td><td style=\"text-align: right;\">                  11     </td><td style=\"text-align: right;\">                      9.52628</td><td style=\"text-align: right;\">       3.5    </td><td style=\"text-align: right;\">           3.75   </td><td style=\"text-align: right;\">        3.4641 </td><td style=\"text-align: right;\">            3.72242</td><td style=\"text-align: right;\">         0.682908</td><td style=\"text-align: right;\">             0.500402</td><td style=\"text-align: right;\">              1</td><td style=\"text-align: right;\">            2.25   </td><td style=\"text-align: right;\">     0.5     </td><td style=\"text-align: right;\">         0.433013</td><td style=\"text-align: right;\">           4.1 </td></tr>\n",
              "</tbody>\n",
              "</table>"
            ]
          },
          "metadata": {}
        },
        {
          "output_type": "execute_result",
          "data": {
            "text/plain": [
              ""
            ]
          },
          "metadata": {},
          "execution_count": 14
        }
      ],
      "source": [
        "h2o_train1"
      ]
    },
    {
      "cell_type": "markdown",
      "source": [
        "Identify features and label as x1 and y1 respectively:"
      ],
      "metadata": {
        "id": "JF7txwOsVri7"
      }
    },
    {
      "cell_type": "code",
      "execution_count": null,
      "metadata": {
        "id": "MLCw6NqRaehl"
      },
      "outputs": [],
      "source": [
        "x1 = h2o_train1.columns\n",
        "y1 = 'critical_temp'\n",
        "x1.remove(y1)"
      ]
    },
    {
      "cell_type": "markdown",
      "source": [
        "Convert the validation set to H2O dataframe:"
      ],
      "metadata": {
        "id": "MM-rUiJUWD-B"
      }
    },
    {
      "cell_type": "code",
      "execution_count": null,
      "metadata": {
        "id": "F_tueJT5aezN",
        "colab": {
          "base_uri": "https://localhost:8080/"
        },
        "outputId": "ec97c3d6-8f04-4530-858d-e5042e6420d7"
      },
      "outputs": [
        {
          "output_type": "stream",
          "name": "stdout",
          "text": [
            "Parse progress: |████████████████████████████████████████████████████████████████| (done) 100%\n"
          ]
        }
      ],
      "source": [
        "h2o_test1=h2o.H2OFrame(pd.concat([X_test_regressor, label_test_regressor], axis=1))"
      ]
    },
    {
      "cell_type": "markdown",
      "metadata": {
        "id": "y4y3OC4ovSg5"
      },
      "source": [
        "\n",
        "We will evaluate only 5 models to keep processing time within our limits"
      ]
    },
    {
      "cell_type": "code",
      "source": [
        "import time\n",
        "tic = time.perf_counter()"
      ],
      "metadata": {
        "id": "Xi_IR4mFPf7t"
      },
      "execution_count": null,
      "outputs": []
    },
    {
      "cell_type": "code",
      "execution_count": null,
      "metadata": {
        "id": "IcztJ5mnakON",
        "colab": {
          "base_uri": "https://localhost:8080/"
        },
        "outputId": "821d3497-e95d-4e17-f0f1-61ae46cdfccb"
      },
      "outputs": [
        {
          "output_type": "stream",
          "name": "stdout",
          "text": [
            "AutoML progress: |███████████████████████████████████████████████████████████████| (done) 100%\n",
            "Model Details\n",
            "=============\n",
            "H2OStackedEnsembleEstimator :  Stacked Ensemble\n",
            "Model Key:  StackedEnsemble_AllModels_1_AutoML_1_20220202_125932\n",
            "\n",
            "No model summary for this model\n",
            "\n",
            "ModelMetricsRegressionGLM: stackedensemble\n",
            "** Reported on train data. **\n",
            "\n",
            "MSE: 30.36412449377898\n",
            "RMSE: 5.5103651869707315\n",
            "MAE: 3.0472429197227138\n",
            "RMSLE: 0.264382359689889\n",
            "R^2: 0.9743715299764645\n",
            "Mean Residual Deviance: 30.36412449377898\n",
            "Null degrees of freedom: 10059\n",
            "Residual degrees of freedom: 10055\n",
            "Null deviance: 11919095.579362184\n",
            "Residual deviance: 305463.09240741655\n",
            "AIC: 62898.45695776482\n",
            "\n",
            "ModelMetricsRegressionGLM: stackedensemble\n",
            "** Reported on cross-validation data. **\n",
            "\n",
            "MSE: 90.1867056898929\n",
            "RMSE: 9.496668136240883\n",
            "MAE: 5.3973890314825015\n",
            "RMSLE: NaN\n",
            "R^2: 0.9234928128616765\n",
            "Mean Residual Deviance: 90.1867056898929\n",
            "Null degrees of freedom: 17009\n",
            "Residual degrees of freedom: 17005\n",
            "Null deviance: 20054671.68116817\n",
            "Residual deviance: 1534075.8637850783\n",
            "AIC: 124861.30221590724\n"
          ]
        },
        {
          "output_type": "execute_result",
          "data": {
            "text/plain": [
              ""
            ]
          },
          "metadata": {},
          "execution_count": 18
        }
      ],
      "source": [
        "# Run AutoML for 5 base models\n",
        "model_reg = H2OAutoML(max_models=5, seed=1)\n",
        "model_reg.train(x=x1, y=y1, training_frame=h2o_train1)"
      ]
    },
    {
      "cell_type": "code",
      "source": [
        "toc = time.perf_counter()\n",
        "print (f\"Elapsed time {toc - tic:0.4f} seconds\")"
      ],
      "metadata": {
        "id": "iep93lSTT0iC",
        "colab": {
          "base_uri": "https://localhost:8080/"
        },
        "outputId": "808d2b73-7e4f-4d20-c116-89cb37a7c2aa"
      },
      "execution_count": null,
      "outputs": [
        {
          "output_type": "stream",
          "name": "stdout",
          "text": [
            "Elapsed time 472.8628 seconds\n"
          ]
        }
      ]
    },
    {
      "cell_type": "markdown",
      "metadata": {
        "id": "06iD0SQ4xDFy"
      },
      "source": [
        "The following line displays all the models evaluated sorted descending on RMSE"
      ]
    },
    {
      "cell_type": "code",
      "execution_count": null,
      "metadata": {
        "id": "R--CNg9HanIe",
        "colab": {
          "base_uri": "https://localhost:8080/",
          "height": 339
        },
        "outputId": "51dc915b-a6ca-4321-c6b3-04f4e41d41ed"
      },
      "outputs": [
        {
          "output_type": "display_data",
          "data": {
            "text/html": [
              "<table>\n",
              "<thead>\n",
              "<tr><th>model_id                                               </th><th style=\"text-align: right;\">  mean_residual_deviance</th><th style=\"text-align: right;\">    rmse</th><th style=\"text-align: right;\">     mse</th><th style=\"text-align: right;\">     mae</th><th style=\"text-align: right;\">     rmsle</th></tr>\n",
              "</thead>\n",
              "<tbody>\n",
              "<tr><td>StackedEnsemble_AllModels_1_AutoML_1_20220202_125932   </td><td style=\"text-align: right;\">                 90.1867</td><td style=\"text-align: right;\"> 9.49667</td><td style=\"text-align: right;\"> 90.1867</td><td style=\"text-align: right;\"> 5.39739</td><td style=\"text-align: right;\">nan       </td></tr>\n",
              "<tr><td>StackedEnsemble_AllModels_4_AutoML_1_20220202_125932   </td><td style=\"text-align: right;\">                 90.2913</td><td style=\"text-align: right;\"> 9.50217</td><td style=\"text-align: right;\"> 90.2913</td><td style=\"text-align: right;\"> 5.41603</td><td style=\"text-align: right;\">  0.395058</td></tr>\n",
              "<tr><td>StackedEnsemble_AllModels_3_AutoML_1_20220202_125932   </td><td style=\"text-align: right;\">                 90.76  </td><td style=\"text-align: right;\"> 9.52681</td><td style=\"text-align: right;\"> 90.76  </td><td style=\"text-align: right;\"> 5.41195</td><td style=\"text-align: right;\">  0.394928</td></tr>\n",
              "<tr><td>StackedEnsemble_BestOfFamily_5_AutoML_1_20220202_125932</td><td style=\"text-align: right;\">                 90.9186</td><td style=\"text-align: right;\"> 9.53512</td><td style=\"text-align: right;\"> 90.9186</td><td style=\"text-align: right;\"> 5.44245</td><td style=\"text-align: right;\">nan       </td></tr>\n",
              "<tr><td>StackedEnsemble_BestOfFamily_2_AutoML_1_20220202_125932</td><td style=\"text-align: right;\">                 90.9357</td><td style=\"text-align: right;\"> 9.53602</td><td style=\"text-align: right;\"> 90.9357</td><td style=\"text-align: right;\"> 5.43532</td><td style=\"text-align: right;\">nan       </td></tr>\n",
              "<tr><td>StackedEnsemble_BestOfFamily_4_AutoML_1_20220202_125932</td><td style=\"text-align: right;\">                 90.9977</td><td style=\"text-align: right;\"> 9.53927</td><td style=\"text-align: right;\"> 90.9977</td><td style=\"text-align: right;\"> 5.43346</td><td style=\"text-align: right;\">  0.395641</td></tr>\n",
              "<tr><td>StackedEnsemble_BestOfFamily_1_AutoML_1_20220202_125932</td><td style=\"text-align: right;\">                 93.4991</td><td style=\"text-align: right;\"> 9.6695 </td><td style=\"text-align: right;\"> 93.4991</td><td style=\"text-align: right;\"> 5.59054</td><td style=\"text-align: right;\">nan       </td></tr>\n",
              "<tr><td>DRF_1_AutoML_1_20220202_125932                         </td><td style=\"text-align: right;\">                 93.8069</td><td style=\"text-align: right;\"> 9.6854 </td><td style=\"text-align: right;\"> 93.8069</td><td style=\"text-align: right;\"> 5.44139</td><td style=\"text-align: right;\">  0.392763</td></tr>\n",
              "<tr><td>StackedEnsemble_BestOfFamily_3_AutoML_1_20220202_125932</td><td style=\"text-align: right;\">                 95.5284</td><td style=\"text-align: right;\"> 9.77386</td><td style=\"text-align: right;\"> 95.5284</td><td style=\"text-align: right;\"> 5.49606</td><td style=\"text-align: right;\">nan       </td></tr>\n",
              "<tr><td>StackedEnsemble_AllModels_2_AutoML_1_20220202_125932   </td><td style=\"text-align: right;\">                 97.1997</td><td style=\"text-align: right;\"> 9.85899</td><td style=\"text-align: right;\"> 97.1997</td><td style=\"text-align: right;\"> 5.52575</td><td style=\"text-align: right;\">nan       </td></tr>\n",
              "<tr><td>GBM_1_AutoML_1_20220202_125932                         </td><td style=\"text-align: right;\">                 99.8606</td><td style=\"text-align: right;\"> 9.99303</td><td style=\"text-align: right;\"> 99.8606</td><td style=\"text-align: right;\"> 5.93713</td><td style=\"text-align: right;\">nan       </td></tr>\n",
              "<tr><td>XGBoost_2_AutoML_1_20220202_125932                     </td><td style=\"text-align: right;\">                102.404 </td><td style=\"text-align: right;\">10.1195 </td><td style=\"text-align: right;\">102.404 </td><td style=\"text-align: right;\"> 5.8837 </td><td style=\"text-align: right;\">nan       </td></tr>\n",
              "<tr><td>XGBoost_1_AutoML_1_20220202_125932                     </td><td style=\"text-align: right;\">                103.122 </td><td style=\"text-align: right;\">10.1549 </td><td style=\"text-align: right;\">103.122 </td><td style=\"text-align: right;\"> 5.78762</td><td style=\"text-align: right;\">nan       </td></tr>\n",
              "<tr><td>GLM_1_AutoML_1_20220202_125932                         </td><td style=\"text-align: right;\">                325.554 </td><td style=\"text-align: right;\">18.0431 </td><td style=\"text-align: right;\">325.554 </td><td style=\"text-align: right;\">13.7184 </td><td style=\"text-align: right;\">nan       </td></tr>\n",
              "</tbody>\n",
              "</table>"
            ]
          },
          "metadata": {}
        },
        {
          "output_type": "execute_result",
          "data": {
            "text/plain": [
              ""
            ]
          },
          "metadata": {},
          "execution_count": 20
        }
      ],
      "source": [
        "#View the AutoML Leaderboard\n",
        "lb = model_reg.leaderboard\n",
        "lb.head(rows=lb.nrows)"
      ]
    },
    {
      "cell_type": "markdown",
      "metadata": {
        "id": "XFaXBqv1xQO8"
      },
      "source": [
        "No details are provided on the best model. We just use the model at the top of the leaderboard for doing inference"
      ]
    },
    {
      "cell_type": "code",
      "execution_count": null,
      "metadata": {
        "id": "aEw9NgjbarHr",
        "colab": {
          "base_uri": "https://localhost:8080/"
        },
        "outputId": "d8a38e40-48b9-4eb6-ca5e-1ac1494d8c37"
      },
      "outputs": [
        {
          "output_type": "stream",
          "name": "stdout",
          "text": [
            "Parse progress: |████████████████████████████████████████████████████████████████| (done) 100%\n",
            "stackedensemble prediction progress: |███████████████████████████████████████████| (done) 100%\n"
          ]
        }
      ],
      "source": [
        "preds = model_reg.leader.predict(h2o.H2OFrame(X_test_regressor))"
      ]
    },
    {
      "cell_type": "code",
      "execution_count": null,
      "metadata": {
        "id": "pZVUs31VauPD",
        "colab": {
          "base_uri": "https://localhost:8080/",
          "height": 254
        },
        "outputId": "2f212ffc-091d-402d-8294-f2668f4aa50c"
      },
      "outputs": [
        {
          "output_type": "display_data",
          "data": {
            "text/html": [
              "<table>\n",
              "<thead>\n",
              "<tr><th style=\"text-align: right;\">  predict</th></tr>\n",
              "</thead>\n",
              "<tbody>\n",
              "<tr><td style=\"text-align: right;\"> 10.7148 </td></tr>\n",
              "<tr><td style=\"text-align: right;\"> 85.1098 </td></tr>\n",
              "<tr><td style=\"text-align: right;\"> 25.8097 </td></tr>\n",
              "<tr><td style=\"text-align: right;\"> 17.5754 </td></tr>\n",
              "<tr><td style=\"text-align: right;\">  8.97076</td></tr>\n",
              "<tr><td style=\"text-align: right;\"> 72.0672 </td></tr>\n",
              "<tr><td style=\"text-align: right;\"> 86.3162 </td></tr>\n",
              "<tr><td style=\"text-align: right;\"> 59.1758 </td></tr>\n",
              "<tr><td style=\"text-align: right;\"> 30.1647 </td></tr>\n",
              "<tr><td style=\"text-align: right;\"> 13.6127 </td></tr>\n",
              "</tbody>\n",
              "</table>"
            ]
          },
          "metadata": {}
        },
        {
          "output_type": "execute_result",
          "data": {
            "text/plain": [
              ""
            ]
          },
          "metadata": {},
          "execution_count": 22
        }
      ],
      "source": [
        "preds"
      ]
    },
    {
      "cell_type": "markdown",
      "source": [
        "Predictions are stored in H2OFrame format. Convert it to numpy array."
      ],
      "metadata": {
        "id": "KZsasrtKWgjF"
      }
    },
    {
      "cell_type": "code",
      "execution_count": null,
      "metadata": {
        "id": "MxcTyxfgauh0",
        "colab": {
          "base_uri": "https://localhost:8080/"
        },
        "outputId": "c415bc27-fea1-4f1b-bab8-845f00898c90"
      },
      "outputs": [
        {
          "output_type": "execute_result",
          "data": {
            "text/plain": [
              "array([[10.71480725],\n",
              "       [85.10984002],\n",
              "       [25.80972218],\n",
              "       ...,\n",
              "       [ 3.77417897],\n",
              "       [10.84954632],\n",
              "       [ 4.67763777]])"
            ]
          },
          "metadata": {},
          "execution_count": 23
        }
      ],
      "source": [
        "np.array(preds['predict'].as_data_frame())"
      ]
    },
    {
      "cell_type": "code",
      "execution_count": null,
      "metadata": {
        "id": "f5ku2DWyau0c",
        "colab": {
          "base_uri": "https://localhost:8080/"
        },
        "outputId": "b32f0ffd-9701-4125-bdc3-dd0c53a48f0b"
      },
      "outputs": [
        {
          "output_type": "stream",
          "name": "stdout",
          "text": [
            "MSE:  77.42394821724238\n",
            "RMSE:  8.79908791962226\n",
            "Coefficient of determination:  0.9281053116039564\n"
          ]
        }
      ],
      "source": [
        "error_metrics(np.array(preds['predict'].as_data_frame()), label_test_regressor)"
      ]
    },
    {
      "cell_type": "markdown",
      "metadata": {
        "id": "H5jTf1zcxhIC"
      },
      "source": [
        "As the model details are not provided, reproducing the same performance is a challenge"
      ]
    },
    {
      "cell_type": "markdown",
      "metadata": {
        "id": "DmqZfAFCvL8W"
      },
      "source": [
        "## Biodegradation dataset (classification task)\n",
        "\n",
        "Source: https://archive.ics.uci.edu/ml/datasets/QSAR+biodegradation\n",
        "\n",
        "\n",
        "The dataset contains 21 numerical features (molecular attributes) of 1055 chemicals. The label corresponds to their experimental class (ready biodegradable \"RB\" or not ready biodegradable \"NRB\")"
      ]
    },
    {
      "cell_type": "code",
      "execution_count": null,
      "metadata": {
        "colab": {
          "base_uri": "https://localhost:8080/"
        },
        "id": "M-s3EL0vkrx6",
        "outputId": "b26c24d4-533b-47fe-e388-4d283489efa7"
      },
      "outputs": [
        {
          "output_type": "stream",
          "name": "stdout",
          "text": [
            "--2022-02-02 13:07:27--  https://raw.githubusercontent.com/abcom-mltutorials/automl/main/biodeg.csv\n",
            "Resolving raw.githubusercontent.com (raw.githubusercontent.com)... 185.199.108.133, 185.199.109.133, 185.199.110.133, ...\n",
            "Connecting to raw.githubusercontent.com (raw.githubusercontent.com)|185.199.108.133|:443... connected.\n",
            "HTTP request sent, awaiting response... 200 OK\n",
            "Length: 155987 (152K) [text/plain]\n",
            "Saving to: ‘biodeg.csv’\n",
            "\n",
            "biodeg.csv          100%[===================>] 152.33K  --.-KB/s    in 0.01s   \n",
            "\n",
            "2022-02-02 13:07:28 (11.8 MB/s) - ‘biodeg.csv’ saved [155987/155987]\n",
            "\n"
          ]
        }
      ],
      "source": [
        "!wget 'https://raw.githubusercontent.com/abcom-mltutorials/automl/main/biodeg.csv'"
      ]
    },
    {
      "cell_type": "code",
      "execution_count": null,
      "metadata": {
        "id": "w3z80TjM8kNb"
      },
      "outputs": [],
      "source": [
        "classifier_df=pd.read_csv('/content/biodeg.csv', delimiter=';', header=None)"
      ]
    },
    {
      "cell_type": "code",
      "source": [
        "classifier_df.shape"
      ],
      "metadata": {
        "colab": {
          "base_uri": "https://localhost:8080/"
        },
        "id": "IJPcV2Igtwlu",
        "outputId": "2a871746-febb-4038-9a21-31d72cc89924"
      },
      "execution_count": null,
      "outputs": [
        {
          "output_type": "execute_result",
          "data": {
            "text/plain": [
              "(1055, 42)"
            ]
          },
          "metadata": {},
          "execution_count": 27
        }
      ]
    },
    {
      "cell_type": "code",
      "execution_count": null,
      "metadata": {
        "id": "njCToUld8kNe"
      },
      "outputs": [],
      "source": [
        "classifier_df.rename(columns={41:'label'}, inplace=True)"
      ]
    },
    {
      "cell_type": "code",
      "execution_count": null,
      "metadata": {
        "id": "go8S2BJK8kNg"
      },
      "outputs": [],
      "source": [
        "classifier_df.columns = classifier_df.columns.astype(str)"
      ]
    },
    {
      "cell_type": "code",
      "execution_count": null,
      "metadata": {
        "id": "EJdaGiAK8kNi"
      },
      "outputs": [],
      "source": [
        "features_classifier = classifier_df.iloc[:,:-1]\n",
        "label_classifier = classifier_df.iloc[:,-1]"
      ]
    },
    {
      "cell_type": "code",
      "execution_count": null,
      "metadata": {
        "colab": {
          "base_uri": "https://localhost:8080/"
        },
        "id": "qWrZ70S8Wmsc",
        "outputId": "645c5754-946a-45fb-9cba-60dd8c1ef0e4"
      },
      "outputs": [
        {
          "output_type": "stream",
          "name": "stdout",
          "text": [
            "Requirement already satisfied: imblearn in /usr/local/lib/python3.7/dist-packages (0.0)\n",
            "Requirement already satisfied: imbalanced-learn in /usr/local/lib/python3.7/dist-packages (from imblearn) (0.8.1)\n",
            "Requirement already satisfied: scikit-learn>=0.24 in /usr/local/lib/python3.7/dist-packages (from imbalanced-learn->imblearn) (1.0.2)\n",
            "Requirement already satisfied: scipy>=0.19.1 in /usr/local/lib/python3.7/dist-packages (from imbalanced-learn->imblearn) (1.4.1)\n",
            "Requirement already satisfied: joblib>=0.11 in /usr/local/lib/python3.7/dist-packages (from imbalanced-learn->imblearn) (1.1.0)\n",
            "Requirement already satisfied: numpy>=1.13.3 in /usr/local/lib/python3.7/dist-packages (from imbalanced-learn->imblearn) (1.19.5)\n",
            "Requirement already satisfied: threadpoolctl>=2.0.0 in /usr/local/lib/python3.7/dist-packages (from scikit-learn>=0.24->imbalanced-learn->imblearn) (3.0.0)\n"
          ]
        }
      ],
      "source": [
        "!pip install imblearn"
      ]
    },
    {
      "cell_type": "code",
      "execution_count": null,
      "metadata": {
        "id": "Kkk7_G-Z8kNl"
      },
      "outputs": [],
      "source": [
        "from imblearn.over_sampling import SMOTE"
      ]
    },
    {
      "cell_type": "code",
      "execution_count": null,
      "metadata": {
        "id": "ny7eshsU8kNn"
      },
      "outputs": [],
      "source": [
        "sm = SMOTE(random_state=42)\n",
        "X_classifier, y_classifier = sm.fit_resample(features_classifier, label_classifier)"
      ]
    },
    {
      "cell_type": "code",
      "execution_count": null,
      "metadata": {
        "colab": {
          "base_uri": "https://localhost:8080/"
        },
        "id": "EOZVdb5K8kNq",
        "outputId": "ccceaaee-2693-40f4-dea5-f34ae385365b"
      },
      "outputs": [
        {
          "output_type": "execute_result",
          "data": {
            "text/plain": [
              "RB     699\n",
              "NRB    699\n",
              "Name: label, dtype: int64"
            ]
          },
          "metadata": {},
          "execution_count": 34
        }
      ],
      "source": [
        "y_classifier.value_counts()"
      ]
    },
    {
      "cell_type": "code",
      "execution_count": null,
      "metadata": {
        "id": "PZyfq9x18kNs"
      },
      "outputs": [],
      "source": [
        "y_classifier = y_classifier.replace('NRB',0).replace('RB',1)"
      ]
    },
    {
      "cell_type": "code",
      "execution_count": null,
      "metadata": {
        "id": "kIoTX5cd8kNx"
      },
      "outputs": [],
      "source": [
        "X_train_classifier, X_test_classifier, label_train_classifier, label_test_classifier = train_test_split(X_classifier, y_classifier, random_state=42, test_size = 0.2)"
      ]
    },
    {
      "cell_type": "code",
      "execution_count": null,
      "metadata": {
        "id": "lnKMBKkarEwv",
        "colab": {
          "base_uri": "https://localhost:8080/"
        },
        "outputId": "788feb35-29f1-4b77-eb7a-a12fe406018e"
      },
      "outputs": [
        {
          "output_type": "stream",
          "name": "stdout",
          "text": [
            "Parse progress: |████████████████████████████████████████████████████████████████| (done) 100%\n"
          ]
        }
      ],
      "source": [
        "h2o_train2=h2o.H2OFrame(pd.concat([X_train_classifier, label_train_classifier], axis=1))"
      ]
    },
    {
      "cell_type": "code",
      "execution_count": null,
      "metadata": {
        "id": "LSsx-FyMeIHA",
        "colab": {
          "base_uri": "https://localhost:8080/"
        },
        "outputId": "aaf5fccb-30ad-478d-ca89-7568115c1977"
      },
      "outputs": [
        {
          "output_type": "execute_result",
          "data": {
            "text/plain": [
              "(1118, 42)"
            ]
          },
          "metadata": {},
          "execution_count": 38
        }
      ],
      "source": [
        "h2o_train2.shape"
      ]
    },
    {
      "cell_type": "code",
      "execution_count": null,
      "metadata": {
        "id": "5PZtdx1FeIHB",
        "colab": {
          "base_uri": "https://localhost:8080/",
          "height": 274
        },
        "outputId": "7bb207ba-366b-49f4-e47c-166887ea1179"
      },
      "outputs": [
        {
          "output_type": "display_data",
          "data": {
            "text/html": [
              "<table>\n",
              "<thead>\n",
              "<tr><th style=\"text-align: right;\">      0</th><th style=\"text-align: right;\">      1</th><th style=\"text-align: right;\">  2</th><th style=\"text-align: right;\">  3</th><th style=\"text-align: right;\">  4</th><th style=\"text-align: right;\">  5</th><th style=\"text-align: right;\">  6</th><th style=\"text-align: right;\">      7</th><th style=\"text-align: right;\">  8</th><th style=\"text-align: right;\">  9</th><th style=\"text-align: right;\">  10</th><th style=\"text-align: right;\">    11</th><th style=\"text-align: right;\">     12</th><th style=\"text-align: right;\">     13</th><th style=\"text-align: right;\">      14</th><th style=\"text-align: right;\">  15</th><th style=\"text-align: right;\">      16</th><th style=\"text-align: right;\">     17</th><th style=\"text-align: right;\">  18</th><th style=\"text-align: right;\">  19</th><th style=\"text-align: right;\">  20</th><th style=\"text-align: right;\">     21</th><th style=\"text-align: right;\">  22</th><th style=\"text-align: right;\">  23</th><th style=\"text-align: right;\">  24</th><th style=\"text-align: right;\">  25</th><th style=\"text-align: right;\">     26</th><th style=\"text-align: right;\">        27</th><th style=\"text-align: right;\">  28</th><th style=\"text-align: right;\">     29</th><th style=\"text-align: right;\">      30</th><th style=\"text-align: right;\">  31</th><th style=\"text-align: right;\">  32</th><th style=\"text-align: right;\">  33</th><th style=\"text-align: right;\">  34</th><th style=\"text-align: right;\">     35</th><th style=\"text-align: right;\">     36</th><th style=\"text-align: right;\">  37</th><th style=\"text-align: right;\">     38</th><th style=\"text-align: right;\">  39</th><th style=\"text-align: right;\">  40</th><th style=\"text-align: right;\">  label</th></tr>\n",
              "</thead>\n",
              "<tbody>\n",
              "<tr><td style=\"text-align: right;\">4.644  </td><td style=\"text-align: right;\">3.9071 </td><td style=\"text-align: right;\">  0</td><td style=\"text-align: right;\">  0</td><td style=\"text-align: right;\">  0</td><td style=\"text-align: right;\">  0</td><td style=\"text-align: right;\">  0</td><td style=\"text-align: right;\">31.6   </td><td style=\"text-align: right;\">  2</td><td style=\"text-align: right;\">  3</td><td style=\"text-align: right;\">   0</td><td style=\"text-align: right;\">-0.104</td><td style=\"text-align: right;\">3.082  </td><td style=\"text-align: right;\">1.837  </td><td style=\"text-align: right;\"> 9.467  </td><td style=\"text-align: right;\">   5</td><td style=\"text-align: right;\">1.021   </td><td style=\"text-align: right;\">1.142  </td><td style=\"text-align: right;\">   0</td><td style=\"text-align: right;\">   0</td><td style=\"text-align: right;\">   0</td><td style=\"text-align: right;\">1.149  </td><td style=\"text-align: right;\">   0</td><td style=\"text-align: right;\">   0</td><td style=\"text-align: right;\">   0</td><td style=\"text-align: right;\">   0</td><td style=\"text-align: right;\">2.084  </td><td style=\"text-align: right;\"> 0.049    </td><td style=\"text-align: right;\">   0</td><td style=\"text-align: right;\">10.469 </td><td style=\"text-align: right;\"> 2.732  </td><td style=\"text-align: right;\">   0</td><td style=\"text-align: right;\">   0</td><td style=\"text-align: right;\">   0</td><td style=\"text-align: right;\">   1</td><td style=\"text-align: right;\">3.525  </td><td style=\"text-align: right;\">3.093  </td><td style=\"text-align: right;\">   0</td><td style=\"text-align: right;\">7.886  </td><td style=\"text-align: right;\">   0</td><td style=\"text-align: right;\">   0</td><td style=\"text-align: right;\">      1</td></tr>\n",
              "<tr><td style=\"text-align: right;\">5.156  </td><td style=\"text-align: right;\">2.4524 </td><td style=\"text-align: right;\">  0</td><td style=\"text-align: right;\">  0</td><td style=\"text-align: right;\">  0</td><td style=\"text-align: right;\">  0</td><td style=\"text-align: right;\">  4</td><td style=\"text-align: right;\">55.6   </td><td style=\"text-align: right;\">  0</td><td style=\"text-align: right;\">  6</td><td style=\"text-align: right;\">   0</td><td style=\"text-align: right;\">-3.296</td><td style=\"text-align: right;\">3.788  </td><td style=\"text-align: right;\">0.75   </td><td style=\"text-align: right;\">10.813  </td><td style=\"text-align: right;\">  16</td><td style=\"text-align: right;\">1.103   </td><td style=\"text-align: right;\">1.093  </td><td style=\"text-align: right;\">   0</td><td style=\"text-align: right;\">   0</td><td style=\"text-align: right;\">   0</td><td style=\"text-align: right;\">1.225  </td><td style=\"text-align: right;\">   6</td><td style=\"text-align: right;\">   0</td><td style=\"text-align: right;\">   0</td><td style=\"text-align: right;\">   0</td><td style=\"text-align: right;\">2.532  </td><td style=\"text-align: right;\"> 0        </td><td style=\"text-align: right;\">   0</td><td style=\"text-align: right;\">44.736 </td><td style=\"text-align: right;\"> 1.508  </td><td style=\"text-align: right;\">   0</td><td style=\"text-align: right;\">   0</td><td style=\"text-align: right;\">   0</td><td style=\"text-align: right;\">   0</td><td style=\"text-align: right;\">3.986  </td><td style=\"text-align: right;\">3.271  </td><td style=\"text-align: right;\">   0</td><td style=\"text-align: right;\">9.007  </td><td style=\"text-align: right;\">   4</td><td style=\"text-align: right;\">   0</td><td style=\"text-align: right;\">      1</td></tr>\n",
              "<tr><td style=\"text-align: right;\">4.414  </td><td style=\"text-align: right;\">4.3883 </td><td style=\"text-align: right;\">  0</td><td style=\"text-align: right;\">  1</td><td style=\"text-align: right;\">  0</td><td style=\"text-align: right;\">  0</td><td style=\"text-align: right;\">  0</td><td style=\"text-align: right;\"> 9.1   </td><td style=\"text-align: right;\">  0</td><td style=\"text-align: right;\">  2</td><td style=\"text-align: right;\">   0</td><td style=\"text-align: right;\">-0.662</td><td style=\"text-align: right;\">2.946  </td><td style=\"text-align: right;\">1.379  </td><td style=\"text-align: right;\"> 9.222  </td><td style=\"text-align: right;\">   2</td><td style=\"text-align: right;\">1.097   </td><td style=\"text-align: right;\">1.219  </td><td style=\"text-align: right;\">   0</td><td style=\"text-align: right;\">   0</td><td style=\"text-align: right;\">   0</td><td style=\"text-align: right;\">1.074  </td><td style=\"text-align: right;\">   0</td><td style=\"text-align: right;\">   0</td><td style=\"text-align: right;\">   0</td><td style=\"text-align: right;\">   0</td><td style=\"text-align: right;\">2      </td><td style=\"text-align: right;\"> 0.171    </td><td style=\"text-align: right;\">   0</td><td style=\"text-align: right;\">18.567 </td><td style=\"text-align: right;\"> 2.133  </td><td style=\"text-align: right;\">   0</td><td style=\"text-align: right;\">   0</td><td style=\"text-align: right;\">   1</td><td style=\"text-align: right;\">   4</td><td style=\"text-align: right;\">3.689  </td><td style=\"text-align: right;\">4.167  </td><td style=\"text-align: right;\">   4</td><td style=\"text-align: right;\">8.139  </td><td style=\"text-align: right;\">   0</td><td style=\"text-align: right;\">   0</td><td style=\"text-align: right;\">      0</td></tr>\n",
              "<tr><td style=\"text-align: right;\">4.50304</td><td style=\"text-align: right;\">3.03748</td><td style=\"text-align: right;\">  0</td><td style=\"text-align: right;\">  0</td><td style=\"text-align: right;\">  0</td><td style=\"text-align: right;\">  0</td><td style=\"text-align: right;\">  1</td><td style=\"text-align: right;\">43.4187</td><td style=\"text-align: right;\">  0</td><td style=\"text-align: right;\">  1</td><td style=\"text-align: right;\">   0</td><td style=\"text-align: right;\"> 0    </td><td style=\"text-align: right;\">3.01153</td><td style=\"text-align: right;\">1.18869</td><td style=\"text-align: right;\"> 9.32894</td><td style=\"text-align: right;\">   2</td><td style=\"text-align: right;\">0.990103</td><td style=\"text-align: right;\">1.11767</td><td style=\"text-align: right;\">   0</td><td style=\"text-align: right;\">   0</td><td style=\"text-align: right;\">   0</td><td style=\"text-align: right;\">1.25278</td><td style=\"text-align: right;\">   1</td><td style=\"text-align: right;\">   0</td><td style=\"text-align: right;\">   0</td><td style=\"text-align: right;\">   0</td><td style=\"text-align: right;\">2.13892</td><td style=\"text-align: right;\"> 0.0293011</td><td style=\"text-align: right;\">   0</td><td style=\"text-align: right;\"> 0     </td><td style=\"text-align: right;\"> 1.60547</td><td style=\"text-align: right;\">   0</td><td style=\"text-align: right;\">   1</td><td style=\"text-align: right;\">   0</td><td style=\"text-align: right;\">   0</td><td style=\"text-align: right;\">3.57322</td><td style=\"text-align: right;\">2.12985</td><td style=\"text-align: right;\">   0</td><td style=\"text-align: right;\">7.88921</td><td style=\"text-align: right;\">   0</td><td style=\"text-align: right;\">   0</td><td style=\"text-align: right;\">      1</td></tr>\n",
              "<tr><td style=\"text-align: right;\">5.029  </td><td style=\"text-align: right;\">1.6864 </td><td style=\"text-align: right;\">  2</td><td style=\"text-align: right;\">  0</td><td style=\"text-align: right;\">  7</td><td style=\"text-align: right;\">  0</td><td style=\"text-align: right;\">  2</td><td style=\"text-align: right;\">38.8   </td><td style=\"text-align: right;\">  0</td><td style=\"text-align: right;\">  0</td><td style=\"text-align: right;\">   6</td><td style=\"text-align: right;\"> 0    </td><td style=\"text-align: right;\">4.128  </td><td style=\"text-align: right;\">0      </td><td style=\"text-align: right;\">10.839  </td><td style=\"text-align: right;\">   0</td><td style=\"text-align: right;\">0.979   </td><td style=\"text-align: right;\">1.119  </td><td style=\"text-align: right;\">   0</td><td style=\"text-align: right;\">   0</td><td style=\"text-align: right;\">   0</td><td style=\"text-align: right;\">1.308  </td><td style=\"text-align: right;\">   5</td><td style=\"text-align: right;\">   0</td><td style=\"text-align: right;\">   0</td><td style=\"text-align: right;\">   0</td><td style=\"text-align: right;\">2.418  </td><td style=\"text-align: right;\"> 0        </td><td style=\"text-align: right;\">   0</td><td style=\"text-align: right;\"> 0     </td><td style=\"text-align: right;\"> 3.219  </td><td style=\"text-align: right;\">   0</td><td style=\"text-align: right;\">   0</td><td style=\"text-align: right;\">   7</td><td style=\"text-align: right;\">   0</td><td style=\"text-align: right;\">4.348  </td><td style=\"text-align: right;\">1.71   </td><td style=\"text-align: right;\">   2</td><td style=\"text-align: right;\">9.423  </td><td style=\"text-align: right;\">   0</td><td style=\"text-align: right;\">   0</td><td style=\"text-align: right;\">      0</td></tr>\n",
              "<tr><td style=\"text-align: right;\">5.07263</td><td style=\"text-align: right;\">2.60737</td><td style=\"text-align: right;\">  0</td><td style=\"text-align: right;\">  0</td><td style=\"text-align: right;\">  0</td><td style=\"text-align: right;\">  0</td><td style=\"text-align: right;\">  2</td><td style=\"text-align: right;\">36.4   </td><td style=\"text-align: right;\">  2</td><td style=\"text-align: right;\">  4</td><td style=\"text-align: right;\">   0</td><td style=\"text-align: right;\">-0.888</td><td style=\"text-align: right;\">4.15505</td><td style=\"text-align: right;\">2.94868</td><td style=\"text-align: right;\">10.6661 </td><td style=\"text-align: right;\">  12</td><td style=\"text-align: right;\">0.986   </td><td style=\"text-align: right;\">1.132  </td><td style=\"text-align: right;\">   0</td><td style=\"text-align: right;\">   0</td><td style=\"text-align: right;\">   0</td><td style=\"text-align: right;\">1.21158</td><td style=\"text-align: right;\">   1</td><td style=\"text-align: right;\">   0</td><td style=\"text-align: right;\">   0</td><td style=\"text-align: right;\">   0</td><td style=\"text-align: right;\">2.35226</td><td style=\"text-align: right;\"> 0        </td><td style=\"text-align: right;\">   0</td><td style=\"text-align: right;\">24.7957</td><td style=\"text-align: right;\"> 6.72816</td><td style=\"text-align: right;\">   0</td><td style=\"text-align: right;\">   0</td><td style=\"text-align: right;\">   0</td><td style=\"text-align: right;\">   0</td><td style=\"text-align: right;\">3.79421</td><td style=\"text-align: right;\">2.17184</td><td style=\"text-align: right;\">   0</td><td style=\"text-align: right;\">8.91178</td><td style=\"text-align: right;\">   2</td><td style=\"text-align: right;\">   0</td><td style=\"text-align: right;\">      1</td></tr>\n",
              "<tr><td style=\"text-align: right;\">5.219  </td><td style=\"text-align: right;\">2.2204 </td><td style=\"text-align: right;\">  0</td><td style=\"text-align: right;\">  0</td><td style=\"text-align: right;\">  0</td><td style=\"text-align: right;\">  1</td><td style=\"text-align: right;\">  0</td><td style=\"text-align: right;\">39.6   </td><td style=\"text-align: right;\">  5</td><td style=\"text-align: right;\">  3</td><td style=\"text-align: right;\">   0</td><td style=\"text-align: right;\"> 2.753</td><td style=\"text-align: right;\">3.964  </td><td style=\"text-align: right;\">1.362  </td><td style=\"text-align: right;\">11.07   </td><td style=\"text-align: right;\">  11</td><td style=\"text-align: right;\">0.989   </td><td style=\"text-align: right;\">1.126  </td><td style=\"text-align: right;\">   0</td><td style=\"text-align: right;\">   0</td><td style=\"text-align: right;\">   0</td><td style=\"text-align: right;\">1.257  </td><td style=\"text-align: right;\">   2</td><td style=\"text-align: right;\">   0</td><td style=\"text-align: right;\">   0</td><td style=\"text-align: right;\">   0</td><td style=\"text-align: right;\">2.616  </td><td style=\"text-align: right;\"> 0        </td><td style=\"text-align: right;\">   0</td><td style=\"text-align: right;\">24.463 </td><td style=\"text-align: right;\"> 4.097  </td><td style=\"text-align: right;\">   2</td><td style=\"text-align: right;\">   0</td><td style=\"text-align: right;\">   0</td><td style=\"text-align: right;\">   0</td><td style=\"text-align: right;\">3.791  </td><td style=\"text-align: right;\">2.322  </td><td style=\"text-align: right;\">   0</td><td style=\"text-align: right;\">9.014  </td><td style=\"text-align: right;\">   0</td><td style=\"text-align: right;\">   0</td><td style=\"text-align: right;\">      0</td></tr>\n",
              "<tr><td style=\"text-align: right;\">4.41413</td><td style=\"text-align: right;\">3.91573</td><td style=\"text-align: right;\">  0</td><td style=\"text-align: right;\">  0</td><td style=\"text-align: right;\">  0</td><td style=\"text-align: right;\">  0</td><td style=\"text-align: right;\">  0</td><td style=\"text-align: right;\">31.9035</td><td style=\"text-align: right;\">  2</td><td style=\"text-align: right;\">  2</td><td style=\"text-align: right;\">   0</td><td style=\"text-align: right;\"> 0    </td><td style=\"text-align: right;\">4.60619</td><td style=\"text-align: right;\">4.11443</td><td style=\"text-align: right;\">10.6944 </td><td style=\"text-align: right;\">   7</td><td style=\"text-align: right;\">0.967161</td><td style=\"text-align: right;\">1.14048</td><td style=\"text-align: right;\">   0</td><td style=\"text-align: right;\">   0</td><td style=\"text-align: right;\">   0</td><td style=\"text-align: right;\">1.20714</td><td style=\"text-align: right;\">   0</td><td style=\"text-align: right;\">   0</td><td style=\"text-align: right;\">   0</td><td style=\"text-align: right;\">   0</td><td style=\"text-align: right;\">2.09672</td><td style=\"text-align: right;\"> 0        </td><td style=\"text-align: right;\">   0</td><td style=\"text-align: right;\"> 0     </td><td style=\"text-align: right;\">10.035  </td><td style=\"text-align: right;\">   0</td><td style=\"text-align: right;\">   0</td><td style=\"text-align: right;\">   0</td><td style=\"text-align: right;\">   0</td><td style=\"text-align: right;\">3.78607</td><td style=\"text-align: right;\">1.64966</td><td style=\"text-align: right;\">   0</td><td style=\"text-align: right;\">9.07305</td><td style=\"text-align: right;\">   0</td><td style=\"text-align: right;\">   0</td><td style=\"text-align: right;\">      1</td></tr>\n",
              "<tr><td style=\"text-align: right;\">4.732  </td><td style=\"text-align: right;\">3.271  </td><td style=\"text-align: right;\">  1</td><td style=\"text-align: right;\">  0</td><td style=\"text-align: right;\">  1</td><td style=\"text-align: right;\">  0</td><td style=\"text-align: right;\">  2</td><td style=\"text-align: right;\">42.9   </td><td style=\"text-align: right;\">  0</td><td style=\"text-align: right;\">  0</td><td style=\"text-align: right;\">   2</td><td style=\"text-align: right;\"> 0    </td><td style=\"text-align: right;\">3.202  </td><td style=\"text-align: right;\">0.875  </td><td style=\"text-align: right;\"> 9.579  </td><td style=\"text-align: right;\">   0</td><td style=\"text-align: right;\">1.005   </td><td style=\"text-align: right;\">1.121  </td><td style=\"text-align: right;\">   0</td><td style=\"text-align: right;\">   0</td><td style=\"text-align: right;\">   0</td><td style=\"text-align: right;\">1.312  </td><td style=\"text-align: right;\">   1</td><td style=\"text-align: right;\">   0</td><td style=\"text-align: right;\">   1</td><td style=\"text-align: right;\">   0</td><td style=\"text-align: right;\">2.194  </td><td style=\"text-align: right;\"> 0.045    </td><td style=\"text-align: right;\">   0</td><td style=\"text-align: right;\"> 0     </td><td style=\"text-align: right;\"> 0.854  </td><td style=\"text-align: right;\">   0</td><td style=\"text-align: right;\">   2</td><td style=\"text-align: right;\">   2</td><td style=\"text-align: right;\">   2</td><td style=\"text-align: right;\">3.903  </td><td style=\"text-align: right;\">2.431  </td><td style=\"text-align: right;\">   1</td><td style=\"text-align: right;\">8.466  </td><td style=\"text-align: right;\">   0</td><td style=\"text-align: right;\">   1</td><td style=\"text-align: right;\">      0</td></tr>\n",
              "<tr><td style=\"text-align: right;\">4.9    </td><td style=\"text-align: right;\">3.0875 </td><td style=\"text-align: right;\">  0</td><td style=\"text-align: right;\">  0</td><td style=\"text-align: right;\">  1</td><td style=\"text-align: right;\">  0</td><td style=\"text-align: right;\">  1</td><td style=\"text-align: right;\">40.9   </td><td style=\"text-align: right;\">  1</td><td style=\"text-align: right;\">  1</td><td style=\"text-align: right;\">   2</td><td style=\"text-align: right;\"> 0.052</td><td style=\"text-align: right;\">3.304  </td><td style=\"text-align: right;\">1.455  </td><td style=\"text-align: right;\"> 9.955  </td><td style=\"text-align: right;\">   2</td><td style=\"text-align: right;\">0.993   </td><td style=\"text-align: right;\">1.127  </td><td style=\"text-align: right;\">   0</td><td style=\"text-align: right;\">   0</td><td style=\"text-align: right;\">   0</td><td style=\"text-align: right;\">1.258  </td><td style=\"text-align: right;\">   1</td><td style=\"text-align: right;\">   0</td><td style=\"text-align: right;\">   0</td><td style=\"text-align: right;\">   0</td><td style=\"text-align: right;\">2.251  </td><td style=\"text-align: right;\">-0.008    </td><td style=\"text-align: right;\">   0</td><td style=\"text-align: right;\">10.87  </td><td style=\"text-align: right;\"> 2.15   </td><td style=\"text-align: right;\">   0</td><td style=\"text-align: right;\">   1</td><td style=\"text-align: right;\">   3</td><td style=\"text-align: right;\">   0</td><td style=\"text-align: right;\">3.655  </td><td style=\"text-align: right;\">2.394  </td><td style=\"text-align: right;\">   1</td><td style=\"text-align: right;\">8.286  </td><td style=\"text-align: right;\">   0</td><td style=\"text-align: right;\">   0</td><td style=\"text-align: right;\">      0</td></tr>\n",
              "</tbody>\n",
              "</table>"
            ]
          },
          "metadata": {}
        },
        {
          "output_type": "execute_result",
          "data": {
            "text/plain": [
              ""
            ]
          },
          "metadata": {},
          "execution_count": 39
        }
      ],
      "source": [
        "h2o_train2 "
      ]
    },
    {
      "cell_type": "markdown",
      "source": [
        "Identify features and label as x2 and y2 respectively:"
      ],
      "metadata": {
        "id": "gHFLxkj-XcD5"
      }
    },
    {
      "cell_type": "code",
      "execution_count": null,
      "metadata": {
        "id": "7xZiadtHeIHC"
      },
      "outputs": [],
      "source": [
        "# Identify predictors and response\n",
        "x2 = h2o_train2.columns\n",
        "y2 = 'label'\n",
        "x2.remove(y2)"
      ]
    },
    {
      "cell_type": "markdown",
      "source": [
        "Convert the validation set to H2O dataframe:"
      ],
      "metadata": {
        "id": "5Sv0_mBfXiMr"
      }
    },
    {
      "cell_type": "code",
      "execution_count": null,
      "metadata": {
        "id": "yVRlK5CHeIHC",
        "colab": {
          "base_uri": "https://localhost:8080/"
        },
        "outputId": "e30174eb-f7cc-421e-fd25-40cbc40408a0"
      },
      "outputs": [
        {
          "output_type": "stream",
          "name": "stdout",
          "text": [
            "Parse progress: |████████████████████████████████████████████████████████████████| (done) 100%\n"
          ]
        }
      ],
      "source": [
        "h2o_test2=h2o.H2OFrame(pd.concat([X_test_classifier, label_test_classifier], axis=1))"
      ]
    },
    {
      "cell_type": "markdown",
      "source": [
        "## Classifier"
      ],
      "metadata": {
        "id": "7ZWjuYmkgmKo"
      }
    },
    {
      "cell_type": "markdown",
      "source": [
        "Whenever we work with classification tasks we have to do an extra step which is to convert the label of both sets to a special format by applying '.asfactor()'. After we have done this, we will evaluate 5 models."
      ],
      "metadata": {
        "id": "9Wgn3Ny8Xmcv"
      }
    },
    {
      "cell_type": "code",
      "source": [
        "import time\n",
        "tic = time.perf_counter()"
      ],
      "metadata": {
        "id": "x4es_YeGUBKE"
      },
      "execution_count": null,
      "outputs": []
    },
    {
      "cell_type": "code",
      "execution_count": null,
      "metadata": {
        "id": "7-dXh3MaeIHD",
        "colab": {
          "base_uri": "https://localhost:8080/",
          "height": 1000
        },
        "outputId": "0a4bdfd0-c383-426b-cab6-1a182302196f"
      },
      "outputs": [
        {
          "output_type": "stream",
          "name": "stdout",
          "text": [
            "AutoML progress: |███████████████████████████████████████████████████████████████| (done) 100%\n",
            "Model Details\n",
            "=============\n",
            "H2OStackedEnsembleEstimator :  Stacked Ensemble\n",
            "Model Key:  StackedEnsemble_BestOfFamily_2_AutoML_2_20220202_130732\n",
            "\n",
            "No model summary for this model\n",
            "\n",
            "ModelMetricsBinomialGLM: stackedensemble\n",
            "** Reported on train data. **\n",
            "\n",
            "MSE: 0.030876518109573148\n",
            "RMSE: 0.17571715371463636\n",
            "LogLoss: 0.11712865884092541\n",
            "Null degrees of freedom: 1117\n",
            "Residual degrees of freedom: 1114\n",
            "Null deviance: 1549.84489521971\n",
            "Residual deviance: 261.89968116830914\n",
            "AIC: 269.89968116830914\n",
            "AUC: 0.9955548017102333\n",
            "AUCPR: 0.9959117367107572\n",
            "Gini: 0.9911096034204665\n",
            "\n",
            "Confusion Matrix (Act/Pred) for max f1 @ threshold = 0.5560490977992357: \n"
          ]
        },
        {
          "output_type": "display_data",
          "data": {
            "text/html": [
              "\n",
              "  <div id=\"df-56135678-3995-4aa7-b208-956b93b04e42\">\n",
              "    <div class=\"colab-df-container\">\n",
              "      <div>\n",
              "<style scoped>\n",
              "    .dataframe tbody tr th:only-of-type {\n",
              "        vertical-align: middle;\n",
              "    }\n",
              "\n",
              "    .dataframe tbody tr th {\n",
              "        vertical-align: top;\n",
              "    }\n",
              "\n",
              "    .dataframe thead th {\n",
              "        text-align: right;\n",
              "    }\n",
              "</style>\n",
              "<table border=\"1\" class=\"dataframe\">\n",
              "  <thead>\n",
              "    <tr style=\"text-align: right;\">\n",
              "      <th></th>\n",
              "      <th></th>\n",
              "      <th>0</th>\n",
              "      <th>1</th>\n",
              "      <th>Error</th>\n",
              "      <th>Rate</th>\n",
              "    </tr>\n",
              "  </thead>\n",
              "  <tbody>\n",
              "    <tr>\n",
              "      <th>0</th>\n",
              "      <td>0</td>\n",
              "      <td>541.0</td>\n",
              "      <td>15.0</td>\n",
              "      <td>0.027</td>\n",
              "      <td>(15.0/556.0)</td>\n",
              "    </tr>\n",
              "    <tr>\n",
              "      <th>1</th>\n",
              "      <td>1</td>\n",
              "      <td>23.0</td>\n",
              "      <td>539.0</td>\n",
              "      <td>0.0409</td>\n",
              "      <td>(23.0/562.0)</td>\n",
              "    </tr>\n",
              "    <tr>\n",
              "      <th>2</th>\n",
              "      <td>Total</td>\n",
              "      <td>564.0</td>\n",
              "      <td>554.0</td>\n",
              "      <td>0.034</td>\n",
              "      <td>(38.0/1118.0)</td>\n",
              "    </tr>\n",
              "  </tbody>\n",
              "</table>\n",
              "</div>\n",
              "      <button class=\"colab-df-convert\" onclick=\"convertToInteractive('df-56135678-3995-4aa7-b208-956b93b04e42')\"\n",
              "              title=\"Convert this dataframe to an interactive table.\"\n",
              "              style=\"display:none;\">\n",
              "        \n",
              "  <svg xmlns=\"http://www.w3.org/2000/svg\" height=\"24px\"viewBox=\"0 0 24 24\"\n",
              "       width=\"24px\">\n",
              "    <path d=\"M0 0h24v24H0V0z\" fill=\"none\"/>\n",
              "    <path d=\"M18.56 5.44l.94 2.06.94-2.06 2.06-.94-2.06-.94-.94-2.06-.94 2.06-2.06.94zm-11 1L8.5 8.5l.94-2.06 2.06-.94-2.06-.94L8.5 2.5l-.94 2.06-2.06.94zm10 10l.94 2.06.94-2.06 2.06-.94-2.06-.94-.94-2.06-.94 2.06-2.06.94z\"/><path d=\"M17.41 7.96l-1.37-1.37c-.4-.4-.92-.59-1.43-.59-.52 0-1.04.2-1.43.59L10.3 9.45l-7.72 7.72c-.78.78-.78 2.05 0 2.83L4 21.41c.39.39.9.59 1.41.59.51 0 1.02-.2 1.41-.59l7.78-7.78 2.81-2.81c.8-.78.8-2.07 0-2.86zM5.41 20L4 18.59l7.72-7.72 1.47 1.35L5.41 20z\"/>\n",
              "  </svg>\n",
              "      </button>\n",
              "      \n",
              "  <style>\n",
              "    .colab-df-container {\n",
              "      display:flex;\n",
              "      flex-wrap:wrap;\n",
              "      gap: 12px;\n",
              "    }\n",
              "\n",
              "    .colab-df-convert {\n",
              "      background-color: #E8F0FE;\n",
              "      border: none;\n",
              "      border-radius: 50%;\n",
              "      cursor: pointer;\n",
              "      display: none;\n",
              "      fill: #1967D2;\n",
              "      height: 32px;\n",
              "      padding: 0 0 0 0;\n",
              "      width: 32px;\n",
              "    }\n",
              "\n",
              "    .colab-df-convert:hover {\n",
              "      background-color: #E2EBFA;\n",
              "      box-shadow: 0px 1px 2px rgba(60, 64, 67, 0.3), 0px 1px 3px 1px rgba(60, 64, 67, 0.15);\n",
              "      fill: #174EA6;\n",
              "    }\n",
              "\n",
              "    [theme=dark] .colab-df-convert {\n",
              "      background-color: #3B4455;\n",
              "      fill: #D2E3FC;\n",
              "    }\n",
              "\n",
              "    [theme=dark] .colab-df-convert:hover {\n",
              "      background-color: #434B5C;\n",
              "      box-shadow: 0px 1px 3px 1px rgba(0, 0, 0, 0.15);\n",
              "      filter: drop-shadow(0px 1px 2px rgba(0, 0, 0, 0.3));\n",
              "      fill: #FFFFFF;\n",
              "    }\n",
              "  </style>\n",
              "\n",
              "      <script>\n",
              "        const buttonEl =\n",
              "          document.querySelector('#df-56135678-3995-4aa7-b208-956b93b04e42 button.colab-df-convert');\n",
              "        buttonEl.style.display =\n",
              "          google.colab.kernel.accessAllowed ? 'block' : 'none';\n",
              "\n",
              "        async function convertToInteractive(key) {\n",
              "          const element = document.querySelector('#df-56135678-3995-4aa7-b208-956b93b04e42');\n",
              "          const dataTable =\n",
              "            await google.colab.kernel.invokeFunction('convertToInteractive',\n",
              "                                                     [key], {});\n",
              "          if (!dataTable) return;\n",
              "\n",
              "          const docLinkHtml = 'Like what you see? Visit the ' +\n",
              "            '<a target=\"_blank\" href=https://colab.research.google.com/notebooks/data_table.ipynb>data table notebook</a>'\n",
              "            + ' to learn more about interactive tables.';\n",
              "          element.innerHTML = '';\n",
              "          dataTable['output_type'] = 'display_data';\n",
              "          await google.colab.output.renderOutput(dataTable, element);\n",
              "          const docLink = document.createElement('div');\n",
              "          docLink.innerHTML = docLinkHtml;\n",
              "          element.appendChild(docLink);\n",
              "        }\n",
              "      </script>\n",
              "    </div>\n",
              "  </div>\n",
              "  "
            ],
            "text/plain": [
              "              0      1   Error            Rate\n",
              "0      0  541.0   15.0   0.027    (15.0/556.0)\n",
              "1      1   23.0  539.0  0.0409    (23.0/562.0)\n",
              "2  Total  564.0  554.0   0.034   (38.0/1118.0)"
            ]
          },
          "metadata": {}
        },
        {
          "output_type": "stream",
          "name": "stdout",
          "text": [
            "\n",
            "Maximum Metrics: Maximum metrics at their respective thresholds\n"
          ]
        },
        {
          "output_type": "display_data",
          "data": {
            "text/html": [
              "\n",
              "  <div id=\"df-e5a9b5b7-fd92-49ee-9a62-464fe33f5ba1\">\n",
              "    <div class=\"colab-df-container\">\n",
              "      <div>\n",
              "<style scoped>\n",
              "    .dataframe tbody tr th:only-of-type {\n",
              "        vertical-align: middle;\n",
              "    }\n",
              "\n",
              "    .dataframe tbody tr th {\n",
              "        vertical-align: top;\n",
              "    }\n",
              "\n",
              "    .dataframe thead th {\n",
              "        text-align: right;\n",
              "    }\n",
              "</style>\n",
              "<table border=\"1\" class=\"dataframe\">\n",
              "  <thead>\n",
              "    <tr style=\"text-align: right;\">\n",
              "      <th></th>\n",
              "      <th>metric</th>\n",
              "      <th>threshold</th>\n",
              "      <th>value</th>\n",
              "      <th>idx</th>\n",
              "    </tr>\n",
              "  </thead>\n",
              "  <tbody>\n",
              "    <tr>\n",
              "      <th>0</th>\n",
              "      <td>max f1</td>\n",
              "      <td>0.556049</td>\n",
              "      <td>0.965950</td>\n",
              "      <td>180.0</td>\n",
              "    </tr>\n",
              "    <tr>\n",
              "      <th>1</th>\n",
              "      <td>max f2</td>\n",
              "      <td>0.377847</td>\n",
              "      <td>0.975309</td>\n",
              "      <td>210.0</td>\n",
              "    </tr>\n",
              "    <tr>\n",
              "      <th>2</th>\n",
              "      <td>max f0point5</td>\n",
              "      <td>0.721837</td>\n",
              "      <td>0.977502</td>\n",
              "      <td>139.0</td>\n",
              "    </tr>\n",
              "    <tr>\n",
              "      <th>3</th>\n",
              "      <td>max accuracy</td>\n",
              "      <td>0.556049</td>\n",
              "      <td>0.966011</td>\n",
              "      <td>180.0</td>\n",
              "    </tr>\n",
              "    <tr>\n",
              "      <th>4</th>\n",
              "      <td>max precision</td>\n",
              "      <td>0.999976</td>\n",
              "      <td>1.000000</td>\n",
              "      <td>0.0</td>\n",
              "    </tr>\n",
              "    <tr>\n",
              "      <th>5</th>\n",
              "      <td>max recall</td>\n",
              "      <td>0.095513</td>\n",
              "      <td>1.000000</td>\n",
              "      <td>311.0</td>\n",
              "    </tr>\n",
              "    <tr>\n",
              "      <th>6</th>\n",
              "      <td>max specificity</td>\n",
              "      <td>0.999976</td>\n",
              "      <td>1.000000</td>\n",
              "      <td>0.0</td>\n",
              "    </tr>\n",
              "    <tr>\n",
              "      <th>7</th>\n",
              "      <td>max absolute_mcc</td>\n",
              "      <td>0.556049</td>\n",
              "      <td>0.932120</td>\n",
              "      <td>180.0</td>\n",
              "    </tr>\n",
              "    <tr>\n",
              "      <th>8</th>\n",
              "      <td>max min_per_class_accuracy</td>\n",
              "      <td>0.524024</td>\n",
              "      <td>0.962230</td>\n",
              "      <td>187.0</td>\n",
              "    </tr>\n",
              "    <tr>\n",
              "      <th>9</th>\n",
              "      <td>max mean_per_class_accuracy</td>\n",
              "      <td>0.556049</td>\n",
              "      <td>0.966048</td>\n",
              "      <td>180.0</td>\n",
              "    </tr>\n",
              "    <tr>\n",
              "      <th>10</th>\n",
              "      <td>max tns</td>\n",
              "      <td>0.999976</td>\n",
              "      <td>556.000000</td>\n",
              "      <td>0.0</td>\n",
              "    </tr>\n",
              "    <tr>\n",
              "      <th>11</th>\n",
              "      <td>max fns</td>\n",
              "      <td>0.999976</td>\n",
              "      <td>300.000000</td>\n",
              "      <td>0.0</td>\n",
              "    </tr>\n",
              "    <tr>\n",
              "      <th>12</th>\n",
              "      <td>max fps</td>\n",
              "      <td>0.000020</td>\n",
              "      <td>556.000000</td>\n",
              "      <td>399.0</td>\n",
              "    </tr>\n",
              "    <tr>\n",
              "      <th>13</th>\n",
              "      <td>max tps</td>\n",
              "      <td>0.095513</td>\n",
              "      <td>562.000000</td>\n",
              "      <td>311.0</td>\n",
              "    </tr>\n",
              "    <tr>\n",
              "      <th>14</th>\n",
              "      <td>max tnr</td>\n",
              "      <td>0.999976</td>\n",
              "      <td>1.000000</td>\n",
              "      <td>0.0</td>\n",
              "    </tr>\n",
              "    <tr>\n",
              "      <th>15</th>\n",
              "      <td>max fnr</td>\n",
              "      <td>0.999976</td>\n",
              "      <td>0.533808</td>\n",
              "      <td>0.0</td>\n",
              "    </tr>\n",
              "    <tr>\n",
              "      <th>16</th>\n",
              "      <td>max fpr</td>\n",
              "      <td>0.000020</td>\n",
              "      <td>1.000000</td>\n",
              "      <td>399.0</td>\n",
              "    </tr>\n",
              "    <tr>\n",
              "      <th>17</th>\n",
              "      <td>max tpr</td>\n",
              "      <td>0.095513</td>\n",
              "      <td>1.000000</td>\n",
              "      <td>311.0</td>\n",
              "    </tr>\n",
              "  </tbody>\n",
              "</table>\n",
              "</div>\n",
              "      <button class=\"colab-df-convert\" onclick=\"convertToInteractive('df-e5a9b5b7-fd92-49ee-9a62-464fe33f5ba1')\"\n",
              "              title=\"Convert this dataframe to an interactive table.\"\n",
              "              style=\"display:none;\">\n",
              "        \n",
              "  <svg xmlns=\"http://www.w3.org/2000/svg\" height=\"24px\"viewBox=\"0 0 24 24\"\n",
              "       width=\"24px\">\n",
              "    <path d=\"M0 0h24v24H0V0z\" fill=\"none\"/>\n",
              "    <path d=\"M18.56 5.44l.94 2.06.94-2.06 2.06-.94-2.06-.94-.94-2.06-.94 2.06-2.06.94zm-11 1L8.5 8.5l.94-2.06 2.06-.94-2.06-.94L8.5 2.5l-.94 2.06-2.06.94zm10 10l.94 2.06.94-2.06 2.06-.94-2.06-.94-.94-2.06-.94 2.06-2.06.94z\"/><path d=\"M17.41 7.96l-1.37-1.37c-.4-.4-.92-.59-1.43-.59-.52 0-1.04.2-1.43.59L10.3 9.45l-7.72 7.72c-.78.78-.78 2.05 0 2.83L4 21.41c.39.39.9.59 1.41.59.51 0 1.02-.2 1.41-.59l7.78-7.78 2.81-2.81c.8-.78.8-2.07 0-2.86zM5.41 20L4 18.59l7.72-7.72 1.47 1.35L5.41 20z\"/>\n",
              "  </svg>\n",
              "      </button>\n",
              "      \n",
              "  <style>\n",
              "    .colab-df-container {\n",
              "      display:flex;\n",
              "      flex-wrap:wrap;\n",
              "      gap: 12px;\n",
              "    }\n",
              "\n",
              "    .colab-df-convert {\n",
              "      background-color: #E8F0FE;\n",
              "      border: none;\n",
              "      border-radius: 50%;\n",
              "      cursor: pointer;\n",
              "      display: none;\n",
              "      fill: #1967D2;\n",
              "      height: 32px;\n",
              "      padding: 0 0 0 0;\n",
              "      width: 32px;\n",
              "    }\n",
              "\n",
              "    .colab-df-convert:hover {\n",
              "      background-color: #E2EBFA;\n",
              "      box-shadow: 0px 1px 2px rgba(60, 64, 67, 0.3), 0px 1px 3px 1px rgba(60, 64, 67, 0.15);\n",
              "      fill: #174EA6;\n",
              "    }\n",
              "\n",
              "    [theme=dark] .colab-df-convert {\n",
              "      background-color: #3B4455;\n",
              "      fill: #D2E3FC;\n",
              "    }\n",
              "\n",
              "    [theme=dark] .colab-df-convert:hover {\n",
              "      background-color: #434B5C;\n",
              "      box-shadow: 0px 1px 3px 1px rgba(0, 0, 0, 0.15);\n",
              "      filter: drop-shadow(0px 1px 2px rgba(0, 0, 0, 0.3));\n",
              "      fill: #FFFFFF;\n",
              "    }\n",
              "  </style>\n",
              "\n",
              "      <script>\n",
              "        const buttonEl =\n",
              "          document.querySelector('#df-e5a9b5b7-fd92-49ee-9a62-464fe33f5ba1 button.colab-df-convert');\n",
              "        buttonEl.style.display =\n",
              "          google.colab.kernel.accessAllowed ? 'block' : 'none';\n",
              "\n",
              "        async function convertToInteractive(key) {\n",
              "          const element = document.querySelector('#df-e5a9b5b7-fd92-49ee-9a62-464fe33f5ba1');\n",
              "          const dataTable =\n",
              "            await google.colab.kernel.invokeFunction('convertToInteractive',\n",
              "                                                     [key], {});\n",
              "          if (!dataTable) return;\n",
              "\n",
              "          const docLinkHtml = 'Like what you see? Visit the ' +\n",
              "            '<a target=\"_blank\" href=https://colab.research.google.com/notebooks/data_table.ipynb>data table notebook</a>'\n",
              "            + ' to learn more about interactive tables.';\n",
              "          element.innerHTML = '';\n",
              "          dataTable['output_type'] = 'display_data';\n",
              "          await google.colab.output.renderOutput(dataTable, element);\n",
              "          const docLink = document.createElement('div');\n",
              "          docLink.innerHTML = docLinkHtml;\n",
              "          element.appendChild(docLink);\n",
              "        }\n",
              "      </script>\n",
              "    </div>\n",
              "  </div>\n",
              "  "
            ],
            "text/plain": [
              "                         metric  threshold       value    idx\n",
              "0                        max f1   0.556049    0.965950  180.0\n",
              "1                        max f2   0.377847    0.975309  210.0\n",
              "2                  max f0point5   0.721837    0.977502  139.0\n",
              "3                  max accuracy   0.556049    0.966011  180.0\n",
              "4                 max precision   0.999976    1.000000    0.0\n",
              "5                    max recall   0.095513    1.000000  311.0\n",
              "6               max specificity   0.999976    1.000000    0.0\n",
              "7              max absolute_mcc   0.556049    0.932120  180.0\n",
              "8    max min_per_class_accuracy   0.524024    0.962230  187.0\n",
              "9   max mean_per_class_accuracy   0.556049    0.966048  180.0\n",
              "10                      max tns   0.999976  556.000000    0.0\n",
              "11                      max fns   0.999976  300.000000    0.0\n",
              "12                      max fps   0.000020  556.000000  399.0\n",
              "13                      max tps   0.095513  562.000000  311.0\n",
              "14                      max tnr   0.999976    1.000000    0.0\n",
              "15                      max fnr   0.999976    0.533808    0.0\n",
              "16                      max fpr   0.000020    1.000000  399.0\n",
              "17                      max tpr   0.095513    1.000000  311.0"
            ]
          },
          "metadata": {}
        },
        {
          "output_type": "stream",
          "name": "stdout",
          "text": [
            "\n",
            "Gains/Lift Table: Avg response rate: 50.27 %, avg score: 50.35 %\n"
          ]
        },
        {
          "output_type": "display_data",
          "data": {
            "text/html": [
              "\n",
              "  <div id=\"df-195ec8a9-2551-4c06-b84d-aaa031a5a2e8\">\n",
              "    <div class=\"colab-df-container\">\n",
              "      <div>\n",
              "<style scoped>\n",
              "    .dataframe tbody tr th:only-of-type {\n",
              "        vertical-align: middle;\n",
              "    }\n",
              "\n",
              "    .dataframe tbody tr th {\n",
              "        vertical-align: top;\n",
              "    }\n",
              "\n",
              "    .dataframe thead th {\n",
              "        text-align: right;\n",
              "    }\n",
              "</style>\n",
              "<table border=\"1\" class=\"dataframe\">\n",
              "  <thead>\n",
              "    <tr style=\"text-align: right;\">\n",
              "      <th></th>\n",
              "      <th>group</th>\n",
              "      <th>cumulative_data_fraction</th>\n",
              "      <th>lower_threshold</th>\n",
              "      <th>lift</th>\n",
              "      <th>cumulative_lift</th>\n",
              "      <th>response_rate</th>\n",
              "      <th>score</th>\n",
              "      <th>cumulative_response_rate</th>\n",
              "      <th>cumulative_score</th>\n",
              "      <th>capture_rate</th>\n",
              "      <th>cumulative_capture_rate</th>\n",
              "      <th>gain</th>\n",
              "      <th>cumulative_gain</th>\n",
              "      <th>kolmogorov_smirnov</th>\n",
              "    </tr>\n",
              "  </thead>\n",
              "  <tbody>\n",
              "    <tr>\n",
              "      <th>0</th>\n",
              "      <td>1</td>\n",
              "      <td>0.010733</td>\n",
              "      <td>9.999913e-01</td>\n",
              "      <td>1.989324</td>\n",
              "      <td>1.989324</td>\n",
              "      <td>1.000000</td>\n",
              "      <td>0.999993</td>\n",
              "      <td>1.000000</td>\n",
              "      <td>0.999993</td>\n",
              "      <td>0.021352</td>\n",
              "      <td>0.021352</td>\n",
              "      <td>98.932384</td>\n",
              "      <td>98.932384</td>\n",
              "      <td>0.021352</td>\n",
              "    </tr>\n",
              "    <tr>\n",
              "      <th>1</th>\n",
              "      <td>2</td>\n",
              "      <td>0.020572</td>\n",
              "      <td>9.999899e-01</td>\n",
              "      <td>1.989324</td>\n",
              "      <td>1.989324</td>\n",
              "      <td>1.000000</td>\n",
              "      <td>0.999991</td>\n",
              "      <td>1.000000</td>\n",
              "      <td>0.999992</td>\n",
              "      <td>0.019573</td>\n",
              "      <td>0.040925</td>\n",
              "      <td>98.932384</td>\n",
              "      <td>98.932384</td>\n",
              "      <td>0.040925</td>\n",
              "    </tr>\n",
              "    <tr>\n",
              "      <th>2</th>\n",
              "      <td>3</td>\n",
              "      <td>0.030411</td>\n",
              "      <td>9.999887e-01</td>\n",
              "      <td>1.989324</td>\n",
              "      <td>1.989324</td>\n",
              "      <td>1.000000</td>\n",
              "      <td>0.999989</td>\n",
              "      <td>1.000000</td>\n",
              "      <td>0.999991</td>\n",
              "      <td>0.019573</td>\n",
              "      <td>0.060498</td>\n",
              "      <td>98.932384</td>\n",
              "      <td>98.932384</td>\n",
              "      <td>0.060498</td>\n",
              "    </tr>\n",
              "    <tr>\n",
              "      <th>3</th>\n",
              "      <td>4</td>\n",
              "      <td>0.040250</td>\n",
              "      <td>9.999873e-01</td>\n",
              "      <td>1.989324</td>\n",
              "      <td>1.989324</td>\n",
              "      <td>1.000000</td>\n",
              "      <td>0.999988</td>\n",
              "      <td>1.000000</td>\n",
              "      <td>0.999990</td>\n",
              "      <td>0.019573</td>\n",
              "      <td>0.080071</td>\n",
              "      <td>98.932384</td>\n",
              "      <td>98.932384</td>\n",
              "      <td>0.080071</td>\n",
              "    </tr>\n",
              "    <tr>\n",
              "      <th>4</th>\n",
              "      <td>5</td>\n",
              "      <td>0.050089</td>\n",
              "      <td>9.999860e-01</td>\n",
              "      <td>1.989324</td>\n",
              "      <td>1.989324</td>\n",
              "      <td>1.000000</td>\n",
              "      <td>0.999987</td>\n",
              "      <td>1.000000</td>\n",
              "      <td>0.999990</td>\n",
              "      <td>0.019573</td>\n",
              "      <td>0.099644</td>\n",
              "      <td>98.932384</td>\n",
              "      <td>98.932384</td>\n",
              "      <td>0.099644</td>\n",
              "    </tr>\n",
              "    <tr>\n",
              "      <th>5</th>\n",
              "      <td>6</td>\n",
              "      <td>0.100179</td>\n",
              "      <td>9.999810e-01</td>\n",
              "      <td>1.989324</td>\n",
              "      <td>1.989324</td>\n",
              "      <td>1.000000</td>\n",
              "      <td>0.999984</td>\n",
              "      <td>1.000000</td>\n",
              "      <td>0.999987</td>\n",
              "      <td>0.099644</td>\n",
              "      <td>0.199288</td>\n",
              "      <td>98.932384</td>\n",
              "      <td>98.932384</td>\n",
              "      <td>0.199288</td>\n",
              "    </tr>\n",
              "    <tr>\n",
              "      <th>6</th>\n",
              "      <td>7</td>\n",
              "      <td>0.150268</td>\n",
              "      <td>9.999742e-01</td>\n",
              "      <td>1.989324</td>\n",
              "      <td>1.989324</td>\n",
              "      <td>1.000000</td>\n",
              "      <td>0.999978</td>\n",
              "      <td>1.000000</td>\n",
              "      <td>0.999984</td>\n",
              "      <td>0.099644</td>\n",
              "      <td>0.298932</td>\n",
              "      <td>98.932384</td>\n",
              "      <td>98.932384</td>\n",
              "      <td>0.298932</td>\n",
              "    </tr>\n",
              "    <tr>\n",
              "      <th>7</th>\n",
              "      <td>8</td>\n",
              "      <td>0.200358</td>\n",
              "      <td>9.999618e-01</td>\n",
              "      <td>1.989324</td>\n",
              "      <td>1.989324</td>\n",
              "      <td>1.000000</td>\n",
              "      <td>0.999969</td>\n",
              "      <td>1.000000</td>\n",
              "      <td>0.999980</td>\n",
              "      <td>0.099644</td>\n",
              "      <td>0.398577</td>\n",
              "      <td>98.932384</td>\n",
              "      <td>98.932384</td>\n",
              "      <td>0.398577</td>\n",
              "    </tr>\n",
              "    <tr>\n",
              "      <th>8</th>\n",
              "      <td>9</td>\n",
              "      <td>0.300537</td>\n",
              "      <td>9.474085e-01</td>\n",
              "      <td>1.989324</td>\n",
              "      <td>1.989324</td>\n",
              "      <td>1.000000</td>\n",
              "      <td>0.979078</td>\n",
              "      <td>1.000000</td>\n",
              "      <td>0.993013</td>\n",
              "      <td>0.199288</td>\n",
              "      <td>0.597865</td>\n",
              "      <td>98.932384</td>\n",
              "      <td>98.932384</td>\n",
              "      <td>0.597865</td>\n",
              "    </tr>\n",
              "    <tr>\n",
              "      <th>9</th>\n",
              "      <td>10</td>\n",
              "      <td>0.399821</td>\n",
              "      <td>8.592605e-01</td>\n",
              "      <td>1.989324</td>\n",
              "      <td>1.989324</td>\n",
              "      <td>1.000000</td>\n",
              "      <td>0.914407</td>\n",
              "      <td>1.000000</td>\n",
              "      <td>0.973493</td>\n",
              "      <td>0.197509</td>\n",
              "      <td>0.795374</td>\n",
              "      <td>98.932384</td>\n",
              "      <td>98.932384</td>\n",
              "      <td>0.795374</td>\n",
              "    </tr>\n",
              "    <tr>\n",
              "      <th>10</th>\n",
              "      <td>11</td>\n",
              "      <td>0.500000</td>\n",
              "      <td>5.324455e-01</td>\n",
              "      <td>1.651849</td>\n",
              "      <td>1.921708</td>\n",
              "      <td>0.830357</td>\n",
              "      <td>0.712620</td>\n",
              "      <td>0.966011</td>\n",
              "      <td>0.921225</td>\n",
              "      <td>0.165480</td>\n",
              "      <td>0.960854</td>\n",
              "      <td>65.184926</td>\n",
              "      <td>92.170819</td>\n",
              "      <td>0.926681</td>\n",
              "    </tr>\n",
              "    <tr>\n",
              "      <th>11</th>\n",
              "      <td>12</td>\n",
              "      <td>0.600179</td>\n",
              "      <td>1.504957e-01</td>\n",
              "      <td>0.355236</td>\n",
              "      <td>1.660240</td>\n",
              "      <td>0.178571</td>\n",
              "      <td>0.300473</td>\n",
              "      <td>0.834575</td>\n",
              "      <td>0.817612</td>\n",
              "      <td>0.035587</td>\n",
              "      <td>0.996441</td>\n",
              "      <td>-64.476360</td>\n",
              "      <td>66.024047</td>\n",
              "      <td>0.796801</td>\n",
              "    </tr>\n",
              "    <tr>\n",
              "      <th>12</th>\n",
              "      <td>13</td>\n",
              "      <td>0.699463</td>\n",
              "      <td>5.514736e-02</td>\n",
              "      <td>0.035844</td>\n",
              "      <td>1.429668</td>\n",
              "      <td>0.018018</td>\n",
              "      <td>0.096199</td>\n",
              "      <td>0.718670</td>\n",
              "      <td>0.715212</td>\n",
              "      <td>0.003559</td>\n",
              "      <td>1.000000</td>\n",
              "      <td>-96.415633</td>\n",
              "      <td>42.966752</td>\n",
              "      <td>0.604317</td>\n",
              "    </tr>\n",
              "    <tr>\n",
              "      <th>13</th>\n",
              "      <td>14</td>\n",
              "      <td>0.799642</td>\n",
              "      <td>1.003677e-02</td>\n",
              "      <td>0.000000</td>\n",
              "      <td>1.250559</td>\n",
              "      <td>0.000000</td>\n",
              "      <td>0.031040</td>\n",
              "      <td>0.628635</td>\n",
              "      <td>0.629499</td>\n",
              "      <td>0.000000</td>\n",
              "      <td>1.000000</td>\n",
              "      <td>-100.000000</td>\n",
              "      <td>25.055928</td>\n",
              "      <td>0.402878</td>\n",
              "    </tr>\n",
              "    <tr>\n",
              "      <th>14</th>\n",
              "      <td>15</td>\n",
              "      <td>0.899821</td>\n",
              "      <td>2.579689e-05</td>\n",
              "      <td>0.000000</td>\n",
              "      <td>1.111332</td>\n",
              "      <td>0.000000</td>\n",
              "      <td>0.001709</td>\n",
              "      <td>0.558648</td>\n",
              "      <td>0.559606</td>\n",
              "      <td>0.000000</td>\n",
              "      <td>1.000000</td>\n",
              "      <td>-100.000000</td>\n",
              "      <td>11.133201</td>\n",
              "      <td>0.201439</td>\n",
              "    </tr>\n",
              "    <tr>\n",
              "      <th>15</th>\n",
              "      <td>16</td>\n",
              "      <td>1.000000</td>\n",
              "      <td>7.037772e-08</td>\n",
              "      <td>0.000000</td>\n",
              "      <td>1.000000</td>\n",
              "      <td>0.000000</td>\n",
              "      <td>0.000008</td>\n",
              "      <td>0.502683</td>\n",
              "      <td>0.503546</td>\n",
              "      <td>0.000000</td>\n",
              "      <td>1.000000</td>\n",
              "      <td>-100.000000</td>\n",
              "      <td>0.000000</td>\n",
              "      <td>0.000000</td>\n",
              "    </tr>\n",
              "  </tbody>\n",
              "</table>\n",
              "</div>\n",
              "      <button class=\"colab-df-convert\" onclick=\"convertToInteractive('df-195ec8a9-2551-4c06-b84d-aaa031a5a2e8')\"\n",
              "              title=\"Convert this dataframe to an interactive table.\"\n",
              "              style=\"display:none;\">\n",
              "        \n",
              "  <svg xmlns=\"http://www.w3.org/2000/svg\" height=\"24px\"viewBox=\"0 0 24 24\"\n",
              "       width=\"24px\">\n",
              "    <path d=\"M0 0h24v24H0V0z\" fill=\"none\"/>\n",
              "    <path d=\"M18.56 5.44l.94 2.06.94-2.06 2.06-.94-2.06-.94-.94-2.06-.94 2.06-2.06.94zm-11 1L8.5 8.5l.94-2.06 2.06-.94-2.06-.94L8.5 2.5l-.94 2.06-2.06.94zm10 10l.94 2.06.94-2.06 2.06-.94-2.06-.94-.94-2.06-.94 2.06-2.06.94z\"/><path d=\"M17.41 7.96l-1.37-1.37c-.4-.4-.92-.59-1.43-.59-.52 0-1.04.2-1.43.59L10.3 9.45l-7.72 7.72c-.78.78-.78 2.05 0 2.83L4 21.41c.39.39.9.59 1.41.59.51 0 1.02-.2 1.41-.59l7.78-7.78 2.81-2.81c.8-.78.8-2.07 0-2.86zM5.41 20L4 18.59l7.72-7.72 1.47 1.35L5.41 20z\"/>\n",
              "  </svg>\n",
              "      </button>\n",
              "      \n",
              "  <style>\n",
              "    .colab-df-container {\n",
              "      display:flex;\n",
              "      flex-wrap:wrap;\n",
              "      gap: 12px;\n",
              "    }\n",
              "\n",
              "    .colab-df-convert {\n",
              "      background-color: #E8F0FE;\n",
              "      border: none;\n",
              "      border-radius: 50%;\n",
              "      cursor: pointer;\n",
              "      display: none;\n",
              "      fill: #1967D2;\n",
              "      height: 32px;\n",
              "      padding: 0 0 0 0;\n",
              "      width: 32px;\n",
              "    }\n",
              "\n",
              "    .colab-df-convert:hover {\n",
              "      background-color: #E2EBFA;\n",
              "      box-shadow: 0px 1px 2px rgba(60, 64, 67, 0.3), 0px 1px 3px 1px rgba(60, 64, 67, 0.15);\n",
              "      fill: #174EA6;\n",
              "    }\n",
              "\n",
              "    [theme=dark] .colab-df-convert {\n",
              "      background-color: #3B4455;\n",
              "      fill: #D2E3FC;\n",
              "    }\n",
              "\n",
              "    [theme=dark] .colab-df-convert:hover {\n",
              "      background-color: #434B5C;\n",
              "      box-shadow: 0px 1px 3px 1px rgba(0, 0, 0, 0.15);\n",
              "      filter: drop-shadow(0px 1px 2px rgba(0, 0, 0, 0.3));\n",
              "      fill: #FFFFFF;\n",
              "    }\n",
              "  </style>\n",
              "\n",
              "      <script>\n",
              "        const buttonEl =\n",
              "          document.querySelector('#df-195ec8a9-2551-4c06-b84d-aaa031a5a2e8 button.colab-df-convert');\n",
              "        buttonEl.style.display =\n",
              "          google.colab.kernel.accessAllowed ? 'block' : 'none';\n",
              "\n",
              "        async function convertToInteractive(key) {\n",
              "          const element = document.querySelector('#df-195ec8a9-2551-4c06-b84d-aaa031a5a2e8');\n",
              "          const dataTable =\n",
              "            await google.colab.kernel.invokeFunction('convertToInteractive',\n",
              "                                                     [key], {});\n",
              "          if (!dataTable) return;\n",
              "\n",
              "          const docLinkHtml = 'Like what you see? Visit the ' +\n",
              "            '<a target=\"_blank\" href=https://colab.research.google.com/notebooks/data_table.ipynb>data table notebook</a>'\n",
              "            + ' to learn more about interactive tables.';\n",
              "          element.innerHTML = '';\n",
              "          dataTable['output_type'] = 'display_data';\n",
              "          await google.colab.output.renderOutput(dataTable, element);\n",
              "          const docLink = document.createElement('div');\n",
              "          docLink.innerHTML = docLinkHtml;\n",
              "          element.appendChild(docLink);\n",
              "        }\n",
              "      </script>\n",
              "    </div>\n",
              "  </div>\n",
              "  "
            ],
            "text/plain": [
              "    group  cumulative_data_fraction  ...  cumulative_gain  kolmogorov_smirnov\n",
              "0       1                  0.010733  ...        98.932384            0.021352\n",
              "1       2                  0.020572  ...        98.932384            0.040925\n",
              "2       3                  0.030411  ...        98.932384            0.060498\n",
              "3       4                  0.040250  ...        98.932384            0.080071\n",
              "4       5                  0.050089  ...        98.932384            0.099644\n",
              "5       6                  0.100179  ...        98.932384            0.199288\n",
              "6       7                  0.150268  ...        98.932384            0.298932\n",
              "7       8                  0.200358  ...        98.932384            0.398577\n",
              "8       9                  0.300537  ...        98.932384            0.597865\n",
              "9      10                  0.399821  ...        98.932384            0.795374\n",
              "10     11                  0.500000  ...        92.170819            0.926681\n",
              "11     12                  0.600179  ...        66.024047            0.796801\n",
              "12     13                  0.699463  ...        42.966752            0.604317\n",
              "13     14                  0.799642  ...        25.055928            0.402878\n",
              "14     15                  0.899821  ...        11.133201            0.201439\n",
              "15     16                  1.000000  ...         0.000000            0.000000\n",
              "\n",
              "[16 rows x 14 columns]"
            ]
          },
          "metadata": {}
        },
        {
          "output_type": "stream",
          "name": "stdout",
          "text": [
            "\n",
            "\n",
            "ModelMetricsBinomialGLM: stackedensemble\n",
            "** Reported on cross-validation data. **\n",
            "\n",
            "MSE: 0.08006455751224187\n",
            "RMSE: 0.28295681209725604\n",
            "LogLoss: 0.28058380664570287\n",
            "Null degrees of freedom: 1117\n",
            "Residual degrees of freedom: 1114\n",
            "Null deviance: 1552.1462048324784\n",
            "Residual deviance: 627.385391659792\n",
            "AIC: 635.385391659792\n",
            "AUC: 0.9570377505824522\n",
            "AUCPR: 0.9582939695136504\n",
            "Gini: 0.9140755011649044\n",
            "\n",
            "Confusion Matrix (Act/Pred) for max f1 @ threshold = 0.4169699842584834: \n"
          ]
        },
        {
          "output_type": "display_data",
          "data": {
            "text/html": [
              "\n",
              "  <div id=\"df-1111686c-e07c-400f-b5b2-60423b474398\">\n",
              "    <div class=\"colab-df-container\">\n",
              "      <div>\n",
              "<style scoped>\n",
              "    .dataframe tbody tr th:only-of-type {\n",
              "        vertical-align: middle;\n",
              "    }\n",
              "\n",
              "    .dataframe tbody tr th {\n",
              "        vertical-align: top;\n",
              "    }\n",
              "\n",
              "    .dataframe thead th {\n",
              "        text-align: right;\n",
              "    }\n",
              "</style>\n",
              "<table border=\"1\" class=\"dataframe\">\n",
              "  <thead>\n",
              "    <tr style=\"text-align: right;\">\n",
              "      <th></th>\n",
              "      <th></th>\n",
              "      <th>0</th>\n",
              "      <th>1</th>\n",
              "      <th>Error</th>\n",
              "      <th>Rate</th>\n",
              "    </tr>\n",
              "  </thead>\n",
              "  <tbody>\n",
              "    <tr>\n",
              "      <th>0</th>\n",
              "      <td>0</td>\n",
              "      <td>482.0</td>\n",
              "      <td>74.0</td>\n",
              "      <td>0.1331</td>\n",
              "      <td>(74.0/556.0)</td>\n",
              "    </tr>\n",
              "    <tr>\n",
              "      <th>1</th>\n",
              "      <td>1</td>\n",
              "      <td>47.0</td>\n",
              "      <td>515.0</td>\n",
              "      <td>0.0836</td>\n",
              "      <td>(47.0/562.0)</td>\n",
              "    </tr>\n",
              "    <tr>\n",
              "      <th>2</th>\n",
              "      <td>Total</td>\n",
              "      <td>529.0</td>\n",
              "      <td>589.0</td>\n",
              "      <td>0.1082</td>\n",
              "      <td>(121.0/1118.0)</td>\n",
              "    </tr>\n",
              "  </tbody>\n",
              "</table>\n",
              "</div>\n",
              "      <button class=\"colab-df-convert\" onclick=\"convertToInteractive('df-1111686c-e07c-400f-b5b2-60423b474398')\"\n",
              "              title=\"Convert this dataframe to an interactive table.\"\n",
              "              style=\"display:none;\">\n",
              "        \n",
              "  <svg xmlns=\"http://www.w3.org/2000/svg\" height=\"24px\"viewBox=\"0 0 24 24\"\n",
              "       width=\"24px\">\n",
              "    <path d=\"M0 0h24v24H0V0z\" fill=\"none\"/>\n",
              "    <path d=\"M18.56 5.44l.94 2.06.94-2.06 2.06-.94-2.06-.94-.94-2.06-.94 2.06-2.06.94zm-11 1L8.5 8.5l.94-2.06 2.06-.94-2.06-.94L8.5 2.5l-.94 2.06-2.06.94zm10 10l.94 2.06.94-2.06 2.06-.94-2.06-.94-.94-2.06-.94 2.06-2.06.94z\"/><path d=\"M17.41 7.96l-1.37-1.37c-.4-.4-.92-.59-1.43-.59-.52 0-1.04.2-1.43.59L10.3 9.45l-7.72 7.72c-.78.78-.78 2.05 0 2.83L4 21.41c.39.39.9.59 1.41.59.51 0 1.02-.2 1.41-.59l7.78-7.78 2.81-2.81c.8-.78.8-2.07 0-2.86zM5.41 20L4 18.59l7.72-7.72 1.47 1.35L5.41 20z\"/>\n",
              "  </svg>\n",
              "      </button>\n",
              "      \n",
              "  <style>\n",
              "    .colab-df-container {\n",
              "      display:flex;\n",
              "      flex-wrap:wrap;\n",
              "      gap: 12px;\n",
              "    }\n",
              "\n",
              "    .colab-df-convert {\n",
              "      background-color: #E8F0FE;\n",
              "      border: none;\n",
              "      border-radius: 50%;\n",
              "      cursor: pointer;\n",
              "      display: none;\n",
              "      fill: #1967D2;\n",
              "      height: 32px;\n",
              "      padding: 0 0 0 0;\n",
              "      width: 32px;\n",
              "    }\n",
              "\n",
              "    .colab-df-convert:hover {\n",
              "      background-color: #E2EBFA;\n",
              "      box-shadow: 0px 1px 2px rgba(60, 64, 67, 0.3), 0px 1px 3px 1px rgba(60, 64, 67, 0.15);\n",
              "      fill: #174EA6;\n",
              "    }\n",
              "\n",
              "    [theme=dark] .colab-df-convert {\n",
              "      background-color: #3B4455;\n",
              "      fill: #D2E3FC;\n",
              "    }\n",
              "\n",
              "    [theme=dark] .colab-df-convert:hover {\n",
              "      background-color: #434B5C;\n",
              "      box-shadow: 0px 1px 3px 1px rgba(0, 0, 0, 0.15);\n",
              "      filter: drop-shadow(0px 1px 2px rgba(0, 0, 0, 0.3));\n",
              "      fill: #FFFFFF;\n",
              "    }\n",
              "  </style>\n",
              "\n",
              "      <script>\n",
              "        const buttonEl =\n",
              "          document.querySelector('#df-1111686c-e07c-400f-b5b2-60423b474398 button.colab-df-convert');\n",
              "        buttonEl.style.display =\n",
              "          google.colab.kernel.accessAllowed ? 'block' : 'none';\n",
              "\n",
              "        async function convertToInteractive(key) {\n",
              "          const element = document.querySelector('#df-1111686c-e07c-400f-b5b2-60423b474398');\n",
              "          const dataTable =\n",
              "            await google.colab.kernel.invokeFunction('convertToInteractive',\n",
              "                                                     [key], {});\n",
              "          if (!dataTable) return;\n",
              "\n",
              "          const docLinkHtml = 'Like what you see? Visit the ' +\n",
              "            '<a target=\"_blank\" href=https://colab.research.google.com/notebooks/data_table.ipynb>data table notebook</a>'\n",
              "            + ' to learn more about interactive tables.';\n",
              "          element.innerHTML = '';\n",
              "          dataTable['output_type'] = 'display_data';\n",
              "          await google.colab.output.renderOutput(dataTable, element);\n",
              "          const docLink = document.createElement('div');\n",
              "          docLink.innerHTML = docLinkHtml;\n",
              "          element.appendChild(docLink);\n",
              "        }\n",
              "      </script>\n",
              "    </div>\n",
              "  </div>\n",
              "  "
            ],
            "text/plain": [
              "              0      1   Error             Rate\n",
              "0      0  482.0   74.0  0.1331     (74.0/556.0)\n",
              "1      1   47.0  515.0  0.0836     (47.0/562.0)\n",
              "2  Total  529.0  589.0  0.1082   (121.0/1118.0)"
            ]
          },
          "metadata": {}
        },
        {
          "output_type": "stream",
          "name": "stdout",
          "text": [
            "\n",
            "Maximum Metrics: Maximum metrics at their respective thresholds\n"
          ]
        },
        {
          "output_type": "display_data",
          "data": {
            "text/html": [
              "\n",
              "  <div id=\"df-f52a9423-5d47-49bf-b674-280b648ef310\">\n",
              "    <div class=\"colab-df-container\">\n",
              "      <div>\n",
              "<style scoped>\n",
              "    .dataframe tbody tr th:only-of-type {\n",
              "        vertical-align: middle;\n",
              "    }\n",
              "\n",
              "    .dataframe tbody tr th {\n",
              "        vertical-align: top;\n",
              "    }\n",
              "\n",
              "    .dataframe thead th {\n",
              "        text-align: right;\n",
              "    }\n",
              "</style>\n",
              "<table border=\"1\" class=\"dataframe\">\n",
              "  <thead>\n",
              "    <tr style=\"text-align: right;\">\n",
              "      <th></th>\n",
              "      <th>metric</th>\n",
              "      <th>threshold</th>\n",
              "      <th>value</th>\n",
              "      <th>idx</th>\n",
              "    </tr>\n",
              "  </thead>\n",
              "  <tbody>\n",
              "    <tr>\n",
              "      <th>0</th>\n",
              "      <td>max f1</td>\n",
              "      <td>0.416970</td>\n",
              "      <td>0.894874</td>\n",
              "      <td>215.0</td>\n",
              "    </tr>\n",
              "    <tr>\n",
              "      <th>1</th>\n",
              "      <td>max f2</td>\n",
              "      <td>0.215284</td>\n",
              "      <td>0.925673</td>\n",
              "      <td>277.0</td>\n",
              "    </tr>\n",
              "    <tr>\n",
              "      <th>2</th>\n",
              "      <td>max f0point5</td>\n",
              "      <td>0.752164</td>\n",
              "      <td>0.914787</td>\n",
              "      <td>129.0</td>\n",
              "    </tr>\n",
              "    <tr>\n",
              "      <th>3</th>\n",
              "      <td>max accuracy</td>\n",
              "      <td>0.557357</td>\n",
              "      <td>0.893560</td>\n",
              "      <td>185.0</td>\n",
              "    </tr>\n",
              "    <tr>\n",
              "      <th>4</th>\n",
              "      <td>max precision</td>\n",
              "      <td>0.953373</td>\n",
              "      <td>0.995833</td>\n",
              "      <td>30.0</td>\n",
              "    </tr>\n",
              "    <tr>\n",
              "      <th>5</th>\n",
              "      <td>max recall</td>\n",
              "      <td>0.000023</td>\n",
              "      <td>1.000000</td>\n",
              "      <td>399.0</td>\n",
              "    </tr>\n",
              "    <tr>\n",
              "      <th>6</th>\n",
              "      <td>max specificity</td>\n",
              "      <td>0.999968</td>\n",
              "      <td>0.998201</td>\n",
              "      <td>0.0</td>\n",
              "    </tr>\n",
              "    <tr>\n",
              "      <th>7</th>\n",
              "      <td>max absolute_mcc</td>\n",
              "      <td>0.557357</td>\n",
              "      <td>0.787353</td>\n",
              "      <td>185.0</td>\n",
              "    </tr>\n",
              "    <tr>\n",
              "      <th>8</th>\n",
              "      <td>max min_per_class_accuracy</td>\n",
              "      <td>0.518451</td>\n",
              "      <td>0.889680</td>\n",
              "      <td>194.0</td>\n",
              "    </tr>\n",
              "    <tr>\n",
              "      <th>9</th>\n",
              "      <td>max mean_per_class_accuracy</td>\n",
              "      <td>0.557357</td>\n",
              "      <td>0.893619</td>\n",
              "      <td>185.0</td>\n",
              "    </tr>\n",
              "    <tr>\n",
              "      <th>10</th>\n",
              "      <td>max tns</td>\n",
              "      <td>0.999968</td>\n",
              "      <td>555.000000</td>\n",
              "      <td>0.0</td>\n",
              "    </tr>\n",
              "    <tr>\n",
              "      <th>11</th>\n",
              "      <td>max fns</td>\n",
              "      <td>0.999968</td>\n",
              "      <td>436.000000</td>\n",
              "      <td>0.0</td>\n",
              "    </tr>\n",
              "    <tr>\n",
              "      <th>12</th>\n",
              "      <td>max fps</td>\n",
              "      <td>0.000023</td>\n",
              "      <td>556.000000</td>\n",
              "      <td>399.0</td>\n",
              "    </tr>\n",
              "    <tr>\n",
              "      <th>13</th>\n",
              "      <td>max tps</td>\n",
              "      <td>0.000023</td>\n",
              "      <td>562.000000</td>\n",
              "      <td>399.0</td>\n",
              "    </tr>\n",
              "    <tr>\n",
              "      <th>14</th>\n",
              "      <td>max tnr</td>\n",
              "      <td>0.999968</td>\n",
              "      <td>0.998201</td>\n",
              "      <td>0.0</td>\n",
              "    </tr>\n",
              "    <tr>\n",
              "      <th>15</th>\n",
              "      <td>max fnr</td>\n",
              "      <td>0.999968</td>\n",
              "      <td>0.775801</td>\n",
              "      <td>0.0</td>\n",
              "    </tr>\n",
              "    <tr>\n",
              "      <th>16</th>\n",
              "      <td>max fpr</td>\n",
              "      <td>0.000023</td>\n",
              "      <td>1.000000</td>\n",
              "      <td>399.0</td>\n",
              "    </tr>\n",
              "    <tr>\n",
              "      <th>17</th>\n",
              "      <td>max tpr</td>\n",
              "      <td>0.000023</td>\n",
              "      <td>1.000000</td>\n",
              "      <td>399.0</td>\n",
              "    </tr>\n",
              "  </tbody>\n",
              "</table>\n",
              "</div>\n",
              "      <button class=\"colab-df-convert\" onclick=\"convertToInteractive('df-f52a9423-5d47-49bf-b674-280b648ef310')\"\n",
              "              title=\"Convert this dataframe to an interactive table.\"\n",
              "              style=\"display:none;\">\n",
              "        \n",
              "  <svg xmlns=\"http://www.w3.org/2000/svg\" height=\"24px\"viewBox=\"0 0 24 24\"\n",
              "       width=\"24px\">\n",
              "    <path d=\"M0 0h24v24H0V0z\" fill=\"none\"/>\n",
              "    <path d=\"M18.56 5.44l.94 2.06.94-2.06 2.06-.94-2.06-.94-.94-2.06-.94 2.06-2.06.94zm-11 1L8.5 8.5l.94-2.06 2.06-.94-2.06-.94L8.5 2.5l-.94 2.06-2.06.94zm10 10l.94 2.06.94-2.06 2.06-.94-2.06-.94-.94-2.06-.94 2.06-2.06.94z\"/><path d=\"M17.41 7.96l-1.37-1.37c-.4-.4-.92-.59-1.43-.59-.52 0-1.04.2-1.43.59L10.3 9.45l-7.72 7.72c-.78.78-.78 2.05 0 2.83L4 21.41c.39.39.9.59 1.41.59.51 0 1.02-.2 1.41-.59l7.78-7.78 2.81-2.81c.8-.78.8-2.07 0-2.86zM5.41 20L4 18.59l7.72-7.72 1.47 1.35L5.41 20z\"/>\n",
              "  </svg>\n",
              "      </button>\n",
              "      \n",
              "  <style>\n",
              "    .colab-df-container {\n",
              "      display:flex;\n",
              "      flex-wrap:wrap;\n",
              "      gap: 12px;\n",
              "    }\n",
              "\n",
              "    .colab-df-convert {\n",
              "      background-color: #E8F0FE;\n",
              "      border: none;\n",
              "      border-radius: 50%;\n",
              "      cursor: pointer;\n",
              "      display: none;\n",
              "      fill: #1967D2;\n",
              "      height: 32px;\n",
              "      padding: 0 0 0 0;\n",
              "      width: 32px;\n",
              "    }\n",
              "\n",
              "    .colab-df-convert:hover {\n",
              "      background-color: #E2EBFA;\n",
              "      box-shadow: 0px 1px 2px rgba(60, 64, 67, 0.3), 0px 1px 3px 1px rgba(60, 64, 67, 0.15);\n",
              "      fill: #174EA6;\n",
              "    }\n",
              "\n",
              "    [theme=dark] .colab-df-convert {\n",
              "      background-color: #3B4455;\n",
              "      fill: #D2E3FC;\n",
              "    }\n",
              "\n",
              "    [theme=dark] .colab-df-convert:hover {\n",
              "      background-color: #434B5C;\n",
              "      box-shadow: 0px 1px 3px 1px rgba(0, 0, 0, 0.15);\n",
              "      filter: drop-shadow(0px 1px 2px rgba(0, 0, 0, 0.3));\n",
              "      fill: #FFFFFF;\n",
              "    }\n",
              "  </style>\n",
              "\n",
              "      <script>\n",
              "        const buttonEl =\n",
              "          document.querySelector('#df-f52a9423-5d47-49bf-b674-280b648ef310 button.colab-df-convert');\n",
              "        buttonEl.style.display =\n",
              "          google.colab.kernel.accessAllowed ? 'block' : 'none';\n",
              "\n",
              "        async function convertToInteractive(key) {\n",
              "          const element = document.querySelector('#df-f52a9423-5d47-49bf-b674-280b648ef310');\n",
              "          const dataTable =\n",
              "            await google.colab.kernel.invokeFunction('convertToInteractive',\n",
              "                                                     [key], {});\n",
              "          if (!dataTable) return;\n",
              "\n",
              "          const docLinkHtml = 'Like what you see? Visit the ' +\n",
              "            '<a target=\"_blank\" href=https://colab.research.google.com/notebooks/data_table.ipynb>data table notebook</a>'\n",
              "            + ' to learn more about interactive tables.';\n",
              "          element.innerHTML = '';\n",
              "          dataTable['output_type'] = 'display_data';\n",
              "          await google.colab.output.renderOutput(dataTable, element);\n",
              "          const docLink = document.createElement('div');\n",
              "          docLink.innerHTML = docLinkHtml;\n",
              "          element.appendChild(docLink);\n",
              "        }\n",
              "      </script>\n",
              "    </div>\n",
              "  </div>\n",
              "  "
            ],
            "text/plain": [
              "                         metric  threshold       value    idx\n",
              "0                        max f1   0.416970    0.894874  215.0\n",
              "1                        max f2   0.215284    0.925673  277.0\n",
              "2                  max f0point5   0.752164    0.914787  129.0\n",
              "3                  max accuracy   0.557357    0.893560  185.0\n",
              "4                 max precision   0.953373    0.995833   30.0\n",
              "5                    max recall   0.000023    1.000000  399.0\n",
              "6               max specificity   0.999968    0.998201    0.0\n",
              "7              max absolute_mcc   0.557357    0.787353  185.0\n",
              "8    max min_per_class_accuracy   0.518451    0.889680  194.0\n",
              "9   max mean_per_class_accuracy   0.557357    0.893619  185.0\n",
              "10                      max tns   0.999968  555.000000    0.0\n",
              "11                      max fns   0.999968  436.000000    0.0\n",
              "12                      max fps   0.000023  556.000000  399.0\n",
              "13                      max tps   0.000023  562.000000  399.0\n",
              "14                      max tnr   0.999968    0.998201    0.0\n",
              "15                      max fnr   0.999968    0.775801    0.0\n",
              "16                      max fpr   0.000023    1.000000  399.0\n",
              "17                      max tpr   0.000023    1.000000  399.0"
            ]
          },
          "metadata": {}
        },
        {
          "output_type": "stream",
          "name": "stdout",
          "text": [
            "\n",
            "Gains/Lift Table: Avg response rate: 50.27 %, avg score: 50.23 %\n"
          ]
        },
        {
          "output_type": "display_data",
          "data": {
            "text/html": [
              "\n",
              "  <div id=\"df-d0628441-5afd-44da-b051-49b0aa5b43a9\">\n",
              "    <div class=\"colab-df-container\">\n",
              "      <div>\n",
              "<style scoped>\n",
              "    .dataframe tbody tr th:only-of-type {\n",
              "        vertical-align: middle;\n",
              "    }\n",
              "\n",
              "    .dataframe tbody tr th {\n",
              "        vertical-align: top;\n",
              "    }\n",
              "\n",
              "    .dataframe thead th {\n",
              "        text-align: right;\n",
              "    }\n",
              "</style>\n",
              "<table border=\"1\" class=\"dataframe\">\n",
              "  <thead>\n",
              "    <tr style=\"text-align: right;\">\n",
              "      <th></th>\n",
              "      <th>group</th>\n",
              "      <th>cumulative_data_fraction</th>\n",
              "      <th>lower_threshold</th>\n",
              "      <th>lift</th>\n",
              "      <th>cumulative_lift</th>\n",
              "      <th>response_rate</th>\n",
              "      <th>score</th>\n",
              "      <th>cumulative_response_rate</th>\n",
              "      <th>cumulative_score</th>\n",
              "      <th>capture_rate</th>\n",
              "      <th>cumulative_capture_rate</th>\n",
              "      <th>gain</th>\n",
              "      <th>cumulative_gain</th>\n",
              "      <th>kolmogorov_smirnov</th>\n",
              "    </tr>\n",
              "  </thead>\n",
              "  <tbody>\n",
              "    <tr>\n",
              "      <th>0</th>\n",
              "      <td>1</td>\n",
              "      <td>0.010733</td>\n",
              "      <td>9.999988e-01</td>\n",
              "      <td>1.823547</td>\n",
              "      <td>1.823547</td>\n",
              "      <td>0.916667</td>\n",
              "      <td>0.999999</td>\n",
              "      <td>0.916667</td>\n",
              "      <td>0.999999</td>\n",
              "      <td>0.019573</td>\n",
              "      <td>0.019573</td>\n",
              "      <td>82.354686</td>\n",
              "      <td>82.354686</td>\n",
              "      <td>0.017774</td>\n",
              "    </tr>\n",
              "    <tr>\n",
              "      <th>1</th>\n",
              "      <td>2</td>\n",
              "      <td>0.020572</td>\n",
              "      <td>9.999985e-01</td>\n",
              "      <td>1.989324</td>\n",
              "      <td>1.902832</td>\n",
              "      <td>1.000000</td>\n",
              "      <td>0.999999</td>\n",
              "      <td>0.956522</td>\n",
              "      <td>0.999999</td>\n",
              "      <td>0.019573</td>\n",
              "      <td>0.039146</td>\n",
              "      <td>98.932384</td>\n",
              "      <td>90.283150</td>\n",
              "      <td>0.037347</td>\n",
              "    </tr>\n",
              "    <tr>\n",
              "      <th>2</th>\n",
              "      <td>3</td>\n",
              "      <td>0.030411</td>\n",
              "      <td>9.999976e-01</td>\n",
              "      <td>1.989324</td>\n",
              "      <td>1.930814</td>\n",
              "      <td>1.000000</td>\n",
              "      <td>0.999998</td>\n",
              "      <td>0.970588</td>\n",
              "      <td>0.999999</td>\n",
              "      <td>0.019573</td>\n",
              "      <td>0.058719</td>\n",
              "      <td>98.932384</td>\n",
              "      <td>93.081432</td>\n",
              "      <td>0.056920</td>\n",
              "    </tr>\n",
              "    <tr>\n",
              "      <th>3</th>\n",
              "      <td>4</td>\n",
              "      <td>0.040250</td>\n",
              "      <td>9.999961e-01</td>\n",
              "      <td>1.989324</td>\n",
              "      <td>1.945117</td>\n",
              "      <td>1.000000</td>\n",
              "      <td>0.999997</td>\n",
              "      <td>0.977778</td>\n",
              "      <td>0.999998</td>\n",
              "      <td>0.019573</td>\n",
              "      <td>0.078292</td>\n",
              "      <td>98.932384</td>\n",
              "      <td>94.511665</td>\n",
              "      <td>0.076493</td>\n",
              "    </tr>\n",
              "    <tr>\n",
              "      <th>4</th>\n",
              "      <td>5</td>\n",
              "      <td>0.050089</td>\n",
              "      <td>9.999949e-01</td>\n",
              "      <td>1.989324</td>\n",
              "      <td>1.953800</td>\n",
              "      <td>1.000000</td>\n",
              "      <td>0.999996</td>\n",
              "      <td>0.982143</td>\n",
              "      <td>0.999998</td>\n",
              "      <td>0.019573</td>\n",
              "      <td>0.097865</td>\n",
              "      <td>98.932384</td>\n",
              "      <td>95.380020</td>\n",
              "      <td>0.096066</td>\n",
              "    </tr>\n",
              "    <tr>\n",
              "      <th>5</th>\n",
              "      <td>6</td>\n",
              "      <td>0.100179</td>\n",
              "      <td>9.999295e-01</td>\n",
              "      <td>1.989324</td>\n",
              "      <td>1.971562</td>\n",
              "      <td>1.000000</td>\n",
              "      <td>0.999959</td>\n",
              "      <td>0.991071</td>\n",
              "      <td>0.999979</td>\n",
              "      <td>0.099644</td>\n",
              "      <td>0.197509</td>\n",
              "      <td>98.932384</td>\n",
              "      <td>97.156202</td>\n",
              "      <td>0.195710</td>\n",
              "    </tr>\n",
              "    <tr>\n",
              "      <th>6</th>\n",
              "      <td>7</td>\n",
              "      <td>0.150268</td>\n",
              "      <td>9.773745e-01</td>\n",
              "      <td>1.989324</td>\n",
              "      <td>1.977483</td>\n",
              "      <td>1.000000</td>\n",
              "      <td>0.993526</td>\n",
              "      <td>0.994048</td>\n",
              "      <td>0.997828</td>\n",
              "      <td>0.099644</td>\n",
              "      <td>0.297153</td>\n",
              "      <td>98.932384</td>\n",
              "      <td>97.748263</td>\n",
              "      <td>0.295354</td>\n",
              "    </tr>\n",
              "    <tr>\n",
              "      <th>7</th>\n",
              "      <td>8</td>\n",
              "      <td>0.200358</td>\n",
              "      <td>9.599063e-01</td>\n",
              "      <td>1.989324</td>\n",
              "      <td>1.980443</td>\n",
              "      <td>1.000000</td>\n",
              "      <td>0.968105</td>\n",
              "      <td>0.995536</td>\n",
              "      <td>0.990397</td>\n",
              "      <td>0.099644</td>\n",
              "      <td>0.396797</td>\n",
              "      <td>98.932384</td>\n",
              "      <td>98.044293</td>\n",
              "      <td>0.394999</td>\n",
              "    </tr>\n",
              "    <tr>\n",
              "      <th>8</th>\n",
              "      <td>9</td>\n",
              "      <td>0.300537</td>\n",
              "      <td>8.987969e-01</td>\n",
              "      <td>1.882753</td>\n",
              "      <td>1.947880</td>\n",
              "      <td>0.946429</td>\n",
              "      <td>0.932863</td>\n",
              "      <td>0.979167</td>\n",
              "      <td>0.971219</td>\n",
              "      <td>0.188612</td>\n",
              "      <td>0.585409</td>\n",
              "      <td>88.275292</td>\n",
              "      <td>94.787960</td>\n",
              "      <td>0.572819</td>\n",
              "    </tr>\n",
              "    <tr>\n",
              "      <th>9</th>\n",
              "      <td>10</td>\n",
              "      <td>0.399821</td>\n",
              "      <td>7.661665e-01</td>\n",
              "      <td>1.756340</td>\n",
              "      <td>1.900316</td>\n",
              "      <td>0.882883</td>\n",
              "      <td>0.842383</td>\n",
              "      <td>0.955257</td>\n",
              "      <td>0.939226</td>\n",
              "      <td>0.174377</td>\n",
              "      <td>0.759786</td>\n",
              "      <td>75.633997</td>\n",
              "      <td>90.031607</td>\n",
              "      <td>0.723815</td>\n",
              "    </tr>\n",
              "    <tr>\n",
              "      <th>10</th>\n",
              "      <td>11</td>\n",
              "      <td>0.500000</td>\n",
              "      <td>5.185120e-01</td>\n",
              "      <td>1.296613</td>\n",
              "      <td>1.779359</td>\n",
              "      <td>0.651786</td>\n",
              "      <td>0.658843</td>\n",
              "      <td>0.894454</td>\n",
              "      <td>0.883049</td>\n",
              "      <td>0.129893</td>\n",
              "      <td>0.889680</td>\n",
              "      <td>29.661286</td>\n",
              "      <td>77.935943</td>\n",
              "      <td>0.783565</td>\n",
              "    </tr>\n",
              "    <tr>\n",
              "      <th>11</th>\n",
              "      <td>12</td>\n",
              "      <td>0.600179</td>\n",
              "      <td>2.312481e-01</td>\n",
              "      <td>0.692711</td>\n",
              "      <td>1.597981</td>\n",
              "      <td>0.348214</td>\n",
              "      <td>0.361956</td>\n",
              "      <td>0.803279</td>\n",
              "      <td>0.796071</td>\n",
              "      <td>0.069395</td>\n",
              "      <td>0.959075</td>\n",
              "      <td>-30.728902</td>\n",
              "      <td>59.798145</td>\n",
              "      <td>0.721665</td>\n",
              "    </tr>\n",
              "    <tr>\n",
              "      <th>12</th>\n",
              "      <td>13</td>\n",
              "      <td>0.699463</td>\n",
              "      <td>1.089692e-01</td>\n",
              "      <td>0.232984</td>\n",
              "      <td>1.404229</td>\n",
              "      <td>0.117117</td>\n",
              "      <td>0.166228</td>\n",
              "      <td>0.705882</td>\n",
              "      <td>0.706669</td>\n",
              "      <td>0.023132</td>\n",
              "      <td>0.982206</td>\n",
              "      <td>-76.701613</td>\n",
              "      <td>40.422860</td>\n",
              "      <td>0.568537</td>\n",
              "    </tr>\n",
              "    <tr>\n",
              "      <th>13</th>\n",
              "      <td>14</td>\n",
              "      <td>0.799642</td>\n",
              "      <td>3.227570e-02</td>\n",
              "      <td>0.106571</td>\n",
              "      <td>1.241659</td>\n",
              "      <td>0.053571</td>\n",
              "      <td>0.063987</td>\n",
              "      <td>0.624161</td>\n",
              "      <td>0.626154</td>\n",
              "      <td>0.010676</td>\n",
              "      <td>0.992883</td>\n",
              "      <td>-89.342908</td>\n",
              "      <td>24.165851</td>\n",
              "      <td>0.388566</td>\n",
              "    </tr>\n",
              "    <tr>\n",
              "      <th>14</th>\n",
              "      <td>15</td>\n",
              "      <td>0.899821</td>\n",
              "      <td>2.523082e-03</td>\n",
              "      <td>0.053285</td>\n",
              "      <td>1.109355</td>\n",
              "      <td>0.026786</td>\n",
              "      <td>0.015662</td>\n",
              "      <td>0.557654</td>\n",
              "      <td>0.558187</td>\n",
              "      <td>0.005338</td>\n",
              "      <td>0.998221</td>\n",
              "      <td>-94.671454</td>\n",
              "      <td>10.935455</td>\n",
              "      <td>0.197861</td>\n",
              "    </tr>\n",
              "    <tr>\n",
              "      <th>15</th>\n",
              "      <td>16</td>\n",
              "      <td>1.000000</td>\n",
              "      <td>4.000000e-08</td>\n",
              "      <td>0.017762</td>\n",
              "      <td>1.000000</td>\n",
              "      <td>0.008929</td>\n",
              "      <td>0.000217</td>\n",
              "      <td>0.502683</td>\n",
              "      <td>0.502290</td>\n",
              "      <td>0.001779</td>\n",
              "      <td>1.000000</td>\n",
              "      <td>-98.223818</td>\n",
              "      <td>0.000000</td>\n",
              "      <td>0.000000</td>\n",
              "    </tr>\n",
              "  </tbody>\n",
              "</table>\n",
              "</div>\n",
              "      <button class=\"colab-df-convert\" onclick=\"convertToInteractive('df-d0628441-5afd-44da-b051-49b0aa5b43a9')\"\n",
              "              title=\"Convert this dataframe to an interactive table.\"\n",
              "              style=\"display:none;\">\n",
              "        \n",
              "  <svg xmlns=\"http://www.w3.org/2000/svg\" height=\"24px\"viewBox=\"0 0 24 24\"\n",
              "       width=\"24px\">\n",
              "    <path d=\"M0 0h24v24H0V0z\" fill=\"none\"/>\n",
              "    <path d=\"M18.56 5.44l.94 2.06.94-2.06 2.06-.94-2.06-.94-.94-2.06-.94 2.06-2.06.94zm-11 1L8.5 8.5l.94-2.06 2.06-.94-2.06-.94L8.5 2.5l-.94 2.06-2.06.94zm10 10l.94 2.06.94-2.06 2.06-.94-2.06-.94-.94-2.06-.94 2.06-2.06.94z\"/><path d=\"M17.41 7.96l-1.37-1.37c-.4-.4-.92-.59-1.43-.59-.52 0-1.04.2-1.43.59L10.3 9.45l-7.72 7.72c-.78.78-.78 2.05 0 2.83L4 21.41c.39.39.9.59 1.41.59.51 0 1.02-.2 1.41-.59l7.78-7.78 2.81-2.81c.8-.78.8-2.07 0-2.86zM5.41 20L4 18.59l7.72-7.72 1.47 1.35L5.41 20z\"/>\n",
              "  </svg>\n",
              "      </button>\n",
              "      \n",
              "  <style>\n",
              "    .colab-df-container {\n",
              "      display:flex;\n",
              "      flex-wrap:wrap;\n",
              "      gap: 12px;\n",
              "    }\n",
              "\n",
              "    .colab-df-convert {\n",
              "      background-color: #E8F0FE;\n",
              "      border: none;\n",
              "      border-radius: 50%;\n",
              "      cursor: pointer;\n",
              "      display: none;\n",
              "      fill: #1967D2;\n",
              "      height: 32px;\n",
              "      padding: 0 0 0 0;\n",
              "      width: 32px;\n",
              "    }\n",
              "\n",
              "    .colab-df-convert:hover {\n",
              "      background-color: #E2EBFA;\n",
              "      box-shadow: 0px 1px 2px rgba(60, 64, 67, 0.3), 0px 1px 3px 1px rgba(60, 64, 67, 0.15);\n",
              "      fill: #174EA6;\n",
              "    }\n",
              "\n",
              "    [theme=dark] .colab-df-convert {\n",
              "      background-color: #3B4455;\n",
              "      fill: #D2E3FC;\n",
              "    }\n",
              "\n",
              "    [theme=dark] .colab-df-convert:hover {\n",
              "      background-color: #434B5C;\n",
              "      box-shadow: 0px 1px 3px 1px rgba(0, 0, 0, 0.15);\n",
              "      filter: drop-shadow(0px 1px 2px rgba(0, 0, 0, 0.3));\n",
              "      fill: #FFFFFF;\n",
              "    }\n",
              "  </style>\n",
              "\n",
              "      <script>\n",
              "        const buttonEl =\n",
              "          document.querySelector('#df-d0628441-5afd-44da-b051-49b0aa5b43a9 button.colab-df-convert');\n",
              "        buttonEl.style.display =\n",
              "          google.colab.kernel.accessAllowed ? 'block' : 'none';\n",
              "\n",
              "        async function convertToInteractive(key) {\n",
              "          const element = document.querySelector('#df-d0628441-5afd-44da-b051-49b0aa5b43a9');\n",
              "          const dataTable =\n",
              "            await google.colab.kernel.invokeFunction('convertToInteractive',\n",
              "                                                     [key], {});\n",
              "          if (!dataTable) return;\n",
              "\n",
              "          const docLinkHtml = 'Like what you see? Visit the ' +\n",
              "            '<a target=\"_blank\" href=https://colab.research.google.com/notebooks/data_table.ipynb>data table notebook</a>'\n",
              "            + ' to learn more about interactive tables.';\n",
              "          element.innerHTML = '';\n",
              "          dataTable['output_type'] = 'display_data';\n",
              "          await google.colab.output.renderOutput(dataTable, element);\n",
              "          const docLink = document.createElement('div');\n",
              "          docLink.innerHTML = docLinkHtml;\n",
              "          element.appendChild(docLink);\n",
              "        }\n",
              "      </script>\n",
              "    </div>\n",
              "  </div>\n",
              "  "
            ],
            "text/plain": [
              "    group  cumulative_data_fraction  ...  cumulative_gain  kolmogorov_smirnov\n",
              "0       1                  0.010733  ...        82.354686            0.017774\n",
              "1       2                  0.020572  ...        90.283150            0.037347\n",
              "2       3                  0.030411  ...        93.081432            0.056920\n",
              "3       4                  0.040250  ...        94.511665            0.076493\n",
              "4       5                  0.050089  ...        95.380020            0.096066\n",
              "5       6                  0.100179  ...        97.156202            0.195710\n",
              "6       7                  0.150268  ...        97.748263            0.295354\n",
              "7       8                  0.200358  ...        98.044293            0.394999\n",
              "8       9                  0.300537  ...        94.787960            0.572819\n",
              "9      10                  0.399821  ...        90.031607            0.723815\n",
              "10     11                  0.500000  ...        77.935943            0.783565\n",
              "11     12                  0.600179  ...        59.798145            0.721665\n",
              "12     13                  0.699463  ...        40.422860            0.568537\n",
              "13     14                  0.799642  ...        24.165851            0.388566\n",
              "14     15                  0.899821  ...        10.935455            0.197861\n",
              "15     16                  1.000000  ...         0.000000            0.000000\n",
              "\n",
              "[16 rows x 14 columns]"
            ]
          },
          "metadata": {}
        },
        {
          "output_type": "stream",
          "name": "stdout",
          "text": [
            "\n"
          ]
        },
        {
          "output_type": "execute_result",
          "data": {
            "text/plain": [
              ""
            ]
          },
          "metadata": {},
          "execution_count": 43
        }
      ],
      "source": [
        "# For binary classification, response should be a factor\n",
        "h2o_train2[y2] = h2o_train2[y2].asfactor()\n",
        "h2o_test2[y2] = h2o_test2[y2].asfactor()\n",
        "\n",
        "# Run AutoML for 5 base models\n",
        "model_class = H2OAutoML(max_models=5, seed=1)\n",
        "model_class.train(x=x2, y=y2, training_frame=h2o_train2)"
      ]
    },
    {
      "cell_type": "code",
      "source": [
        "toc = time.perf_counter()\n",
        "print (f\"Elapsed time {toc - tic:0.4f} seconds\")"
      ],
      "metadata": {
        "id": "WAzQmmFhUGa1",
        "colab": {
          "base_uri": "https://localhost:8080/"
        },
        "outputId": "2c80793e-c396-4dcf-d018-ee50803321c6"
      },
      "execution_count": null,
      "outputs": [
        {
          "output_type": "stream",
          "name": "stdout",
          "text": [
            "Elapsed time 63.6878 seconds\n"
          ]
        }
      ]
    },
    {
      "cell_type": "code",
      "execution_count": null,
      "metadata": {
        "id": "Rw71XDWkeuB0",
        "colab": {
          "base_uri": "https://localhost:8080/",
          "height": 339
        },
        "outputId": "168f9cc2-7fb9-4428-8235-54d691a61992"
      },
      "outputs": [
        {
          "output_type": "display_data",
          "data": {
            "text/html": [
              "<table>\n",
              "<thead>\n",
              "<tr><th>model_id                                               </th><th style=\"text-align: right;\">     auc</th><th style=\"text-align: right;\">  logloss</th><th style=\"text-align: right;\">   aucpr</th><th style=\"text-align: right;\">  mean_per_class_error</th><th style=\"text-align: right;\">    rmse</th><th style=\"text-align: right;\">      mse</th></tr>\n",
              "</thead>\n",
              "<tbody>\n",
              "<tr><td>StackedEnsemble_BestOfFamily_2_AutoML_2_20220202_130732</td><td style=\"text-align: right;\">0.957038</td><td style=\"text-align: right;\"> 0.280584</td><td style=\"text-align: right;\">0.958294</td><td style=\"text-align: right;\">              0.108362</td><td style=\"text-align: right;\">0.282957</td><td style=\"text-align: right;\">0.0800646</td></tr>\n",
              "<tr><td>DRF_1_AutoML_2_20220202_130732                         </td><td style=\"text-align: right;\">0.956622</td><td style=\"text-align: right;\"> 0.324653</td><td style=\"text-align: right;\">0.958218</td><td style=\"text-align: right;\">              0.103721</td><td style=\"text-align: right;\">0.285078</td><td style=\"text-align: right;\">0.0812694</td></tr>\n",
              "<tr><td>StackedEnsemble_AllModels_1_AutoML_2_20220202_130732   </td><td style=\"text-align: right;\">0.95645 </td><td style=\"text-align: right;\"> 0.284183</td><td style=\"text-align: right;\">0.957591</td><td style=\"text-align: right;\">              0.108391</td><td style=\"text-align: right;\">0.284324</td><td style=\"text-align: right;\">0.0808399</td></tr>\n",
              "<tr><td>StackedEnsemble_BestOfFamily_5_AutoML_2_20220202_130732</td><td style=\"text-align: right;\">0.956374</td><td style=\"text-align: right;\"> 0.280739</td><td style=\"text-align: right;\">0.956718</td><td style=\"text-align: right;\">              0.107424</td><td style=\"text-align: right;\">0.2859  </td><td style=\"text-align: right;\">0.0817387</td></tr>\n",
              "<tr><td>StackedEnsemble_AllModels_4_AutoML_2_20220202_130732   </td><td style=\"text-align: right;\">0.95595 </td><td style=\"text-align: right;\"> 0.28237 </td><td style=\"text-align: right;\">0.956136</td><td style=\"text-align: right;\">              0.106458</td><td style=\"text-align: right;\">0.287505</td><td style=\"text-align: right;\">0.0826588</td></tr>\n",
              "<tr><td>StackedEnsemble_AllModels_3_AutoML_2_20220202_130732   </td><td style=\"text-align: right;\">0.952959</td><td style=\"text-align: right;\"> 0.278058</td><td style=\"text-align: right;\">0.954816</td><td style=\"text-align: right;\">              0.106381</td><td style=\"text-align: right;\">0.287681</td><td style=\"text-align: right;\">0.0827606</td></tr>\n",
              "<tr><td>StackedEnsemble_BestOfFamily_4_AutoML_2_20220202_130732</td><td style=\"text-align: right;\">0.949901</td><td style=\"text-align: right;\"> 0.287802</td><td style=\"text-align: right;\">0.953973</td><td style=\"text-align: right;\">              0.10727 </td><td style=\"text-align: right;\">0.292194</td><td style=\"text-align: right;\">0.0853771</td></tr>\n",
              "<tr><td>StackedEnsemble_BestOfFamily_1_AutoML_2_20220202_130732</td><td style=\"text-align: right;\">0.945963</td><td style=\"text-align: right;\"> 0.300308</td><td style=\"text-align: right;\">0.946646</td><td style=\"text-align: right;\">              0.115354</td><td style=\"text-align: right;\">0.298084</td><td style=\"text-align: right;\">0.088854 </td></tr>\n",
              "<tr><td>StackedEnsemble_AllModels_2_AutoML_2_20220202_130732   </td><td style=\"text-align: right;\">0.944433</td><td style=\"text-align: right;\"> 0.336659</td><td style=\"text-align: right;\">0.946803</td><td style=\"text-align: right;\">              0.122597</td><td style=\"text-align: right;\">0.304817</td><td style=\"text-align: right;\">0.0929134</td></tr>\n",
              "<tr><td>GLM_1_AutoML_2_20220202_130732                         </td><td style=\"text-align: right;\">0.941984</td><td style=\"text-align: right;\"> 0.313316</td><td style=\"text-align: right;\">0.937428</td><td style=\"text-align: right;\">              0.119153</td><td style=\"text-align: right;\">0.30056 </td><td style=\"text-align: right;\">0.090336 </td></tr>\n",
              "<tr><td>StackedEnsemble_BestOfFamily_3_AutoML_2_20220202_130732</td><td style=\"text-align: right;\">0.941422</td><td style=\"text-align: right;\"> 0.34647 </td><td style=\"text-align: right;\">0.946579</td><td style=\"text-align: right;\">              0.132594</td><td style=\"text-align: right;\">0.316561</td><td style=\"text-align: right;\">0.100211 </td></tr>\n",
              "<tr><td>XGBoost_2_AutoML_2_20220202_130732                     </td><td style=\"text-align: right;\">0.939847</td><td style=\"text-align: right;\"> 0.318484</td><td style=\"text-align: right;\">0.940412</td><td style=\"text-align: right;\">              0.132537</td><td style=\"text-align: right;\">0.313654</td><td style=\"text-align: right;\">0.0983786</td></tr>\n",
              "<tr><td>GBM_1_AutoML_2_20220202_130732                         </td><td style=\"text-align: right;\">0.938358</td><td style=\"text-align: right;\"> 0.319382</td><td style=\"text-align: right;\">0.939831</td><td style=\"text-align: right;\">              0.137081</td><td style=\"text-align: right;\">0.313521</td><td style=\"text-align: right;\">0.0982954</td></tr>\n",
              "<tr><td>XGBoost_1_AutoML_2_20220202_130732                     </td><td style=\"text-align: right;\">0.931845</td><td style=\"text-align: right;\"> 0.335278</td><td style=\"text-align: right;\">0.929252</td><td style=\"text-align: right;\">              0.148954</td><td style=\"text-align: right;\">0.322985</td><td style=\"text-align: right;\">0.104319 </td></tr>\n",
              "</tbody>\n",
              "</table>"
            ]
          },
          "metadata": {}
        },
        {
          "output_type": "execute_result",
          "data": {
            "text/plain": [
              ""
            ]
          },
          "metadata": {},
          "execution_count": 45
        }
      ],
      "source": [
        "#View the AutoML Leaderboard\n",
        "lb = model_class.leaderboard\n",
        "lb.head(rows=lb.nrows)"
      ]
    },
    {
      "cell_type": "code",
      "execution_count": null,
      "metadata": {
        "id": "dFgmnVa8euB2",
        "colab": {
          "base_uri": "https://localhost:8080/"
        },
        "outputId": "d3c4a07b-2f11-46b7-882a-e2c7c2eb898b"
      },
      "outputs": [
        {
          "output_type": "stream",
          "name": "stdout",
          "text": [
            "Parse progress: |████████████████████████████████████████████████████████████████| (done) 100%\n",
            "stackedensemble prediction progress: |███████████████████████████████████████████| (done) 100%\n"
          ]
        }
      ],
      "source": [
        "preds = model_class.leader.predict(h2o.H2OFrame(X_test_classifier))"
      ]
    },
    {
      "cell_type": "markdown",
      "metadata": {
        "id": "fQe4f1LX0VWu"
      },
      "source": [
        "The prediction for classification problems is a dataframe containing the class predicted and the probability that the instance belongs to each class, as we have 2 classes we will get 2 probabilities which are complement."
      ]
    },
    {
      "cell_type": "code",
      "execution_count": null,
      "metadata": {
        "id": "51GdzLXbeuB4",
        "colab": {
          "base_uri": "https://localhost:8080/",
          "height": 254
        },
        "outputId": "f5977d4a-f918-40f5-ef74-f30e38c85f7f"
      },
      "outputs": [
        {
          "output_type": "display_data",
          "data": {
            "text/html": [
              "<table>\n",
              "<thead>\n",
              "<tr><th style=\"text-align: right;\">  predict</th><th style=\"text-align: right;\">         p0</th><th style=\"text-align: right;\">         p1</th></tr>\n",
              "</thead>\n",
              "<tbody>\n",
              "<tr><td style=\"text-align: right;\">        0</td><td style=\"text-align: right;\">0.918087   </td><td style=\"text-align: right;\">0.0819129  </td></tr>\n",
              "<tr><td style=\"text-align: right;\">        0</td><td style=\"text-align: right;\">0.725656   </td><td style=\"text-align: right;\">0.274344   </td></tr>\n",
              "<tr><td style=\"text-align: right;\">        0</td><td style=\"text-align: right;\">0.949431   </td><td style=\"text-align: right;\">0.0505694  </td></tr>\n",
              "<tr><td style=\"text-align: right;\">        0</td><td style=\"text-align: right;\">0.622924   </td><td style=\"text-align: right;\">0.377076   </td></tr>\n",
              "<tr><td style=\"text-align: right;\">        1</td><td style=\"text-align: right;\">0.0232433  </td><td style=\"text-align: right;\">0.976757   </td></tr>\n",
              "<tr><td style=\"text-align: right;\">        0</td><td style=\"text-align: right;\">0.616835   </td><td style=\"text-align: right;\">0.383165   </td></tr>\n",
              "<tr><td style=\"text-align: right;\">        1</td><td style=\"text-align: right;\">0.0708351  </td><td style=\"text-align: right;\">0.929165   </td></tr>\n",
              "<tr><td style=\"text-align: right;\">        0</td><td style=\"text-align: right;\">0.999911   </td><td style=\"text-align: right;\">8.85202e-05</td></tr>\n",
              "<tr><td style=\"text-align: right;\">        0</td><td style=\"text-align: right;\">0.811663   </td><td style=\"text-align: right;\">0.188337   </td></tr>\n",
              "<tr><td style=\"text-align: right;\">        1</td><td style=\"text-align: right;\">1.97751e-05</td><td style=\"text-align: right;\">0.99998    </td></tr>\n",
              "</tbody>\n",
              "</table>"
            ]
          },
          "metadata": {}
        },
        {
          "output_type": "execute_result",
          "data": {
            "text/plain": [
              ""
            ]
          },
          "metadata": {},
          "execution_count": 47
        }
      ],
      "source": [
        "preds"
      ]
    },
    {
      "cell_type": "markdown",
      "source": [
        "The predicted label is formatted as H2O dataframe and we have to convert it to numpy array."
      ],
      "metadata": {
        "id": "2FCD8gRxYjw8"
      }
    },
    {
      "cell_type": "code",
      "execution_count": null,
      "metadata": {
        "id": "EB9zIFEteuB5",
        "colab": {
          "base_uri": "https://localhost:8080/"
        },
        "outputId": "eaf8bb6d-9c4b-466c-ef09-79be294a8c4c"
      },
      "outputs": [
        {
          "output_type": "execute_result",
          "data": {
            "text/plain": [
              "array([[0],\n",
              "       [0],\n",
              "       [0],\n",
              "       [0],\n",
              "       [1],\n",
              "       [0],\n",
              "       [1],\n",
              "       [0],\n",
              "       [0],\n",
              "       [1],\n",
              "       [1],\n",
              "       [0],\n",
              "       [0],\n",
              "       [0],\n",
              "       [0],\n",
              "       [1],\n",
              "       [1],\n",
              "       [1],\n",
              "       [1],\n",
              "       [0],\n",
              "       [0],\n",
              "       [1],\n",
              "       [0],\n",
              "       [1],\n",
              "       [0],\n",
              "       [1],\n",
              "       [1],\n",
              "       [1],\n",
              "       [1],\n",
              "       [1],\n",
              "       [1],\n",
              "       [1],\n",
              "       [0],\n",
              "       [1],\n",
              "       [1],\n",
              "       [1],\n",
              "       [0],\n",
              "       [1],\n",
              "       [0],\n",
              "       [0],\n",
              "       [0],\n",
              "       [0],\n",
              "       [1],\n",
              "       [0],\n",
              "       [1],\n",
              "       [1],\n",
              "       [0],\n",
              "       [0],\n",
              "       [0],\n",
              "       [0],\n",
              "       [1],\n",
              "       [1],\n",
              "       [1],\n",
              "       [0],\n",
              "       [0],\n",
              "       [0],\n",
              "       [1],\n",
              "       [0],\n",
              "       [1],\n",
              "       [1],\n",
              "       [1],\n",
              "       [1],\n",
              "       [0],\n",
              "       [0],\n",
              "       [0],\n",
              "       [0],\n",
              "       [1],\n",
              "       [0],\n",
              "       [1],\n",
              "       [1],\n",
              "       [1],\n",
              "       [1],\n",
              "       [1],\n",
              "       [0],\n",
              "       [0],\n",
              "       [0],\n",
              "       [0],\n",
              "       [0],\n",
              "       [0],\n",
              "       [0],\n",
              "       [1],\n",
              "       [1],\n",
              "       [1],\n",
              "       [1],\n",
              "       [1],\n",
              "       [1],\n",
              "       [1],\n",
              "       [0],\n",
              "       [1],\n",
              "       [1],\n",
              "       [0],\n",
              "       [0],\n",
              "       [0],\n",
              "       [1],\n",
              "       [1],\n",
              "       [0],\n",
              "       [0],\n",
              "       [1],\n",
              "       [0],\n",
              "       [1],\n",
              "       [0],\n",
              "       [0],\n",
              "       [0],\n",
              "       [0],\n",
              "       [0],\n",
              "       [1],\n",
              "       [0],\n",
              "       [0],\n",
              "       [1],\n",
              "       [1],\n",
              "       [1],\n",
              "       [1],\n",
              "       [0],\n",
              "       [1],\n",
              "       [0],\n",
              "       [1],\n",
              "       [0],\n",
              "       [0],\n",
              "       [1],\n",
              "       [0],\n",
              "       [0],\n",
              "       [1],\n",
              "       [1],\n",
              "       [0],\n",
              "       [1],\n",
              "       [1],\n",
              "       [1],\n",
              "       [1],\n",
              "       [0],\n",
              "       [0],\n",
              "       [0],\n",
              "       [1],\n",
              "       [0],\n",
              "       [1],\n",
              "       [1],\n",
              "       [0],\n",
              "       [0],\n",
              "       [1],\n",
              "       [1],\n",
              "       [0],\n",
              "       [0],\n",
              "       [1],\n",
              "       [1],\n",
              "       [0],\n",
              "       [1],\n",
              "       [1],\n",
              "       [0],\n",
              "       [0],\n",
              "       [0],\n",
              "       [1],\n",
              "       [1],\n",
              "       [0],\n",
              "       [0],\n",
              "       [1],\n",
              "       [0],\n",
              "       [1],\n",
              "       [1],\n",
              "       [1],\n",
              "       [0],\n",
              "       [0],\n",
              "       [0],\n",
              "       [0],\n",
              "       [1],\n",
              "       [1],\n",
              "       [0],\n",
              "       [0],\n",
              "       [0],\n",
              "       [1],\n",
              "       [1],\n",
              "       [1],\n",
              "       [1],\n",
              "       [0],\n",
              "       [0],\n",
              "       [1],\n",
              "       [1],\n",
              "       [0],\n",
              "       [0],\n",
              "       [0],\n",
              "       [0],\n",
              "       [0],\n",
              "       [0],\n",
              "       [0],\n",
              "       [0],\n",
              "       [0],\n",
              "       [1],\n",
              "       [0],\n",
              "       [0],\n",
              "       [1],\n",
              "       [0],\n",
              "       [1],\n",
              "       [1],\n",
              "       [1],\n",
              "       [1],\n",
              "       [0],\n",
              "       [1],\n",
              "       [1],\n",
              "       [0],\n",
              "       [1],\n",
              "       [0],\n",
              "       [0],\n",
              "       [1],\n",
              "       [0],\n",
              "       [0],\n",
              "       [0],\n",
              "       [0],\n",
              "       [1],\n",
              "       [0],\n",
              "       [0],\n",
              "       [1],\n",
              "       [0],\n",
              "       [1],\n",
              "       [1],\n",
              "       [0],\n",
              "       [1],\n",
              "       [0],\n",
              "       [1],\n",
              "       [1],\n",
              "       [0],\n",
              "       [1],\n",
              "       [1],\n",
              "       [1],\n",
              "       [1],\n",
              "       [0],\n",
              "       [0],\n",
              "       [1],\n",
              "       [0],\n",
              "       [0],\n",
              "       [0],\n",
              "       [0],\n",
              "       [0],\n",
              "       [1],\n",
              "       [0],\n",
              "       [1],\n",
              "       [0],\n",
              "       [1],\n",
              "       [0],\n",
              "       [1],\n",
              "       [1],\n",
              "       [1],\n",
              "       [1],\n",
              "       [1],\n",
              "       [1],\n",
              "       [0],\n",
              "       [0],\n",
              "       [0],\n",
              "       [1],\n",
              "       [1],\n",
              "       [1],\n",
              "       [0],\n",
              "       [0],\n",
              "       [0],\n",
              "       [1],\n",
              "       [0],\n",
              "       [1],\n",
              "       [0],\n",
              "       [1],\n",
              "       [1],\n",
              "       [1],\n",
              "       [1],\n",
              "       [1],\n",
              "       [1],\n",
              "       [0],\n",
              "       [0],\n",
              "       [1],\n",
              "       [1],\n",
              "       [1],\n",
              "       [1],\n",
              "       [1],\n",
              "       [1],\n",
              "       [1],\n",
              "       [0],\n",
              "       [1],\n",
              "       [0],\n",
              "       [0],\n",
              "       [1],\n",
              "       [0],\n",
              "       [0],\n",
              "       [0],\n",
              "       [1],\n",
              "       [1]])"
            ]
          },
          "metadata": {},
          "execution_count": 48
        }
      ],
      "source": [
        "np.array(preds['predict'].as_data_frame())"
      ]
    },
    {
      "cell_type": "code",
      "execution_count": null,
      "metadata": {
        "id": "V0t9cYiAeEjl",
        "colab": {
          "base_uri": "https://localhost:8080/"
        },
        "outputId": "31339f81-b468-43ae-a3ec-72efe3cf527e"
      },
      "outputs": [
        {
          "output_type": "stream",
          "name": "stdout",
          "text": [
            "              precision    recall  f1-score   support\n",
            "\n",
            "           0       0.93      0.90      0.91       143\n",
            "           1       0.90      0.93      0.91       137\n",
            "\n",
            "    accuracy                           0.91       280\n",
            "   macro avg       0.91      0.91      0.91       280\n",
            "weighted avg       0.91      0.91      0.91       280\n",
            "\n"
          ]
        }
      ],
      "source": [
        "from sklearn.metrics import classification_report\n",
        "\n",
        "print(classification_report(label_test_classifier.values, np.array(preds['predict'].as_data_frame())))"
      ]
    }
  ],
  "metadata": {
    "colab": {
      "collapsed_sections": [],
      "name": "AutoML H2O.ipynb",
      "provenance": [],
      "toc_visible": true
    },
    "kernelspec": {
      "display_name": "Python 3",
      "name": "python3"
    },
    "language_info": {
      "name": "python"
    },
    "accelerator": "GPU"
  },
  "nbformat": 4,
  "nbformat_minor": 0
}