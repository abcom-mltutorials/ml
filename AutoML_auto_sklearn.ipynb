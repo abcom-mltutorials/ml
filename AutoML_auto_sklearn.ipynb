{
  "cells": [
    {
      "cell_type": "markdown",
      "metadata": {
        "id": "0wpLaqghxEGa"
      },
      "source": [
        "# auto-sklearn"
      ]
    },
    {
      "cell_type": "markdown",
      "source": [
        "# Installation"
      ],
      "metadata": {
        "id": "ny098LfV7htL"
      }
    },
    {
      "cell_type": "code",
      "execution_count": null,
      "metadata": {
        "id": "1xtppoBhxEGd",
        "colab": {
          "base_uri": "https://localhost:8080/",
          "height": 1000
        },
        "outputId": "75750c7d-ff4d-479b-bd6e-20d2b77fc799"
      },
      "outputs": [
        {
          "output_type": "stream",
          "name": "stdout",
          "text": [
            "Reading package lists... Done\n",
            "Building dependency tree       \n",
            "Reading state information... Done\n",
            "build-essential is already the newest version (12.4ubuntu1).\n",
            "Suggested packages:\n",
            "  swig-doc swig-examples swig3.0-examples swig3.0-doc\n",
            "The following NEW packages will be installed:\n",
            "  swig swig3.0\n",
            "0 upgraded, 2 newly installed, 0 to remove and 37 not upgraded.\n",
            "Need to get 1,100 kB of archives.\n",
            "After this operation, 5,822 kB of additional disk space will be used.\n",
            "Get:1 http://archive.ubuntu.com/ubuntu bionic/universe amd64 swig3.0 amd64 3.0.12-1 [1,094 kB]\n",
            "Get:2 http://archive.ubuntu.com/ubuntu bionic/universe amd64 swig amd64 3.0.12-1 [6,460 B]\n",
            "Fetched 1,100 kB in 13s (85.9 kB/s)\n",
            "debconf: unable to initialize frontend: Dialog\n",
            "debconf: (No usable dialog-like program is installed, so the dialog based frontend cannot be used. at /usr/share/perl5/Debconf/FrontEnd/Dialog.pm line 76, <> line 2.)\n",
            "debconf: falling back to frontend: Readline\n",
            "debconf: unable to initialize frontend: Readline\n",
            "debconf: (This frontend requires a controlling tty.)\n",
            "debconf: falling back to frontend: Teletype\n",
            "dpkg-preconfigure: unable to re-open stdin: \n",
            "Selecting previously unselected package swig3.0.\n",
            "(Reading database ... 155229 files and directories currently installed.)\n",
            "Preparing to unpack .../swig3.0_3.0.12-1_amd64.deb ...\n",
            "Unpacking swig3.0 (3.0.12-1) ...\n",
            "Selecting previously unselected package swig.\n",
            "Preparing to unpack .../swig_3.0.12-1_amd64.deb ...\n",
            "Unpacking swig (3.0.12-1) ...\n",
            "Setting up swig3.0 (3.0.12-1) ...\n",
            "Setting up swig (3.0.12-1) ...\n",
            "Processing triggers for man-db (2.8.3-2ubuntu0.1) ...\n",
            "Collecting auto-sklearn==0.14.3\n",
            "  Downloading auto-sklearn-0.14.3.tar.gz (6.3 MB)\n",
            "\u001b[K     |████████████████████████████████| 6.3 MB 3.3 MB/s \n",
            "\u001b[?25hRequirement already satisfied: setuptools in /usr/local/lib/python3.7/dist-packages (from auto-sklearn==0.14.3) (57.4.0)\n",
            "Requirement already satisfied: typing_extensions in /usr/local/lib/python3.7/dist-packages (from auto-sklearn==0.14.3) (3.10.0.2)\n",
            "Requirement already satisfied: numpy>=1.9.0 in /usr/local/lib/python3.7/dist-packages (from auto-sklearn==0.14.3) (1.19.5)\n",
            "Collecting scipy>=1.7.0\n",
            "  Downloading scipy-1.7.3-cp37-cp37m-manylinux_2_12_x86_64.manylinux2010_x86_64.whl (38.1 MB)\n",
            "\u001b[K     |████████████████████████████████| 38.1 MB 1.4 MB/s \n",
            "\u001b[?25hRequirement already satisfied: joblib in /usr/local/lib/python3.7/dist-packages (from auto-sklearn==0.14.3) (1.1.0)\n",
            "Collecting scikit-learn<0.25.0,>=0.24.0\n",
            "  Downloading scikit_learn-0.24.2-cp37-cp37m-manylinux2010_x86_64.whl (22.3 MB)\n",
            "\u001b[K     |████████████████████████████████| 22.3 MB 60.3 MB/s \n",
            "\u001b[?25hCollecting dask>=2021.12\n",
            "  Downloading dask-2022.1.1-py3-none-any.whl (1.1 MB)\n",
            "\u001b[K     |████████████████████████████████| 1.1 MB 48.8 MB/s \n",
            "\u001b[?25hCollecting distributed>=2012.12\n",
            "  Downloading distributed-2022.1.1-py3-none-any.whl (830 kB)\n",
            "\u001b[K     |████████████████████████████████| 830 kB 49.0 MB/s \n",
            "\u001b[?25hRequirement already satisfied: pyyaml in /usr/local/lib/python3.7/dist-packages (from auto-sklearn==0.14.3) (3.13)\n",
            "Requirement already satisfied: pandas>=1.0 in /usr/local/lib/python3.7/dist-packages (from auto-sklearn==0.14.3) (1.3.5)\n",
            "Collecting liac-arff\n",
            "  Downloading liac-arff-2.5.0.tar.gz (13 kB)\n",
            "Requirement already satisfied: threadpoolctl in /usr/local/lib/python3.7/dist-packages (from auto-sklearn==0.14.3) (3.0.0)\n",
            "Collecting ConfigSpace<0.5,>=0.4.14\n",
            "  Downloading ConfigSpace-0.4.20-cp37-cp37m-manylinux_2_17_x86_64.manylinux2014_x86_64.whl (4.2 MB)\n",
            "\u001b[K     |████████████████████████████████| 4.2 MB 29.6 MB/s \n",
            "\u001b[?25hCollecting pynisher>=0.6.3\n",
            "  Downloading pynisher-0.6.4.tar.gz (11 kB)\n",
            "Collecting pyrfr<0.9,>=0.8.1\n",
            "  Downloading pyrfr-0.8.2-cp37-cp37m-manylinux2014_x86_64.whl (4.0 MB)\n",
            "\u001b[K     |████████████████████████████████| 4.0 MB 33.8 MB/s \n",
            "\u001b[?25hCollecting smac>=0.14\n",
            "  Downloading smac-1.1.1-py3-none-any.whl (208 kB)\n",
            "\u001b[K     |████████████████████████████████| 208 kB 49.8 MB/s \n",
            "\u001b[?25hRequirement already satisfied: cython in /usr/local/lib/python3.7/dist-packages (from ConfigSpace<0.5,>=0.4.14->auto-sklearn==0.14.3) (0.29.26)\n",
            "Requirement already satisfied: pyparsing in /usr/local/lib/python3.7/dist-packages (from ConfigSpace<0.5,>=0.4.14->auto-sklearn==0.14.3) (3.0.7)\n",
            "Collecting pyyaml\n",
            "  Downloading PyYAML-6.0-cp37-cp37m-manylinux_2_5_x86_64.manylinux1_x86_64.manylinux_2_12_x86_64.manylinux2010_x86_64.whl (596 kB)\n",
            "\u001b[K     |████████████████████████████████| 596 kB 38.8 MB/s \n",
            "\u001b[?25hRequirement already satisfied: toolz>=0.8.2 in /usr/local/lib/python3.7/dist-packages (from dask>=2021.12->auto-sklearn==0.14.3) (0.11.2)\n",
            "Requirement already satisfied: cloudpickle>=1.1.1 in /usr/local/lib/python3.7/dist-packages (from dask>=2021.12->auto-sklearn==0.14.3) (1.3.0)\n",
            "Collecting partd>=0.3.10\n",
            "  Downloading partd-1.2.0-py3-none-any.whl (19 kB)\n",
            "Collecting fsspec>=0.6.0\n",
            "  Downloading fsspec-2022.1.0-py3-none-any.whl (133 kB)\n",
            "\u001b[K     |████████████████████████████████| 133 kB 52.1 MB/s \n",
            "\u001b[?25hRequirement already satisfied: packaging>=20.0 in /usr/local/lib/python3.7/dist-packages (from dask>=2021.12->auto-sklearn==0.14.3) (21.3)\n",
            "Requirement already satisfied: sortedcontainers!=2.0.0,!=2.0.1 in /usr/local/lib/python3.7/dist-packages (from distributed>=2012.12->auto-sklearn==0.14.3) (2.4.0)\n",
            "Requirement already satisfied: psutil>=5.0 in /usr/local/lib/python3.7/dist-packages (from distributed>=2012.12->auto-sklearn==0.14.3) (5.4.8)\n",
            "Requirement already satisfied: msgpack>=0.6.0 in /usr/local/lib/python3.7/dist-packages (from distributed>=2012.12->auto-sklearn==0.14.3) (1.0.3)\n",
            "Requirement already satisfied: click>=6.6 in /usr/local/lib/python3.7/dist-packages (from distributed>=2012.12->auto-sklearn==0.14.3) (7.1.2)\n",
            "Requirement already satisfied: zict>=0.1.3 in /usr/local/lib/python3.7/dist-packages (from distributed>=2012.12->auto-sklearn==0.14.3) (2.0.0)\n",
            "Requirement already satisfied: jinja2 in /usr/local/lib/python3.7/dist-packages (from distributed>=2012.12->auto-sklearn==0.14.3) (2.11.3)\n",
            "Requirement already satisfied: tornado>=5 in /usr/local/lib/python3.7/dist-packages (from distributed>=2012.12->auto-sklearn==0.14.3) (5.1.1)\n",
            "Collecting cloudpickle>=1.1.1\n",
            "  Downloading cloudpickle-2.0.0-py3-none-any.whl (25 kB)\n",
            "Requirement already satisfied: tblib>=1.6.0 in /usr/local/lib/python3.7/dist-packages (from distributed>=2012.12->auto-sklearn==0.14.3) (1.7.0)\n",
            "Requirement already satisfied: pytz>=2017.3 in /usr/local/lib/python3.7/dist-packages (from pandas>=1.0->auto-sklearn==0.14.3) (2018.9)\n",
            "Requirement already satisfied: python-dateutil>=2.7.3 in /usr/local/lib/python3.7/dist-packages (from pandas>=1.0->auto-sklearn==0.14.3) (2.8.2)\n",
            "Collecting locket\n",
            "  Downloading locket-0.2.1-py2.py3-none-any.whl (4.1 kB)\n",
            "Requirement already satisfied: six>=1.5 in /usr/local/lib/python3.7/dist-packages (from python-dateutil>=2.7.3->pandas>=1.0->auto-sklearn==0.14.3) (1.15.0)\n",
            "Collecting emcee>=3.0.0\n",
            "  Downloading emcee-3.1.1-py2.py3-none-any.whl (45 kB)\n",
            "\u001b[K     |████████████████████████████████| 45 kB 3.5 MB/s \n",
            "\u001b[?25hRequirement already satisfied: heapdict in /usr/local/lib/python3.7/dist-packages (from zict>=0.1.3->distributed>=2012.12->auto-sklearn==0.14.3) (1.0.1)\n",
            "Requirement already satisfied: MarkupSafe>=0.23 in /usr/local/lib/python3.7/dist-packages (from jinja2->distributed>=2012.12->auto-sklearn==0.14.3) (2.0.1)\n",
            "Building wheels for collected packages: auto-sklearn, pynisher, liac-arff\n",
            "  Building wheel for auto-sklearn (setup.py) ... \u001b[?25l\u001b[?25hdone\n",
            "  Created wheel for auto-sklearn: filename=auto_sklearn-0.14.3-py3-none-any.whl size=6586730 sha256=8d80f3eb3ef0817a5c9a59685e5666d038ee601bdac36355db1eb3d355f157d7\n",
            "  Stored in directory: /root/.cache/pip/wheels/28/df/95/a197368c9745885b878f69ae3d6aec0941ccc28e5e1ce585d4\n",
            "  Building wheel for pynisher (setup.py) ... \u001b[?25l\u001b[?25hdone\n",
            "  Created wheel for pynisher: filename=pynisher-0.6.4-py3-none-any.whl size=7043 sha256=389fdfce13c46f444c27cae863a700c10bdf81974d245f25a170bd7ea8c918df\n",
            "  Stored in directory: /root/.cache/pip/wheels/42/71/95/7555ec3253e1ba8add72ae5febf1b015d297f3b73ba296d6f6\n",
            "  Building wheel for liac-arff (setup.py) ... \u001b[?25l\u001b[?25hdone\n",
            "  Created wheel for liac-arff: filename=liac_arff-2.5.0-py3-none-any.whl size=11732 sha256=da51a2c402e6fa71a71ad7481e2ed3ef88e338970a9596be0238f4252f3317cf\n",
            "  Stored in directory: /root/.cache/pip/wheels/1f/0f/15/332ca86cbebf25ddf98518caaf887945fbe1712b97a0f2493b\n",
            "Successfully built auto-sklearn pynisher liac-arff\n",
            "Installing collected packages: locket, pyyaml, partd, fsspec, cloudpickle, scipy, dask, scikit-learn, pyrfr, pynisher, emcee, distributed, ConfigSpace, smac, liac-arff, auto-sklearn\n",
            "  Attempting uninstall: pyyaml\n",
            "    Found existing installation: PyYAML 3.13\n",
            "    Uninstalling PyYAML-3.13:\n",
            "      Successfully uninstalled PyYAML-3.13\n",
            "  Attempting uninstall: cloudpickle\n",
            "    Found existing installation: cloudpickle 1.3.0\n",
            "    Uninstalling cloudpickle-1.3.0:\n",
            "      Successfully uninstalled cloudpickle-1.3.0\n",
            "  Attempting uninstall: scipy\n",
            "    Found existing installation: scipy 1.4.1\n",
            "    Uninstalling scipy-1.4.1:\n",
            "      Successfully uninstalled scipy-1.4.1\n",
            "  Attempting uninstall: dask\n",
            "    Found existing installation: dask 2.12.0\n",
            "    Uninstalling dask-2.12.0:\n",
            "      Successfully uninstalled dask-2.12.0\n",
            "  Attempting uninstall: scikit-learn\n",
            "    Found existing installation: scikit-learn 1.0.2\n",
            "    Uninstalling scikit-learn-1.0.2:\n",
            "      Successfully uninstalled scikit-learn-1.0.2\n",
            "  Attempting uninstall: distributed\n",
            "    Found existing installation: distributed 1.25.3\n",
            "    Uninstalling distributed-1.25.3:\n",
            "      Successfully uninstalled distributed-1.25.3\n",
            "\u001b[31mERROR: pip's dependency resolver does not currently take into account all the packages that are installed. This behaviour is the source of the following dependency conflicts.\n",
            "gym 0.17.3 requires cloudpickle<1.7.0,>=1.2.0, but you have cloudpickle 2.0.0 which is incompatible.\n",
            "albumentations 0.1.12 requires imgaug<0.2.7,>=0.2.5, but you have imgaug 0.2.9 which is incompatible.\u001b[0m\n",
            "Successfully installed ConfigSpace-0.4.20 auto-sklearn-0.14.3 cloudpickle-2.0.0 dask-2022.1.1 distributed-2022.1.1 emcee-3.1.1 fsspec-2022.1.0 liac-arff-2.5.0 locket-0.2.1 partd-1.2.0 pynisher-0.6.4 pyrfr-0.8.2 pyyaml-6.0 scikit-learn-0.24.2 scipy-1.7.3 smac-1.1.1\n"
          ]
        },
        {
          "output_type": "display_data",
          "data": {
            "application/vnd.colab-display-data+json": {
              "pip_warning": {
                "packages": [
                  "cloudpickle"
                ]
              }
            }
          },
          "metadata": {}
        }
      ],
      "source": [
        "!sudo apt-get install build-essential swig\n",
        "!pip install auto-sklearn==0.14.3"
      ]
    },
    {
      "cell_type": "markdown",
      "source": [
        "***Restart runtime before proceeding futher***"
      ],
      "metadata": {
        "id": "1-DqHK_C8Qte"
      }
    },
    {
      "cell_type": "code",
      "execution_count": null,
      "metadata": {
        "colab": {
          "base_uri": "https://localhost:8080/"
        },
        "id": "BuhqcZyyxEGe",
        "outputId": "2b71d6e8-6b5c-4bdc-f217-8479b9ceba9b"
      },
      "outputs": [
        {
          "output_type": "stream",
          "name": "stdout",
          "text": [
            "autosklearn: 0.14.3\n"
          ]
        }
      ],
      "source": [
        "# print auto-sklearn version\n",
        "import autosklearn\n",
        "print('autosklearn: %s' % autosklearn.__version__)"
      ]
    },
    {
      "cell_type": "code",
      "execution_count": null,
      "metadata": {
        "id": "vQ515fsGlNV2"
      },
      "outputs": [],
      "source": [
        "import pandas as pd\n",
        "import matplotlib.pyplot as plt\n",
        "import numpy as np\n",
        "import seaborn as sns\n",
        "from tensorflow.keras.utils import plot_model"
      ]
    },
    {
      "cell_type": "markdown",
      "metadata": {
        "id": "80C643inHKNz"
      },
      "source": [
        "# Setting up datasets"
      ]
    },
    {
      "cell_type": "markdown",
      "metadata": {
        "id": "H9hztLXKv2Kn"
      },
      "source": [
        "## Superconductors dataset (regression task)\n",
        "\n",
        "Source: https://archive.ics.uci.edu/ml/datasets/Superconductivty+Data\n",
        "\n",
        "\n",
        "The dataset contains 81 numerical features of 21263 superconductors. The label corresponds to their critical temperature measured in Kelvin."
      ]
    },
    {
      "cell_type": "code",
      "execution_count": null,
      "metadata": {
        "colab": {
          "base_uri": "https://localhost:8080/"
        },
        "id": "qTDrL4iwv2Kq",
        "outputId": "62f82386-e511-45bc-ac2d-73f1177525de"
      },
      "outputs": [
        {
          "output_type": "stream",
          "name": "stdout",
          "text": [
            "--2022-02-02 12:09:18--  https://raw.githubusercontent.com/abcom-mltutorials/automl/main/superconductors.csv\n",
            "Resolving raw.githubusercontent.com (raw.githubusercontent.com)... 185.199.108.133, 185.199.109.133, 185.199.110.133, ...\n",
            "Connecting to raw.githubusercontent.com (raw.githubusercontent.com)|185.199.108.133|:443... connected.\n",
            "HTTP request sent, awaiting response... 200 OK\n",
            "Length: 23859780 (23M) [text/plain]\n",
            "Saving to: ‘superconductors.csv’\n",
            "\n",
            "superconductors.csv 100%[===================>]  22.75M   120MB/s    in 0.2s    \n",
            "\n",
            "2022-02-02 12:09:19 (120 MB/s) - ‘superconductors.csv’ saved [23859780/23859780]\n",
            "\n"
          ]
        }
      ],
      "source": [
        "!wget 'https://raw.githubusercontent.com/abcom-mltutorials/automl/main/superconductors.csv'"
      ]
    },
    {
      "cell_type": "code",
      "execution_count": null,
      "metadata": {
        "id": "Y__xwS0D7eHC"
      },
      "outputs": [],
      "source": [
        "regressor_df=pd.read_csv('/content/superconductors.csv')"
      ]
    },
    {
      "cell_type": "code",
      "source": [
        "regressor_df.shape"
      ],
      "metadata": {
        "colab": {
          "base_uri": "https://localhost:8080/"
        },
        "id": "rqedHGLCtCh9",
        "outputId": "56b9f578-2737-4415-f4fd-920b282338ae"
      },
      "execution_count": null,
      "outputs": [
        {
          "output_type": "execute_result",
          "data": {
            "text/plain": [
              "(21263, 82)"
            ]
          },
          "metadata": {},
          "execution_count": 5
        }
      ]
    },
    {
      "cell_type": "markdown",
      "source": [
        "### Features/target extraction"
      ],
      "metadata": {
        "id": "q4e7zkFx92_U"
      }
    },
    {
      "cell_type": "code",
      "execution_count": null,
      "metadata": {
        "id": "a41vlLivv2K7"
      },
      "outputs": [],
      "source": [
        "features_regressor = regressor_df.iloc[:,:-1]\n",
        "label_regressor = regressor_df.iloc[:,-1]"
      ]
    },
    {
      "cell_type": "markdown",
      "source": [
        "### Training/Testing datasets"
      ],
      "metadata": {
        "id": "Kyh24HZi-Dv-"
      }
    },
    {
      "cell_type": "code",
      "execution_count": null,
      "metadata": {
        "id": "pxQwzGxUwEfA"
      },
      "outputs": [],
      "source": [
        "from sklearn.model_selection import train_test_split"
      ]
    },
    {
      "cell_type": "code",
      "execution_count": null,
      "metadata": {
        "id": "JKhmEiOGv2K-"
      },
      "outputs": [],
      "source": [
        "X_train_regressor, X_val_regressor, label_train_regressor, label_val_regressor = train_test_split(features_regressor, label_regressor, test_size=0.2, random_state=42)"
      ]
    },
    {
      "cell_type": "markdown",
      "source": [
        "Defining function for printing error metrics"
      ],
      "metadata": {
        "id": "6GBVSVEI-QLR"
      }
    },
    {
      "cell_type": "code",
      "execution_count": null,
      "metadata": {
        "id": "Q9BMsYBa76gQ"
      },
      "outputs": [],
      "source": [
        "from sklearn.metrics import mean_squared_error\n",
        "from sklearn.metrics import r2_score\n",
        "\n",
        "def error_metrics(y_pred,y_val):\n",
        "  print('MSE: ',mean_squared_error(y_pred,y_val))\n",
        "  print('RMSE: ',np.sqrt(mean_squared_error(y_pred,y_val)))\n",
        "  print('Coefficient of determination: ',r2_score(y_pred,y_val))"
      ]
    },
    {
      "cell_type": "markdown",
      "metadata": {
        "id": "DmqZfAFCvL8W"
      },
      "source": [
        "## Biodegradation dataset (classification task)\n",
        "\n",
        "Source: https://archive.ics.uci.edu/ml/datasets/QSAR+biodegradation\n",
        "\n",
        "\n",
        "The dataset contains 21 numerical features (molecular attributes) of 1055 chemicals. The label corresponds to their experimental class (ready biodegradable \"RB\" or not ready biodegradable \"NRB\")"
      ]
    },
    {
      "cell_type": "code",
      "execution_count": null,
      "metadata": {
        "colab": {
          "base_uri": "https://localhost:8080/"
        },
        "id": "M-s3EL0vkrx6",
        "outputId": "239bac19-e001-4284-f7ec-28652a56bb8c"
      },
      "outputs": [
        {
          "output_type": "stream",
          "name": "stdout",
          "text": [
            "--2022-02-02 12:09:21--  https://raw.githubusercontent.com/abcom-mltutorials/automl/main/biodeg.csv\n",
            "Resolving raw.githubusercontent.com (raw.githubusercontent.com)... 185.199.108.133, 185.199.109.133, 185.199.110.133, ...\n",
            "Connecting to raw.githubusercontent.com (raw.githubusercontent.com)|185.199.108.133|:443... connected.\n",
            "HTTP request sent, awaiting response... 200 OK\n",
            "Length: 155987 (152K) [text/plain]\n",
            "Saving to: ‘biodeg.csv’\n",
            "\n",
            "biodeg.csv          100%[===================>] 152.33K  --.-KB/s    in 0.03s   \n",
            "\n",
            "2022-02-02 12:09:21 (4.83 MB/s) - ‘biodeg.csv’ saved [155987/155987]\n",
            "\n"
          ]
        }
      ],
      "source": [
        "!wget 'https://raw.githubusercontent.com/abcom-mltutorials/automl/main/biodeg.csv'"
      ]
    },
    {
      "cell_type": "code",
      "execution_count": null,
      "metadata": {
        "id": "w3z80TjM8kNb"
      },
      "outputs": [],
      "source": [
        "classifier_df=pd.read_csv('/content/biodeg.csv', delimiter=';', header=None)"
      ]
    },
    {
      "cell_type": "code",
      "source": [
        "classifier_df.shape"
      ],
      "metadata": {
        "colab": {
          "base_uri": "https://localhost:8080/"
        },
        "id": "IJPcV2Igtwlu",
        "outputId": "7aefdad2-748d-46e3-dab9-ca7c6fbdda17"
      },
      "execution_count": null,
      "outputs": [
        {
          "output_type": "execute_result",
          "data": {
            "text/plain": [
              "(1055, 42)"
            ]
          },
          "metadata": {},
          "execution_count": 12
        }
      ]
    },
    {
      "cell_type": "code",
      "execution_count": null,
      "metadata": {
        "id": "njCToUld8kNe"
      },
      "outputs": [],
      "source": [
        "classifier_df.rename(columns={41:'label'}, inplace=True)"
      ]
    },
    {
      "cell_type": "code",
      "execution_count": null,
      "metadata": {
        "id": "go8S2BJK8kNg"
      },
      "outputs": [],
      "source": [
        "classifier_df.columns = classifier_df.columns.astype(str)"
      ]
    },
    {
      "cell_type": "markdown",
      "source": [
        "### Features/targe extraction"
      ],
      "metadata": {
        "id": "-wgnvoNV-8GN"
      }
    },
    {
      "cell_type": "code",
      "execution_count": null,
      "metadata": {
        "id": "EJdaGiAK8kNi"
      },
      "outputs": [],
      "source": [
        "features_classifier = classifier_df.iloc[:,:-1]\n",
        "label_classifier = classifier_df.iloc[:,-1]"
      ]
    },
    {
      "cell_type": "markdown",
      "source": [
        "### Balancing dataset"
      ],
      "metadata": {
        "id": "FrjAB4Vz_A8n"
      }
    },
    {
      "cell_type": "code",
      "execution_count": null,
      "metadata": {
        "colab": {
          "base_uri": "https://localhost:8080/"
        },
        "id": "qWrZ70S8Wmsc",
        "outputId": "a5ae3261-e11c-49ed-bb13-4efac6729e89"
      },
      "outputs": [
        {
          "output_type": "stream",
          "name": "stdout",
          "text": [
            "Requirement already satisfied: imblearn in /usr/local/lib/python3.7/dist-packages (0.0)\n",
            "Requirement already satisfied: imbalanced-learn in /usr/local/lib/python3.7/dist-packages (from imblearn) (0.8.1)\n",
            "Requirement already satisfied: scipy>=0.19.1 in /usr/local/lib/python3.7/dist-packages (from imbalanced-learn->imblearn) (1.7.3)\n",
            "Requirement already satisfied: scikit-learn>=0.24 in /usr/local/lib/python3.7/dist-packages (from imbalanced-learn->imblearn) (0.24.2)\n",
            "Requirement already satisfied: joblib>=0.11 in /usr/local/lib/python3.7/dist-packages (from imbalanced-learn->imblearn) (1.1.0)\n",
            "Requirement already satisfied: numpy>=1.13.3 in /usr/local/lib/python3.7/dist-packages (from imbalanced-learn->imblearn) (1.19.5)\n",
            "Requirement already satisfied: threadpoolctl>=2.0.0 in /usr/local/lib/python3.7/dist-packages (from scikit-learn>=0.24->imbalanced-learn->imblearn) (3.0.0)\n"
          ]
        }
      ],
      "source": [
        "!pip install imblearn"
      ]
    },
    {
      "cell_type": "code",
      "execution_count": null,
      "metadata": {
        "id": "Kkk7_G-Z8kNl"
      },
      "outputs": [],
      "source": [
        "from imblearn.over_sampling import SMOTE"
      ]
    },
    {
      "cell_type": "code",
      "execution_count": null,
      "metadata": {
        "id": "ny7eshsU8kNn"
      },
      "outputs": [],
      "source": [
        "sm = SMOTE(random_state=42)\n",
        "X_classifier, y_classifier = sm.fit_resample(features_classifier, label_classifier)"
      ]
    },
    {
      "cell_type": "code",
      "execution_count": null,
      "metadata": {
        "colab": {
          "base_uri": "https://localhost:8080/"
        },
        "id": "EOZVdb5K8kNq",
        "outputId": "2f7d88c7-bb1b-44c5-8b5e-160705df6725"
      },
      "outputs": [
        {
          "output_type": "execute_result",
          "data": {
            "text/plain": [
              "RB     699\n",
              "NRB    699\n",
              "Name: label, dtype: int64"
            ]
          },
          "metadata": {},
          "execution_count": 19
        }
      ],
      "source": [
        "y_classifier.value_counts()"
      ]
    },
    {
      "cell_type": "code",
      "execution_count": null,
      "metadata": {
        "id": "PZyfq9x18kNs"
      },
      "outputs": [],
      "source": [
        "y_classifier = y_classifier.replace('NRB',0).replace('RB',1)"
      ]
    },
    {
      "cell_type": "markdown",
      "source": [
        "### Training/Testing datasets"
      ],
      "metadata": {
        "id": "jGDp6eix_vTR"
      }
    },
    {
      "cell_type": "code",
      "execution_count": null,
      "metadata": {
        "id": "kIoTX5cd8kNx"
      },
      "outputs": [],
      "source": [
        "X_train_classifier, X_val_classifier, label_train_classifier, label_val_classifier = train_test_split(X_classifier, y_classifier, random_state=42, test_size = 0.2)"
      ]
    },
    {
      "cell_type": "code",
      "execution_count": null,
      "metadata": {
        "id": "q17J5_fM8kN3"
      },
      "outputs": [],
      "source": [
        "from sklearn.metrics import classification_report\n",
        "from sklearn.metrics import precision_recall_fscore_support as score\n",
        "from sklearn.metrics import roc_auc_score\n",
        "from sklearn.metrics import accuracy_score\n",
        "from sklearn.preprocessing import label_binarize"
      ]
    },
    {
      "cell_type": "markdown",
      "metadata": {
        "id": "RLFPzeeyxEGr"
      },
      "source": [
        "# Classifier"
      ]
    },
    {
      "cell_type": "code",
      "execution_count": null,
      "metadata": {
        "id": "c-qtAOdQxEGs"
      },
      "outputs": [],
      "source": [
        "from autosklearn.classification import AutoSklearnClassifier"
      ]
    },
    {
      "cell_type": "code",
      "source": [
        "import time\n",
        "tic = time.perf_counter()"
      ],
      "metadata": {
        "id": "Qj_wDI9LDnd-"
      },
      "execution_count": null,
      "outputs": []
    },
    {
      "cell_type": "code",
      "execution_count": null,
      "metadata": {
        "colab": {
          "base_uri": "https://localhost:8080/"
        },
        "id": "du2EuoIyxEGu",
        "outputId": "c8c6d41c-6cb8-46ea-97dc-6a5d489ab235"
      },
      "outputs": [
        {
          "output_type": "execute_result",
          "data": {
            "text/plain": [
              "AutoSklearnClassifier(n_jobs=-1, per_run_time_limit=30,\n",
              "                      time_left_for_this_task=600)"
            ]
          },
          "metadata": {},
          "execution_count": 25
        }
      ],
      "source": [
        "model_auto_class = AutoSklearnClassifier(time_left_for_this_task=10*60, \n",
        "                                      per_run_time_limit=30, \n",
        "                                      n_jobs=-1)\n",
        "model_auto_class.fit(X_train_classifier,label_train_classifier)\n"
      ]
    },
    {
      "cell_type": "code",
      "source": [
        "toc = time.perf_counter()\n",
        "print (f\"Elapsed time {toc - tic:0.4f} seconds\")"
      ],
      "metadata": {
        "colab": {
          "base_uri": "https://localhost:8080/"
        },
        "id": "Q9DAYA6jFBfj",
        "outputId": "774b5a2f-7e8f-490c-8343-856d3c10e477"
      },
      "execution_count": null,
      "outputs": [
        {
          "output_type": "stream",
          "name": "stdout",
          "text": [
            "Elapsed time 606.3505 seconds\n"
          ]
        }
      ]
    },
    {
      "cell_type": "code",
      "source": [
        "print(model_auto_class.sprint_statistics())"
      ],
      "metadata": {
        "id": "Mfhg8dZCCPZP",
        "colab": {
          "base_uri": "https://localhost:8080/"
        },
        "outputId": "2a38f38b-7c35-4da2-bc59-6eb609278f84"
      },
      "execution_count": null,
      "outputs": [
        {
          "output_type": "stream",
          "name": "stdout",
          "text": [
            "auto-sklearn results:\n",
            "  Dataset name: fa958b64-8420-11ec-8195-0242ac1c0002\n",
            "  Metric: accuracy\n",
            "  Best validation score: 0.899729\n",
            "  Number of target algorithm runs: 81\n",
            "  Number of successful target algorithm runs: 59\n",
            "  Number of crashed target algorithm runs: 16\n",
            "  Number of target algorithms that exceeded the time limit: 3\n",
            "  Number of target algorithms that exceeded the memory limit: 3\n",
            "\n"
          ]
        }
      ]
    },
    {
      "cell_type": "code",
      "execution_count": null,
      "metadata": {
        "colab": {
          "base_uri": "https://localhost:8080/"
        },
        "id": "WyomC7hZxEGy",
        "outputId": "71941235-c113-4f98-f44b-a5cb01bc1e19"
      },
      "outputs": [
        {
          "output_type": "stream",
          "name": "stdout",
          "text": [
            "              precision    recall  f1-score   support\n",
            "\n",
            "           0       0.91      0.87      0.89       143\n",
            "           1       0.87      0.91      0.89       137\n",
            "\n",
            "    accuracy                           0.89       280\n",
            "   macro avg       0.89      0.89      0.89       280\n",
            "weighted avg       0.89      0.89      0.89       280\n",
            "\n"
          ]
        }
      ],
      "source": [
        "y_pred_class = model_auto_class.predict(X_val_classifier)\n",
        "print(classification_report(label_val_classifier,y_pred_class))"
      ]
    },
    {
      "cell_type": "markdown",
      "metadata": {
        "id": "hxQJ8GiUxEGh"
      },
      "source": [
        "# Regressor"
      ]
    },
    {
      "cell_type": "code",
      "execution_count": null,
      "metadata": {
        "id": "ld-WsqsUxEGi"
      },
      "outputs": [],
      "source": [
        "from autosklearn.regression import AutoSklearnRegressor"
      ]
    },
    {
      "cell_type": "code",
      "source": [
        "import time\n",
        "tic = time.perf_counter()"
      ],
      "metadata": {
        "id": "Q0QIpKVOJ1kL"
      },
      "execution_count": null,
      "outputs": []
    },
    {
      "cell_type": "code",
      "execution_count": null,
      "metadata": {
        "colab": {
          "base_uri": "https://localhost:8080/"
        },
        "id": "QsBDx93txEGk",
        "outputId": "d6f6d7a2-e44e-43fb-ef63-4a7399feb5d2"
      },
      "outputs": [
        {
          "output_type": "execute_result",
          "data": {
            "text/plain": [
              "AutoSklearnRegressor(n_jobs=-1, per_run_time_limit=30,\n",
              "                     time_left_for_this_task=600)"
            ]
          },
          "metadata": {},
          "execution_count": 31
        }
      ],
      "source": [
        "model_auto_reg = AutoSklearnRegressor(time_left_for_this_task=10*60, \n",
        "                                      per_run_time_limit=30, \n",
        "                                      n_jobs=-1)\n",
        "model_auto_reg.fit(X_train_regressor,label_train_regressor)"
      ]
    },
    {
      "cell_type": "code",
      "source": [
        "toc = time.perf_counter()\n",
        "print (f\"Elapsed time {toc - tic:0.4f} seconds\")"
      ],
      "metadata": {
        "id": "pDWlciU7KKZi",
        "colab": {
          "base_uri": "https://localhost:8080/"
        },
        "outputId": "acea4d3b-9c26-4818-d292-4de7e0bc4500"
      },
      "execution_count": null,
      "outputs": [
        {
          "output_type": "stream",
          "name": "stdout",
          "text": [
            "Elapsed time 603.7752 seconds\n"
          ]
        }
      ]
    },
    {
      "cell_type": "code",
      "source": [
        "print(model_auto_reg.sprint_statistics())"
      ],
      "metadata": {
        "id": "iPMT5ueuJ6_C",
        "colab": {
          "base_uri": "https://localhost:8080/"
        },
        "outputId": "1a1bb346-7ff4-4be9-faeb-e83488bc6868"
      },
      "execution_count": null,
      "outputs": [
        {
          "output_type": "stream",
          "name": "stdout",
          "text": [
            "auto-sklearn results:\n",
            "  Dataset name: 646225b0-8422-11ec-8195-0242ac1c0002\n",
            "  Metric: r2\n",
            "  Best validation score: 0.909665\n",
            "  Number of target algorithm runs: 80\n",
            "  Number of successful target algorithm runs: 18\n",
            "  Number of crashed target algorithm runs: 33\n",
            "  Number of target algorithms that exceeded the time limit: 5\n",
            "  Number of target algorithms that exceeded the memory limit: 24\n",
            "\n"
          ]
        }
      ]
    },
    {
      "cell_type": "code",
      "execution_count": null,
      "metadata": {
        "id": "Q9rbXepexEGm",
        "colab": {
          "base_uri": "https://localhost:8080/",
          "height": 165
        },
        "outputId": "d866b6a1-0627-4867-f22e-b26784c15aee"
      },
      "outputs": [
        {
          "output_type": "execute_result",
          "data": {
            "application/vnd.google.colaboratory.intrinsic+json": {
              "type": "string"
            },
            "text/plain": [
              "\"[(0.260000, SimpleRegressionPipeline({'data_preprocessor:__choice__': 'feature_type', 'feature_preprocessor:__choice__': 'extra_trees_preproc_for_regression', 'regressor:__choice__': 'gradient_boosting', 'data_preprocessor:feature_type:categorical_transformer:categorical_encoding:__choice__': 'no_encoding', 'data_preprocessor:feature_type:categorical_transformer:category_coalescence:__choice__': 'no_coalescense', 'data_preprocessor:feature_type:numerical_transformer:imputation:strategy': 'mean', 'data_preprocessor:feature_type:numerical_transformer:rescaling:__choice__': 'robust_scaler', 'feature_preprocessor:extra_trees_preproc_for_regression:bootstrap': 'False', 'feature_preprocessor:extra_trees_preproc_for_regression:criterion': 'friedman_mse', 'feature_preprocessor:extra_trees_preproc_for_regression:max_depth': 'None', 'feature_preprocessor:extra_trees_preproc_for_regression:max_features': 0.8407991816968586, 'feature_preprocessor:extra_trees_preproc_for_regression:max_leaf_nodes': 'None', 'feature_preprocessor:extra_trees_preproc_for_regression:min_samples_leaf': 10, 'feature_preprocessor:extra_trees_preproc_for_regression:min_samples_split': 20, 'feature_preprocessor:extra_trees_preproc_for_regression:min_weight_fraction_leaf': 0.0, 'feature_preprocessor:extra_trees_preproc_for_regression:n_estimators': 100, 'regressor:gradient_boosting:early_stop': 'train', 'regressor:gradient_boosting:l2_regularization': 0.022281534223624576, 'regressor:gradient_boosting:learning_rate': 0.09401007386668143, 'regressor:gradient_boosting:loss': 'least_squares', 'regressor:gradient_boosting:max_bins': 255, 'regressor:gradient_boosting:max_depth': 'None', 'regressor:gradient_boosting:max_leaf_nodes': 236, 'regressor:gradient_boosting:min_samples_leaf': 64, 'regressor:gradient_boosting:scoring': 'loss', 'regressor:gradient_boosting:tol': 1e-07, 'data_preprocessor:feature_type:numerical_transformer:rescaling:robust_scaler:q_max': 0.8066245103596899, 'data_preprocessor:feature_type:numerical_transformer:rescaling:robust_scaler:q_min': 0.2718944841898842, 'regressor:gradient_boosting:n_iter_no_change': 15},\\ndataset_properties={\\n  'task': 4,\\n  'sparse': False,\\n  'multioutput': False,\\n  'target_type': 'regression',\\n  'signed': False})),\\n(0.180000, SimpleRegressionPipeline({'data_preprocessor:__choice__': 'feature_type', 'feature_preprocessor:__choice__': 'feature_agglomeration', 'regressor:__choice__': 'gradient_boosting', 'data_preprocessor:feature_type:categorical_transformer:categorical_encoding:__choice__': 'encoding', 'data_preprocessor:feature_type:categorical_transformer:category_coalescence:__choice__': 'minority_coalescer', 'data_preprocessor:feature_type:numerical_transformer:imputation:strategy': 'mean', 'data_preprocessor:feature_type:numerical_transformer:rescaling:__choice__': 'robust_scaler', 'feature_preprocessor:feature_agglomeration:affinity': 'cosine', 'feature_preprocessor:feature_agglomeration:linkage': 'average', 'feature_preprocessor:feature_agglomeration:n_clusters': 28, 'feature_preprocessor:feature_agglomeration:pooling_func': 'mean', 'regressor:gradient_boosting:early_stop': 'valid', 'regressor:gradient_boosting:l2_regularization': 0.00015711966527145373, 'regressor:gradient_boosting:learning_rate': 0.10505993502621544, 'regressor:gradient_boosting:loss': 'least_squares', 'regressor:gradient_boosting:max_bins': 255, 'regressor:gradient_boosting:max_depth': 'None', 'regressor:gradient_boosting:max_leaf_nodes': 28, 'regressor:gradient_boosting:min_samples_leaf': 155, 'regressor:gradient_boosting:scoring': 'loss', 'regressor:gradient_boosting:tol': 1e-07, 'data_preprocessor:feature_type:categorical_transformer:category_coalescence:minority_coalescer:minimum_fraction': 0.0001490446169023737, 'data_preprocessor:feature_type:numerical_transformer:rescaling:robust_scaler:q_max': 0.9017379740932896, 'data_preprocessor:feature_type:numerical_transformer:rescaling:robust_scaler:q_min': 0.2564852344249687, 'regressor:gradient_boosting:n_iter_no_change': 13, 'regressor:gradient_boosting:validation_fraction': 0.08141418213464328},\\ndataset_properties={\\n  'task': 4,\\n  'sparse': False,\\n  'multioutput': False,\\n  'target_type': 'regression',\\n  'signed': False})),\\n(0.160000, SimpleRegressionPipeline({'data_preprocessor:__choice__': 'feature_type', 'feature_preprocessor:__choice__': 'feature_agglomeration', 'regressor:__choice__': 'gradient_boosting', 'data_preprocessor:feature_type:categorical_transformer:categorical_encoding:__choice__': 'no_encoding', 'data_preprocessor:feature_type:categorical_transformer:category_coalescence:__choice__': 'minority_coalescer', 'data_preprocessor:feature_type:numerical_transformer:imputation:strategy': 'mean', 'data_preprocessor:feature_type:numerical_transformer:rescaling:__choice__': 'robust_scaler', 'feature_preprocessor:feature_agglomeration:affinity': 'euclidean', 'feature_preprocessor:feature_agglomeration:linkage': 'ward', 'feature_preprocessor:feature_agglomeration:n_clusters': 43, 'feature_preprocessor:feature_agglomeration:pooling_func': 'mean', 'regressor:gradient_boosting:early_stop': 'valid', 'regressor:gradient_boosting:l2_regularization': 1.4725798883390733e-09, 'regressor:gradient_boosting:learning_rate': 0.15155040922673543, 'regressor:gradient_boosting:loss': 'least_squares', 'regressor:gradient_boosting:max_bins': 255, 'regressor:gradient_boosting:max_depth': 'None', 'regressor:gradient_boosting:max_leaf_nodes': 26, 'regressor:gradient_boosting:min_samples_leaf': 10, 'regressor:gradient_boosting:scoring': 'loss', 'regressor:gradient_boosting:tol': 1e-07, 'data_preprocessor:feature_type:categorical_transformer:category_coalescence:minority_coalescer:minimum_fraction': 0.0220577344729453, 'data_preprocessor:feature_type:numerical_transformer:rescaling:robust_scaler:q_max': 0.7912621507143142, 'data_preprocessor:feature_type:numerical_transformer:rescaling:robust_scaler:q_min': 0.2572763947086367, 'regressor:gradient_boosting:n_iter_no_change': 10, 'regressor:gradient_boosting:validation_fraction': 0.1},\\ndataset_properties={\\n  'task': 4,\\n  'sparse': False,\\n  'multioutput': False,\\n  'target_type': 'regression',\\n  'signed': False})),\\n(0.160000, SimpleRegressionPipeline({'data_preprocessor:__choice__': 'feature_type', 'feature_preprocessor:__choice__': 'feature_agglomeration', 'regressor:__choice__': 'gradient_boosting', 'data_preprocessor:feature_type:categorical_transformer:categorical_encoding:__choice__': 'no_encoding', 'data_preprocessor:feature_type:categorical_transformer:category_coalescence:__choice__': 'minority_coalescer', 'data_preprocessor:feature_type:numerical_transformer:imputation:strategy': 'most_frequent', 'data_preprocessor:feature_type:numerical_transformer:rescaling:__choice__': 'robust_scaler', 'feature_preprocessor:feature_agglomeration:affinity': 'cosine', 'feature_preprocessor:feature_agglomeration:linkage': 'complete', 'feature_preprocessor:feature_agglomeration:n_clusters': 160, 'feature_preprocessor:feature_agglomeration:pooling_func': 'mean', 'regressor:gradient_boosting:early_stop': 'valid', 'regressor:gradient_boosting:l2_regularization': 0.06581460491386253, 'regressor:gradient_boosting:learning_rate': 0.7506955575215956, 'regressor:gradient_boosting:loss': 'least_squares', 'regressor:gradient_boosting:max_bins': 255, 'regressor:gradient_boosting:max_depth': 'None', 'regressor:gradient_boosting:max_leaf_nodes': 333, 'regressor:gradient_boosting:min_samples_leaf': 90, 'regressor:gradient_boosting:scoring': 'loss', 'regressor:gradient_boosting:tol': 1e-07, 'data_preprocessor:feature_type:categorical_transformer:category_coalescence:minority_coalescer:minimum_fraction': 0.07024369671535216, 'data_preprocessor:feature_type:numerical_transformer:rescaling:robust_scaler:q_max': 0.7484832187485827, 'data_preprocessor:feature_type:numerical_transformer:rescaling:robust_scaler:q_min': 0.25, 'regressor:gradient_boosting:n_iter_no_change': 10, 'regressor:gradient_boosting:validation_fraction': 0.12176120106966722},\\ndataset_properties={\\n  'task': 4,\\n  'sparse': False,\\n  'multioutput': False,\\n  'target_type': 'regression',\\n  'signed': False})),\\n(0.080000, SimpleRegressionPipeline({'data_preprocessor:__choice__': 'feature_type', 'feature_preprocessor:__choice__': 'feature_agglomeration', 'regressor:__choice__': 'gradient_boosting', 'data_preprocessor:feature_type:categorical_transformer:categorical_encoding:__choice__': 'no_encoding', 'data_preprocessor:feature_type:categorical_transformer:category_coalescence:__choice__': 'minority_coalescer', 'data_preprocessor:feature_type:numerical_transformer:imputation:strategy': 'mean', 'data_preprocessor:feature_type:numerical_transformer:rescaling:__choice__': 'robust_scaler', 'feature_preprocessor:feature_agglomeration:affinity': 'euclidean', 'feature_preprocessor:feature_agglomeration:linkage': 'ward', 'feature_preprocessor:feature_agglomeration:n_clusters': 36, 'feature_preprocessor:feature_agglomeration:pooling_func': 'mean', 'regressor:gradient_boosting:early_stop': 'train', 'regressor:gradient_boosting:l2_regularization': 3.311832130581416e-05, 'regressor:gradient_boosting:learning_rate': 0.04012998804068679, 'regressor:gradient_boosting:loss': 'least_squares', 'regressor:gradient_boosting:max_bins': 255, 'regressor:gradient_boosting:max_depth': 'None', 'regressor:gradient_boosting:max_leaf_nodes': 119, 'regressor:gradient_boosting:min_samples_leaf': 75, 'regressor:gradient_boosting:scoring': 'loss', 'regressor:gradient_boosting:tol': 1e-07, 'data_preprocessor:feature_type:categorical_transformer:category_coalescence:minority_coalescer:minimum_fraction': 0.010000000000000004, 'data_preprocessor:feature_type:numerical_transformer:rescaling:robust_scaler:q_max': 0.7553356481834304, 'data_preprocessor:feature_type:numerical_transformer:rescaling:robust_scaler:q_min': 0.24397178887754356, 'regressor:gradient_boosting:n_iter_no_change': 10},\\ndataset_properties={\\n  'task': 4,\\n  'sparse': False,\\n  'multioutput': False,\\n  'target_type': 'regression',\\n  'signed': False})),\\n(0.060000, SimpleRegressionPipeline({'data_preprocessor:__choice__': 'feature_type', 'feature_preprocessor:__choice__': 'feature_agglomeration', 'regressor:__choice__': 'gradient_boosting', 'data_preprocessor:feature_type:categorical_transformer:categorical_encoding:__choice__': 'no_encoding', 'data_preprocessor:feature_type:categorical_transformer:category_coalescence:__choice__': 'no_coalescense', 'data_preprocessor:feature_type:numerical_transformer:imputation:strategy': 'mean', 'data_preprocessor:feature_type:numerical_transformer:rescaling:__choice__': 'robust_scaler', 'feature_preprocessor:feature_agglomeration:affinity': 'manhattan', 'feature_preprocessor:feature_agglomeration:linkage': 'complete', 'feature_preprocessor:feature_agglomeration:n_clusters': 21, 'feature_preprocessor:feature_agglomeration:pooling_func': 'max', 'regressor:gradient_boosting:early_stop': 'train', 'regressor:gradient_boosting:l2_regularization': 2.208787572338781e-05, 'regressor:gradient_boosting:learning_rate': 0.036087332404571744, 'regressor:gradient_boosting:loss': 'least_squares', 'regressor:gradient_boosting:max_bins': 255, 'regressor:gradient_boosting:max_depth': 'None', 'regressor:gradient_boosting:max_leaf_nodes': 64, 'regressor:gradient_boosting:min_samples_leaf': 3, 'regressor:gradient_boosting:scoring': 'loss', 'regressor:gradient_boosting:tol': 1e-07, 'data_preprocessor:feature_type:numerical_transformer:rescaling:robust_scaler:q_max': 0.7727512096172742, 'data_preprocessor:feature_type:numerical_transformer:rescaling:robust_scaler:q_min': 0.22461598115758682, 'regressor:gradient_boosting:n_iter_no_change': 18},\\ndataset_properties={\\n  'task': 4,\\n  'sparse': False,\\n  'multioutput': False,\\n  'target_type': 'regression',\\n  'signed': False})),\\n(0.060000, SimpleRegressionPipeline({'data_preprocessor:__choice__': 'feature_type', 'feature_preprocessor:__choice__': 'feature_agglomeration', 'regressor:__choice__': 'gradient_boosting', 'data_preprocessor:feature_type:categorical_transformer:categorical_encoding:__choice__': 'encoding', 'data_preprocessor:feature_type:categorical_transformer:category_coalescence:__choice__': 'minority_coalescer', 'data_preprocessor:feature_type:numerical_transformer:imputation:strategy': 'mean', 'data_preprocessor:feature_type:numerical_transformer:rescaling:__choice__': 'robust_scaler', 'feature_preprocessor:feature_agglomeration:affinity': 'cosine', 'feature_preprocessor:feature_agglomeration:linkage': 'complete', 'feature_preprocessor:feature_agglomeration:n_clusters': 29, 'feature_preprocessor:feature_agglomeration:pooling_func': 'max', 'regressor:gradient_boosting:early_stop': 'valid', 'regressor:gradient_boosting:l2_regularization': 0.00017905542543885422, 'regressor:gradient_boosting:learning_rate': 0.045532848549882245, 'regressor:gradient_boosting:loss': 'least_squares', 'regressor:gradient_boosting:max_bins': 255, 'regressor:gradient_boosting:max_depth': 'None', 'regressor:gradient_boosting:max_leaf_nodes': 85, 'regressor:gradient_boosting:min_samples_leaf': 105, 'regressor:gradient_boosting:scoring': 'loss', 'regressor:gradient_boosting:tol': 1e-07, 'data_preprocessor:feature_type:categorical_transformer:category_coalescence:minority_coalescer:minimum_fraction': 0.0036614958542880213, 'data_preprocessor:feature_type:numerical_transformer:rescaling:robust_scaler:q_max': 0.7800394355763064, 'data_preprocessor:feature_type:numerical_transformer:rescaling:robust_scaler:q_min': 0.23250768918671627, 'regressor:gradient_boosting:n_iter_no_change': 13, 'regressor:gradient_boosting:validation_fraction': 0.11379117883659874},\\ndataset_properties={\\n  'task': 4,\\n  'sparse': False,\\n  'multioutput': False,\\n  'target_type': 'regression',\\n  'signed': False})),\\n(0.020000, SimpleRegressionPipeline({'data_preprocessor:__choice__': 'feature_type', 'feature_preprocessor:__choice__': 'feature_agglomeration', 'regressor:__choice__': 'gradient_boosting', 'data_preprocessor:feature_type:categorical_transformer:categorical_encoding:__choice__': 'encoding', 'data_preprocessor:feature_type:categorical_transformer:category_coalescence:__choice__': 'no_coalescense', 'data_preprocessor:feature_type:numerical_transformer:imputation:strategy': 'mean', 'data_preprocessor:feature_type:numerical_transformer:rescaling:__choice__': 'robust_scaler', 'feature_preprocessor:feature_agglomeration:affinity': 'euclidean', 'feature_preprocessor:feature_agglomeration:linkage': 'average', 'feature_preprocessor:feature_agglomeration:n_clusters': 36, 'feature_preprocessor:feature_agglomeration:pooling_func': 'median', 'regressor:gradient_boosting:early_stop': 'train', 'regressor:gradient_boosting:l2_regularization': 4.019634905884322e-05, 'regressor:gradient_boosting:learning_rate': 0.04012998804068679, 'regressor:gradient_boosting:loss': 'least_squares', 'regressor:gradient_boosting:max_bins': 255, 'regressor:gradient_boosting:max_depth': 'None', 'regressor:gradient_boosting:max_leaf_nodes': 152, 'regressor:gradient_boosting:min_samples_leaf': 83, 'regressor:gradient_boosting:scoring': 'loss', 'regressor:gradient_boosting:tol': 1e-07, 'data_preprocessor:feature_type:numerical_transformer:rescaling:robust_scaler:q_max': 0.7870443667043212, 'data_preprocessor:feature_type:numerical_transformer:rescaling:robust_scaler:q_min': 0.2221207362411266, 'regressor:gradient_boosting:n_iter_no_change': 10},\\ndataset_properties={\\n  'task': 4,\\n  'sparse': False,\\n  'multioutput': False,\\n  'target_type': 'regression',\\n  'signed': False})),\\n(0.020000, SimpleRegressionPipeline({'data_preprocessor:__choice__': 'feature_type', 'feature_preprocessor:__choice__': 'feature_agglomeration', 'regressor:__choice__': 'gradient_boosting', 'data_preprocessor:feature_type:categorical_transformer:categorical_encoding:__choice__': 'encoding', 'data_preprocessor:feature_type:categorical_transformer:category_coalescence:__choice__': 'no_coalescense', 'data_preprocessor:feature_type:numerical_transformer:imputation:strategy': 'most_frequent', 'data_preprocessor:feature_type:numerical_transformer:rescaling:__choice__': 'robust_scaler', 'feature_preprocessor:feature_agglomeration:affinity': 'euclidean', 'feature_preprocessor:feature_agglomeration:linkage': 'ward', 'feature_preprocessor:feature_agglomeration:n_clusters': 25, 'feature_preprocessor:feature_agglomeration:pooling_func': 'mean', 'regressor:gradient_boosting:early_stop': 'valid', 'regressor:gradient_boosting:l2_regularization': 4.345428149219981e-06, 'regressor:gradient_boosting:learning_rate': 0.9962854624061266, 'regressor:gradient_boosting:loss': 'least_squares', 'regressor:gradient_boosting:max_bins': 255, 'regressor:gradient_boosting:max_depth': 'None', 'regressor:gradient_boosting:max_leaf_nodes': 68, 'regressor:gradient_boosting:min_samples_leaf': 17, 'regressor:gradient_boosting:scoring': 'loss', 'regressor:gradient_boosting:tol': 1e-07, 'data_preprocessor:feature_type:numerical_transformer:rescaling:robust_scaler:q_max': 0.8868852205092311, 'data_preprocessor:feature_type:numerical_transformer:rescaling:robust_scaler:q_min': 0.27467162131718037, 'regressor:gradient_boosting:n_iter_no_change': 13, 'regressor:gradient_boosting:validation_fraction': 0.16938488391156584},\\ndataset_properties={\\n  'task': 4,\\n  'sparse': False,\\n  'multioutput': False,\\n  'target_type': 'regression',\\n  'signed': False})),\\n]\""
            ]
          },
          "metadata": {},
          "execution_count": 34
        }
      ],
      "source": [
        "model_auto_reg.show_models()"
      ]
    },
    {
      "cell_type": "code",
      "source": [
        "y_pred_reg = model_auto_reg.predict(X_val_regressor)"
      ],
      "metadata": {
        "id": "Lk_wnltBKA8w"
      },
      "execution_count": null,
      "outputs": []
    },
    {
      "cell_type": "code",
      "execution_count": null,
      "metadata": {
        "id": "5bmvhxhCxEGn",
        "colab": {
          "base_uri": "https://localhost:8080/"
        },
        "outputId": "f01dd543-f32d-4753-881e-8660fdcf7080"
      },
      "outputs": [
        {
          "output_type": "stream",
          "name": "stdout",
          "text": [
            "MSE:  89.62974521966439\n",
            "RMSE:  9.467298728764419\n",
            "Coefficient of determination:  0.9151071664787114\n"
          ]
        }
      ],
      "source": [
        "error_metrics(y_pred_reg,label_val_regressor)"
      ]
    }
  ],
  "metadata": {
    "colab": {
      "collapsed_sections": [],
      "name": "AutoML auto-sklearn.ipynb",
      "provenance": [],
      "toc_visible": true
    },
    "kernelspec": {
      "display_name": "Python 3",
      "name": "python3"
    },
    "language_info": {
      "name": "python"
    },
    "accelerator": "GPU"
  },
  "nbformat": 4,
  "nbformat_minor": 0
}