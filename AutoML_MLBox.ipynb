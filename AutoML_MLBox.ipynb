{
  "cells": [
    {
      "cell_type": "markdown",
      "metadata": {
        "id": "phhCHW7vQBK8"
      },
      "source": [
        "# MLBox\n",
        "\n",
        "Requires training/validation/testing datasets in csv format. The inference too is spilled into csv. \n",
        "\n",
        "https://mlbox.readthedocs.io/en/latest/introduction.html\n"
      ]
    },
    {
      "cell_type": "code",
      "execution_count": null,
      "metadata": {
        "id": "_5nRwzoi5hll",
        "colab": {
          "base_uri": "https://localhost:8080/"
        },
        "outputId": "67b10179-f140-4d2b-9335-341f741e4b60"
      },
      "outputs": [
        {
          "output_type": "stream",
          "name": "stdout",
          "text": [
            "Requirement already satisfied: mlbox in /usr/local/lib/python3.7/dist-packages (0.8.5)\n",
            "Requirement already satisfied: lightgbm==2.3.1 in /usr/local/lib/python3.7/dist-packages (from mlbox) (2.3.1)\n",
            "Requirement already satisfied: matplotlib==3.0.3 in /usr/local/lib/python3.7/dist-packages (from mlbox) (3.0.3)\n",
            "Requirement already satisfied: numpy==1.18.2 in /usr/local/lib/python3.7/dist-packages (from mlbox) (1.18.2)\n",
            "Requirement already satisfied: pandas==0.25.3 in /usr/local/lib/python3.7/dist-packages (from mlbox) (0.25.3)\n",
            "Requirement already satisfied: xlrd==1.2.0 in /usr/local/lib/python3.7/dist-packages (from mlbox) (1.2.0)\n",
            "Collecting scikit-learn==0.22.1\n",
            "  Using cached scikit_learn-0.22.1-cp37-cp37m-manylinux1_x86_64.whl (7.0 MB)\n",
            "Requirement already satisfied: scipy==1.4.1 in /usr/local/lib/python3.7/dist-packages (from mlbox) (1.4.1)\n",
            "Requirement already satisfied: hyperopt==0.2.3 in /usr/local/lib/python3.7/dist-packages (from mlbox) (0.2.3)\n",
            "Requirement already satisfied: tensorflow==2.0.0 in /usr/local/lib/python3.7/dist-packages (from mlbox) (2.0.0)\n",
            "Requirement already satisfied: tables==3.5.2 in /usr/local/lib/python3.7/dist-packages (from mlbox) (3.5.2)\n",
            "Requirement already satisfied: joblib==0.14.1 in /usr/local/lib/python3.7/dist-packages (from mlbox) (0.14.1)\n",
            "Requirement already satisfied: networkx==2.2 in /usr/local/lib/python3.7/dist-packages (from hyperopt==0.2.3->mlbox) (2.2)\n",
            "Requirement already satisfied: cloudpickle in /usr/local/lib/python3.7/dist-packages (from hyperopt==0.2.3->mlbox) (1.3.0)\n",
            "Requirement already satisfied: tqdm in /usr/local/lib/python3.7/dist-packages (from hyperopt==0.2.3->mlbox) (4.62.3)\n",
            "Requirement already satisfied: future in /usr/local/lib/python3.7/dist-packages (from hyperopt==0.2.3->mlbox) (0.16.0)\n",
            "Requirement already satisfied: six in /usr/local/lib/python3.7/dist-packages (from hyperopt==0.2.3->mlbox) (1.15.0)\n",
            "Requirement already satisfied: cycler>=0.10 in /usr/local/lib/python3.7/dist-packages (from matplotlib==3.0.3->mlbox) (0.11.0)\n",
            "Requirement already satisfied: kiwisolver>=1.0.1 in /usr/local/lib/python3.7/dist-packages (from matplotlib==3.0.3->mlbox) (1.3.2)\n",
            "Requirement already satisfied: python-dateutil>=2.1 in /usr/local/lib/python3.7/dist-packages (from matplotlib==3.0.3->mlbox) (2.8.2)\n",
            "Requirement already satisfied: pyparsing!=2.0.4,!=2.1.2,!=2.1.6,>=2.0.1 in /usr/local/lib/python3.7/dist-packages (from matplotlib==3.0.3->mlbox) (3.0.7)\n",
            "Requirement already satisfied: decorator>=4.3.0 in /usr/local/lib/python3.7/dist-packages (from networkx==2.2->hyperopt==0.2.3->mlbox) (4.4.2)\n",
            "Requirement already satisfied: pytz>=2017.2 in /usr/local/lib/python3.7/dist-packages (from pandas==0.25.3->mlbox) (2018.9)\n",
            "Requirement already satisfied: mock>=2.0 in /usr/local/lib/python3.7/dist-packages (from tables==3.5.2->mlbox) (4.0.3)\n",
            "Requirement already satisfied: numexpr>=2.6.2 in /usr/local/lib/python3.7/dist-packages (from tables==3.5.2->mlbox) (2.8.1)\n",
            "Requirement already satisfied: termcolor>=1.1.0 in /usr/local/lib/python3.7/dist-packages (from tensorflow==2.0.0->mlbox) (1.1.0)\n",
            "Requirement already satisfied: protobuf>=3.6.1 in /usr/local/lib/python3.7/dist-packages (from tensorflow==2.0.0->mlbox) (3.17.3)\n",
            "Requirement already satisfied: tensorflow-estimator<2.1.0,>=2.0.0 in /usr/local/lib/python3.7/dist-packages (from tensorflow==2.0.0->mlbox) (2.0.1)\n",
            "Requirement already satisfied: gast==0.2.2 in /usr/local/lib/python3.7/dist-packages (from tensorflow==2.0.0->mlbox) (0.2.2)\n",
            "Requirement already satisfied: opt-einsum>=2.3.2 in /usr/local/lib/python3.7/dist-packages (from tensorflow==2.0.0->mlbox) (3.3.0)\n",
            "Requirement already satisfied: google-pasta>=0.1.6 in /usr/local/lib/python3.7/dist-packages (from tensorflow==2.0.0->mlbox) (0.2.0)\n",
            "Requirement already satisfied: keras-preprocessing>=1.0.5 in /usr/local/lib/python3.7/dist-packages (from tensorflow==2.0.0->mlbox) (1.1.2)\n",
            "Requirement already satisfied: tensorboard<2.1.0,>=2.0.0 in /usr/local/lib/python3.7/dist-packages (from tensorflow==2.0.0->mlbox) (2.0.2)\n",
            "Requirement already satisfied: wrapt>=1.11.1 in /usr/local/lib/python3.7/dist-packages (from tensorflow==2.0.0->mlbox) (1.13.3)\n",
            "Requirement already satisfied: grpcio>=1.8.6 in /usr/local/lib/python3.7/dist-packages (from tensorflow==2.0.0->mlbox) (1.43.0)\n",
            "Requirement already satisfied: keras-applications>=1.0.8 in /usr/local/lib/python3.7/dist-packages (from tensorflow==2.0.0->mlbox) (1.0.8)\n",
            "Requirement already satisfied: astor>=0.6.0 in /usr/local/lib/python3.7/dist-packages (from tensorflow==2.0.0->mlbox) (0.8.1)\n",
            "Requirement already satisfied: wheel>=0.26 in /usr/local/lib/python3.7/dist-packages (from tensorflow==2.0.0->mlbox) (0.37.1)\n",
            "Requirement already satisfied: absl-py>=0.7.0 in /usr/local/lib/python3.7/dist-packages (from tensorflow==2.0.0->mlbox) (1.0.0)\n",
            "Requirement already satisfied: h5py in /usr/local/lib/python3.7/dist-packages (from keras-applications>=1.0.8->tensorflow==2.0.0->mlbox) (3.1.0)\n",
            "Requirement already satisfied: packaging in /usr/local/lib/python3.7/dist-packages (from numexpr>=2.6.2->tables==3.5.2->mlbox) (21.3)\n",
            "Requirement already satisfied: google-auth<2,>=1.6.3 in /usr/local/lib/python3.7/dist-packages (from tensorboard<2.1.0,>=2.0.0->tensorflow==2.0.0->mlbox) (1.35.0)\n",
            "Requirement already satisfied: werkzeug>=0.11.15 in /usr/local/lib/python3.7/dist-packages (from tensorboard<2.1.0,>=2.0.0->tensorflow==2.0.0->mlbox) (1.0.1)\n",
            "Requirement already satisfied: setuptools>=41.0.0 in /usr/local/lib/python3.7/dist-packages (from tensorboard<2.1.0,>=2.0.0->tensorflow==2.0.0->mlbox) (57.4.0)\n",
            "Requirement already satisfied: markdown>=2.6.8 in /usr/local/lib/python3.7/dist-packages (from tensorboard<2.1.0,>=2.0.0->tensorflow==2.0.0->mlbox) (3.3.6)\n",
            "Requirement already satisfied: google-auth-oauthlib<0.5,>=0.4.1 in /usr/local/lib/python3.7/dist-packages (from tensorboard<2.1.0,>=2.0.0->tensorflow==2.0.0->mlbox) (0.4.6)\n",
            "Requirement already satisfied: requests<3,>=2.21.0 in /usr/local/lib/python3.7/dist-packages (from tensorboard<2.1.0,>=2.0.0->tensorflow==2.0.0->mlbox) (2.23.0)\n",
            "Requirement already satisfied: pyasn1-modules>=0.2.1 in /usr/local/lib/python3.7/dist-packages (from google-auth<2,>=1.6.3->tensorboard<2.1.0,>=2.0.0->tensorflow==2.0.0->mlbox) (0.2.8)\n",
            "Requirement already satisfied: cachetools<5.0,>=2.0.0 in /usr/local/lib/python3.7/dist-packages (from google-auth<2,>=1.6.3->tensorboard<2.1.0,>=2.0.0->tensorflow==2.0.0->mlbox) (4.2.4)\n",
            "Requirement already satisfied: rsa<5,>=3.1.4 in /usr/local/lib/python3.7/dist-packages (from google-auth<2,>=1.6.3->tensorboard<2.1.0,>=2.0.0->tensorflow==2.0.0->mlbox) (4.8)\n",
            "Requirement already satisfied: requests-oauthlib>=0.7.0 in /usr/local/lib/python3.7/dist-packages (from google-auth-oauthlib<0.5,>=0.4.1->tensorboard<2.1.0,>=2.0.0->tensorflow==2.0.0->mlbox) (1.3.0)\n",
            "Requirement already satisfied: importlib-metadata>=4.4 in /usr/local/lib/python3.7/dist-packages (from markdown>=2.6.8->tensorboard<2.1.0,>=2.0.0->tensorflow==2.0.0->mlbox) (4.10.1)\n",
            "Requirement already satisfied: zipp>=0.5 in /usr/local/lib/python3.7/dist-packages (from importlib-metadata>=4.4->markdown>=2.6.8->tensorboard<2.1.0,>=2.0.0->tensorflow==2.0.0->mlbox) (3.7.0)\n",
            "Requirement already satisfied: typing-extensions>=3.6.4 in /usr/local/lib/python3.7/dist-packages (from importlib-metadata>=4.4->markdown>=2.6.8->tensorboard<2.1.0,>=2.0.0->tensorflow==2.0.0->mlbox) (3.10.0.2)\n",
            "Requirement already satisfied: pyasn1<0.5.0,>=0.4.6 in /usr/local/lib/python3.7/dist-packages (from pyasn1-modules>=0.2.1->google-auth<2,>=1.6.3->tensorboard<2.1.0,>=2.0.0->tensorflow==2.0.0->mlbox) (0.4.8)\n",
            "Requirement already satisfied: chardet<4,>=3.0.2 in /usr/local/lib/python3.7/dist-packages (from requests<3,>=2.21.0->tensorboard<2.1.0,>=2.0.0->tensorflow==2.0.0->mlbox) (3.0.4)\n",
            "Requirement already satisfied: certifi>=2017.4.17 in /usr/local/lib/python3.7/dist-packages (from requests<3,>=2.21.0->tensorboard<2.1.0,>=2.0.0->tensorflow==2.0.0->mlbox) (2021.10.8)\n",
            "Requirement already satisfied: urllib3!=1.25.0,!=1.25.1,<1.26,>=1.21.1 in /usr/local/lib/python3.7/dist-packages (from requests<3,>=2.21.0->tensorboard<2.1.0,>=2.0.0->tensorflow==2.0.0->mlbox) (1.24.3)\n",
            "Requirement already satisfied: idna<3,>=2.5 in /usr/local/lib/python3.7/dist-packages (from requests<3,>=2.21.0->tensorboard<2.1.0,>=2.0.0->tensorflow==2.0.0->mlbox) (2.10)\n",
            "Requirement already satisfied: oauthlib>=3.0.0 in /usr/local/lib/python3.7/dist-packages (from requests-oauthlib>=0.7.0->google-auth-oauthlib<0.5,>=0.4.1->tensorboard<2.1.0,>=2.0.0->tensorflow==2.0.0->mlbox) (3.1.1)\n",
            "Requirement already satisfied: cached-property in /usr/local/lib/python3.7/dist-packages (from h5py->keras-applications>=1.0.8->tensorflow==2.0.0->mlbox) (1.5.2)\n",
            "Installing collected packages: scikit-learn\n",
            "  Attempting uninstall: scikit-learn\n",
            "    Found existing installation: scikit-learn 1.0.2\n",
            "    Uninstalling scikit-learn-1.0.2:\n",
            "      Successfully uninstalled scikit-learn-1.0.2\n",
            "\u001b[31mERROR: pip's dependency resolver does not currently take into account all the packages that are installed. This behaviour is the source of the following dependency conflicts.\n",
            "kapre 0.3.7 requires numpy>=1.18.5, but you have numpy 1.18.2 which is incompatible.\n",
            "imbalanced-learn 0.8.1 requires scikit-learn>=0.24, but you have scikit-learn 0.22.1 which is incompatible.\u001b[0m\n",
            "Successfully installed scikit-learn-0.22.1\n"
          ]
        }
      ],
      "source": [
        "!pip install mlbox"
      ]
    },
    {
      "cell_type": "markdown",
      "source": [
        "***Restart the runtime before proceeding***"
      ],
      "metadata": {
        "id": "DEeHJFUmNEkC"
      }
    },
    {
      "cell_type": "code",
      "execution_count": null,
      "metadata": {
        "id": "qWrZ70S8Wmsc",
        "colab": {
          "base_uri": "https://localhost:8080/"
        },
        "outputId": "97bf1186-c94c-44a5-c9c1-ccd4567e3dca"
      },
      "outputs": [
        {
          "output_type": "stream",
          "name": "stdout",
          "text": [
            "Requirement already satisfied: imblearn in /usr/local/lib/python3.7/dist-packages (0.0)\n",
            "Requirement already satisfied: imbalanced-learn in /usr/local/lib/python3.7/dist-packages (from imblearn) (0.8.1)\n",
            "Requirement already satisfied: joblib>=0.11 in /usr/local/lib/python3.7/dist-packages (from imbalanced-learn->imblearn) (0.14.1)\n",
            "Requirement already satisfied: numpy>=1.13.3 in /usr/local/lib/python3.7/dist-packages (from imbalanced-learn->imblearn) (1.18.2)\n",
            "Collecting scikit-learn>=0.24\n",
            "  Using cached scikit_learn-1.0.2-cp37-cp37m-manylinux_2_17_x86_64.manylinux2014_x86_64.whl (24.8 MB)\n",
            "Requirement already satisfied: scipy>=0.19.1 in /usr/local/lib/python3.7/dist-packages (from imbalanced-learn->imblearn) (1.4.1)\n",
            "Requirement already satisfied: threadpoolctl>=2.0.0 in /usr/local/lib/python3.7/dist-packages (from scikit-learn>=0.24->imbalanced-learn->imblearn) (3.0.0)\n",
            "Installing collected packages: scikit-learn\n",
            "  Attempting uninstall: scikit-learn\n",
            "    Found existing installation: scikit-learn 0.22.1\n",
            "    Uninstalling scikit-learn-0.22.1:\n",
            "      Successfully uninstalled scikit-learn-0.22.1\n",
            "\u001b[31mERROR: pip's dependency resolver does not currently take into account all the packages that are installed. This behaviour is the source of the following dependency conflicts.\n",
            "mlbox 0.8.5 requires scikit-learn==0.22.1, but you have scikit-learn 1.0.2 which is incompatible.\n",
            "kapre 0.3.7 requires numpy>=1.18.5, but you have numpy 1.18.2 which is incompatible.\u001b[0m\n",
            "Successfully installed scikit-learn-1.0.2\n"
          ]
        }
      ],
      "source": [
        "!pip install imblearn"
      ]
    },
    {
      "cell_type": "code",
      "execution_count": null,
      "metadata": {
        "id": "5v7U_BVh5lY1"
      },
      "outputs": [],
      "source": [
        "from mlbox.preprocessing import *\n",
        "from mlbox.optimisation import *\n",
        "from mlbox.prediction import *"
      ]
    },
    {
      "cell_type": "code",
      "execution_count": null,
      "metadata": {
        "id": "vQ515fsGlNV2"
      },
      "outputs": [],
      "source": [
        "import pandas as pd\n",
        "import matplotlib.pyplot as plt\n",
        "import numpy as np\n",
        "import seaborn as sns\n",
        "from tensorflow.keras.utils import plot_model"
      ]
    },
    {
      "cell_type": "markdown",
      "metadata": {
        "id": "80C643inHKNz"
      },
      "source": [
        "## Setting up dataset"
      ]
    },
    {
      "cell_type": "markdown",
      "metadata": {
        "id": "H9hztLXKv2Kn"
      },
      "source": [
        "## Superconductors dataset (regression task)\n",
        "\n",
        "Source: https://archive.ics.uci.edu/ml/datasets/Superconductivty+Data\n",
        "\n",
        "\n",
        "The dataset contains 81 numerical features of 21263 superconductors. The label corresponds to their critical temperature measured in Kelvin."
      ]
    },
    {
      "cell_type": "code",
      "execution_count": null,
      "metadata": {
        "colab": {
          "base_uri": "https://localhost:8080/"
        },
        "id": "qTDrL4iwv2Kq",
        "outputId": "d2b9f4d3-81cc-4b17-b33f-462454dbd292"
      },
      "outputs": [
        {
          "output_type": "stream",
          "name": "stdout",
          "text": [
            "--2022-02-02 12:59:27--  https://raw.githubusercontent.com/abcom-mltutorials/automl/main/superconductors.csv\n",
            "Resolving raw.githubusercontent.com (raw.githubusercontent.com)... 185.199.108.133, 185.199.109.133, 185.199.110.133, ...\n",
            "Connecting to raw.githubusercontent.com (raw.githubusercontent.com)|185.199.108.133|:443... connected.\n",
            "HTTP request sent, awaiting response... 200 OK\n",
            "Length: 23859780 (23M) [text/plain]\n",
            "Saving to: ‘superconductors.csv’\n",
            "\n",
            "superconductors.csv 100%[===================>]  22.75M  --.-KB/s    in 0.06s   \n",
            "\n",
            "2022-02-02 12:59:27 (356 MB/s) - ‘superconductors.csv’ saved [23859780/23859780]\n",
            "\n"
          ]
        }
      ],
      "source": [
        "!wget 'https://raw.githubusercontent.com/abcom-mltutorials/automl/main/superconductors.csv'"
      ]
    },
    {
      "cell_type": "code",
      "execution_count": null,
      "metadata": {
        "id": "Y__xwS0D7eHC"
      },
      "outputs": [],
      "source": [
        "regressor_df=pd.read_csv('/content/superconductors.csv')"
      ]
    },
    {
      "cell_type": "code",
      "source": [
        "regressor_df.shape"
      ],
      "metadata": {
        "colab": {
          "base_uri": "https://localhost:8080/"
        },
        "id": "rqedHGLCtCh9",
        "outputId": "4ce840fc-4be2-4844-d53b-d74492c09fb3"
      },
      "execution_count": null,
      "outputs": [
        {
          "output_type": "execute_result",
          "data": {
            "text/plain": [
              "(21263, 82)"
            ]
          },
          "metadata": {},
          "execution_count": 8
        }
      ]
    },
    {
      "cell_type": "code",
      "execution_count": null,
      "metadata": {
        "id": "a41vlLivv2K7"
      },
      "outputs": [],
      "source": [
        "features_regressor = regressor_df.iloc[:,:-1]\n",
        "label_regressor = regressor_df.iloc[:,-1]"
      ]
    },
    {
      "cell_type": "code",
      "execution_count": null,
      "metadata": {
        "id": "pxQwzGxUwEfA"
      },
      "outputs": [],
      "source": [
        "from sklearn.model_selection import train_test_split"
      ]
    },
    {
      "cell_type": "code",
      "execution_count": null,
      "metadata": {
        "id": "JKhmEiOGv2K-"
      },
      "outputs": [],
      "source": [
        "X_train_regressor, X_test_regressor, label_train_regressor, label_test_regressor = train_test_split(features_regressor, label_regressor, test_size=0.2, random_state=42)"
      ]
    },
    {
      "cell_type": "code",
      "execution_count": null,
      "metadata": {
        "id": "Q9BMsYBa76gQ"
      },
      "outputs": [],
      "source": [
        "from sklearn.metrics import mean_squared_error\n",
        "from sklearn.metrics import r2_score\n",
        "\n",
        "def error_metrics(y_pred,y_val):\n",
        "  print('MSE: ',mean_squared_error(y_pred,y_val))\n",
        "  print('RMSE: ',np.sqrt(mean_squared_error(y_pred,y_val)))\n",
        "  print('Coefficient of determination: ',r2_score(y_pred,y_val))"
      ]
    },
    {
      "cell_type": "markdown",
      "metadata": {
        "id": "JUQFDPa7QM2s"
      },
      "source": [
        "## Regressor"
      ]
    },
    {
      "cell_type": "code",
      "execution_count": null,
      "metadata": {
        "id": "J-aDEOGJ7rjA",
        "colab": {
          "base_uri": "https://localhost:8080/"
        },
        "outputId": "7f07a3bc-443d-468b-ae2c-eb781b62d58d"
      },
      "outputs": [
        {
          "output_type": "execute_result",
          "data": {
            "text/plain": [
              "((17010, 81), (17010,))"
            ]
          },
          "metadata": {},
          "execution_count": 13
        }
      ],
      "source": [
        "X_train_regressor.shape, label_train_regressor.shape"
      ]
    },
    {
      "cell_type": "code",
      "execution_count": null,
      "metadata": {
        "id": "2jnCyVhRFAsS",
        "colab": {
          "base_uri": "https://localhost:8080/",
          "height": 300
        },
        "outputId": "6e55be64-ae39-4401-874a-b210574583d9"
      },
      "outputs": [
        {
          "output_type": "execute_result",
          "data": {
            "text/html": [
              "\n",
              "  <div id=\"df-30cc450d-29cc-4208-846c-0e7f4ea1dcc7\">\n",
              "    <div class=\"colab-df-container\">\n",
              "      <div>\n",
              "<style scoped>\n",
              "    .dataframe tbody tr th:only-of-type {\n",
              "        vertical-align: middle;\n",
              "    }\n",
              "\n",
              "    .dataframe tbody tr th {\n",
              "        vertical-align: top;\n",
              "    }\n",
              "\n",
              "    .dataframe thead th {\n",
              "        text-align: right;\n",
              "    }\n",
              "</style>\n",
              "<table border=\"1\" class=\"dataframe\">\n",
              "  <thead>\n",
              "    <tr style=\"text-align: right;\">\n",
              "      <th></th>\n",
              "      <th>number_of_elements</th>\n",
              "      <th>mean_atomic_mass</th>\n",
              "      <th>wtd_mean_atomic_mass</th>\n",
              "      <th>gmean_atomic_mass</th>\n",
              "      <th>wtd_gmean_atomic_mass</th>\n",
              "      <th>entropy_atomic_mass</th>\n",
              "      <th>wtd_entropy_atomic_mass</th>\n",
              "      <th>range_atomic_mass</th>\n",
              "      <th>wtd_range_atomic_mass</th>\n",
              "      <th>std_atomic_mass</th>\n",
              "      <th>wtd_std_atomic_mass</th>\n",
              "      <th>mean_fie</th>\n",
              "      <th>wtd_mean_fie</th>\n",
              "      <th>gmean_fie</th>\n",
              "      <th>wtd_gmean_fie</th>\n",
              "      <th>entropy_fie</th>\n",
              "      <th>wtd_entropy_fie</th>\n",
              "      <th>range_fie</th>\n",
              "      <th>wtd_range_fie</th>\n",
              "      <th>std_fie</th>\n",
              "      <th>wtd_std_fie</th>\n",
              "      <th>mean_atomic_radius</th>\n",
              "      <th>wtd_mean_atomic_radius</th>\n",
              "      <th>gmean_atomic_radius</th>\n",
              "      <th>wtd_gmean_atomic_radius</th>\n",
              "      <th>entropy_atomic_radius</th>\n",
              "      <th>wtd_entropy_atomic_radius</th>\n",
              "      <th>range_atomic_radius</th>\n",
              "      <th>wtd_range_atomic_radius</th>\n",
              "      <th>std_atomic_radius</th>\n",
              "      <th>wtd_std_atomic_radius</th>\n",
              "      <th>mean_Density</th>\n",
              "      <th>wtd_mean_Density</th>\n",
              "      <th>gmean_Density</th>\n",
              "      <th>wtd_gmean_Density</th>\n",
              "      <th>entropy_Density</th>\n",
              "      <th>wtd_entropy_Density</th>\n",
              "      <th>range_Density</th>\n",
              "      <th>wtd_range_Density</th>\n",
              "      <th>std_Density</th>\n",
              "      <th>...</th>\n",
              "      <th>mean_ElectronAffinity</th>\n",
              "      <th>wtd_mean_ElectronAffinity</th>\n",
              "      <th>gmean_ElectronAffinity</th>\n",
              "      <th>wtd_gmean_ElectronAffinity</th>\n",
              "      <th>entropy_ElectronAffinity</th>\n",
              "      <th>wtd_entropy_ElectronAffinity</th>\n",
              "      <th>range_ElectronAffinity</th>\n",
              "      <th>wtd_range_ElectronAffinity</th>\n",
              "      <th>std_ElectronAffinity</th>\n",
              "      <th>wtd_std_ElectronAffinity</th>\n",
              "      <th>mean_FusionHeat</th>\n",
              "      <th>wtd_mean_FusionHeat</th>\n",
              "      <th>gmean_FusionHeat</th>\n",
              "      <th>wtd_gmean_FusionHeat</th>\n",
              "      <th>entropy_FusionHeat</th>\n",
              "      <th>wtd_entropy_FusionHeat</th>\n",
              "      <th>range_FusionHeat</th>\n",
              "      <th>wtd_range_FusionHeat</th>\n",
              "      <th>std_FusionHeat</th>\n",
              "      <th>wtd_std_FusionHeat</th>\n",
              "      <th>mean_ThermalConductivity</th>\n",
              "      <th>wtd_mean_ThermalConductivity</th>\n",
              "      <th>gmean_ThermalConductivity</th>\n",
              "      <th>wtd_gmean_ThermalConductivity</th>\n",
              "      <th>entropy_ThermalConductivity</th>\n",
              "      <th>wtd_entropy_ThermalConductivity</th>\n",
              "      <th>range_ThermalConductivity</th>\n",
              "      <th>wtd_range_ThermalConductivity</th>\n",
              "      <th>std_ThermalConductivity</th>\n",
              "      <th>wtd_std_ThermalConductivity</th>\n",
              "      <th>mean_Valence</th>\n",
              "      <th>wtd_mean_Valence</th>\n",
              "      <th>gmean_Valence</th>\n",
              "      <th>wtd_gmean_Valence</th>\n",
              "      <th>entropy_Valence</th>\n",
              "      <th>wtd_entropy_Valence</th>\n",
              "      <th>range_Valence</th>\n",
              "      <th>wtd_range_Valence</th>\n",
              "      <th>std_Valence</th>\n",
              "      <th>wtd_std_Valence</th>\n",
              "    </tr>\n",
              "  </thead>\n",
              "  <tbody>\n",
              "    <tr>\n",
              "      <th>16546</th>\n",
              "      <td>2</td>\n",
              "      <td>77.143500</td>\n",
              "      <td>53.722300</td>\n",
              "      <td>71.372307</td>\n",
              "      <td>51.848347</td>\n",
              "      <td>0.619298</td>\n",
              "      <td>0.497747</td>\n",
              "      <td>58.55300</td>\n",
              "      <td>32.438300</td>\n",
              "      <td>29.276500</td>\n",
              "      <td>17.565900</td>\n",
              "      <td>730.650000</td>\n",
              "      <td>672.370000</td>\n",
              "      <td>727.009147</td>\n",
              "      <td>671.093559</td>\n",
              "      <td>0.688168</td>\n",
              "      <td>0.365933</td>\n",
              "      <td>145.7</td>\n",
              "      <td>511.670000</td>\n",
              "      <td>72.850000</td>\n",
              "      <td>43.710000</td>\n",
              "      <td>172.500000</td>\n",
              "      <td>175.300000</td>\n",
              "      <td>172.464489</td>\n",
              "      <td>175.287147</td>\n",
              "      <td>0.692941</td>\n",
              "      <td>0.317114</td>\n",
              "      <td>7</td>\n",
              "      <td>141.500000</td>\n",
              "      <td>3.500000</td>\n",
              "      <td>2.100000</td>\n",
              "      <td>8265.000000</td>\n",
              "      <td>5258.600000</td>\n",
              "      <td>7361.226868</td>\n",
              "      <td>4971.644733</td>\n",
              "      <td>0.585882</td>\n",
              "      <td>0.537622</td>\n",
              "      <td>7516.000</td>\n",
              "      <td>2854.000000</td>\n",
              "      <td>3758.000000</td>\n",
              "      <td>...</td>\n",
              "      <td>32.150000</td>\n",
              "      <td>13.710000</td>\n",
              "      <td>22.412497</td>\n",
              "      <td>10.897607</td>\n",
              "      <td>0.407721</td>\n",
              "      <td>0.674062</td>\n",
              "      <td>46.10</td>\n",
              "      <td>2.670000</td>\n",
              "      <td>23.050000</td>\n",
              "      <td>13.830000</td>\n",
              "      <td>17.700000</td>\n",
              "      <td>18.500000</td>\n",
              "      <td>17.671729</td>\n",
              "      <td>18.489667</td>\n",
              "      <td>0.691550</td>\n",
              "      <td>0.303163</td>\n",
              "      <td>2.000</td>\n",
              "      <td>15.160000</td>\n",
              "      <td>1.000000</td>\n",
              "      <td>0.600000</td>\n",
              "      <td>46.500000</td>\n",
              "      <td>26.900000</td>\n",
              "      <td>39.522146</td>\n",
              "      <td>24.734677</td>\n",
              "      <td>0.547081</td>\n",
              "      <td>0.577138</td>\n",
              "      <td>49.00000</td>\n",
              "      <td>12.700000</td>\n",
              "      <td>24.500000</td>\n",
              "      <td>14.700000</td>\n",
              "      <td>4.000000</td>\n",
              "      <td>4.000000</td>\n",
              "      <td>4.000000</td>\n",
              "      <td>4.000000</td>\n",
              "      <td>0.693147</td>\n",
              "      <td>0.325083</td>\n",
              "      <td>0</td>\n",
              "      <td>3.200000</td>\n",
              "      <td>0.000000</td>\n",
              "      <td>0.000000</td>\n",
              "    </tr>\n",
              "    <tr>\n",
              "      <th>5970</th>\n",
              "      <td>4</td>\n",
              "      <td>104.365600</td>\n",
              "      <td>71.922350</td>\n",
              "      <td>72.746865</td>\n",
              "      <td>43.369558</td>\n",
              "      <td>1.129463</td>\n",
              "      <td>1.221243</td>\n",
              "      <td>184.59060</td>\n",
              "      <td>26.332050</td>\n",
              "      <td>70.392496</td>\n",
              "      <td>65.568217</td>\n",
              "      <td>891.650000</td>\n",
              "      <td>994.525000</td>\n",
              "      <td>838.584885</td>\n",
              "      <td>923.668549</td>\n",
              "      <td>1.328085</td>\n",
              "      <td>1.012874</td>\n",
              "      <td>810.6</td>\n",
              "      <td>555.950000</td>\n",
              "      <td>301.512840</td>\n",
              "      <td>347.303530</td>\n",
              "      <td>154.250000</td>\n",
              "      <td>126.100000</td>\n",
              "      <td>131.729022</td>\n",
              "      <td>97.477764</td>\n",
              "      <td>1.260175</td>\n",
              "      <td>1.235910</td>\n",
              "      <td>205</td>\n",
              "      <td>46.150000</td>\n",
              "      <td>73.155229</td>\n",
              "      <td>85.620617</td>\n",
              "      <td>6501.357250</td>\n",
              "      <td>3575.614500</td>\n",
              "      <td>883.117278</td>\n",
              "      <td>93.289274</td>\n",
              "      <td>0.977862</td>\n",
              "      <td>1.081982</td>\n",
              "      <td>13532.571</td>\n",
              "      <td>1352.685500</td>\n",
              "      <td>5164.791227</td>\n",
              "      <td>...</td>\n",
              "      <td>69.837500</td>\n",
              "      <td>93.247500</td>\n",
              "      <td>25.084962</td>\n",
              "      <td>50.532590</td>\n",
              "      <td>0.894571</td>\n",
              "      <td>0.665238</td>\n",
              "      <td>141.00</td>\n",
              "      <td>71.100000</td>\n",
              "      <td>62.076781</td>\n",
              "      <td>60.616259</td>\n",
              "      <td>5.903000</td>\n",
              "      <td>4.305000</td>\n",
              "      <td>2.701702</td>\n",
              "      <td>1.266261</td>\n",
              "      <td>0.963720</td>\n",
              "      <td>0.964520</td>\n",
              "      <td>12.878</td>\n",
              "      <td>1.889000</td>\n",
              "      <td>5.037900</td>\n",
              "      <td>4.874169</td>\n",
              "      <td>106.581645</td>\n",
              "      <td>65.343290</td>\n",
              "      <td>6.313081</td>\n",
              "      <td>1.019324</td>\n",
              "      <td>0.270718</td>\n",
              "      <td>0.319780</td>\n",
              "      <td>399.97342</td>\n",
              "      <td>59.986710</td>\n",
              "      <td>169.524558</td>\n",
              "      <td>140.776929</td>\n",
              "      <td>2.000000</td>\n",
              "      <td>2.000000</td>\n",
              "      <td>2.000000</td>\n",
              "      <td>2.000000</td>\n",
              "      <td>1.386294</td>\n",
              "      <td>1.207974</td>\n",
              "      <td>0</td>\n",
              "      <td>0.800000</td>\n",
              "      <td>0.000000</td>\n",
              "      <td>0.000000</td>\n",
              "    </tr>\n",
              "    <tr>\n",
              "      <th>7542</th>\n",
              "      <td>5</td>\n",
              "      <td>74.231650</td>\n",
              "      <td>51.256952</td>\n",
              "      <td>60.515221</td>\n",
              "      <td>34.941384</td>\n",
              "      <td>1.453747</td>\n",
              "      <td>1.327852</td>\n",
              "      <td>121.32760</td>\n",
              "      <td>20.724892</td>\n",
              "      <td>39.445875</td>\n",
              "      <td>44.195499</td>\n",
              "      <td>816.360000</td>\n",
              "      <td>1004.612615</td>\n",
              "      <td>771.891022</td>\n",
              "      <td>938.687448</td>\n",
              "      <td>1.552506</td>\n",
              "      <td>0.915890</td>\n",
              "      <td>810.6</td>\n",
              "      <td>701.479692</td>\n",
              "      <td>282.395259</td>\n",
              "      <td>341.879109</td>\n",
              "      <td>160.000000</td>\n",
              "      <td>114.520000</td>\n",
              "      <td>139.595299</td>\n",
              "      <td>89.673653</td>\n",
              "      <td>1.501218</td>\n",
              "      <td>1.375101</td>\n",
              "      <td>205</td>\n",
              "      <td>38.049231</td>\n",
              "      <td>69.922815</td>\n",
              "      <td>79.228649</td>\n",
              "      <td>4816.685800</td>\n",
              "      <td>2941.261769</td>\n",
              "      <td>1074.903488</td>\n",
              "      <td>66.249535</td>\n",
              "      <td>1.322213</td>\n",
              "      <td>0.886765</td>\n",
              "      <td>8958.571</td>\n",
              "      <td>2011.784385</td>\n",
              "      <td>3084.729342</td>\n",
              "      <td>...</td>\n",
              "      <td>62.090000</td>\n",
              "      <td>108.440615</td>\n",
              "      <td>26.186824</td>\n",
              "      <td>84.237345</td>\n",
              "      <td>1.130428</td>\n",
              "      <td>0.759361</td>\n",
              "      <td>141.00</td>\n",
              "      <td>76.721538</td>\n",
              "      <td>57.644743</td>\n",
              "      <td>50.149563</td>\n",
              "      <td>8.014400</td>\n",
              "      <td>5.214923</td>\n",
              "      <td>4.549685</td>\n",
              "      <td>1.332174</td>\n",
              "      <td>1.384657</td>\n",
              "      <td>1.091194</td>\n",
              "      <td>12.878</td>\n",
              "      <td>2.897231</td>\n",
              "      <td>4.438215</td>\n",
              "      <td>5.617195</td>\n",
              "      <td>111.005316</td>\n",
              "      <td>94.675851</td>\n",
              "      <td>13.131173</td>\n",
              "      <td>1.088203</td>\n",
              "      <td>0.785624</td>\n",
              "      <td>0.251330</td>\n",
              "      <td>399.97342</td>\n",
              "      <td>89.831842</td>\n",
              "      <td>150.600199</td>\n",
              "      <td>164.728982</td>\n",
              "      <td>2.200000</td>\n",
              "      <td>2.076923</td>\n",
              "      <td>2.168944</td>\n",
              "      <td>2.063362</td>\n",
              "      <td>1.594167</td>\n",
              "      <td>1.229147</td>\n",
              "      <td>1</td>\n",
              "      <td>1.064615</td>\n",
              "      <td>0.400000</td>\n",
              "      <td>0.266469</td>\n",
              "    </tr>\n",
              "    <tr>\n",
              "      <th>2157</th>\n",
              "      <td>7</td>\n",
              "      <td>88.309607</td>\n",
              "      <td>48.586910</td>\n",
              "      <td>69.138309</td>\n",
              "      <td>33.542945</td>\n",
              "      <td>1.740703</td>\n",
              "      <td>1.724444</td>\n",
              "      <td>191.20060</td>\n",
              "      <td>11.938538</td>\n",
              "      <td>57.329551</td>\n",
              "      <td>45.189822</td>\n",
              "      <td>726.442857</td>\n",
              "      <td>1005.639231</td>\n",
              "      <td>694.260169</td>\n",
              "      <td>942.995772</td>\n",
              "      <td>1.895033</td>\n",
              "      <td>1.038901</td>\n",
              "      <td>764.1</td>\n",
              "      <td>698.469231</td>\n",
              "      <td>249.458728</td>\n",
              "      <td>337.508375</td>\n",
              "      <td>161.142857</td>\n",
              "      <td>109.165385</td>\n",
              "      <td>147.320208</td>\n",
              "      <td>87.738692</td>\n",
              "      <td>1.878663</td>\n",
              "      <td>1.671235</td>\n",
              "      <td>171</td>\n",
              "      <td>31.292308</td>\n",
              "      <td>53.656124</td>\n",
              "      <td>69.964383</td>\n",
              "      <td>5180.489857</td>\n",
              "      <td>2780.000231</td>\n",
              "      <td>1526.892841</td>\n",
              "      <td>61.344330</td>\n",
              "      <td>1.615339</td>\n",
              "      <td>1.295904</td>\n",
              "      <td>11338.571</td>\n",
              "      <td>1549.999769</td>\n",
              "      <td>3850.216319</td>\n",
              "      <td>...</td>\n",
              "      <td>52.985714</td>\n",
              "      <td>101.848462</td>\n",
              "      <td>28.410697</td>\n",
              "      <td>65.146666</td>\n",
              "      <td>1.492706</td>\n",
              "      <td>0.733149</td>\n",
              "      <td>138.63</td>\n",
              "      <td>76.581923</td>\n",
              "      <td>51.155793</td>\n",
              "      <td>56.253081</td>\n",
              "      <td>7.041714</td>\n",
              "      <td>4.636500</td>\n",
              "      <td>4.462156</td>\n",
              "      <td>1.240009</td>\n",
              "      <td>1.719581</td>\n",
              "      <td>1.392176</td>\n",
              "      <td>12.878</td>\n",
              "      <td>2.217154</td>\n",
              "      <td>4.222917</td>\n",
              "      <td>5.196820</td>\n",
              "      <td>109.860940</td>\n",
              "      <td>85.718158</td>\n",
              "      <td>23.212427</td>\n",
              "      <td>1.175396</td>\n",
              "      <td>1.294800</td>\n",
              "      <td>0.733572</td>\n",
              "      <td>399.97342</td>\n",
              "      <td>69.216457</td>\n",
              "      <td>133.618336</td>\n",
              "      <td>149.124166</td>\n",
              "      <td>2.571429</td>\n",
              "      <td>2.138462</td>\n",
              "      <td>2.479397</td>\n",
              "      <td>2.104979</td>\n",
              "      <td>1.908037</td>\n",
              "      <td>1.479833</td>\n",
              "      <td>2</td>\n",
              "      <td>1.030769</td>\n",
              "      <td>0.728431</td>\n",
              "      <td>0.451559</td>\n",
              "    </tr>\n",
              "    <tr>\n",
              "      <th>18265</th>\n",
              "      <td>5</td>\n",
              "      <td>69.321369</td>\n",
              "      <td>72.150027</td>\n",
              "      <td>56.104529</td>\n",
              "      <td>55.643005</td>\n",
              "      <td>1.434383</td>\n",
              "      <td>1.302362</td>\n",
              "      <td>124.90825</td>\n",
              "      <td>31.227062</td>\n",
              "      <td>40.715396</td>\n",
              "      <td>45.074073</td>\n",
              "      <td>860.620000</td>\n",
              "      <td>886.175000</td>\n",
              "      <td>822.540740</td>\n",
              "      <td>839.406274</td>\n",
              "      <td>1.564269</td>\n",
              "      <td>1.464385</td>\n",
              "      <td>786.5</td>\n",
              "      <td>271.417500</td>\n",
              "      <td>262.468325</td>\n",
              "      <td>287.831000</td>\n",
              "      <td>143.400000</td>\n",
              "      <td>140.950000</td>\n",
              "      <td>126.229902</td>\n",
              "      <td>120.266822</td>\n",
              "      <td>1.501198</td>\n",
              "      <td>1.415852</td>\n",
              "      <td>199</td>\n",
              "      <td>50.350000</td>\n",
              "      <td>64.701159</td>\n",
              "      <td>72.124528</td>\n",
              "      <td>5828.485800</td>\n",
              "      <td>5137.557250</td>\n",
              "      <td>1306.599783</td>\n",
              "      <td>816.244598</td>\n",
              "      <td>1.373048</td>\n",
              "      <td>1.339883</td>\n",
              "      <td>8898.571</td>\n",
              "      <td>1659.642750</td>\n",
              "      <td>3106.180080</td>\n",
              "      <td>...</td>\n",
              "      <td>71.180000</td>\n",
              "      <td>76.275000</td>\n",
              "      <td>57.963293</td>\n",
              "      <td>62.198993</td>\n",
              "      <td>1.438367</td>\n",
              "      <td>1.309987</td>\n",
              "      <td>125.30</td>\n",
              "      <td>32.615000</td>\n",
              "      <td>41.213270</td>\n",
              "      <td>43.271375</td>\n",
              "      <td>12.964400</td>\n",
              "      <td>12.335500</td>\n",
              "      <td>6.243314</td>\n",
              "      <td>4.978665</td>\n",
              "      <td>1.297086</td>\n",
              "      <td>1.171085</td>\n",
              "      <td>27.478</td>\n",
              "      <td>6.869500</td>\n",
              "      <td>9.246090</td>\n",
              "      <td>10.226571</td>\n",
              "      <td>48.405316</td>\n",
              "      <td>37.081645</td>\n",
              "      <td>10.641898</td>\n",
              "      <td>6.186597</td>\n",
              "      <td>1.214507</td>\n",
              "      <td>1.272564</td>\n",
              "      <td>99.97342</td>\n",
              "      <td>13.818355</td>\n",
              "      <td>37.933172</td>\n",
              "      <td>33.680510</td>\n",
              "      <td>3.600000</td>\n",
              "      <td>3.575000</td>\n",
              "      <td>3.437544</td>\n",
              "      <td>3.381939</td>\n",
              "      <td>1.567056</td>\n",
              "      <td>1.488545</td>\n",
              "      <td>3</td>\n",
              "      <td>0.950000</td>\n",
              "      <td>1.019804</td>\n",
              "      <td>1.115516</td>\n",
              "    </tr>\n",
              "  </tbody>\n",
              "</table>\n",
              "<p>5 rows × 81 columns</p>\n",
              "</div>\n",
              "      <button class=\"colab-df-convert\" onclick=\"convertToInteractive('df-30cc450d-29cc-4208-846c-0e7f4ea1dcc7')\"\n",
              "              title=\"Convert this dataframe to an interactive table.\"\n",
              "              style=\"display:none;\">\n",
              "        \n",
              "  <svg xmlns=\"http://www.w3.org/2000/svg\" height=\"24px\"viewBox=\"0 0 24 24\"\n",
              "       width=\"24px\">\n",
              "    <path d=\"M0 0h24v24H0V0z\" fill=\"none\"/>\n",
              "    <path d=\"M18.56 5.44l.94 2.06.94-2.06 2.06-.94-2.06-.94-.94-2.06-.94 2.06-2.06.94zm-11 1L8.5 8.5l.94-2.06 2.06-.94-2.06-.94L8.5 2.5l-.94 2.06-2.06.94zm10 10l.94 2.06.94-2.06 2.06-.94-2.06-.94-.94-2.06-.94 2.06-2.06.94z\"/><path d=\"M17.41 7.96l-1.37-1.37c-.4-.4-.92-.59-1.43-.59-.52 0-1.04.2-1.43.59L10.3 9.45l-7.72 7.72c-.78.78-.78 2.05 0 2.83L4 21.41c.39.39.9.59 1.41.59.51 0 1.02-.2 1.41-.59l7.78-7.78 2.81-2.81c.8-.78.8-2.07 0-2.86zM5.41 20L4 18.59l7.72-7.72 1.47 1.35L5.41 20z\"/>\n",
              "  </svg>\n",
              "      </button>\n",
              "      \n",
              "  <style>\n",
              "    .colab-df-container {\n",
              "      display:flex;\n",
              "      flex-wrap:wrap;\n",
              "      gap: 12px;\n",
              "    }\n",
              "\n",
              "    .colab-df-convert {\n",
              "      background-color: #E8F0FE;\n",
              "      border: none;\n",
              "      border-radius: 50%;\n",
              "      cursor: pointer;\n",
              "      display: none;\n",
              "      fill: #1967D2;\n",
              "      height: 32px;\n",
              "      padding: 0 0 0 0;\n",
              "      width: 32px;\n",
              "    }\n",
              "\n",
              "    .colab-df-convert:hover {\n",
              "      background-color: #E2EBFA;\n",
              "      box-shadow: 0px 1px 2px rgba(60, 64, 67, 0.3), 0px 1px 3px 1px rgba(60, 64, 67, 0.15);\n",
              "      fill: #174EA6;\n",
              "    }\n",
              "\n",
              "    [theme=dark] .colab-df-convert {\n",
              "      background-color: #3B4455;\n",
              "      fill: #D2E3FC;\n",
              "    }\n",
              "\n",
              "    [theme=dark] .colab-df-convert:hover {\n",
              "      background-color: #434B5C;\n",
              "      box-shadow: 0px 1px 3px 1px rgba(0, 0, 0, 0.15);\n",
              "      filter: drop-shadow(0px 1px 2px rgba(0, 0, 0, 0.3));\n",
              "      fill: #FFFFFF;\n",
              "    }\n",
              "  </style>\n",
              "\n",
              "      <script>\n",
              "        const buttonEl =\n",
              "          document.querySelector('#df-30cc450d-29cc-4208-846c-0e7f4ea1dcc7 button.colab-df-convert');\n",
              "        buttonEl.style.display =\n",
              "          google.colab.kernel.accessAllowed ? 'block' : 'none';\n",
              "\n",
              "        async function convertToInteractive(key) {\n",
              "          const element = document.querySelector('#df-30cc450d-29cc-4208-846c-0e7f4ea1dcc7');\n",
              "          const dataTable =\n",
              "            await google.colab.kernel.invokeFunction('convertToInteractive',\n",
              "                                                     [key], {});\n",
              "          if (!dataTable) return;\n",
              "\n",
              "          const docLinkHtml = 'Like what you see? Visit the ' +\n",
              "            '<a target=\"_blank\" href=https://colab.research.google.com/notebooks/data_table.ipynb>data table notebook</a>'\n",
              "            + ' to learn more about interactive tables.';\n",
              "          element.innerHTML = '';\n",
              "          dataTable['output_type'] = 'display_data';\n",
              "          await google.colab.output.renderOutput(dataTable, element);\n",
              "          const docLink = document.createElement('div');\n",
              "          docLink.innerHTML = docLinkHtml;\n",
              "          element.appendChild(docLink);\n",
              "        }\n",
              "      </script>\n",
              "    </div>\n",
              "  </div>\n",
              "  "
            ],
            "text/plain": [
              "       number_of_elements  mean_atomic_mass  ...  std_Valence  wtd_std_Valence\n",
              "16546                   2         77.143500  ...     0.000000         0.000000\n",
              "5970                    4        104.365600  ...     0.000000         0.000000\n",
              "7542                    5         74.231650  ...     0.400000         0.266469\n",
              "2157                    7         88.309607  ...     0.728431         0.451559\n",
              "18265                   5         69.321369  ...     1.019804         1.115516\n",
              "\n",
              "[5 rows x 81 columns]"
            ]
          },
          "metadata": {},
          "execution_count": 14
        }
      ],
      "source": [
        "X_train_regressor.head()"
      ]
    },
    {
      "cell_type": "code",
      "execution_count": null,
      "metadata": {
        "id": "oMKyTo5cFQXO",
        "colab": {
          "base_uri": "https://localhost:8080/",
          "height": 36
        },
        "outputId": "00f0d51b-354a-490a-98f7-a5d628c82c7b"
      },
      "outputs": [
        {
          "output_type": "execute_result",
          "data": {
            "application/vnd.google.colaboratory.intrinsic+json": {
              "type": "string"
            },
            "text/plain": [
              "'critical_temp'"
            ]
          },
          "metadata": {},
          "execution_count": 15
        }
      ],
      "source": [
        "label_train_regressor.name"
      ]
    },
    {
      "cell_type": "markdown",
      "source": [
        "Creat training/testing csv files "
      ],
      "metadata": {
        "id": "FhB7PMIQ_mQp"
      }
    },
    {
      "cell_type": "code",
      "execution_count": null,
      "metadata": {
        "id": "LORF-sjv_omo"
      },
      "outputs": [],
      "source": [
        "training1 = pd.concat([X_train_regressor, label_train_regressor], axis=1)\n",
        "training1.to_csv('training1_file.csv')\n",
        "\n",
        "testing1 = X_test_regressor\n",
        "testing1.to_csv('testing1_file.csv')"
      ]
    },
    {
      "cell_type": "code",
      "execution_count": null,
      "metadata": {
        "id": "j0_11rqs7rb1",
        "colab": {
          "base_uri": "https://localhost:8080/"
        },
        "outputId": "6b089205-8604-40bd-dc60-d35e8202b721"
      },
      "outputs": [
        {
          "output_type": "execute_result",
          "data": {
            "text/plain": [
              "(pandas.core.frame.DataFrame, pandas.core.frame.DataFrame)"
            ]
          },
          "metadata": {},
          "execution_count": 17
        }
      ],
      "source": [
        "type(training1), type(testing1)"
      ]
    },
    {
      "cell_type": "markdown",
      "source": [
        "Use Reader to load the files. Specify the target name. "
      ],
      "metadata": {
        "id": "7KQSB-BwANOv"
      }
    },
    {
      "cell_type": "code",
      "execution_count": null,
      "metadata": {
        "id": "1o3OPhkTE0nx",
        "colab": {
          "base_uri": "https://localhost:8080/"
        },
        "outputId": "e1c3b332-df05-40a8-e8e6-b59dbb68e792"
      },
      "outputs": [
        {
          "output_type": "stream",
          "name": "stdout",
          "text": [
            "\n",
            "reading csv : training1_file.csv ...\n",
            "cleaning data ...\n",
            "CPU time: 7.175208568572998 seconds\n",
            "\n",
            "reading csv : testing1_file.csv ...\n",
            "cleaning data ...\n",
            "CPU time: 0.7768888473510742 seconds\n",
            "\n",
            "> Number of common features : 81\n",
            "\n",
            "gathering and crunching for train and test datasets ...\n",
            "reindexing for train and test datasets ...\n",
            "dropping training duplicates ...\n",
            "dropping constant variables on training set ...\n",
            "\n",
            "> Number of categorical features: 0\n",
            "> Number of numerical features: 81\n",
            "> Number of training samples : 16969\n",
            "> Number of test samples : 4253\n",
            "\n",
            "> You have no missing values on train set...\n",
            "\n",
            "> Task : regression\n",
            "count    16969.000000\n",
            "mean        34.588765\n",
            "std         34.350772\n",
            "min          0.000210\n",
            "25%          5.400000\n",
            "50%         20.000000\n",
            "75%         63.100000\n",
            "max        185.000000\n",
            "Name: critical_temp, dtype: float64\n"
          ]
        }
      ],
      "source": [
        "paths=['training1_file.csv', 'testing1_file.csv']\n",
        "rd = Reader(sep = ',')\n",
        "df = rd.train_test_split(paths, target_name='critical_temp')"
      ]
    },
    {
      "cell_type": "markdown",
      "source": [
        "The function Drift_thresholder drops the biased columns"
      ],
      "metadata": {
        "id": "PlBznC5wCt3a"
      }
    },
    {
      "cell_type": "code",
      "execution_count": null,
      "metadata": {
        "id": "rCRu4f7rE0Yq",
        "colab": {
          "base_uri": "https://localhost:8080/"
        },
        "outputId": "29eca46c-2f27-4900-8d40-2cb506ddd494"
      },
      "outputs": [
        {
          "output_type": "stream",
          "name": "stdout",
          "text": [
            "\n",
            "computing drifts ...\n",
            "CPU time: 7.082433700561523 seconds\n",
            "\n",
            "> Top 10 drifts\n",
            "\n",
            "('std_ElectronAffinity', 0.02157671710918785)\n",
            "('wtd_entropy_atomic_mass', 0.020008185395496536)\n",
            "('range_atomic_radius', 0.019831484244556385)\n",
            "('number_of_elements', 0.01882200504925624)\n",
            "('mean_ElectronAffinity', 0.017523093873334172)\n",
            "('wtd_mean_Valence', 0.017311149698706618)\n",
            "('wtd_std_atomic_mass', 0.017067134516009386)\n",
            "('range_fie', 0.016194988933973864)\n",
            "('mean_Valence', 0.01413587864398913)\n",
            "('wtd_mean_atomic_mass', 0.014067340141108886)\n",
            "\n",
            "> Deleted variables : []\n",
            "> Drift coefficients dumped into directory : save\n"
          ]
        }
      ],
      "source": [
        "dft = Drift_thresholder()\n",
        "df = dft.fit_transform(df)"
      ]
    },
    {
      "cell_type": "markdown",
      "source": [
        "No columns were dropped. Set the range of values for the various hyper-parameters"
      ],
      "metadata": {
        "id": "M6elCYVtLLqy"
      }
    },
    {
      "cell_type": "code",
      "execution_count": null,
      "metadata": {
        "id": "8jY7KnacFbTx"
      },
      "outputs": [],
      "source": [
        "space = {'ne__numerical_strategy':{\"space\":[0]},\n",
        "        'fs__strategy':{\"search\":\"choice\",\n",
        "                        \"space\":['l1','variance','rf_feature_importance']},\n",
        "        'fs__threshold':{\"search\":\"uniform\",\n",
        "                        \"space\":[0.01,0.3]},    \n",
        "        'est__strategy' : {\"search\":\"choice\",\n",
        "                           \"space\" : ['LightGBM', 'RandomForest', 'ExtraTrees', 'AdaBoost']},\n",
        "        'est__max_depth':{\"search\":\"choice\",\n",
        "                          \"space\":[3,4,5,6]},\n",
        "        'est__n_estimators':{\"search\":\"choice\",\n",
        "                             \"space\":[250,500,700]}}"
      ]
    },
    {
      "cell_type": "markdown",
      "source": [
        "Set the number of folds for cross-validation and the scoring, which could be rmse for regression and 'accuracy' for classification. We use the default value for scoring here. "
      ],
      "metadata": {
        "id": "ssW1IGhJMFEw"
      }
    },
    {
      "cell_type": "code",
      "execution_count": null,
      "metadata": {
        "id": "vIF9Zt8pFbHN",
        "colab": {
          "base_uri": "https://localhost:8080/"
        },
        "outputId": "adade49f-28f5-4a70-b8b8-0f6f72df52cd"
      },
      "outputs": [
        {
          "output_type": "stream",
          "name": "stderr",
          "text": [
            "/usr/local/lib/python3.7/dist-packages/mlbox/optimisation/optimiser.py:74: UserWarning: Optimiser will save all your fitted models into directory 'save/joblib'. Please clear it regularly.\n",
            "  +str(self.to_path)+\"/joblib'. Please clear it regularly.\")\n"
          ]
        }
      ],
      "source": [
        "opt=Optimiser(n_folds=3)"
      ]
    },
    {
      "cell_type": "markdown",
      "source": [
        "We first evaluate the model on a single run to check if all our parameters are set properly"
      ],
      "metadata": {
        "id": "mGmwnPl0Oy1j"
      }
    },
    {
      "cell_type": "code",
      "execution_count": null,
      "metadata": {
        "id": "vPgDx3juF2x9",
        "colab": {
          "base_uri": "https://localhost:8080/"
        },
        "outputId": "cf170c36-561b-490d-d4d1-199c946a3330"
      },
      "outputs": [
        {
          "output_type": "stream",
          "name": "stdout",
          "text": [
            "No parameters set. Default configuration is tested\n",
            "\n",
            "##################################################### testing hyper-parameters... #####################################################\n",
            "\n",
            ">>> NA ENCODER :{'numerical_strategy': 'mean', 'categorical_strategy': '<NULL>'}\n",
            "\n",
            ">>> CA ENCODER :{'strategy': 'label_encoding'}\n",
            "\n",
            ">>> ESTIMATOR :{'strategy': 'LightGBM', 'boosting_type': 'gbdt', 'class_weight': None, 'colsample_bytree': 0.8, 'importance_type': 'split', 'learning_rate': 0.05, 'max_depth': -1, 'min_child_samples': 20, 'min_child_weight': 0.001, 'min_split_gain': 0.0, 'n_estimators': 500, 'n_jobs': -1, 'num_leaves': 31, 'objective': None, 'random_state': None, 'reg_alpha': 0.0, 'reg_lambda': 0.0, 'silent': True, 'subsample': 0.9, 'subsample_for_bin': 200000, 'subsample_freq': 0, 'nthread': -1, 'seed': 0}\n",
            "\n",
            "\n",
            "MEAN SCORE : neg_mean_squared_error = -101.07097508536515\n",
            "VARIANCE : 3.9228381608006457 (fold 1 = -98.49980313353328, fold 2 = -106.61388357071533, fold 3 = -98.09923855184684)\n",
            "CPU time: 36.4693648815155 seconds\n",
            "\n"
          ]
        },
        {
          "output_type": "execute_result",
          "data": {
            "text/plain": [
              "-101.07097508536515"
            ]
          },
          "metadata": {},
          "execution_count": 22
        }
      ],
      "source": [
        "opt.evaluate(None, df)"
      ]
    },
    {
      "cell_type": "code",
      "source": [
        "import time\n",
        "tic = time.perf_counter()"
      ],
      "metadata": {
        "id": "t-_C1XSLRcgZ"
      },
      "execution_count": null,
      "outputs": []
    },
    {
      "cell_type": "markdown",
      "source": [
        "As the tool worked fine for one evaluation we can now run for 20 number of trials"
      ],
      "metadata": {
        "id": "28sGUFuYPj-4"
      }
    },
    {
      "cell_type": "code",
      "execution_count": null,
      "metadata": {
        "id": "3lrx0RWcF2oy",
        "colab": {
          "base_uri": "https://localhost:8080/"
        },
        "outputId": "d2ccce59-13eb-474b-d03d-bc8fb4c071e8"
      },
      "outputs": [
        {
          "output_type": "stream",
          "name": "stdout",
          "text": [
            "##################################################### testing hyper-parameters... #####################################################\n",
            ">>> NA ENCODER :{'numerical_strategy': 0, 'categorical_strategy': '<NULL>'}\n",
            ">>> CA ENCODER :{'strategy': 'label_encoding'}\n",
            ">>> FEATURE SELECTOR :{'strategy': 'l1', 'threshold': 0.234943726959232}\n",
            ">>> ESTIMATOR :{'strategy': 'LightGBM', 'max_depth': 4, 'n_estimators': 250, 'boosting_type': 'gbdt', 'class_weight': None, 'colsample_bytree': 0.8, 'importance_type': 'split', 'learning_rate': 0.05, 'min_child_samples': 20, 'min_child_weight': 0.001, 'min_split_gain': 0.0, 'n_jobs': -1, 'num_leaves': 31, 'objective': None, 'random_state': None, 'reg_alpha': 0.0, 'reg_lambda': 0.0, 'silent': True, 'subsample': 0.9, 'subsample_for_bin': 200000, 'subsample_freq': 0, 'nthread': -1, 'seed': 0}\n",
            "MEAN SCORE : neg_mean_squared_error = -133.54346968437372\n",
            "VARIANCE : 5.442638378410518 (fold 1 = -133.21632744038556, fold 2 = -140.3668607920258, fold 3 = -127.04722082070984)\n",
            "CPU time: 6.415622711181641 seconds\n",
            "##################################################### testing hyper-parameters... #####################################################\n",
            ">>> NA ENCODER :{'numerical_strategy': 0, 'categorical_strategy': '<NULL>'}\n",
            ">>> CA ENCODER :{'strategy': 'label_encoding'}\n",
            ">>> FEATURE SELECTOR :{'strategy': 'rf_feature_importance', 'threshold': 0.24984080390121666}\n",
            ">>> ESTIMATOR :{'strategy': 'ExtraTrees', 'max_depth': 4, 'n_estimators': 500, 'bootstrap': True, 'ccp_alpha': 0.0, 'criterion': 'squared_error', 'max_features': 'sqrt', 'max_leaf_nodes': None, 'max_samples': None, 'min_impurity_decrease': 0.0, 'min_samples_leaf': 1, 'min_samples_split': 2, 'min_weight_fraction_leaf': 0.0, 'n_jobs': -1, 'oob_score': False, 'random_state': 0, 'verbose': 0, 'warm_start': False}\n",
            "MEAN SCORE : neg_mean_squared_error = -428.6804127252928\n",
            "VARIANCE : 7.172759824560664 (fold 1 = -429.57593183256995, fold 2 = -436.9831536943456, fold 3 = -419.4821526489627)\n",
            "CPU time: 63.99905800819397 seconds\n",
            "##################################################### testing hyper-parameters... #####################################################\n",
            ">>> NA ENCODER :{'numerical_strategy': 0, 'categorical_strategy': '<NULL>'}\n",
            ">>> CA ENCODER :{'strategy': 'label_encoding'}\n",
            ">>> FEATURE SELECTOR :{'strategy': 'variance', 'threshold': 0.07036662138756665}\n",
            ">>> ESTIMATOR :{'strategy': 'LightGBM', 'max_depth': 5, 'n_estimators': 250, 'boosting_type': 'gbdt', 'class_weight': None, 'colsample_bytree': 0.8, 'importance_type': 'split', 'learning_rate': 0.05, 'min_child_samples': 20, 'min_child_weight': 0.001, 'min_split_gain': 0.0, 'n_jobs': -1, 'num_leaves': 31, 'objective': None, 'random_state': None, 'reg_alpha': 0.0, 'reg_lambda': 0.0, 'silent': True, 'subsample': 0.9, 'subsample_for_bin': 200000, 'subsample_freq': 0, 'nthread': -1, 'seed': 0}\n",
            "MEAN SCORE : neg_mean_squared_error = -119.41289653897945\n",
            "VARIANCE : 5.1794518467232 (fold 1 = -119.70796266824439, fold 2 = -125.60372163189118, fold 3 = -112.92700531680279)\n",
            "CPU time: 4.967947244644165 seconds\n",
            "##################################################### testing hyper-parameters... #####################################################\n",
            ">>> NA ENCODER :{'numerical_strategy': 0, 'categorical_strategy': '<NULL>'}\n",
            ">>> CA ENCODER :{'strategy': 'label_encoding'}\n",
            ">>> FEATURE SELECTOR :{'strategy': 'rf_feature_importance', 'threshold': 0.08710336839150974}\n",
            ">>> ESTIMATOR :{'strategy': 'RandomForest', 'max_depth': 4, 'n_estimators': 500, 'bootstrap': True, 'ccp_alpha': 0.0, 'criterion': 'squared_error', 'max_features': 'sqrt', 'max_leaf_nodes': None, 'max_samples': None, 'min_impurity_decrease': 0.0, 'min_samples_leaf': 1, 'min_samples_split': 2, 'min_weight_fraction_leaf': 0.0, 'n_jobs': -1, 'oob_score': False, 'random_state': 0, 'verbose': 0, 'warm_start': False}\n",
            "MEAN SCORE : neg_mean_squared_error = -293.4863922021293\n",
            "VARIANCE : 6.661293119510183 (fold 1 = -289.51927692378644, fold 2 = -302.8696617486864, fold 3 = -288.07023793391517)\n",
            "CPU time: 79.27534198760986 seconds\n",
            "##################################################### testing hyper-parameters... #####################################################\n",
            ">>> NA ENCODER :{'numerical_strategy': 0, 'categorical_strategy': '<NULL>'}\n",
            ">>> CA ENCODER :{'strategy': 'label_encoding'}\n",
            ">>> FEATURE SELECTOR :{'strategy': 'l1', 'threshold': 0.2626927656408281}\n",
            ">>> ESTIMATOR :{'strategy': 'RandomForest', 'max_depth': 5, 'n_estimators': 250, 'bootstrap': True, 'ccp_alpha': 0.0, 'criterion': 'squared_error', 'max_features': 'sqrt', 'max_leaf_nodes': None, 'max_samples': None, 'min_impurity_decrease': 0.0, 'min_samples_leaf': 1, 'min_samples_split': 2, 'min_weight_fraction_leaf': 0.0, 'n_jobs': -1, 'oob_score': False, 'random_state': 0, 'verbose': 0, 'warm_start': False}\n",
            "MEAN SCORE : neg_mean_squared_error = -255.08041724373027\n",
            "VARIANCE : 4.570413851349196 (fold 1 = -253.98570483746934, fold 2 = -261.14449599920925, fold 3 = -250.11105089451223)\n",
            "CPU time: 15.102295398712158 seconds\n",
            "##################################################### testing hyper-parameters... #####################################################\n",
            ">>> NA ENCODER :{'numerical_strategy': 0, 'categorical_strategy': '<NULL>'}\n",
            ">>> CA ENCODER :{'strategy': 'label_encoding'}\n",
            ">>> FEATURE SELECTOR :{'strategy': 'variance', 'threshold': 0.1660678886036081}\n",
            ">>> ESTIMATOR :{'strategy': 'RandomForest', 'max_depth': 6, 'n_estimators': 500, 'bootstrap': True, 'ccp_alpha': 0.0, 'criterion': 'squared_error', 'max_features': 'sqrt', 'max_leaf_nodes': None, 'max_samples': None, 'min_impurity_decrease': 0.0, 'min_samples_leaf': 1, 'min_samples_split': 2, 'min_weight_fraction_leaf': 0.0, 'n_jobs': -1, 'oob_score': False, 'random_state': 0, 'verbose': 0, 'warm_start': False}\n",
            "MEAN SCORE : neg_mean_squared_error = -224.53435003413878\n",
            "VARIANCE : 4.760617273981541 (fold 1 = -220.9137938838404, fold 2 = -231.26030660934262, fold 3 = -221.42894960923329)\n",
            "CPU time: 28.820492029190063 seconds\n",
            "##################################################### testing hyper-parameters... #####################################################\n",
            ">>> NA ENCODER :{'numerical_strategy': 0, 'categorical_strategy': '<NULL>'}\n",
            ">>> CA ENCODER :{'strategy': 'label_encoding'}\n",
            ">>> FEATURE SELECTOR :{'strategy': 'rf_feature_importance', 'threshold': 0.1465793212662814}\n",
            ">>> ESTIMATOR :{'strategy': 'LightGBM', 'max_depth': 4, 'n_estimators': 500, 'boosting_type': 'gbdt', 'class_weight': None, 'colsample_bytree': 0.8, 'importance_type': 'split', 'learning_rate': 0.05, 'min_child_samples': 20, 'min_child_weight': 0.001, 'min_split_gain': 0.0, 'n_jobs': -1, 'num_leaves': 31, 'objective': None, 'random_state': None, 'reg_alpha': 0.0, 'reg_lambda': 0.0, 'silent': True, 'subsample': 0.9, 'subsample_for_bin': 200000, 'subsample_freq': 0, 'nthread': -1, 'seed': 0}\n",
            "MEAN SCORE : neg_mean_squared_error = -119.57461957493719\n",
            "VARIANCE : 5.543822666558695 (fold 1 = -118.6469144662124, fold 2 = -126.78053984334767, fold 3 = -113.29640441525153)\n",
            "CPU time: 66.57991290092468 seconds\n",
            "##################################################### testing hyper-parameters... #####################################################\n",
            ">>> NA ENCODER :{'numerical_strategy': 0, 'categorical_strategy': '<NULL>'}\n",
            ">>> CA ENCODER :{'strategy': 'label_encoding'}\n",
            ">>> FEATURE SELECTOR :{'strategy': 'l1', 'threshold': 0.050543841983923234}\n",
            ">>> ESTIMATOR :{'strategy': 'AdaBoost', 'n_estimators': 250, 'base_estimator': None, 'learning_rate': 0.05, 'loss': 'linear', 'random_state': 0}\n",
            " 35%|███▌      | 7/20 [04:25<09:29, 43.84s/trial, best loss: 119.41289653897945]"
          ]
        },
        {
          "output_type": "stream",
          "name": "stderr",
          "text": [
            "/usr/local/lib/python3.7/dist-packages/mlbox/model/regression/regressor.py:82: UserWarning: Invalid parameter for regressor AdaBoost. Parameter IGNORED. Check the list of available parameters with `regressor.get_params().keys()`\n",
            "  + \". Parameter IGNORED. Check the list of \"\n",
            "\n"
          ]
        },
        {
          "output_type": "stream",
          "name": "stdout",
          "text": [
            "MEAN SCORE : neg_mean_squared_error = -322.76086070362084\n",
            "VARIANCE : 0.5512347959429762 (fold 1 = -322.5527391312631, fold 2 = -322.21430350762665, fold 3 = -323.5155394719728)\n",
            "CPU time: 123.29912328720093 seconds\n",
            "##################################################### testing hyper-parameters... #####################################################\n",
            ">>> NA ENCODER :{'numerical_strategy': 0, 'categorical_strategy': '<NULL>'}\n",
            ">>> CA ENCODER :{'strategy': 'label_encoding'}\n",
            ">>> FEATURE SELECTOR :{'strategy': 'rf_feature_importance', 'threshold': 0.1232382042455423}\n",
            ">>> ESTIMATOR :{'strategy': 'ExtraTrees', 'max_depth': 5, 'n_estimators': 250, 'bootstrap': True, 'ccp_alpha': 0.0, 'criterion': 'squared_error', 'max_features': 'sqrt', 'max_leaf_nodes': None, 'max_samples': None, 'min_impurity_decrease': 0.0, 'min_samples_leaf': 1, 'min_samples_split': 2, 'min_weight_fraction_leaf': 0.0, 'n_jobs': -1, 'oob_score': False, 'random_state': 0, 'verbose': 0, 'warm_start': False}\n",
            "MEAN SCORE : neg_mean_squared_error = -382.3797886770367\n",
            "VARIANCE : 6.827589435775563 (fold 1 = -385.6125930728968, fold 2 = -388.6428343061344, fold 3 = -372.88393865207894)\n",
            "CPU time: 59.50560474395752 seconds\n",
            "##################################################### testing hyper-parameters... #####################################################\n",
            ">>> NA ENCODER :{'numerical_strategy': 0, 'categorical_strategy': '<NULL>'}\n",
            ">>> CA ENCODER :{'strategy': 'label_encoding'}\n",
            ">>> FEATURE SELECTOR :{'strategy': 'l1', 'threshold': 0.2138744578639977}\n",
            ">>> ESTIMATOR :{'strategy': 'ExtraTrees', 'max_depth': 4, 'n_estimators': 700, 'bootstrap': True, 'ccp_alpha': 0.0, 'criterion': 'squared_error', 'max_features': 'sqrt', 'max_leaf_nodes': None, 'max_samples': None, 'min_impurity_decrease': 0.0, 'min_samples_leaf': 1, 'min_samples_split': 2, 'min_weight_fraction_leaf': 0.0, 'n_jobs': -1, 'oob_score': False, 'random_state': 0, 'verbose': 0, 'warm_start': False}\n",
            "MEAN SCORE : neg_mean_squared_error = -418.22181657402047\n",
            "VARIANCE : 6.135840236977094 (fold 1 = -416.99751749387417, fold 2 = -426.2736315596849, fold 3 = -411.39430066850224)\n",
            "CPU time: 7.7603044509887695 seconds\n",
            "##################################################### testing hyper-parameters... #####################################################\n",
            ">>> NA ENCODER :{'numerical_strategy': 0, 'categorical_strategy': '<NULL>'}\n",
            ">>> CA ENCODER :{'strategy': 'label_encoding'}\n",
            ">>> FEATURE SELECTOR :{'strategy': 'variance', 'threshold': 0.04302138798039239}\n",
            ">>> ESTIMATOR :{'strategy': 'RandomForest', 'max_depth': 6, 'n_estimators': 500, 'bootstrap': True, 'ccp_alpha': 0.0, 'criterion': 'squared_error', 'max_features': 'sqrt', 'max_leaf_nodes': None, 'max_samples': None, 'min_impurity_decrease': 0.0, 'min_samples_leaf': 1, 'min_samples_split': 2, 'min_weight_fraction_leaf': 0.0, 'n_jobs': -1, 'oob_score': False, 'random_state': 0, 'verbose': 0, 'warm_start': False}\n",
            "MEAN SCORE : neg_mean_squared_error = -225.49108591464343\n",
            "VARIANCE : 6.27679526840508 (fold 1 = -222.51640058394332, fold 2 = -234.22140266870156, fold 3 = -219.73545449128537)\n",
            "CPU time: 27.480940103530884 seconds\n",
            "##################################################### testing hyper-parameters... #####################################################\n",
            ">>> NA ENCODER :{'numerical_strategy': 0, 'categorical_strategy': '<NULL>'}\n",
            ">>> CA ENCODER :{'strategy': 'label_encoding'}\n",
            ">>> FEATURE SELECTOR :{'strategy': 'l1', 'threshold': 0.290701184999186}\n",
            ">>> ESTIMATOR :{'strategy': 'LightGBM', 'max_depth': 5, 'n_estimators': 700, 'boosting_type': 'gbdt', 'class_weight': None, 'colsample_bytree': 0.8, 'importance_type': 'split', 'learning_rate': 0.05, 'min_child_samples': 20, 'min_child_weight': 0.001, 'min_split_gain': 0.0, 'n_jobs': -1, 'num_leaves': 31, 'objective': None, 'random_state': None, 'reg_alpha': 0.0, 'reg_lambda': 0.0, 'silent': True, 'subsample': 0.9, 'subsample_for_bin': 200000, 'subsample_freq': 0, 'nthread': -1, 'seed': 0}\n",
            "MEAN SCORE : neg_mean_squared_error = -105.4958057399657\n",
            "VARIANCE : 4.881444932151031 (fold 1 = -104.62688186938857, fold 2 = -111.86124444293684, fold 3 = -99.99929090757169)\n",
            "CPU time: 13.687381505966187 seconds\n",
            "##################################################### testing hyper-parameters... #####################################################\n",
            ">>> NA ENCODER :{'numerical_strategy': 0, 'categorical_strategy': '<NULL>'}\n",
            ">>> CA ENCODER :{'strategy': 'label_encoding'}\n",
            ">>> FEATURE SELECTOR :{'strategy': 'rf_feature_importance', 'threshold': 0.07053895309747708}\n",
            ">>> ESTIMATOR :{'strategy': 'LightGBM', 'max_depth': 3, 'n_estimators': 500, 'boosting_type': 'gbdt', 'class_weight': None, 'colsample_bytree': 0.8, 'importance_type': 'split', 'learning_rate': 0.05, 'min_child_samples': 20, 'min_child_weight': 0.001, 'min_split_gain': 0.0, 'n_jobs': -1, 'num_leaves': 31, 'objective': None, 'random_state': None, 'reg_alpha': 0.0, 'reg_lambda': 0.0, 'silent': True, 'subsample': 0.9, 'subsample_for_bin': 200000, 'subsample_freq': 0, 'nthread': -1, 'seed': 0}\n",
            "MEAN SCORE : neg_mean_squared_error = -137.74304670474476\n",
            "VARIANCE : 6.0456249789716345 (fold 1 = -136.46499176659148, fold 2 = -145.7032287112455, fold 3 = -131.06091963639733)\n",
            "CPU time: 61.2142550945282 seconds\n",
            "##################################################### testing hyper-parameters... #####################################################\n",
            ">>> NA ENCODER :{'numerical_strategy': 0, 'categorical_strategy': '<NULL>'}\n",
            ">>> CA ENCODER :{'strategy': 'label_encoding'}\n",
            ">>> FEATURE SELECTOR :{'strategy': 'variance', 'threshold': 0.011728537562478618}\n",
            ">>> ESTIMATOR :{'strategy': 'RandomForest', 'max_depth': 4, 'n_estimators': 250, 'bootstrap': True, 'ccp_alpha': 0.0, 'criterion': 'squared_error', 'max_features': 'sqrt', 'max_leaf_nodes': None, 'max_samples': None, 'min_impurity_decrease': 0.0, 'min_samples_leaf': 1, 'min_samples_split': 2, 'min_weight_fraction_leaf': 0.0, 'n_jobs': -1, 'oob_score': False, 'random_state': 0, 'verbose': 0, 'warm_start': False}\n",
            "MEAN SCORE : neg_mean_squared_error = -294.8385077446729\n",
            "VARIANCE : 5.57279065054738 (fold 1 = -291.1236476244695, fold 2 = -302.7153941064462, fold 3 = -290.6764815031029)\n",
            "CPU time: 10.279707908630371 seconds\n",
            "##################################################### testing hyper-parameters... #####################################################\n",
            ">>> NA ENCODER :{'numerical_strategy': 0, 'categorical_strategy': '<NULL>'}\n",
            ">>> CA ENCODER :{'strategy': 'label_encoding'}\n",
            ">>> FEATURE SELECTOR :{'strategy': 'l1', 'threshold': 0.14270489946971704}\n",
            ">>> ESTIMATOR :{'strategy': 'LightGBM', 'max_depth': 3, 'n_estimators': 500, 'boosting_type': 'gbdt', 'class_weight': None, 'colsample_bytree': 0.8, 'importance_type': 'split', 'learning_rate': 0.05, 'min_child_samples': 20, 'min_child_weight': 0.001, 'min_split_gain': 0.0, 'n_jobs': -1, 'num_leaves': 31, 'objective': None, 'random_state': None, 'reg_alpha': 0.0, 'reg_lambda': 0.0, 'silent': True, 'subsample': 0.9, 'subsample_for_bin': 200000, 'subsample_freq': 0, 'nthread': -1, 'seed': 0}\n",
            "MEAN SCORE : neg_mean_squared_error = -137.3120699543182\n",
            "VARIANCE : 6.2256125413955345 (fold 1 = -136.87387510210473, fold 2 = -145.14650494529965, fold 3 = -129.91582981555018)\n",
            "CPU time: 6.01587700843811 seconds\n",
            "##################################################### testing hyper-parameters... #####################################################\n",
            ">>> NA ENCODER :{'numerical_strategy': 0, 'categorical_strategy': '<NULL>'}\n",
            ">>> CA ENCODER :{'strategy': 'label_encoding'}\n",
            ">>> FEATURE SELECTOR :{'strategy': 'rf_feature_importance', 'threshold': 0.05302657123833071}\n",
            ">>> ESTIMATOR :{'strategy': 'RandomForest', 'max_depth': 4, 'n_estimators': 700, 'bootstrap': True, 'ccp_alpha': 0.0, 'criterion': 'squared_error', 'max_features': 'sqrt', 'max_leaf_nodes': None, 'max_samples': None, 'min_impurity_decrease': 0.0, 'min_samples_leaf': 1, 'min_samples_split': 2, 'min_weight_fraction_leaf': 0.0, 'n_jobs': -1, 'oob_score': False, 'random_state': 0, 'verbose': 0, 'warm_start': False}\n",
            "MEAN SCORE : neg_mean_squared_error = -295.1041556686254\n",
            "VARIANCE : 6.239524153624828 (fold 1 = -292.48950584087675, fold 2 = -303.7101241005921, fold 3 = -289.11283706440736)\n",
            "CPU time: 84.99574637413025 seconds\n",
            "##################################################### testing hyper-parameters... #####################################################\n",
            ">>> NA ENCODER :{'numerical_strategy': 0, 'categorical_strategy': '<NULL>'}\n",
            ">>> CA ENCODER :{'strategy': 'label_encoding'}\n",
            ">>> FEATURE SELECTOR :{'strategy': 'rf_feature_importance', 'threshold': 0.2007064474240332}\n",
            ">>> ESTIMATOR :{'strategy': 'AdaBoost', 'n_estimators': 700, 'base_estimator': None, 'learning_rate': 0.05, 'loss': 'linear', 'random_state': 0}\n",
            " 80%|████████  | 16/20 [10:59<02:50, 42.60s/trial, best loss: 105.4958057399657]"
          ]
        },
        {
          "output_type": "stream",
          "name": "stderr",
          "text": [
            "/usr/local/lib/python3.7/dist-packages/mlbox/model/regression/regressor.py:82: UserWarning: Invalid parameter for regressor AdaBoost. Parameter IGNORED. Check the list of available parameters with `regressor.get_params().keys()`\n",
            "  + \". Parameter IGNORED. Check the list of \"\n",
            "\n"
          ]
        },
        {
          "output_type": "stream",
          "name": "stdout",
          "text": [
            "MEAN SCORE : neg_mean_squared_error = -333.37516968959153\n",
            "VARIANCE : 7.583089069528471 (fold 1 = -325.67014595793376, fold 2 = -343.6875048289741, fold 3 = -330.76785828186667)\n",
            "CPU time: 220.29305744171143 seconds\n",
            "##################################################### testing hyper-parameters... #####################################################\n",
            ">>> NA ENCODER :{'numerical_strategy': 0, 'categorical_strategy': '<NULL>'}\n",
            ">>> CA ENCODER :{'strategy': 'label_encoding'}\n",
            ">>> FEATURE SELECTOR :{'strategy': 'rf_feature_importance', 'threshold': 0.21349156765022198}\n",
            ">>> ESTIMATOR :{'strategy': 'ExtraTrees', 'max_depth': 6, 'n_estimators': 500, 'bootstrap': True, 'ccp_alpha': 0.0, 'criterion': 'squared_error', 'max_features': 'sqrt', 'max_leaf_nodes': None, 'max_samples': None, 'min_impurity_decrease': 0.0, 'min_samples_leaf': 1, 'min_samples_split': 2, 'min_weight_fraction_leaf': 0.0, 'n_jobs': -1, 'oob_score': False, 'random_state': 0, 'verbose': 0, 'warm_start': False}\n",
            "MEAN SCORE : neg_mean_squared_error = -340.3165493488419\n",
            "VARIANCE : 6.724337044553679 (fold 1 = -340.96445900790616, fold 2 = -348.20905500046604, fold 3 = -331.7761340381534)\n",
            "CPU time: 61.22637987136841 seconds\n",
            "##################################################### testing hyper-parameters... #####################################################\n",
            ">>> NA ENCODER :{'numerical_strategy': 0, 'categorical_strategy': '<NULL>'}\n",
            ">>> CA ENCODER :{'strategy': 'label_encoding'}\n",
            ">>> FEATURE SELECTOR :{'strategy': 'variance', 'threshold': 0.23949445634442829}\n",
            ">>> ESTIMATOR :{'strategy': 'RandomForest', 'max_depth': 5, 'n_estimators': 250, 'bootstrap': True, 'ccp_alpha': 0.0, 'criterion': 'squared_error', 'max_features': 'sqrt', 'max_leaf_nodes': None, 'max_samples': None, 'min_impurity_decrease': 0.0, 'min_samples_leaf': 1, 'min_samples_split': 2, 'min_weight_fraction_leaf': 0.0, 'n_jobs': -1, 'oob_score': False, 'random_state': 0, 'verbose': 0, 'warm_start': False}\n",
            "MEAN SCORE : neg_mean_squared_error = -262.67881552252055\n",
            "VARIANCE : 5.7211121159258305 (fold 1 = -260.4510012893794, fold 2 = -270.52876885118394, fold 3 = -257.05667642699825)\n",
            "CPU time: 10.769171953201294 seconds\n",
            "##################################################### testing hyper-parameters... #####################################################\n",
            ">>> NA ENCODER :{'numerical_strategy': 0, 'categorical_strategy': '<NULL>'}\n",
            ">>> CA ENCODER :{'strategy': 'label_encoding'}\n",
            ">>> FEATURE SELECTOR :{'strategy': 'variance', 'threshold': 0.28167115571369117}\n",
            ">>> ESTIMATOR :{'strategy': 'AdaBoost', 'n_estimators': 700, 'base_estimator': None, 'learning_rate': 0.05, 'loss': 'linear', 'random_state': 0}\n",
            " 95%|█████████▌| 19/20 [15:52<01:03, 63.11s/trial, best loss: 105.4958057399657]"
          ]
        },
        {
          "output_type": "stream",
          "name": "stderr",
          "text": [
            "/usr/local/lib/python3.7/dist-packages/mlbox/model/regression/regressor.py:82: UserWarning: Invalid parameter for regressor AdaBoost. Parameter IGNORED. Check the list of available parameters with `regressor.get_params().keys()`\n",
            "  + \". Parameter IGNORED. Check the list of \"\n",
            "\n"
          ]
        },
        {
          "output_type": "stream",
          "name": "stdout",
          "text": [
            "MEAN SCORE : neg_mean_squared_error = -339.934081498018\n",
            "VARIANCE : 12.799822153166705 (fold 1 = -337.6038039069579, fold 2 = -356.6452977888681, fold 3 = -325.5531427982279)\n",
            "CPU time: 131.39312148094177 seconds\n",
            "100%|██████████| 20/20 [18:03<00:00, 54.17s/trial, best loss: 105.4958057399657]\n",
            "\n",
            "\n",
            "~~~~~~~~~~~~~~~~~~~~~~~~~~~~~~~~~~~~~~~~~~~~~~~~~~~~~~~~~~~~~~~~~~~~~~~~~~~~~~~~~~~~~~~~~~~~~~~~~~~~~~~~~~~~~~~~~~~~~~~~~~~~~~~~~~~~~~~~~\n",
            "~~~~~~~~~~~~~~~~~~~~~~~~~~~~~~~~~~~~~~~~~~~~~~~~~~~~~~~~~ BEST HYPER-PARAMETERS ~~~~~~~~~~~~~~~~~~~~~~~~~~~~~~~~~~~~~~~~~~~~~~~~~~~~~~~~~\n",
            "~~~~~~~~~~~~~~~~~~~~~~~~~~~~~~~~~~~~~~~~~~~~~~~~~~~~~~~~~~~~~~~~~~~~~~~~~~~~~~~~~~~~~~~~~~~~~~~~~~~~~~~~~~~~~~~~~~~~~~~~~~~~~~~~~~~~~~~~~\n",
            "\n",
            "{'est__max_depth': 5, 'est__n_estimators': 700, 'est__strategy': 'LightGBM', 'fs__strategy': 'l1', 'fs__threshold': 0.290701184999186, 'ne__numerical_strategy': 0}\n"
          ]
        }
      ],
      "source": [
        "best=opt.optimise(space,df,20)"
      ]
    },
    {
      "cell_type": "markdown",
      "metadata": {
        "id": "57SH0n2a5ruN"
      },
      "source": [
        "The ESTIMATOR line above gives the best model with fine-tuned hyper-parameters. \n"
      ]
    },
    {
      "cell_type": "code",
      "source": [
        "toc = time.perf_counter()\n",
        "print (f\"Elapsed time {toc - tic:0.4f} seconds\")"
      ],
      "metadata": {
        "id": "zj06pN9IR25_",
        "colab": {
          "base_uri": "https://localhost:8080/"
        },
        "outputId": "c6df5e59-4f48-4466-dab1-ddcd0c222586"
      },
      "execution_count": null,
      "outputs": [
        {
          "output_type": "stream",
          "name": "stdout",
          "text": [
            "Elapsed time 1083.4102 seconds\n"
          ]
        }
      ]
    },
    {
      "cell_type": "markdown",
      "source": [
        "Inference"
      ],
      "metadata": {
        "id": "IFbON60eY66c"
      }
    },
    {
      "cell_type": "code",
      "execution_count": null,
      "metadata": {
        "id": "19sZSJ3CGFyI",
        "colab": {
          "base_uri": "https://localhost:8080/",
          "height": 664
        },
        "outputId": "8508c7d5-8106-4639-953e-96ebd2706953"
      },
      "outputs": [
        {
          "output_type": "stream",
          "name": "stdout",
          "text": [
            "\n",
            "fitting the pipeline ...\n",
            "CPU time: 5.531095027923584 seconds\n"
          ]
        },
        {
          "output_type": "display_data",
          "data": {
            "image/png": "[encoded data removed]",
            "text/plain": [
              "<Figure size 1440x288 with 1 Axes>"
            ]
          },
          "metadata": {
            "needs_background": "light"
          }
        },
        {
          "output_type": "stream",
          "name": "stdout",
          "text": [
            "\n",
            "> Feature importances dumped into directory : save\n",
            "\n",
            "predicting...\n",
            "CPU time: 0.12866640090942383 seconds\n",
            "\n",
            "> Overview on predictions : \n",
            "\n",
            "   critical_temp_predicted\n",
            "0                 9.461727\n",
            "1                86.028325\n",
            "2                33.135221\n",
            "3                22.276576\n",
            "4                 6.609473\n",
            "5                59.639491\n",
            "6                80.178437\n",
            "7                57.142375\n",
            "8                33.789676\n",
            "9                17.965072\n",
            "\n",
            "dumping predictions into directory : save ...\n"
          ]
        },
        {
          "output_type": "execute_result",
          "data": {
            "text/plain": [
              "<mlbox.prediction.predictor.Predictor at 0x7fda61110cd0>"
            ]
          },
          "metadata": {},
          "execution_count": 26
        }
      ],
      "source": [
        "prd = Predictor()\n",
        "prd.fit_predict(best, df)"
      ]
    },
    {
      "cell_type": "markdown",
      "source": [
        "The predictions are stored in csv file"
      ],
      "metadata": {
        "id": "Ue_2ABF1QjBP"
      }
    },
    {
      "cell_type": "code",
      "execution_count": null,
      "metadata": {
        "id": "UzNurGC1GLmk"
      },
      "outputs": [],
      "source": [
        "class_predicted_mlbox=pd.read_csv('/content/save/critical_temp_predictions.csv')"
      ]
    },
    {
      "cell_type": "code",
      "execution_count": null,
      "metadata": {
        "id": "9WadF0ykGLaR",
        "colab": {
          "base_uri": "https://localhost:8080/"
        },
        "outputId": "be71aabd-f3fa-44c9-a744-db0a2dfcee72"
      },
      "outputs": [
        {
          "output_type": "execute_result",
          "data": {
            "text/plain": [
              "0        9.461727\n",
              "1       86.028325\n",
              "2       33.135221\n",
              "3       22.276576\n",
              "4        6.609473\n",
              "          ...    \n",
              "4248    80.874320\n",
              "4249    73.704579\n",
              "4250     3.876450\n",
              "4251    10.328666\n",
              "4252     5.448358\n",
              "Name: critical_temp_predicted, Length: 4253, dtype: float64"
            ]
          },
          "metadata": {},
          "execution_count": 28
        }
      ],
      "source": [
        "class_predicted_mlbox['critical_temp_predicted'] "
      ]
    },
    {
      "cell_type": "code",
      "execution_count": null,
      "metadata": {
        "id": "5rpnfUCjeB_y",
        "colab": {
          "base_uri": "https://localhost:8080/"
        },
        "outputId": "ba4d3b3b-c798-444f-de05-7376bb57e638"
      },
      "outputs": [
        {
          "output_type": "execute_result",
          "data": {
            "text/plain": [
              "((17010, 81), (4253, 81), (17010,), (4253,))"
            ]
          },
          "metadata": {},
          "execution_count": 29
        }
      ],
      "source": [
        "X_train_regressor.shape, X_test_regressor.shape, label_train_regressor.shape, label_test_regressor.shape"
      ]
    },
    {
      "cell_type": "code",
      "execution_count": null,
      "metadata": {
        "id": "rvAQ401DGSCv",
        "colab": {
          "base_uri": "https://localhost:8080/"
        },
        "outputId": "cf6b883d-50d5-4bd2-8b98-f15bef8f158d"
      },
      "outputs": [
        {
          "output_type": "execute_result",
          "data": {
            "text/plain": [
              "((4253,), (4253,))"
            ]
          },
          "metadata": {},
          "execution_count": 30
        }
      ],
      "source": [
        "label_test_regressor.shape, class_predicted_mlbox['critical_temp_predicted'].shape"
      ]
    },
    {
      "cell_type": "markdown",
      "source": [
        "Compute the error metrics"
      ],
      "metadata": {
        "id": "re45qpvgQ6Fy"
      }
    },
    {
      "cell_type": "code",
      "execution_count": null,
      "metadata": {
        "id": "9jgYeFPlkiJ5",
        "colab": {
          "base_uri": "https://localhost:8080/"
        },
        "outputId": "4b24e1ab-07fd-4817-9369-872e0b2312fa"
      },
      "outputs": [
        {
          "output_type": "stream",
          "name": "stdout",
          "text": [
            "MSE:  87.77266825021174\n",
            "RMSE:  9.36870686115281\n",
            "Coefficient of determination:  0.9237475817171334\n"
          ]
        }
      ],
      "source": [
        "error_metrics(label_test_regressor, class_predicted_mlbox['critical_temp_predicted'])"
      ]
    },
    {
      "cell_type": "markdown",
      "metadata": {
        "id": "DmqZfAFCvL8W"
      },
      "source": [
        "## Biodegradation dataset (classification task)\n",
        "\n",
        "Source: https://archive.ics.uci.edu/ml/datasets/QSAR+biodegradation\n",
        "\n",
        "\n",
        "The dataset contains 21 numerical features (molecular attributes) of 1055 chemicals. The label corresponds to their experimental class (ready biodegradable \"RB\" or not ready biodegradable \"NRB\")"
      ]
    },
    {
      "cell_type": "code",
      "execution_count": null,
      "metadata": {
        "id": "M-s3EL0vkrx6",
        "colab": {
          "base_uri": "https://localhost:8080/"
        },
        "outputId": "b0714ed1-96f2-431f-aff0-c0da7d05c85d"
      },
      "outputs": [
        {
          "output_type": "stream",
          "name": "stdout",
          "text": [
            "--2022-02-02 13:18:33--  https://raw.githubusercontent.com/abcom-mltutorials/automl/main/biodeg.csv\n",
            "Resolving raw.githubusercontent.com (raw.githubusercontent.com)... 185.199.111.133, 185.199.108.133, 185.199.110.133, ...\n",
            "Connecting to raw.githubusercontent.com (raw.githubusercontent.com)|185.199.111.133|:443... connected.\n",
            "HTTP request sent, awaiting response... 200 OK\n",
            "Length: 155987 (152K) [text/plain]\n",
            "Saving to: ‘biodeg.csv’\n",
            "\n",
            "\rbiodeg.csv            0%[                    ]       0  --.-KB/s               \rbiodeg.csv          100%[===================>] 152.33K  --.-KB/s    in 0.002s  \n",
            "\n",
            "2022-02-02 13:18:33 (64.6 MB/s) - ‘biodeg.csv’ saved [155987/155987]\n",
            "\n"
          ]
        }
      ],
      "source": [
        "!wget 'https://raw.githubusercontent.com/abcom-mltutorials/automl/main/biodeg.csv'"
      ]
    },
    {
      "cell_type": "code",
      "execution_count": null,
      "metadata": {
        "id": "w3z80TjM8kNb"
      },
      "outputs": [],
      "source": [
        "classifier_df=pd.read_csv('/content/biodeg.csv', delimiter=';', header=None)"
      ]
    },
    {
      "cell_type": "code",
      "source": [
        "classifier_df.shape"
      ],
      "metadata": {
        "id": "IJPcV2Igtwlu",
        "colab": {
          "base_uri": "https://localhost:8080/"
        },
        "outputId": "f5cafc5d-0fa6-4522-81f5-bfffd078824d"
      },
      "execution_count": null,
      "outputs": [
        {
          "output_type": "execute_result",
          "data": {
            "text/plain": [
              "(1055, 42)"
            ]
          },
          "metadata": {},
          "execution_count": 34
        }
      ]
    },
    {
      "cell_type": "code",
      "execution_count": null,
      "metadata": {
        "id": "njCToUld8kNe"
      },
      "outputs": [],
      "source": [
        "classifier_df.rename(columns={41:'label'}, inplace=True)"
      ]
    },
    {
      "cell_type": "code",
      "execution_count": null,
      "metadata": {
        "id": "go8S2BJK8kNg"
      },
      "outputs": [],
      "source": [
        "classifier_df.columns = classifier_df.columns.astype(str)"
      ]
    },
    {
      "cell_type": "code",
      "execution_count": null,
      "metadata": {
        "id": "EJdaGiAK8kNi"
      },
      "outputs": [],
      "source": [
        "features_classifier = classifier_df.iloc[:,:-1]\n",
        "label_classifier = classifier_df.iloc[:,-1]"
      ]
    },
    {
      "cell_type": "markdown",
      "source": [
        "The following couple of cells are to balance the label: "
      ],
      "metadata": {
        "id": "tlDmSKl_RlXu"
      }
    },
    {
      "cell_type": "code",
      "execution_count": null,
      "metadata": {
        "id": "Kkk7_G-Z8kNl"
      },
      "outputs": [],
      "source": [
        "from imblearn.over_sampling import SMOTE"
      ]
    },
    {
      "cell_type": "code",
      "execution_count": null,
      "metadata": {
        "id": "ny7eshsU8kNn"
      },
      "outputs": [],
      "source": [
        "sm = SMOTE(random_state=42)\n",
        "X_classifier, y_classifier = sm.fit_resample(features_classifier, label_classifier)"
      ]
    },
    {
      "cell_type": "code",
      "execution_count": null,
      "metadata": {
        "id": "EOZVdb5K8kNq",
        "colab": {
          "base_uri": "https://localhost:8080/"
        },
        "outputId": "360845c8-57f5-4748-ccf1-8351607d926c"
      },
      "outputs": [
        {
          "output_type": "execute_result",
          "data": {
            "text/plain": [
              "RB     699\n",
              "NRB    699\n",
              "Name: label, dtype: int64"
            ]
          },
          "metadata": {},
          "execution_count": 40
        }
      ],
      "source": [
        "y_classifier.value_counts()"
      ]
    },
    {
      "cell_type": "code",
      "execution_count": null,
      "metadata": {
        "id": "PZyfq9x18kNs"
      },
      "outputs": [],
      "source": [
        "y_classifier = y_classifier.replace('NRB',0).replace('RB',1)"
      ]
    },
    {
      "cell_type": "code",
      "execution_count": null,
      "metadata": {
        "id": "kIoTX5cd8kNx"
      },
      "outputs": [],
      "source": [
        "X_train_classifier, X_test_classifier, label_train_classifier, label_test_classifier = train_test_split(X_classifier, y_classifier, random_state=42, test_size = 0.2)"
      ]
    },
    {
      "cell_type": "markdown",
      "metadata": {
        "id": "2GAqn8l7QQ7W"
      },
      "source": [
        "## Classifier"
      ]
    },
    {
      "cell_type": "code",
      "execution_count": null,
      "metadata": {
        "id": "eked3SBuHd7H",
        "colab": {
          "base_uri": "https://localhost:8080/"
        },
        "outputId": "4ae0fdec-135a-4a10-f97e-21494fd1fb69"
      },
      "outputs": [
        {
          "output_type": "execute_result",
          "data": {
            "text/plain": [
              "((1118, 41), (1118, 41))"
            ]
          },
          "metadata": {},
          "execution_count": 43
        }
      ],
      "source": [
        "X_train_classifier.shape, X_train_classifier.shape"
      ]
    },
    {
      "cell_type": "code",
      "execution_count": null,
      "metadata": {
        "id": "pvX7QuWUbQsC",
        "colab": {
          "base_uri": "https://localhost:8080/",
          "height": 270
        },
        "outputId": "5c6f1e50-2938-4dc2-f319-c8ea2ffc66d1"
      },
      "outputs": [
        {
          "output_type": "execute_result",
          "data": {
            "text/html": [
              "\n",
              "  <div id=\"df-e2c33d6d-b306-4297-b3cd-1a64b6fa6ffe\">\n",
              "    <div class=\"colab-df-container\">\n",
              "      <div>\n",
              "<style scoped>\n",
              "    .dataframe tbody tr th:only-of-type {\n",
              "        vertical-align: middle;\n",
              "    }\n",
              "\n",
              "    .dataframe tbody tr th {\n",
              "        vertical-align: top;\n",
              "    }\n",
              "\n",
              "    .dataframe thead th {\n",
              "        text-align: right;\n",
              "    }\n",
              "</style>\n",
              "<table border=\"1\" class=\"dataframe\">\n",
              "  <thead>\n",
              "    <tr style=\"text-align: right;\">\n",
              "      <th></th>\n",
              "      <th>0</th>\n",
              "      <th>1</th>\n",
              "      <th>2</th>\n",
              "      <th>3</th>\n",
              "      <th>4</th>\n",
              "      <th>5</th>\n",
              "      <th>6</th>\n",
              "      <th>7</th>\n",
              "      <th>8</th>\n",
              "      <th>9</th>\n",
              "      <th>10</th>\n",
              "      <th>11</th>\n",
              "      <th>12</th>\n",
              "      <th>13</th>\n",
              "      <th>14</th>\n",
              "      <th>15</th>\n",
              "      <th>16</th>\n",
              "      <th>17</th>\n",
              "      <th>18</th>\n",
              "      <th>19</th>\n",
              "      <th>20</th>\n",
              "      <th>21</th>\n",
              "      <th>22</th>\n",
              "      <th>23</th>\n",
              "      <th>24</th>\n",
              "      <th>25</th>\n",
              "      <th>26</th>\n",
              "      <th>27</th>\n",
              "      <th>28</th>\n",
              "      <th>29</th>\n",
              "      <th>30</th>\n",
              "      <th>31</th>\n",
              "      <th>32</th>\n",
              "      <th>33</th>\n",
              "      <th>34</th>\n",
              "      <th>35</th>\n",
              "      <th>36</th>\n",
              "      <th>37</th>\n",
              "      <th>38</th>\n",
              "      <th>39</th>\n",
              "      <th>40</th>\n",
              "    </tr>\n",
              "  </thead>\n",
              "  <tbody>\n",
              "    <tr>\n",
              "      <th>48</th>\n",
              "      <td>4.644000</td>\n",
              "      <td>3.907100</td>\n",
              "      <td>0</td>\n",
              "      <td>0</td>\n",
              "      <td>0</td>\n",
              "      <td>0</td>\n",
              "      <td>0</td>\n",
              "      <td>31.600000</td>\n",
              "      <td>2</td>\n",
              "      <td>3</td>\n",
              "      <td>0</td>\n",
              "      <td>-0.104</td>\n",
              "      <td>3.08200</td>\n",
              "      <td>1.837000</td>\n",
              "      <td>9.467000</td>\n",
              "      <td>5</td>\n",
              "      <td>1.021000</td>\n",
              "      <td>1.142000</td>\n",
              "      <td>0</td>\n",
              "      <td>0</td>\n",
              "      <td>0</td>\n",
              "      <td>1.149000</td>\n",
              "      <td>0</td>\n",
              "      <td>0</td>\n",
              "      <td>0</td>\n",
              "      <td>0</td>\n",
              "      <td>2.084000</td>\n",
              "      <td>0.049000</td>\n",
              "      <td>0</td>\n",
              "      <td>10.469</td>\n",
              "      <td>2.732000</td>\n",
              "      <td>0</td>\n",
              "      <td>0</td>\n",
              "      <td>0</td>\n",
              "      <td>1</td>\n",
              "      <td>3.525000</td>\n",
              "      <td>3.093000</td>\n",
              "      <td>0</td>\n",
              "      <td>7.886000</td>\n",
              "      <td>0</td>\n",
              "      <td>0</td>\n",
              "    </tr>\n",
              "    <tr>\n",
              "      <th>155</th>\n",
              "      <td>5.156000</td>\n",
              "      <td>2.452400</td>\n",
              "      <td>0</td>\n",
              "      <td>0</td>\n",
              "      <td>0</td>\n",
              "      <td>0</td>\n",
              "      <td>4</td>\n",
              "      <td>55.600000</td>\n",
              "      <td>0</td>\n",
              "      <td>6</td>\n",
              "      <td>0</td>\n",
              "      <td>-3.296</td>\n",
              "      <td>3.78800</td>\n",
              "      <td>0.750000</td>\n",
              "      <td>10.813000</td>\n",
              "      <td>16</td>\n",
              "      <td>1.103000</td>\n",
              "      <td>1.093000</td>\n",
              "      <td>0</td>\n",
              "      <td>0</td>\n",
              "      <td>0</td>\n",
              "      <td>1.225000</td>\n",
              "      <td>6</td>\n",
              "      <td>0</td>\n",
              "      <td>0</td>\n",
              "      <td>0</td>\n",
              "      <td>2.532000</td>\n",
              "      <td>0.000000</td>\n",
              "      <td>0</td>\n",
              "      <td>44.736</td>\n",
              "      <td>1.508000</td>\n",
              "      <td>0</td>\n",
              "      <td>0</td>\n",
              "      <td>0</td>\n",
              "      <td>0</td>\n",
              "      <td>3.986000</td>\n",
              "      <td>3.271000</td>\n",
              "      <td>0</td>\n",
              "      <td>9.007000</td>\n",
              "      <td>4</td>\n",
              "      <td>0</td>\n",
              "    </tr>\n",
              "    <tr>\n",
              "      <th>756</th>\n",
              "      <td>4.414000</td>\n",
              "      <td>4.388300</td>\n",
              "      <td>0</td>\n",
              "      <td>1</td>\n",
              "      <td>0</td>\n",
              "      <td>0</td>\n",
              "      <td>0</td>\n",
              "      <td>9.100000</td>\n",
              "      <td>0</td>\n",
              "      <td>2</td>\n",
              "      <td>0</td>\n",
              "      <td>-0.662</td>\n",
              "      <td>2.94600</td>\n",
              "      <td>1.379000</td>\n",
              "      <td>9.222000</td>\n",
              "      <td>2</td>\n",
              "      <td>1.097000</td>\n",
              "      <td>1.219000</td>\n",
              "      <td>0</td>\n",
              "      <td>0</td>\n",
              "      <td>0</td>\n",
              "      <td>1.074000</td>\n",
              "      <td>0</td>\n",
              "      <td>0</td>\n",
              "      <td>0</td>\n",
              "      <td>0</td>\n",
              "      <td>2.000000</td>\n",
              "      <td>0.171000</td>\n",
              "      <td>0</td>\n",
              "      <td>18.567</td>\n",
              "      <td>2.133000</td>\n",
              "      <td>0</td>\n",
              "      <td>0</td>\n",
              "      <td>1</td>\n",
              "      <td>4</td>\n",
              "      <td>3.689000</td>\n",
              "      <td>4.167000</td>\n",
              "      <td>4</td>\n",
              "      <td>8.139000</td>\n",
              "      <td>0</td>\n",
              "      <td>0</td>\n",
              "    </tr>\n",
              "    <tr>\n",
              "      <th>1070</th>\n",
              "      <td>4.503037</td>\n",
              "      <td>3.037476</td>\n",
              "      <td>0</td>\n",
              "      <td>0</td>\n",
              "      <td>0</td>\n",
              "      <td>0</td>\n",
              "      <td>1</td>\n",
              "      <td>43.418742</td>\n",
              "      <td>0</td>\n",
              "      <td>1</td>\n",
              "      <td>0</td>\n",
              "      <td>0.000</td>\n",
              "      <td>3.01153</td>\n",
              "      <td>1.188692</td>\n",
              "      <td>9.328942</td>\n",
              "      <td>2</td>\n",
              "      <td>0.990103</td>\n",
              "      <td>1.117673</td>\n",
              "      <td>0</td>\n",
              "      <td>0</td>\n",
              "      <td>0</td>\n",
              "      <td>1.252776</td>\n",
              "      <td>1</td>\n",
              "      <td>0</td>\n",
              "      <td>0</td>\n",
              "      <td>0</td>\n",
              "      <td>2.138916</td>\n",
              "      <td>0.029301</td>\n",
              "      <td>0</td>\n",
              "      <td>0.000</td>\n",
              "      <td>1.605469</td>\n",
              "      <td>0</td>\n",
              "      <td>1</td>\n",
              "      <td>0</td>\n",
              "      <td>0</td>\n",
              "      <td>3.573224</td>\n",
              "      <td>2.129853</td>\n",
              "      <td>0</td>\n",
              "      <td>7.889213</td>\n",
              "      <td>0</td>\n",
              "      <td>0</td>\n",
              "    </tr>\n",
              "    <tr>\n",
              "      <th>303</th>\n",
              "      <td>5.029000</td>\n",
              "      <td>1.686400</td>\n",
              "      <td>2</td>\n",
              "      <td>0</td>\n",
              "      <td>7</td>\n",
              "      <td>0</td>\n",
              "      <td>2</td>\n",
              "      <td>38.800000</td>\n",
              "      <td>0</td>\n",
              "      <td>0</td>\n",
              "      <td>6</td>\n",
              "      <td>0.000</td>\n",
              "      <td>4.12800</td>\n",
              "      <td>0.000000</td>\n",
              "      <td>10.839000</td>\n",
              "      <td>0</td>\n",
              "      <td>0.979000</td>\n",
              "      <td>1.119000</td>\n",
              "      <td>0</td>\n",
              "      <td>0</td>\n",
              "      <td>0</td>\n",
              "      <td>1.308000</td>\n",
              "      <td>5</td>\n",
              "      <td>0</td>\n",
              "      <td>0</td>\n",
              "      <td>0</td>\n",
              "      <td>2.418000</td>\n",
              "      <td>0.000000</td>\n",
              "      <td>0</td>\n",
              "      <td>0.000</td>\n",
              "      <td>3.219000</td>\n",
              "      <td>0</td>\n",
              "      <td>0</td>\n",
              "      <td>7</td>\n",
              "      <td>0</td>\n",
              "      <td>4.348000</td>\n",
              "      <td>1.710000</td>\n",
              "      <td>2</td>\n",
              "      <td>9.423000</td>\n",
              "      <td>0</td>\n",
              "      <td>0</td>\n",
              "    </tr>\n",
              "  </tbody>\n",
              "</table>\n",
              "</div>\n",
              "      <button class=\"colab-df-convert\" onclick=\"convertToInteractive('df-e2c33d6d-b306-4297-b3cd-1a64b6fa6ffe')\"\n",
              "              title=\"Convert this dataframe to an interactive table.\"\n",
              "              style=\"display:none;\">\n",
              "        \n",
              "  <svg xmlns=\"http://www.w3.org/2000/svg\" height=\"24px\"viewBox=\"0 0 24 24\"\n",
              "       width=\"24px\">\n",
              "    <path d=\"M0 0h24v24H0V0z\" fill=\"none\"/>\n",
              "    <path d=\"M18.56 5.44l.94 2.06.94-2.06 2.06-.94-2.06-.94-.94-2.06-.94 2.06-2.06.94zm-11 1L8.5 8.5l.94-2.06 2.06-.94-2.06-.94L8.5 2.5l-.94 2.06-2.06.94zm10 10l.94 2.06.94-2.06 2.06-.94-2.06-.94-.94-2.06-.94 2.06-2.06.94z\"/><path d=\"M17.41 7.96l-1.37-1.37c-.4-.4-.92-.59-1.43-.59-.52 0-1.04.2-1.43.59L10.3 9.45l-7.72 7.72c-.78.78-.78 2.05 0 2.83L4 21.41c.39.39.9.59 1.41.59.51 0 1.02-.2 1.41-.59l7.78-7.78 2.81-2.81c.8-.78.8-2.07 0-2.86zM5.41 20L4 18.59l7.72-7.72 1.47 1.35L5.41 20z\"/>\n",
              "  </svg>\n",
              "      </button>\n",
              "      \n",
              "  <style>\n",
              "    .colab-df-container {\n",
              "      display:flex;\n",
              "      flex-wrap:wrap;\n",
              "      gap: 12px;\n",
              "    }\n",
              "\n",
              "    .colab-df-convert {\n",
              "      background-color: #E8F0FE;\n",
              "      border: none;\n",
              "      border-radius: 50%;\n",
              "      cursor: pointer;\n",
              "      display: none;\n",
              "      fill: #1967D2;\n",
              "      height: 32px;\n",
              "      padding: 0 0 0 0;\n",
              "      width: 32px;\n",
              "    }\n",
              "\n",
              "    .colab-df-convert:hover {\n",
              "      background-color: #E2EBFA;\n",
              "      box-shadow: 0px 1px 2px rgba(60, 64, 67, 0.3), 0px 1px 3px 1px rgba(60, 64, 67, 0.15);\n",
              "      fill: #174EA6;\n",
              "    }\n",
              "\n",
              "    [theme=dark] .colab-df-convert {\n",
              "      background-color: #3B4455;\n",
              "      fill: #D2E3FC;\n",
              "    }\n",
              "\n",
              "    [theme=dark] .colab-df-convert:hover {\n",
              "      background-color: #434B5C;\n",
              "      box-shadow: 0px 1px 3px 1px rgba(0, 0, 0, 0.15);\n",
              "      filter: drop-shadow(0px 1px 2px rgba(0, 0, 0, 0.3));\n",
              "      fill: #FFFFFF;\n",
              "    }\n",
              "  </style>\n",
              "\n",
              "      <script>\n",
              "        const buttonEl =\n",
              "          document.querySelector('#df-e2c33d6d-b306-4297-b3cd-1a64b6fa6ffe button.colab-df-convert');\n",
              "        buttonEl.style.display =\n",
              "          google.colab.kernel.accessAllowed ? 'block' : 'none';\n",
              "\n",
              "        async function convertToInteractive(key) {\n",
              "          const element = document.querySelector('#df-e2c33d6d-b306-4297-b3cd-1a64b6fa6ffe');\n",
              "          const dataTable =\n",
              "            await google.colab.kernel.invokeFunction('convertToInteractive',\n",
              "                                                     [key], {});\n",
              "          if (!dataTable) return;\n",
              "\n",
              "          const docLinkHtml = 'Like what you see? Visit the ' +\n",
              "            '<a target=\"_blank\" href=https://colab.research.google.com/notebooks/data_table.ipynb>data table notebook</a>'\n",
              "            + ' to learn more about interactive tables.';\n",
              "          element.innerHTML = '';\n",
              "          dataTable['output_type'] = 'display_data';\n",
              "          await google.colab.output.renderOutput(dataTable, element);\n",
              "          const docLink = document.createElement('div');\n",
              "          docLink.innerHTML = docLinkHtml;\n",
              "          element.appendChild(docLink);\n",
              "        }\n",
              "      </script>\n",
              "    </div>\n",
              "  </div>\n",
              "  "
            ],
            "text/plain": [
              "             0         1  2  3  4  5  ...        35        36  37        38  39  40\n",
              "48    4.644000  3.907100  0  0  0  0  ...  3.525000  3.093000   0  7.886000   0   0\n",
              "155   5.156000  2.452400  0  0  0  0  ...  3.986000  3.271000   0  9.007000   4   0\n",
              "756   4.414000  4.388300  0  1  0  0  ...  3.689000  4.167000   4  8.139000   0   0\n",
              "1070  4.503037  3.037476  0  0  0  0  ...  3.573224  2.129853   0  7.889213   0   0\n",
              "303   5.029000  1.686400  2  0  7  0  ...  4.348000  1.710000   2  9.423000   0   0\n",
              "\n",
              "[5 rows x 41 columns]"
            ]
          },
          "metadata": {},
          "execution_count": 44
        }
      ],
      "source": [
        "X_train_classifier.head()"
      ]
    },
    {
      "cell_type": "code",
      "execution_count": null,
      "metadata": {
        "id": "vz5cMwuWbNKO",
        "colab": {
          "base_uri": "https://localhost:8080/",
          "height": 36
        },
        "outputId": "40d9d103-89fc-4343-e7f5-fc39dfae1691"
      },
      "outputs": [
        {
          "output_type": "execute_result",
          "data": {
            "application/vnd.google.colaboratory.intrinsic+json": {
              "type": "string"
            },
            "text/plain": [
              "'label'"
            ]
          },
          "metadata": {},
          "execution_count": 45
        }
      ],
      "source": [
        "label_train_classifier.name"
      ]
    },
    {
      "cell_type": "code",
      "execution_count": null,
      "metadata": {
        "id": "ApJ4TbVFbNKS"
      },
      "outputs": [],
      "source": [
        "training2 = pd.concat([X_train_classifier, label_train_classifier], axis=1)\n",
        "testing2 = X_test_classifier"
      ]
    },
    {
      "cell_type": "code",
      "execution_count": null,
      "metadata": {
        "id": "gaCxzpR7Hd7U",
        "colab": {
          "base_uri": "https://localhost:8080/"
        },
        "outputId": "11d05e6e-5c1f-45d9-d8ad-bb34106a0657"
      },
      "outputs": [
        {
          "output_type": "execute_result",
          "data": {
            "text/plain": [
              "(pandas.core.frame.DataFrame, pandas.core.frame.DataFrame)"
            ]
          },
          "metadata": {},
          "execution_count": 47
        }
      ],
      "source": [
        "type(training2), type(testing2)"
      ]
    },
    {
      "cell_type": "markdown",
      "source": [
        "Create training/testing csv files"
      ],
      "metadata": {
        "id": "Vtwkf2PsZitN"
      }
    },
    {
      "cell_type": "code",
      "execution_count": null,
      "metadata": {
        "id": "0z3DRz_FHd7W"
      },
      "outputs": [],
      "source": [
        "training2.to_csv('training2_file.csv')\n",
        "testing2.to_csv('testing2_file.csv')"
      ]
    },
    {
      "cell_type": "markdown",
      "source": [
        "Use Reader to load files"
      ],
      "metadata": {
        "id": "l6W9ZQnjSR-s"
      }
    },
    {
      "cell_type": "code",
      "execution_count": null,
      "metadata": {
        "id": "-ZXzjyFpIzyg",
        "colab": {
          "base_uri": "https://localhost:8080/"
        },
        "outputId": "27829724-2baa-4830-f0ec-7bda77e203ce"
      },
      "outputs": [
        {
          "output_type": "stream",
          "name": "stdout",
          "text": [
            "\n",
            "reading csv : training2_file.csv ...\n",
            "cleaning data ...\n",
            "CPU time: 0.1522533893585205 seconds\n",
            "\n",
            "reading csv : testing2_file.csv ...\n",
            "cleaning data ...\n",
            "CPU time: 0.13157343864440918 seconds\n",
            "\n",
            "> Number of common features : 41\n",
            "\n",
            "gathering and crunching for train and test datasets ...\n",
            "reindexing for train and test datasets ...\n",
            "dropping training duplicates ...\n",
            "dropping constant variables on training set ...\n",
            "\n",
            "> Number of categorical features: 0\n",
            "> Number of numerical features: 41\n",
            "> Number of training samples : 1116\n",
            "> Number of test samples : 280\n",
            "\n",
            "> You have no missing values on train set...\n",
            "\n",
            "> Task : classification\n",
            "1.0    561\n",
            "0.0    555\n",
            "Name: label, dtype: int64\n",
            "\n",
            "encoding target ...\n"
          ]
        }
      ],
      "source": [
        "paths=['training2_file.csv', 'testing2_file.csv']\n",
        "rd = Reader(sep = ',')\n",
        "df2 = rd.train_test_split(paths, target_name='label')"
      ]
    },
    {
      "cell_type": "markdown",
      "source": [
        "Drop the biased columns"
      ],
      "metadata": {
        "id": "MXjxMM8VSax8"
      }
    },
    {
      "cell_type": "code",
      "execution_count": null,
      "metadata": {
        "id": "tilEsbWDIzyi",
        "colab": {
          "base_uri": "https://localhost:8080/"
        },
        "outputId": "2b0dade1-6bb0-4d63-83ae-b8a8698aef12"
      },
      "outputs": [
        {
          "output_type": "stream",
          "name": "stdout",
          "text": [
            "\n",
            "computing drifts ...\n",
            "CPU time: 0.6580839157104492 seconds\n",
            "\n",
            "> Top 10 drifts\n",
            "\n",
            "('7', 0.06742191500256034)\n",
            "('37', 0.06036226318484372)\n",
            "('30', 0.04993599590373776)\n",
            "('4', 0.04954557091653866)\n",
            "('32', 0.048105478750640085)\n",
            "('8', 0.046505376344085914)\n",
            "('26', 0.04584613415258598)\n",
            "('40', 0.04480926779313865)\n",
            "('10', 0.043958013312852096)\n",
            "('14', 0.04242191500256021)\n",
            "\n",
            "> Deleted variables : []\n",
            "> Drift coefficients dumped into directory : save\n"
          ]
        }
      ],
      "source": [
        "dft = Drift_thresholder()\n",
        "df2 = dft.fit_transform(df2)"
      ]
    },
    {
      "cell_type": "markdown",
      "source": [
        "No columns are dropped. Set the range of values for various hyper-parameters"
      ],
      "metadata": {
        "id": "10XC8boPSjTE"
      }
    },
    {
      "cell_type": "code",
      "execution_count": null,
      "metadata": {
        "id": "wEtM44yDIzyj"
      },
      "outputs": [],
      "source": [
        "space = {'ne__numerical_strategy':{\"space\":[0]},\n",
        "        'fs__strategy':{\"search\":\"choice\",\n",
        "                        \"space\":['l1','variance','rf_feature_importance']},\n",
        "        'fs__threshold':{\"search\":\"uniform\",\n",
        "                        \"space\":[0.01,0.3]},\n",
        "        'est__strategy' : {\"search\":\"choice\",\n",
        "                           \"space\" : ['LightGBM', 'RandomForest', 'ExtraTrees', 'AdaBoost']},    \n",
        "        'est__max_depth':{\"search\":\"choice\",\n",
        "                          \"space\":[3,4,5,6]},\n",
        "        'est__n_estimators':{\"search\":\"choice\",\n",
        "                             \"space\":[250,500,700]}}"
      ]
    },
    {
      "cell_type": "markdown",
      "source": [
        "Create optimizer"
      ],
      "metadata": {
        "id": "cyhlqfHaS09A"
      }
    },
    {
      "cell_type": "code",
      "execution_count": null,
      "metadata": {
        "id": "zaks0lCrIzyk",
        "colab": {
          "base_uri": "https://localhost:8080/"
        },
        "outputId": "5589c7e8-016b-4ffb-ba87-a4accb22cedf"
      },
      "outputs": [
        {
          "output_type": "stream",
          "name": "stderr",
          "text": [
            "/usr/local/lib/python3.7/dist-packages/mlbox/optimisation/optimiser.py:74: UserWarning: Optimiser will save all your fitted models into directory 'save/joblib'. Please clear it regularly.\n",
            "  +str(self.to_path)+\"/joblib'. Please clear it regularly.\")\n"
          ]
        }
      ],
      "source": [
        "opt=Optimiser(scoring=\"accuracy\", n_folds=3)"
      ]
    },
    {
      "cell_type": "markdown",
      "source": [
        "Evaluate optimizer on a single trial"
      ],
      "metadata": {
        "id": "HcdWeu-nS6SQ"
      }
    },
    {
      "cell_type": "code",
      "execution_count": null,
      "metadata": {
        "id": "tYUT3t3yIzyl",
        "colab": {
          "base_uri": "https://localhost:8080/"
        },
        "outputId": "7d5c8963-58e1-43ab-b489-53044a977f9c"
      },
      "outputs": [
        {
          "output_type": "stream",
          "name": "stdout",
          "text": [
            "No parameters set. Default configuration is tested\n",
            "\n",
            "##################################################### testing hyper-parameters... #####################################################\n",
            "\n",
            ">>> NA ENCODER :{'numerical_strategy': 'mean', 'categorical_strategy': '<NULL>'}\n",
            "\n",
            ">>> CA ENCODER :{'strategy': 'label_encoding'}\n",
            "\n",
            ">>> ESTIMATOR :{'strategy': 'LightGBM', 'boosting_type': 'gbdt', 'class_weight': None, 'colsample_bytree': 0.8, 'importance_type': 'split', 'learning_rate': 0.05, 'max_depth': -1, 'min_child_samples': 20, 'min_child_weight': 0.001, 'min_split_gain': 0.0, 'n_estimators': 500, 'n_jobs': -1, 'num_leaves': 31, 'objective': None, 'random_state': None, 'reg_alpha': 0.0, 'reg_lambda': 0.0, 'silent': True, 'subsample': 0.9, 'subsample_for_bin': 200000, 'subsample_freq': 0, 'nthread': -1, 'seed': 0}\n",
            "\n",
            "\n",
            "MEAN SCORE : accuracy = 0.8853046594982078\n",
            "VARIANCE : 0.010827102126876847 (fold 1 = 0.9005376344086021, fold 2 = 0.8763440860215054, fold 3 = 0.8790322580645161)\n",
            "CPU time: 2.294726610183716 seconds\n",
            "\n"
          ]
        },
        {
          "output_type": "execute_result",
          "data": {
            "text/plain": [
              "0.8853046594982078"
            ]
          },
          "metadata": {},
          "execution_count": 53
        }
      ],
      "source": [
        "opt.evaluate(None, df2)"
      ]
    },
    {
      "cell_type": "markdown",
      "source": [
        "Run optimizer for 20 trials"
      ],
      "metadata": {
        "id": "5T33KmVCTBoy"
      }
    },
    {
      "cell_type": "code",
      "source": [
        "import time\n",
        "tic = time.perf_counter()"
      ],
      "metadata": {
        "id": "ISL4W7TRSM5c"
      },
      "execution_count": null,
      "outputs": []
    },
    {
      "cell_type": "code",
      "execution_count": null,
      "metadata": {
        "id": "w2C7Hp3BIzym",
        "colab": {
          "base_uri": "https://localhost:8080/"
        },
        "outputId": "541a20cf-e8e1-49d7-9760-057982f1a0ca"
      },
      "outputs": [
        {
          "output_type": "stream",
          "name": "stdout",
          "text": [
            "##################################################### testing hyper-parameters... #####################################################\n",
            ">>> NA ENCODER :{'numerical_strategy': 0, 'categorical_strategy': '<NULL>'}\n",
            ">>> CA ENCODER :{'strategy': 'label_encoding'}\n",
            ">>> FEATURE SELECTOR :{'strategy': 'variance', 'threshold': 0.06878971424932297}\n",
            ">>> ESTIMATOR :{'strategy': 'AdaBoost', 'n_estimators': 250, 'algorithm': 'SAMME.R', 'base_estimator': None, 'learning_rate': 0.05, 'random_state': 0}\n",
            "  0%|          | 0/20 [00:00<?, ?trial/s, best loss=?]"
          ]
        },
        {
          "output_type": "stream",
          "name": "stderr",
          "text": [
            "/usr/local/lib/python3.7/dist-packages/mlbox/model/classification/classifier.py:92: UserWarning: Invalid parameter for classifier AdaBoost. Parameter IGNORED. Check the list of available parameters with `classifier.get_params().keys()`\n",
            "  + \". Parameter IGNORED. Check the list of \"\n",
            "\n"
          ]
        },
        {
          "output_type": "stream",
          "name": "stdout",
          "text": [
            "MEAN SCORE : accuracy = 0.8629032258064516\n",
            "VARIANCE : 0.019008246806089972 (fold 1 = 0.8763440860215054, fold 2 = 0.8763440860215054, fold 3 = 0.8360215053763441)\n",
            "CPU time: 2.088958501815796 seconds\n",
            "##################################################### testing hyper-parameters... #####################################################\n",
            ">>> NA ENCODER :{'numerical_strategy': 0, 'categorical_strategy': '<NULL>'}\n",
            ">>> CA ENCODER :{'strategy': 'label_encoding'}\n",
            ">>> FEATURE SELECTOR :{'strategy': 'l1', 'threshold': 0.23017272079683318}\n",
            ">>> ESTIMATOR :{'strategy': 'AdaBoost', 'n_estimators': 250, 'algorithm': 'SAMME.R', 'base_estimator': None, 'learning_rate': 0.05, 'random_state': 0}\n",
            "  5%|▌         | 1/20 [00:02<00:39,  2.10s/trial, best loss: -0.8629032258064516]"
          ]
        },
        {
          "output_type": "stream",
          "name": "stderr",
          "text": [
            "/usr/local/lib/python3.7/dist-packages/mlbox/model/classification/classifier.py:92: UserWarning: Invalid parameter for classifier AdaBoost. Parameter IGNORED. Check the list of available parameters with `classifier.get_params().keys()`\n",
            "  + \". Parameter IGNORED. Check the list of \"\n",
            "\n"
          ]
        },
        {
          "output_type": "stream",
          "name": "stdout",
          "text": [
            "MEAN SCORE : accuracy = 0.8611111111111112\n",
            "VARIANCE : 0.014280804167122952 (fold 1 = 0.8602150537634409, fold 2 = 0.8790322580645161, fold 3 = 0.8440860215053764)\n",
            "CPU time: 2.8643689155578613 seconds\n",
            "##################################################### testing hyper-parameters... #####################################################\n",
            ">>> NA ENCODER :{'numerical_strategy': 0, 'categorical_strategy': '<NULL>'}\n",
            ">>> CA ENCODER :{'strategy': 'label_encoding'}\n",
            ">>> FEATURE SELECTOR :{'strategy': 'variance', 'threshold': 0.13105671802566984}\n",
            ">>> ESTIMATOR :{'strategy': 'RandomForest', 'max_depth': 4, 'n_estimators': 700, 'bootstrap': True, 'ccp_alpha': 0.0, 'class_weight': None, 'criterion': 'gini', 'max_features': 'sqrt', 'max_leaf_nodes': None, 'max_samples': None, 'min_impurity_decrease': 0.0, 'min_samples_leaf': 1, 'min_samples_split': 2, 'min_weight_fraction_leaf': 0.0, 'n_jobs': -1, 'oob_score': False, 'random_state': 0, 'verbose': 0, 'warm_start': False}\n",
            "MEAN SCORE : accuracy = 0.8611111111111112\n",
            "VARIANCE : 0.01774103035235064 (fold 1 = 0.8413978494623656, fold 2 = 0.8844086021505376, fold 3 = 0.8575268817204301)\n",
            "CPU time: 4.304877758026123 seconds\n",
            "##################################################### testing hyper-parameters... #####################################################\n",
            ">>> NA ENCODER :{'numerical_strategy': 0, 'categorical_strategy': '<NULL>'}\n",
            ">>> CA ENCODER :{'strategy': 'label_encoding'}\n",
            ">>> FEATURE SELECTOR :{'strategy': 'variance', 'threshold': 0.07077914827762995}\n",
            ">>> ESTIMATOR :{'strategy': 'LightGBM', 'max_depth': 4, 'n_estimators': 250, 'boosting_type': 'gbdt', 'class_weight': None, 'colsample_bytree': 0.8, 'importance_type': 'split', 'learning_rate': 0.05, 'min_child_samples': 20, 'min_child_weight': 0.001, 'min_split_gain': 0.0, 'n_jobs': -1, 'num_leaves': 31, 'objective': None, 'random_state': None, 'reg_alpha': 0.0, 'reg_lambda': 0.0, 'silent': True, 'subsample': 0.9, 'subsample_for_bin': 200000, 'subsample_freq': 0, 'nthread': -1, 'seed': 0}\n",
            "MEAN SCORE : accuracy = 0.8826164874551972\n",
            "VARIANCE : 0.01104733692288346 (fold 1 = 0.8951612903225806, fold 2 = 0.8844086021505376, fold 3 = 0.8682795698924731)\n",
            "CPU time: 0.4814765453338623 seconds\n",
            "##################################################### testing hyper-parameters... #####################################################\n",
            ">>> NA ENCODER :{'numerical_strategy': 0, 'categorical_strategy': '<NULL>'}\n",
            ">>> CA ENCODER :{'strategy': 'label_encoding'}\n",
            ">>> FEATURE SELECTOR :{'strategy': 'l1', 'threshold': 0.07564542621313877}\n",
            ">>> ESTIMATOR :{'strategy': 'ExtraTrees', 'max_depth': 3, 'n_estimators': 700, 'bootstrap': True, 'ccp_alpha': 0.0, 'class_weight': None, 'criterion': 'gini', 'max_features': 'sqrt', 'max_leaf_nodes': None, 'max_samples': None, 'min_impurity_decrease': 0.0, 'min_samples_leaf': 1, 'min_samples_split': 2, 'min_weight_fraction_leaf': 0.0, 'n_jobs': -1, 'oob_score': False, 'random_state': 0, 'verbose': 0, 'warm_start': False}\n",
            "MEAN SCORE : accuracy = 0.8234767025089607\n",
            "VARIANCE : 0.02864581964721468 (fold 1 = 0.8198924731182796, fold 2 = 0.8602150537634409, fold 3 = 0.7903225806451613)\n",
            "CPU time: 4.208197355270386 seconds\n",
            "##################################################### testing hyper-parameters... #####################################################\n",
            ">>> NA ENCODER :{'numerical_strategy': 0, 'categorical_strategy': '<NULL>'}\n",
            ">>> CA ENCODER :{'strategy': 'label_encoding'}\n",
            ">>> FEATURE SELECTOR :{'strategy': 'rf_feature_importance', 'threshold': 0.046917159202616285}\n",
            ">>> ESTIMATOR :{'strategy': 'AdaBoost', 'n_estimators': 250, 'algorithm': 'SAMME.R', 'base_estimator': None, 'learning_rate': 0.05, 'random_state': 0}\n",
            " 25%|██▌       | 5/20 [00:14<00:44,  2.95s/trial, best loss: -0.8826164874551972]"
          ]
        },
        {
          "output_type": "stream",
          "name": "stderr",
          "text": [
            "/usr/local/lib/python3.7/dist-packages/mlbox/model/classification/classifier.py:92: UserWarning: Invalid parameter for classifier AdaBoost. Parameter IGNORED. Check the list of available parameters with `classifier.get_params().keys()`\n",
            "  + \". Parameter IGNORED. Check the list of \"\n",
            "\n"
          ]
        },
        {
          "output_type": "stream",
          "name": "stdout",
          "text": [
            "MEAN SCORE : accuracy = 0.8611111111111112\n",
            "VARIANCE : 0.014280804167122952 (fold 1 = 0.8602150537634409, fold 2 = 0.8790322580645161, fold 3 = 0.8440860215053764)\n",
            "CPU time: 2.8967745304107666 seconds\n",
            "##################################################### testing hyper-parameters... #####################################################\n",
            ">>> NA ENCODER :{'numerical_strategy': 0, 'categorical_strategy': '<NULL>'}\n",
            ">>> CA ENCODER :{'strategy': 'label_encoding'}\n",
            ">>> FEATURE SELECTOR :{'strategy': 'variance', 'threshold': 0.06425825850380303}\n",
            ">>> ESTIMATOR :{'strategy': 'LightGBM', 'max_depth': 5, 'n_estimators': 700, 'boosting_type': 'gbdt', 'class_weight': None, 'colsample_bytree': 0.8, 'importance_type': 'split', 'learning_rate': 0.05, 'min_child_samples': 20, 'min_child_weight': 0.001, 'min_split_gain': 0.0, 'n_jobs': -1, 'num_leaves': 31, 'objective': None, 'random_state': None, 'reg_alpha': 0.0, 'reg_lambda': 0.0, 'silent': True, 'subsample': 0.9, 'subsample_for_bin': 200000, 'subsample_freq': 0, 'nthread': -1, 'seed': 0}\n",
            "MEAN SCORE : accuracy = 0.8870967741935484\n",
            "VARIANCE : 0.00877953312825511 (fold 1 = 0.8978494623655914, fold 2 = 0.8870967741935484, fold 3 = 0.8763440860215054)\n",
            "CPU time: 1.3680613040924072 seconds\n",
            "##################################################### testing hyper-parameters... #####################################################\n",
            ">>> NA ENCODER :{'numerical_strategy': 0, 'categorical_strategy': '<NULL>'}\n",
            ">>> CA ENCODER :{'strategy': 'label_encoding'}\n",
            ">>> FEATURE SELECTOR :{'strategy': 'variance', 'threshold': 0.2518759454756328}\n",
            ">>> ESTIMATOR :{'strategy': 'LightGBM', 'max_depth': 3, 'n_estimators': 500, 'boosting_type': 'gbdt', 'class_weight': None, 'colsample_bytree': 0.8, 'importance_type': 'split', 'learning_rate': 0.05, 'min_child_samples': 20, 'min_child_weight': 0.001, 'min_split_gain': 0.0, 'n_jobs': -1, 'num_leaves': 31, 'objective': None, 'random_state': None, 'reg_alpha': 0.0, 'reg_lambda': 0.0, 'silent': True, 'subsample': 0.9, 'subsample_for_bin': 200000, 'subsample_freq': 0, 'nthread': -1, 'seed': 0}\n",
            "MEAN SCORE : accuracy = 0.8862007168458782\n",
            "VARIANCE : 0.010827102126876847 (fold 1 = 0.8951612903225806, fold 2 = 0.8924731182795699, fold 3 = 0.8709677419354839)\n",
            "CPU time: 0.576836109161377 seconds\n",
            "##################################################### testing hyper-parameters... #####################################################\n",
            ">>> NA ENCODER :{'numerical_strategy': 0, 'categorical_strategy': '<NULL>'}\n",
            ">>> CA ENCODER :{'strategy': 'label_encoding'}\n",
            ">>> FEATURE SELECTOR :{'strategy': 'l1', 'threshold': 0.21499210909469824}\n",
            ">>> ESTIMATOR :{'strategy': 'AdaBoost', 'n_estimators': 700, 'algorithm': 'SAMME.R', 'base_estimator': None, 'learning_rate': 0.05, 'random_state': 0}\n",
            " 40%|████      | 8/20 [00:18<00:22,  1.85s/trial, best loss: -0.8870967741935484]"
          ]
        },
        {
          "output_type": "stream",
          "name": "stderr",
          "text": [
            "/usr/local/lib/python3.7/dist-packages/mlbox/model/classification/classifier.py:92: UserWarning: Invalid parameter for classifier AdaBoost. Parameter IGNORED. Check the list of available parameters with `classifier.get_params().keys()`\n",
            "  + \". Parameter IGNORED. Check the list of \"\n",
            "\n"
          ]
        },
        {
          "output_type": "stream",
          "name": "stdout",
          "text": [
            "MEAN SCORE : accuracy = 0.8790322580645161\n",
            "VARIANCE : 0.005807115321153991 (fold 1 = 0.8817204301075269, fold 2 = 0.8844086021505376, fold 3 = 0.8709677419354839)\n",
            "CPU time: 6.223439931869507 seconds\n",
            "##################################################### testing hyper-parameters... #####################################################\n",
            ">>> NA ENCODER :{'numerical_strategy': 0, 'categorical_strategy': '<NULL>'}\n",
            ">>> CA ENCODER :{'strategy': 'label_encoding'}\n",
            ">>> FEATURE SELECTOR :{'strategy': 'l1', 'threshold': 0.18901776252787036}\n",
            ">>> ESTIMATOR :{'strategy': 'ExtraTrees', 'max_depth': 5, 'n_estimators': 250, 'bootstrap': True, 'ccp_alpha': 0.0, 'class_weight': None, 'criterion': 'gini', 'max_features': 'sqrt', 'max_leaf_nodes': None, 'max_samples': None, 'min_impurity_decrease': 0.0, 'min_samples_leaf': 1, 'min_samples_split': 2, 'min_weight_fraction_leaf': 0.0, 'n_jobs': -1, 'oob_score': False, 'random_state': 0, 'verbose': 0, 'warm_start': False}\n",
            "MEAN SCORE : accuracy = 0.8405017921146953\n",
            "VARIANCE : 0.02636906625369565 (fold 1 = 0.8387096774193549, fold 2 = 0.8736559139784946, fold 3 = 0.8091397849462365)\n",
            "CPU time: 2.029357671737671 seconds\n",
            "##################################################### testing hyper-parameters... #####################################################\n",
            ">>> NA ENCODER :{'numerical_strategy': 0, 'categorical_strategy': '<NULL>'}\n",
            ">>> CA ENCODER :{'strategy': 'label_encoding'}\n",
            ">>> FEATURE SELECTOR :{'strategy': 'rf_feature_importance', 'threshold': 0.03729949079479158}\n",
            ">>> ESTIMATOR :{'strategy': 'ExtraTrees', 'max_depth': 5, 'n_estimators': 500, 'bootstrap': True, 'ccp_alpha': 0.0, 'class_weight': None, 'criterion': 'gini', 'max_features': 'sqrt', 'max_leaf_nodes': None, 'max_samples': None, 'min_impurity_decrease': 0.0, 'min_samples_leaf': 1, 'min_samples_split': 2, 'min_weight_fraction_leaf': 0.0, 'n_jobs': -1, 'oob_score': False, 'random_state': 0, 'verbose': 0, 'warm_start': False}\n",
            "MEAN SCORE : accuracy = 0.8458781362007168\n",
            "VARIANCE : 0.02524910896703469 (fold 1 = 0.8467741935483871, fold 2 = 0.8763440860215054, fold 3 = 0.8145161290322581)\n",
            "CPU time: 3.7848472595214844 seconds\n",
            "##################################################### testing hyper-parameters... #####################################################\n",
            ">>> NA ENCODER :{'numerical_strategy': 0, 'categorical_strategy': '<NULL>'}\n",
            ">>> CA ENCODER :{'strategy': 'label_encoding'}\n",
            ">>> FEATURE SELECTOR :{'strategy': 'rf_feature_importance', 'threshold': 0.026266801034034094}\n",
            ">>> ESTIMATOR :{'strategy': 'AdaBoost', 'n_estimators': 250, 'algorithm': 'SAMME.R', 'base_estimator': None, 'learning_rate': 0.05, 'random_state': 0}\n",
            " 55%|█████▌    | 11/20 [00:31<00:28,  3.15s/trial, best loss: -0.8870967741935484]"
          ]
        },
        {
          "output_type": "stream",
          "name": "stderr",
          "text": [
            "/usr/local/lib/python3.7/dist-packages/mlbox/model/classification/classifier.py:92: UserWarning: Invalid parameter for classifier AdaBoost. Parameter IGNORED. Check the list of available parameters with `classifier.get_params().keys()`\n",
            "  + \". Parameter IGNORED. Check the list of \"\n",
            "\n"
          ]
        },
        {
          "output_type": "stream",
          "name": "stdout",
          "text": [
            "MEAN SCORE : accuracy = 0.8611111111111112\n",
            "VARIANCE : 0.014280804167122952 (fold 1 = 0.8602150537634409, fold 2 = 0.8790322580645161, fold 3 = 0.8440860215053764)\n",
            "CPU time: 2.9158947467803955 seconds\n",
            "##################################################### testing hyper-parameters... #####################################################\n",
            ">>> NA ENCODER :{'numerical_strategy': 0, 'categorical_strategy': '<NULL>'}\n",
            ">>> CA ENCODER :{'strategy': 'label_encoding'}\n",
            ">>> FEATURE SELECTOR :{'strategy': 'l1', 'threshold': 0.18922143044353415}\n",
            ">>> ESTIMATOR :{'strategy': 'ExtraTrees', 'max_depth': 6, 'n_estimators': 700, 'bootstrap': True, 'ccp_alpha': 0.0, 'class_weight': None, 'criterion': 'gini', 'max_features': 'sqrt', 'max_leaf_nodes': None, 'max_samples': None, 'min_impurity_decrease': 0.0, 'min_samples_leaf': 1, 'min_samples_split': 2, 'min_weight_fraction_leaf': 0.0, 'n_jobs': -1, 'oob_score': False, 'random_state': 0, 'verbose': 0, 'warm_start': False}\n",
            "MEAN SCORE : accuracy = 0.8575268817204301\n",
            "VARIANCE : 0.031117841136532837 (fold 1 = 0.8709677419354839, fold 2 = 0.8870967741935484, fold 3 = 0.8145161290322581)\n",
            "CPU time: 4.400055885314941 seconds\n",
            "##################################################### testing hyper-parameters... #####################################################\n",
            ">>> NA ENCODER :{'numerical_strategy': 0, 'categorical_strategy': '<NULL>'}\n",
            ">>> CA ENCODER :{'strategy': 'label_encoding'}\n",
            ">>> FEATURE SELECTOR :{'strategy': 'l1', 'threshold': 0.2349674174175576}\n",
            ">>> ESTIMATOR :{'strategy': 'AdaBoost', 'n_estimators': 700, 'algorithm': 'SAMME.R', 'base_estimator': None, 'learning_rate': 0.05, 'random_state': 0}\n",
            " 65%|██████▌   | 13/20 [00:38<00:24,  3.49s/trial, best loss: -0.8870967741935484]"
          ]
        },
        {
          "output_type": "stream",
          "name": "stderr",
          "text": [
            "/usr/local/lib/python3.7/dist-packages/mlbox/model/classification/classifier.py:92: UserWarning: Invalid parameter for classifier AdaBoost. Parameter IGNORED. Check the list of available parameters with `classifier.get_params().keys()`\n",
            "  + \". Parameter IGNORED. Check the list of \"\n",
            "\n"
          ]
        },
        {
          "output_type": "stream",
          "name": "stdout",
          "text": [
            "MEAN SCORE : accuracy = 0.8790322580645161\n",
            "VARIANCE : 0.005807115321153991 (fold 1 = 0.8817204301075269, fold 2 = 0.8844086021505376, fold 3 = 0.8709677419354839)\n",
            "CPU time: 6.2288432121276855 seconds\n",
            "##################################################### testing hyper-parameters... #####################################################\n",
            ">>> NA ENCODER :{'numerical_strategy': 0, 'categorical_strategy': '<NULL>'}\n",
            ">>> CA ENCODER :{'strategy': 'label_encoding'}\n",
            ">>> FEATURE SELECTOR :{'strategy': 'variance', 'threshold': 0.23250542555732184}\n",
            ">>> ESTIMATOR :{'strategy': 'AdaBoost', 'n_estimators': 250, 'algorithm': 'SAMME.R', 'base_estimator': None, 'learning_rate': 0.05, 'random_state': 0}\n",
            " 70%|███████   | 14/20 [00:44<00:25,  4.32s/trial, best loss: -0.8870967741935484]"
          ]
        },
        {
          "output_type": "stream",
          "name": "stderr",
          "text": [
            "/usr/local/lib/python3.7/dist-packages/mlbox/model/classification/classifier.py:92: UserWarning: Invalid parameter for classifier AdaBoost. Parameter IGNORED. Check the list of available parameters with `classifier.get_params().keys()`\n",
            "  + \". Parameter IGNORED. Check the list of \"\n",
            "\n"
          ]
        },
        {
          "output_type": "stream",
          "name": "stdout",
          "text": [
            "MEAN SCORE : accuracy = 0.8602150537634409\n",
            "VARIANCE : 0.02291525421602941 (fold 1 = 0.8736559139784946, fold 2 = 0.8790322580645161, fold 3 = 0.8279569892473119)\n",
            "CPU time: 1.9491219520568848 seconds\n",
            "##################################################### testing hyper-parameters... #####################################################\n",
            ">>> NA ENCODER :{'numerical_strategy': 0, 'categorical_strategy': '<NULL>'}\n",
            ">>> CA ENCODER :{'strategy': 'label_encoding'}\n",
            ">>> FEATURE SELECTOR :{'strategy': 'variance', 'threshold': 0.24512410988227634}\n",
            ">>> ESTIMATOR :{'strategy': 'AdaBoost', 'n_estimators': 700, 'algorithm': 'SAMME.R', 'base_estimator': None, 'learning_rate': 0.05, 'random_state': 0}\n",
            " 75%|███████▌  | 15/20 [00:46<00:18,  3.61s/trial, best loss: -0.8870967741935484]"
          ]
        },
        {
          "output_type": "stream",
          "name": "stderr",
          "text": [
            "/usr/local/lib/python3.7/dist-packages/mlbox/model/classification/classifier.py:92: UserWarning: Invalid parameter for classifier AdaBoost. Parameter IGNORED. Check the list of available parameters with `classifier.get_params().keys()`\n",
            "  + \". Parameter IGNORED. Check the list of \"\n",
            "\n"
          ]
        },
        {
          "output_type": "stream",
          "name": "stdout",
          "text": [
            "MEAN SCORE : accuracy = 0.8754480286738352\n",
            "VARIANCE : 0.01866726402867351 (fold 1 = 0.8844086021505376, fold 2 = 0.8924731182795699, fold 3 = 0.8494623655913979)\n",
            "CPU time: 5.470525741577148 seconds\n",
            "##################################################### testing hyper-parameters... #####################################################\n",
            ">>> NA ENCODER :{'numerical_strategy': 0, 'categorical_strategy': '<NULL>'}\n",
            ">>> CA ENCODER :{'strategy': 'label_encoding'}\n",
            ">>> FEATURE SELECTOR :{'strategy': 'rf_feature_importance', 'threshold': 0.19995432442661312}\n",
            ">>> ESTIMATOR :{'strategy': 'RandomForest', 'max_depth': 5, 'n_estimators': 500, 'bootstrap': True, 'ccp_alpha': 0.0, 'class_weight': None, 'criterion': 'gini', 'max_features': 'sqrt', 'max_leaf_nodes': None, 'max_samples': None, 'min_impurity_decrease': 0.0, 'min_samples_leaf': 1, 'min_samples_split': 2, 'min_weight_fraction_leaf': 0.0, 'n_jobs': -1, 'oob_score': False, 'random_state': 0, 'verbose': 0, 'warm_start': False}\n",
            "MEAN SCORE : accuracy = 0.8709677419354839\n",
            "VARIANCE : 0.019508549334298585 (fold 1 = 0.8629032258064516, fold 2 = 0.8978494623655914, fold 3 = 0.8521505376344086)\n",
            "CPU time: 4.22569465637207 seconds\n",
            "##################################################### testing hyper-parameters... #####################################################\n",
            ">>> NA ENCODER :{'numerical_strategy': 0, 'categorical_strategy': '<NULL>'}\n",
            ">>> CA ENCODER :{'strategy': 'label_encoding'}\n",
            ">>> FEATURE SELECTOR :{'strategy': 'variance', 'threshold': 0.14750276806010643}\n",
            ">>> ESTIMATOR :{'strategy': 'RandomForest', 'max_depth': 5, 'n_estimators': 500, 'bootstrap': True, 'ccp_alpha': 0.0, 'class_weight': None, 'criterion': 'gini', 'max_features': 'sqrt', 'max_leaf_nodes': None, 'max_samples': None, 'min_impurity_decrease': 0.0, 'min_samples_leaf': 1, 'min_samples_split': 2, 'min_weight_fraction_leaf': 0.0, 'n_jobs': -1, 'oob_score': False, 'random_state': 0, 'verbose': 0, 'warm_start': False}\n",
            "MEAN SCORE : accuracy = 0.8691756272401433\n",
            "VARIANCE : 0.01661938798475931 (fold 1 = 0.8548387096774194, fold 2 = 0.8924731182795699, fold 3 = 0.8602150537634409)\n",
            "CPU time: 3.5082855224609375 seconds\n",
            "##################################################### testing hyper-parameters... #####################################################\n",
            ">>> NA ENCODER :{'numerical_strategy': 0, 'categorical_strategy': '<NULL>'}\n",
            ">>> CA ENCODER :{'strategy': 'label_encoding'}\n",
            ">>> FEATURE SELECTOR :{'strategy': 'l1', 'threshold': 0.12268756034465307}\n",
            ">>> ESTIMATOR :{'strategy': 'LightGBM', 'max_depth': 3, 'n_estimators': 250, 'boosting_type': 'gbdt', 'class_weight': None, 'colsample_bytree': 0.8, 'importance_type': 'split', 'learning_rate': 0.05, 'min_child_samples': 20, 'min_child_weight': 0.001, 'min_split_gain': 0.0, 'n_jobs': -1, 'num_leaves': 31, 'objective': None, 'random_state': None, 'reg_alpha': 0.0, 'reg_lambda': 0.0, 'silent': True, 'subsample': 0.9, 'subsample_for_bin': 200000, 'subsample_freq': 0, 'nthread': -1, 'seed': 0}\n",
            "MEAN SCORE : accuracy = 0.8870967741935484\n",
            "VARIANCE : 0.010974416410318889 (fold 1 = 0.8870967741935484, fold 2 = 0.9005376344086021, fold 3 = 0.8736559139784946)\n",
            "CPU time: 0.7642509937286377 seconds\n",
            "##################################################### testing hyper-parameters... #####################################################\n",
            ">>> NA ENCODER :{'numerical_strategy': 0, 'categorical_strategy': '<NULL>'}\n",
            ">>> CA ENCODER :{'strategy': 'label_encoding'}\n",
            ">>> FEATURE SELECTOR :{'strategy': 'l1', 'threshold': 0.02331793880206877}\n",
            ">>> ESTIMATOR :{'strategy': 'LightGBM', 'max_depth': 5, 'n_estimators': 700, 'boosting_type': 'gbdt', 'class_weight': None, 'colsample_bytree': 0.8, 'importance_type': 'split', 'learning_rate': 0.05, 'min_child_samples': 20, 'min_child_weight': 0.001, 'min_split_gain': 0.0, 'n_jobs': -1, 'num_leaves': 31, 'objective': None, 'random_state': None, 'reg_alpha': 0.0, 'reg_lambda': 0.0, 'silent': True, 'subsample': 0.9, 'subsample_for_bin': 200000, 'subsample_freq': 0, 'nthread': -1, 'seed': 0}\n",
            "MEAN SCORE : accuracy = 0.8772401433691757\n",
            "VARIANCE : 0.013410958375533829 (fold 1 = 0.8951612903225806, fold 2 = 0.8736559139784946, fold 3 = 0.8629032258064516)\n",
            "CPU time: 1.7768113613128662 seconds\n",
            "100%|██████████| 20/20 [01:02<00:00,  3.12s/trial, best loss: -0.8870967741935484]\n",
            "\n",
            "\n",
            "~~~~~~~~~~~~~~~~~~~~~~~~~~~~~~~~~~~~~~~~~~~~~~~~~~~~~~~~~~~~~~~~~~~~~~~~~~~~~~~~~~~~~~~~~~~~~~~~~~~~~~~~~~~~~~~~~~~~~~~~~~~~~~~~~~~~~~~~~\n",
            "~~~~~~~~~~~~~~~~~~~~~~~~~~~~~~~~~~~~~~~~~~~~~~~~~~~~~~~~~ BEST HYPER-PARAMETERS ~~~~~~~~~~~~~~~~~~~~~~~~~~~~~~~~~~~~~~~~~~~~~~~~~~~~~~~~~\n",
            "~~~~~~~~~~~~~~~~~~~~~~~~~~~~~~~~~~~~~~~~~~~~~~~~~~~~~~~~~~~~~~~~~~~~~~~~~~~~~~~~~~~~~~~~~~~~~~~~~~~~~~~~~~~~~~~~~~~~~~~~~~~~~~~~~~~~~~~~~\n",
            "\n",
            "{'est__max_depth': 5, 'est__n_estimators': 700, 'est__strategy': 'LightGBM', 'fs__strategy': 'variance', 'fs__threshold': 0.06425825850380303, 'ne__numerical_strategy': 0}\n"
          ]
        }
      ],
      "source": [
        "best=opt.optimise(space,df2,20)"
      ]
    },
    {
      "cell_type": "code",
      "source": [
        "toc = time.perf_counter()\n",
        "print (f\"Elapsed time {toc - tic:0.4f} seconds\")"
      ],
      "metadata": {
        "id": "Eisv1bH2SmDL",
        "colab": {
          "base_uri": "https://localhost:8080/"
        },
        "outputId": "70a5f8a2-273a-4d3d-87da-dd448a28d12a"
      },
      "execution_count": null,
      "outputs": [
        {
          "output_type": "stream",
          "name": "stdout",
          "text": [
            "Elapsed time 62.4687 seconds\n"
          ]
        }
      ]
    },
    {
      "cell_type": "markdown",
      "source": [
        "ESTIMATOR gives the best model with fine-tuned hyper-parameters"
      ],
      "metadata": {
        "id": "co1dNVwTTKev"
      }
    },
    {
      "cell_type": "code",
      "execution_count": null,
      "metadata": {
        "id": "ZNCFV-0wIzyn",
        "colab": {
          "base_uri": "https://localhost:8080/",
          "height": 722
        },
        "outputId": "2aba1931-7b27-4226-8078-771eb91e05d3"
      },
      "outputs": [
        {
          "output_type": "stream",
          "name": "stdout",
          "text": [
            "\n",
            "fitting the pipeline ...\n",
            "CPU time: 0.6199147701263428 seconds\n"
          ]
        },
        {
          "output_type": "display_data",
          "data": {
            "image/png": "[encoded data removed]",
            "text/plain": [
              "<Figure size 1440x288 with 1 Axes>"
            ]
          },
          "metadata": {
            "needs_background": "light"
          }
        },
        {
          "output_type": "stream",
          "name": "stdout",
          "text": [
            "\n",
            "> Feature importances dumped into directory : save\n",
            "\n",
            "predicting ...\n",
            "CPU time: 0.037960052490234375 seconds\n",
            "\n",
            "> Overview on predictions : \n",
            "\n",
            "        0.0       1.0  label_predicted\n",
            "0  0.998554  0.001446                0\n",
            "1  0.456869  0.543131                1\n",
            "2  0.995760  0.004240                0\n",
            "3  0.375087  0.624913                1\n",
            "4  0.000260  0.999740                1\n",
            "5  0.702108  0.297892                0\n",
            "6  0.006592  0.993408                1\n",
            "7  0.999997  0.000003                0\n",
            "8  0.996638  0.003362                0\n",
            "9  0.000781  0.999219                1\n",
            "\n",
            "dumping predictions into directory : save ...\n"
          ]
        },
        {
          "output_type": "execute_result",
          "data": {
            "text/plain": [
              "<mlbox.prediction.predictor.Predictor at 0x7fda5a7bc710>"
            ]
          },
          "metadata": {},
          "execution_count": 57
        }
      ],
      "source": [
        "prd = Predictor()\n",
        "prd.fit_predict(best, df2)"
      ]
    },
    {
      "cell_type": "markdown",
      "source": [
        "Predictions are stored in csv file"
      ],
      "metadata": {
        "id": "-CCB12k2TYhk"
      }
    },
    {
      "cell_type": "code",
      "execution_count": null,
      "metadata": {
        "id": "jGLdfRWON8SR"
      },
      "outputs": [],
      "source": [
        "reg_predicted_mlbox=pd.read_csv('/content/save/label_predictions.csv')"
      ]
    },
    {
      "cell_type": "code",
      "execution_count": null,
      "metadata": {
        "id": "wgmNl_dyOvrr",
        "colab": {
          "base_uri": "https://localhost:8080/"
        },
        "outputId": "9ce75b7f-6238-4013-89bf-81de732e4acb"
      },
      "outputs": [
        {
          "output_type": "execute_result",
          "data": {
            "text/plain": [
              "0      0\n",
              "1      1\n",
              "2      0\n",
              "3      1\n",
              "4      1\n",
              "      ..\n",
              "275    0\n",
              "276    0\n",
              "277    0\n",
              "278    1\n",
              "279    1\n",
              "Name: label_predicted, Length: 280, dtype: int64"
            ]
          },
          "metadata": {},
          "execution_count": 59
        }
      ],
      "source": [
        "reg_predicted_mlbox['label_predicted'] "
      ]
    },
    {
      "cell_type": "code",
      "execution_count": null,
      "metadata": {
        "id": "BIOfN1dxO4zv",
        "colab": {
          "base_uri": "https://localhost:8080/"
        },
        "outputId": "bf5a43c9-689d-44a5-eea2-3bda97ca13e4"
      },
      "outputs": [
        {
          "output_type": "execute_result",
          "data": {
            "text/plain": [
              "((280,), (280,))"
            ]
          },
          "metadata": {},
          "execution_count": 60
        }
      ],
      "source": [
        "label_test_classifier.shape, reg_predicted_mlbox['label_predicted'].shape"
      ]
    },
    {
      "cell_type": "markdown",
      "source": [
        "Compute the classification report"
      ],
      "metadata": {
        "id": "KzAW7qBtTiou"
      }
    },
    {
      "cell_type": "code",
      "source": [
        "from sklearn.metrics import classification_report"
      ],
      "metadata": {
        "id": "92iFPOJ_cms0"
      },
      "execution_count": null,
      "outputs": []
    },
    {
      "cell_type": "code",
      "execution_count": null,
      "metadata": {
        "id": "5o9G4SmuLVTM",
        "colab": {
          "base_uri": "https://localhost:8080/"
        },
        "outputId": "4a7ed300-30bc-4c9b-94a3-b7ebf96cca62"
      },
      "outputs": [
        {
          "output_type": "stream",
          "name": "stdout",
          "text": [
            "              precision    recall  f1-score   support\n",
            "\n",
            "           0       0.90      0.93      0.92       138\n",
            "           1       0.93      0.90      0.92       142\n",
            "\n",
            "    accuracy                           0.92       280\n",
            "   macro avg       0.92      0.92      0.92       280\n",
            "weighted avg       0.92      0.92      0.92       280\n",
            "\n"
          ]
        }
      ],
      "source": [
        "print(classification_report(reg_predicted_mlbox['label_predicted'], label_test_classifier))"
      ]
    }
  ],
  "metadata": {
    "colab": {
      "collapsed_sections": [],
      "name": "AutoML MLBox.ipynb",
      "provenance": [],
      "toc_visible": true
    },
    "kernelspec": {
      "display_name": "Python 3",
      "name": "python3"
    },
    "language_info": {
      "name": "python"
    },
    "accelerator": "GPU"
  },
  "nbformat": 4,
  "nbformat_minor": 0
}